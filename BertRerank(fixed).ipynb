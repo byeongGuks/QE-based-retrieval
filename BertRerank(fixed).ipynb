{
  "nbformat": 4,
  "nbformat_minor": 0,
  "metadata": {
    "colab": {
      "provenance": [],
      "machine_shape": "hm",
      "gpuType": "T4"
    },
    "kernelspec": {
      "name": "python3",
      "display_name": "Python 3"
    },
    "language_info": {
      "name": "python"
    },
    "accelerator": "GPU",
    "gpuClass": "standard"
  },
  "cells": [
    {
      "cell_type": "code",
      "source": [
        "from google.colab import drive\n",
        "drive.mount('/content/drive')"
      ],
      "metadata": {
        "colab": {
          "base_uri": "https://localhost:8080/"
        },
        "id": "unQrpfxMXOuV",
        "outputId": "c513b162-c79d-4927-b33b-66a0b9b20b60"
      },
      "execution_count": 3,
      "outputs": [
        {
          "output_type": "stream",
          "name": "stdout",
          "text": [
            "Drive already mounted at /content/drive; to attempt to forcibly remount, call drive.mount(\"/content/drive\", force_remount=True).\n",
            "Drive already mounted at /content/drive; to attempt to forcibly remount, call drive.mount(\"/content/drive\", force_remount=True).\n",
            "Drive already mounted at /content/drive; to attempt to forcibly remount, call drive.mount(\"/content/drive\", force_remount=True).\n"
          ]
        }
      ]
    },
    {
      "cell_type": "code",
      "source": [
        "cd /content/drive/MyDrive/Colab Notebooks/pygaggle-master/"
      ],
      "metadata": {
        "colab": {
          "base_uri": "https://localhost:8080/"
        },
        "id": "Cv7siKztTOOy",
        "outputId": "333e439f-686a-4c24-bc93-2ba9a7c5a194"
      },
      "execution_count": 4,
      "outputs": [
        {
          "output_type": "stream",
          "name": "stdout",
          "text": [
            "/content/drive/MyDrive/Colab Notebooks/pygaggle-master\n"
          ]
        }
      ]
    },
    {
      "cell_type": "code",
      "source": [
        "ls"
      ],
      "metadata": {
        "colab": {
          "base_uri": "https://localhost:8080/"
        },
        "id": "r5mMPQSbTTzT",
        "outputId": "2e32a5f5-b06f-44f5-fe1e-3c521c57987a"
      },
      "execution_count": 5,
      "outputs": [
        {
          "output_type": "stream",
          "name": "stdout",
          "text": [
            "\u001b[0m\u001b[01;34mdata\u001b[0m/            \u001b[01;34mindexes\u001b[0m/     \u001b[01;34mmodels\u001b[0m/     requirements.txt  setup.py\n",
            "\u001b[01;34mdocs\u001b[0m/            LICENSE      \u001b[01;34mnotebooks\u001b[0m/  \u001b[01;34mruns\u001b[0m/             \u001b[01;34mtests\u001b[0m/\n",
            "environment.yml  \u001b[01;34mlogs\u001b[0m/        \u001b[01;34mpygaggle\u001b[0m/   \u001b[01;34mscripts\u001b[0m/          \u001b[01;34mtools\u001b[0m/\n",
            "\u001b[01;34mexperiments\u001b[0m/     MANIFEST.IN  README.md   setup.cfg\n"
          ]
        }
      ]
    },
    {
      "cell_type": "code",
      "source": [
        "pip install --upgrade pip"
      ],
      "metadata": {
        "colab": {
          "base_uri": "https://localhost:8080/"
        },
        "id": "YXj59EqYUP8D",
        "outputId": "9cb60f3b-3a5a-4686-c2db-fdefb89d496d"
      },
      "execution_count": 6,
      "outputs": [
        {
          "output_type": "stream",
          "name": "stdout",
          "text": [
            "Looking in indexes: https://pypi.org/simple, https://us-python.pkg.dev/colab-wheels/public/simple/\n",
            "Requirement already satisfied: pip in /usr/local/lib/python3.10/dist-packages (23.1.2)\n"
          ]
        }
      ]
    },
    {
      "cell_type": "code",
      "source": [
        "pip install -r requirements.txt"
      ],
      "metadata": {
        "colab": {
          "base_uri": "https://localhost:8080/"
        },
        "id": "JjGiaWrKTq-8",
        "outputId": "bad81cce-fc96-4b26-d4cd-040ac18d9710"
      },
      "execution_count": 7,
      "outputs": [
        {
          "output_type": "stream",
          "name": "stdout",
          "text": [
            "Looking in indexes: https://pypi.org/simple, https://us-python.pkg.dev/colab-wheels/public/simple/\n",
            "Ignoring dataclasses: markers 'python_version < \"3.7\"' don't match your environment\n",
            "Requirement already satisfied: coloredlogs==14.0 in /usr/local/lib/python3.10/dist-packages (from -r requirements.txt (line 1)) (14.0)\n",
            "Requirement already satisfied: numpy>=1.18 in /usr/local/lib/python3.10/dist-packages (from -r requirements.txt (line 3)) (1.22.4)\n",
            "Requirement already satisfied: pydantic==1.9.1 in /usr/local/lib/python3.10/dist-packages (from -r requirements.txt (line 4)) (1.9.1)\n",
            "Requirement already satisfied: pyserini>=0.16.0 in /usr/local/lib/python3.10/dist-packages (from -r requirements.txt (line 5)) (0.21.0)\n",
            "Requirement already satisfied: scikit-learn>=0.24.2 in /usr/local/lib/python3.10/dist-packages (from -r requirements.txt (line 6)) (1.2.2)\n",
            "Requirement already satisfied: scipy==1.10.1 in /usr/local/lib/python3.10/dist-packages (from -r requirements.txt (line 7)) (1.10.1)\n",
            "Requirement already satisfied: spacy>=3.2.1 in /usr/local/lib/python3.10/dist-packages (from -r requirements.txt (line 8)) (3.5.2)\n",
            "Requirement already satisfied: tensorboard>=2.12.2 in /usr/local/lib/python3.10/dist-packages (from -r requirements.txt (line 9)) (2.12.2)\n",
            "Requirement already satisfied: tensorflow==2.12.0 in /usr/local/lib/python3.10/dist-packages (from -r requirements.txt (line 10)) (2.12.0)\n",
            "Requirement already satisfied: tokenizers==0.13.3 in /usr/local/lib/python3.10/dist-packages (from -r requirements.txt (line 11)) (0.13.3)\n",
            "Requirement already satisfied: tqdm==4.56.0 in /usr/local/lib/python3.10/dist-packages (from -r requirements.txt (line 12)) (4.56.0)\n",
            "Requirement already satisfied: transformers==4.29.0 in /usr/local/lib/python3.10/dist-packages (from -r requirements.txt (line 13)) (4.29.0)\n",
            "Requirement already satisfied: sentencepiece==0.1.95 in /usr/local/lib/python3.10/dist-packages (from -r requirements.txt (line 14)) (0.1.95)\n",
            "Requirement already satisfied: sentence_transformers==2.2.2 in /usr/local/lib/python3.10/dist-packages (from -r requirements.txt (line 15)) (2.2.2)\n",
            "Requirement already satisfied: torch>=1.8.1 in /usr/local/lib/python3.10/dist-packages (from -r requirements.txt (line 16)) (2.0.1+cu118)\n",
            "Requirement already satisfied: faiss-cpu in /usr/local/lib/python3.10/dist-packages (from -r requirements.txt (line 17)) (1.7.4)\n",
            "Requirement already satisfied: humanfriendly>=7.1 in /usr/local/lib/python3.10/dist-packages (from coloredlogs==14.0->-r requirements.txt (line 1)) (10.0)\n",
            "Requirement already satisfied: typing-extensions>=3.7.4.3 in /usr/local/lib/python3.10/dist-packages (from pydantic==1.9.1->-r requirements.txt (line 4)) (4.5.0)\n",
            "Requirement already satisfied: absl-py>=1.0.0 in /usr/local/lib/python3.10/dist-packages (from tensorflow==2.12.0->-r requirements.txt (line 10)) (1.4.0)\n",
            "Requirement already satisfied: astunparse>=1.6.0 in /usr/local/lib/python3.10/dist-packages (from tensorflow==2.12.0->-r requirements.txt (line 10)) (1.6.3)\n",
            "Requirement already satisfied: flatbuffers>=2.0 in /usr/local/lib/python3.10/dist-packages (from tensorflow==2.12.0->-r requirements.txt (line 10)) (23.3.3)\n",
            "Requirement already satisfied: gast<=0.4.0,>=0.2.1 in /usr/local/lib/python3.10/dist-packages (from tensorflow==2.12.0->-r requirements.txt (line 10)) (0.4.0)\n",
            "Requirement already satisfied: google-pasta>=0.1.1 in /usr/local/lib/python3.10/dist-packages (from tensorflow==2.12.0->-r requirements.txt (line 10)) (0.2.0)\n",
            "Requirement already satisfied: grpcio<2.0,>=1.24.3 in /usr/local/lib/python3.10/dist-packages (from tensorflow==2.12.0->-r requirements.txt (line 10)) (1.54.0)\n",
            "Requirement already satisfied: h5py>=2.9.0 in /usr/local/lib/python3.10/dist-packages (from tensorflow==2.12.0->-r requirements.txt (line 10)) (3.8.0)\n",
            "Requirement already satisfied: jax>=0.3.15 in /usr/local/lib/python3.10/dist-packages (from tensorflow==2.12.0->-r requirements.txt (line 10)) (0.4.8)\n",
            "Requirement already satisfied: keras<2.13,>=2.12.0 in /usr/local/lib/python3.10/dist-packages (from tensorflow==2.12.0->-r requirements.txt (line 10)) (2.12.0)\n",
            "Requirement already satisfied: libclang>=13.0.0 in /usr/local/lib/python3.10/dist-packages (from tensorflow==2.12.0->-r requirements.txt (line 10)) (16.0.0)\n",
            "Requirement already satisfied: opt-einsum>=2.3.2 in /usr/local/lib/python3.10/dist-packages (from tensorflow==2.12.0->-r requirements.txt (line 10)) (3.3.0)\n",
            "Requirement already satisfied: packaging in /usr/local/lib/python3.10/dist-packages (from tensorflow==2.12.0->-r requirements.txt (line 10)) (23.1)\n",
            "Requirement already satisfied: protobuf!=4.21.0,!=4.21.1,!=4.21.2,!=4.21.3,!=4.21.4,!=4.21.5,<5.0.0dev,>=3.20.3 in /usr/local/lib/python3.10/dist-packages (from tensorflow==2.12.0->-r requirements.txt (line 10)) (3.20.3)\n",
            "Requirement already satisfied: setuptools in /usr/local/lib/python3.10/dist-packages (from tensorflow==2.12.0->-r requirements.txt (line 10)) (67.7.2)\n",
            "Requirement already satisfied: six>=1.12.0 in /usr/local/lib/python3.10/dist-packages (from tensorflow==2.12.0->-r requirements.txt (line 10)) (1.16.0)\n",
            "Requirement already satisfied: tensorflow-estimator<2.13,>=2.12.0 in /usr/local/lib/python3.10/dist-packages (from tensorflow==2.12.0->-r requirements.txt (line 10)) (2.12.0)\n",
            "Requirement already satisfied: termcolor>=1.1.0 in /usr/local/lib/python3.10/dist-packages (from tensorflow==2.12.0->-r requirements.txt (line 10)) (2.3.0)\n",
            "Requirement already satisfied: wrapt<1.15,>=1.11.0 in /usr/local/lib/python3.10/dist-packages (from tensorflow==2.12.0->-r requirements.txt (line 10)) (1.14.1)\n",
            "Requirement already satisfied: tensorflow-io-gcs-filesystem>=0.23.1 in /usr/local/lib/python3.10/dist-packages (from tensorflow==2.12.0->-r requirements.txt (line 10)) (0.32.0)\n",
            "Requirement already satisfied: filelock in /usr/local/lib/python3.10/dist-packages (from transformers==4.29.0->-r requirements.txt (line 13)) (3.12.0)\n",
            "Requirement already satisfied: huggingface-hub<1.0,>=0.11.0 in /usr/local/lib/python3.10/dist-packages (from transformers==4.29.0->-r requirements.txt (line 13)) (0.14.1)\n",
            "Requirement already satisfied: pyyaml>=5.1 in /usr/local/lib/python3.10/dist-packages (from transformers==4.29.0->-r requirements.txt (line 13)) (6.0)\n",
            "Requirement already satisfied: regex!=2019.12.17 in /usr/local/lib/python3.10/dist-packages (from transformers==4.29.0->-r requirements.txt (line 13)) (2022.10.31)\n",
            "Requirement already satisfied: requests in /usr/local/lib/python3.10/dist-packages (from transformers==4.29.0->-r requirements.txt (line 13)) (2.27.1)\n",
            "Requirement already satisfied: torchvision in /usr/local/lib/python3.10/dist-packages (from sentence_transformers==2.2.2->-r requirements.txt (line 15)) (0.15.2+cu118)\n",
            "Requirement already satisfied: nltk in /usr/local/lib/python3.10/dist-packages (from sentence_transformers==2.2.2->-r requirements.txt (line 15)) (3.8.1)\n",
            "Requirement already satisfied: Cython>=0.29.21 in /usr/local/lib/python3.10/dist-packages (from pyserini>=0.16.0->-r requirements.txt (line 5)) (0.29.34)\n",
            "Requirement already satisfied: pandas>=1.4.0 in /usr/local/lib/python3.10/dist-packages (from pyserini>=0.16.0->-r requirements.txt (line 5)) (1.5.3)\n",
            "Requirement already satisfied: pyjnius>=1.4.0 in /usr/local/lib/python3.10/dist-packages (from pyserini>=0.16.0->-r requirements.txt (line 5)) (1.5.0)\n",
            "Requirement already satisfied: nmslib>=2.1.1 in /usr/local/lib/python3.10/dist-packages (from pyserini>=0.16.0->-r requirements.txt (line 5)) (2.1.1)\n",
            "Requirement already satisfied: onnxruntime>=1.8.1 in /usr/local/lib/python3.10/dist-packages (from pyserini>=0.16.0->-r requirements.txt (line 5)) (1.14.1)\n",
            "Requirement already satisfied: lightgbm>=3.3.2 in /usr/local/lib/python3.10/dist-packages (from pyserini>=0.16.0->-r requirements.txt (line 5)) (3.3.5)\n",
            "Requirement already satisfied: joblib>=1.1.1 in /usr/local/lib/python3.10/dist-packages (from scikit-learn>=0.24.2->-r requirements.txt (line 6)) (1.2.0)\n",
            "Requirement already satisfied: threadpoolctl>=2.0.0 in /usr/local/lib/python3.10/dist-packages (from scikit-learn>=0.24.2->-r requirements.txt (line 6)) (3.1.0)\n",
            "Requirement already satisfied: spacy-legacy<3.1.0,>=3.0.11 in /usr/local/lib/python3.10/dist-packages (from spacy>=3.2.1->-r requirements.txt (line 8)) (3.0.12)\n",
            "Requirement already satisfied: spacy-loggers<2.0.0,>=1.0.0 in /usr/local/lib/python3.10/dist-packages (from spacy>=3.2.1->-r requirements.txt (line 8)) (1.0.4)\n",
            "Requirement already satisfied: murmurhash<1.1.0,>=0.28.0 in /usr/local/lib/python3.10/dist-packages (from spacy>=3.2.1->-r requirements.txt (line 8)) (1.0.9)\n",
            "Requirement already satisfied: cymem<2.1.0,>=2.0.2 in /usr/local/lib/python3.10/dist-packages (from spacy>=3.2.1->-r requirements.txt (line 8)) (2.0.7)\n",
            "Requirement already satisfied: preshed<3.1.0,>=3.0.2 in /usr/local/lib/python3.10/dist-packages (from spacy>=3.2.1->-r requirements.txt (line 8)) (3.0.8)\n",
            "Requirement already satisfied: thinc<8.2.0,>=8.1.8 in /usr/local/lib/python3.10/dist-packages (from spacy>=3.2.1->-r requirements.txt (line 8)) (8.1.9)\n",
            "Requirement already satisfied: wasabi<1.2.0,>=0.9.1 in /usr/local/lib/python3.10/dist-packages (from spacy>=3.2.1->-r requirements.txt (line 8)) (1.1.1)\n",
            "Requirement already satisfied: srsly<3.0.0,>=2.4.3 in /usr/local/lib/python3.10/dist-packages (from spacy>=3.2.1->-r requirements.txt (line 8)) (2.4.6)\n",
            "Requirement already satisfied: catalogue<2.1.0,>=2.0.6 in /usr/local/lib/python3.10/dist-packages (from spacy>=3.2.1->-r requirements.txt (line 8)) (2.0.8)\n",
            "Requirement already satisfied: typer<0.8.0,>=0.3.0 in /usr/local/lib/python3.10/dist-packages (from spacy>=3.2.1->-r requirements.txt (line 8)) (0.7.0)\n",
            "Requirement already satisfied: pathy>=0.10.0 in /usr/local/lib/python3.10/dist-packages (from spacy>=3.2.1->-r requirements.txt (line 8)) (0.10.1)\n",
            "Requirement already satisfied: smart-open<7.0.0,>=5.2.1 in /usr/local/lib/python3.10/dist-packages (from spacy>=3.2.1->-r requirements.txt (line 8)) (6.3.0)\n",
            "Requirement already satisfied: jinja2 in /usr/local/lib/python3.10/dist-packages (from spacy>=3.2.1->-r requirements.txt (line 8)) (3.1.2)\n",
            "Requirement already satisfied: langcodes<4.0.0,>=3.2.0 in /usr/local/lib/python3.10/dist-packages (from spacy>=3.2.1->-r requirements.txt (line 8)) (3.3.0)\n",
            "Requirement already satisfied: google-auth<3,>=1.6.3 in /usr/local/lib/python3.10/dist-packages (from tensorboard>=2.12.2->-r requirements.txt (line 9)) (2.17.3)\n",
            "Requirement already satisfied: google-auth-oauthlib<1.1,>=0.5 in /usr/local/lib/python3.10/dist-packages (from tensorboard>=2.12.2->-r requirements.txt (line 9)) (1.0.0)\n",
            "Requirement already satisfied: markdown>=2.6.8 in /usr/local/lib/python3.10/dist-packages (from tensorboard>=2.12.2->-r requirements.txt (line 9)) (3.4.3)\n",
            "Requirement already satisfied: tensorboard-data-server<0.8.0,>=0.7.0 in /usr/local/lib/python3.10/dist-packages (from tensorboard>=2.12.2->-r requirements.txt (line 9)) (0.7.0)\n",
            "Requirement already satisfied: tensorboard-plugin-wit>=1.6.0 in /usr/local/lib/python3.10/dist-packages (from tensorboard>=2.12.2->-r requirements.txt (line 9)) (1.8.1)\n",
            "Requirement already satisfied: werkzeug>=1.0.1 in /usr/local/lib/python3.10/dist-packages (from tensorboard>=2.12.2->-r requirements.txt (line 9)) (2.3.0)\n",
            "Requirement already satisfied: wheel>=0.26 in /usr/local/lib/python3.10/dist-packages (from tensorboard>=2.12.2->-r requirements.txt (line 9)) (0.40.0)\n",
            "Requirement already satisfied: sympy in /usr/local/lib/python3.10/dist-packages (from torch>=1.8.1->-r requirements.txt (line 16)) (1.11.1)\n",
            "Requirement already satisfied: networkx in /usr/local/lib/python3.10/dist-packages (from torch>=1.8.1->-r requirements.txt (line 16)) (3.1)\n",
            "Requirement already satisfied: triton==2.0.0 in /usr/local/lib/python3.10/dist-packages (from torch>=1.8.1->-r requirements.txt (line 16)) (2.0.0)\n",
            "Requirement already satisfied: cmake in /usr/local/lib/python3.10/dist-packages (from triton==2.0.0->torch>=1.8.1->-r requirements.txt (line 16)) (3.25.2)\n",
            "Requirement already satisfied: lit in /usr/local/lib/python3.10/dist-packages (from triton==2.0.0->torch>=1.8.1->-r requirements.txt (line 16)) (16.0.5)\n",
            "Requirement already satisfied: cachetools<6.0,>=2.0.0 in /usr/local/lib/python3.10/dist-packages (from google-auth<3,>=1.6.3->tensorboard>=2.12.2->-r requirements.txt (line 9)) (5.3.0)\n",
            "Requirement already satisfied: pyasn1-modules>=0.2.1 in /usr/local/lib/python3.10/dist-packages (from google-auth<3,>=1.6.3->tensorboard>=2.12.2->-r requirements.txt (line 9)) (0.3.0)\n",
            "Requirement already satisfied: rsa<5,>=3.1.4 in /usr/local/lib/python3.10/dist-packages (from google-auth<3,>=1.6.3->tensorboard>=2.12.2->-r requirements.txt (line 9)) (4.9)\n",
            "Requirement already satisfied: requests-oauthlib>=0.7.0 in /usr/local/lib/python3.10/dist-packages (from google-auth-oauthlib<1.1,>=0.5->tensorboard>=2.12.2->-r requirements.txt (line 9)) (1.3.1)\n",
            "Requirement already satisfied: fsspec in /usr/local/lib/python3.10/dist-packages (from huggingface-hub<1.0,>=0.11.0->transformers==4.29.0->-r requirements.txt (line 13)) (2023.4.0)\n",
            "Requirement already satisfied: ml-dtypes>=0.0.3 in /usr/local/lib/python3.10/dist-packages (from jax>=0.3.15->tensorflow==2.12.0->-r requirements.txt (line 10)) (0.1.0)\n",
            "Requirement already satisfied: pybind11<2.6.2 in /usr/local/lib/python3.10/dist-packages (from nmslib>=2.1.1->pyserini>=0.16.0->-r requirements.txt (line 5)) (2.6.1)\n",
            "Requirement already satisfied: psutil in /usr/local/lib/python3.10/dist-packages (from nmslib>=2.1.1->pyserini>=0.16.0->-r requirements.txt (line 5)) (5.9.5)\n",
            "Requirement already satisfied: python-dateutil>=2.8.1 in /usr/local/lib/python3.10/dist-packages (from pandas>=1.4.0->pyserini>=0.16.0->-r requirements.txt (line 5)) (2.8.2)\n",
            "Requirement already satisfied: pytz>=2020.1 in /usr/local/lib/python3.10/dist-packages (from pandas>=1.4.0->pyserini>=0.16.0->-r requirements.txt (line 5)) (2022.7.1)\n",
            "Requirement already satisfied: urllib3<1.27,>=1.21.1 in /usr/local/lib/python3.10/dist-packages (from requests->transformers==4.29.0->-r requirements.txt (line 13)) (1.26.15)\n",
            "Requirement already satisfied: certifi>=2017.4.17 in /usr/local/lib/python3.10/dist-packages (from requests->transformers==4.29.0->-r requirements.txt (line 13)) (2022.12.7)\n",
            "Requirement already satisfied: charset-normalizer~=2.0.0 in /usr/local/lib/python3.10/dist-packages (from requests->transformers==4.29.0->-r requirements.txt (line 13)) (2.0.12)\n",
            "Requirement already satisfied: idna<4,>=2.5 in /usr/local/lib/python3.10/dist-packages (from requests->transformers==4.29.0->-r requirements.txt (line 13)) (3.4)\n",
            "Requirement already satisfied: blis<0.8.0,>=0.7.8 in /usr/local/lib/python3.10/dist-packages (from thinc<8.2.0,>=8.1.8->spacy>=3.2.1->-r requirements.txt (line 8)) (0.7.9)\n",
            "Requirement already satisfied: confection<1.0.0,>=0.0.1 in /usr/local/lib/python3.10/dist-packages (from thinc<8.2.0,>=8.1.8->spacy>=3.2.1->-r requirements.txt (line 8)) (0.0.4)\n",
            "Requirement already satisfied: click<9.0.0,>=7.1.1 in /usr/local/lib/python3.10/dist-packages (from typer<0.8.0,>=0.3.0->spacy>=3.2.1->-r requirements.txt (line 8)) (8.1.3)\n",
            "Requirement already satisfied: MarkupSafe>=2.1.1 in /usr/local/lib/python3.10/dist-packages (from werkzeug>=1.0.1->tensorboard>=2.12.2->-r requirements.txt (line 9)) (2.1.2)\n",
            "Requirement already satisfied: mpmath>=0.19 in /usr/local/lib/python3.10/dist-packages (from sympy->torch>=1.8.1->-r requirements.txt (line 16)) (1.3.0)\n",
            "Requirement already satisfied: pillow!=8.3.*,>=5.3.0 in /usr/local/lib/python3.10/dist-packages (from torchvision->sentence_transformers==2.2.2->-r requirements.txt (line 15)) (8.4.0)\n",
            "Requirement already satisfied: pyasn1<0.6.0,>=0.4.6 in /usr/local/lib/python3.10/dist-packages (from pyasn1-modules>=0.2.1->google-auth<3,>=1.6.3->tensorboard>=2.12.2->-r requirements.txt (line 9)) (0.5.0)\n",
            "Requirement already satisfied: oauthlib>=3.0.0 in /usr/local/lib/python3.10/dist-packages (from requests-oauthlib>=0.7.0->google-auth-oauthlib<1.1,>=0.5->tensorboard>=2.12.2->-r requirements.txt (line 9)) (3.2.2)\n"
          ]
        }
      ]
    },
    {
      "cell_type": "code",
      "source": [
        "cd /content/drive/MyDrive/Colab Notebooks/pygaggle-master/"
      ],
      "metadata": {
        "colab": {
          "base_uri": "https://localhost:8080/"
        },
        "id": "9IBI7XVThCwS",
        "outputId": "deef2857-d2bb-4da0-f813-7330116edbf6"
      },
      "execution_count": 8,
      "outputs": [
        {
          "output_type": "stream",
          "name": "stdout",
          "text": [
            "/content/drive/MyDrive/Colab Notebooks/pygaggle-master\n"
          ]
        }
      ]
    },
    {
      "cell_type": "markdown",
      "source": [
        "test top 100을 Bert로 rerank하고 재정렬해서 JSON으로 뽑아내는 코드"
      ],
      "metadata": {
        "id": "wPJJPaQ3Uynx"
      }
    },
    {
      "cell_type": "code",
      "source": [
        "import json\n",
        "\n",
        "queryy=[]\n",
        "#test set의 경우에는 list 사이즈 [3610][100][3]\n",
        "\n",
        "file_path ='/content/drive/MyDrive/Colab Notebooks/NQ_test_top100_all.json'    #test set 이용\n",
        "#file_path ='/content/drive/MyDrive/Colab Notebooks/NQ_dev_top100_all.json'    #dev set 이용\n",
        "\n",
        "with open(file_path, 'r', encoding='utf-8') as file:\n",
        "      data = json.load(file)\n",
        "      data_size=len(data)\n",
        "      corpus = [[['a' for _ in range(4)] for _ in range(100)] for _ in range(data_size)]\n",
        "      for i in range(len(data)):\n",
        "       queryy.append(data[i][\"question\"])\n",
        "       for j in range(100):\n",
        "        corpus[i][j][0]=data[i][\"ctxs\"][j][\"id\"]\n",
        "        corpus[i][j][1]=data[i][\"ctxs\"][j][\"title\"]\n",
        "        corpus[i][j][2]=data[i][\"ctxs\"][j][\"text\"]\n",
        "        corpus[i][j][3]=data[i][\"ctxs\"][j][\"has_answer\"]\n",
        "\n",
        "print(data_size)\n",
        "#print(type(corpus[0][99][2]))\n",
        "#print(corpus[0][99][1])\n",
        "#print(queryy[1])\n",
        "#print(data[0][\"ctxs\"][2][\"score\"])"
      ],
      "metadata": {
        "id": "ZFFQZf_EgeXL",
        "colab": {
          "base_uri": "https://localhost:8080/"
        },
        "outputId": "622e98cb-002e-483f-8ca4-93be7b14cc49"
      },
      "execution_count": 45,
      "outputs": [
        {
          "output_type": "stream",
          "name": "stdout",
          "text": [
            "3610\n"
          ]
        }
      ]
    },
    {
      "cell_type": "code",
      "source": [
        "#Bert 모델 이용할때 이거 실행하면됨\n",
        "from pygaggle.rerank.base import Query, Text\n",
        "from pygaggle.rerank.transformer import MonoBERT\n",
        "\n",
        "reranker =  MonoBERT()"
      ],
      "metadata": {
        "id": "AQ8oEWcOSz0k"
      },
      "execution_count": 46,
      "outputs": []
    },
    {
      "cell_type": "code",
      "source": [
        "tot_size=0 #100개의 passage중 has_answer가 하나라도 true 질문의 개수\n",
        "accurate=0 #100개의 passage중 has_answer가 true인 query에 대해 reranked된 top-k에 has_answer가 하나라도 true인 개수\n",
        "\n",
        "for q in range(0,1805): #(앞 1805개), range(data_size):\n",
        "  #print(queryy[q])\n",
        "  print(q)\n",
        "  query = Query(queryy[q])\n",
        "  passages=corpus[q] \n",
        "\n",
        "  texts = [ Text(p[2], {'id': p[0],'title':p[1],'text':p[2],'has_answer' : p[3]}, 0) for p in passages]\n",
        "\n",
        " #기존 passage의 has_answer가 모두 false인지 아닌지 보는것(accuracy계산에 활용), flag=1이면 has_answer가 하나라도 있는거임\n",
        "  flag=0\n",
        "  for a in range(100):\n",
        "    if texts[a].metadata[\"has_answer\"]==1:\n",
        "      flag=1\n",
        "      tot_size+=1\n",
        "      break\n",
        "\n",
        "  reranked = reranker.rerank(query, texts)\n",
        "\n",
        "  if flag==1:\n",
        "   for i in range(0, 10):\n",
        "       if reranked[i].metadata[\"has_answer\"]==1:\n",
        "         accurate+=1\n",
        "         break\n",
        "\n",
        "  #json 파일 값 변경\n",
        "  for k in range(100):\n",
        "    data[q][\"ctxs\"][k][\"id\"]=reranked[k].metadata[\"id\"]\n",
        "    data[q][\"ctxs\"][k][\"title\"]=reranked[k].metadata[\"title\"]\n",
        "    data[q][\"ctxs\"][k][\"text\"]=reranked[k].metadata[\"text\"]\n",
        "    data[q][\"ctxs\"][k][\"score\"]=str(reranked[k].score) \n",
        "    data[q][\"ctxs\"][k][\"has_answer\"]=reranked[k].metadata[\"has_answer\"]\n",
        "\n",
        "accuracy=accurate/tot_size\n",
        "print(f'Accuracy : {accuracy:.4f}')\n",
        "\n",
        "with open('NQ_test_top100_reranked_bert_1', 'w') as file:\n",
        "      json.dump(data[0:1805], file)"
      ],
      "metadata": {
        "colab": {
          "base_uri": "https://localhost:8080/"
        },
        "id": "DXVajrJVsALx",
        "outputId": "6987c8a3-9fca-47d3-b896-05e4a5e0443a"
      },
      "execution_count": null,
      "outputs": [
        {
          "output_type": "stream",
          "name": "stdout",
          "text": [
            "0\n",
            "1\n",
            "2\n",
            "3\n",
            "4\n",
            "5\n",
            "6\n",
            "7\n",
            "8\n",
            "9\n",
            "10\n",
            "11\n",
            "12\n",
            "13\n",
            "14\n",
            "15\n",
            "16\n",
            "17\n",
            "18\n",
            "19\n",
            "20\n",
            "21\n",
            "22\n",
            "23\n",
            "24\n",
            "25\n",
            "26\n",
            "27\n",
            "28\n",
            "29\n",
            "30\n",
            "31\n",
            "32\n",
            "33\n",
            "34\n",
            "35\n",
            "36\n",
            "37\n",
            "38\n",
            "39\n",
            "40\n",
            "41\n",
            "42\n",
            "43\n",
            "44\n",
            "45\n",
            "46\n",
            "47\n",
            "48\n",
            "49\n",
            "50\n",
            "51\n",
            "52\n",
            "53\n",
            "54\n",
            "55\n",
            "56\n",
            "57\n",
            "58\n",
            "59\n",
            "60\n",
            "61\n",
            "62\n",
            "63\n",
            "64\n",
            "65\n",
            "66\n",
            "67\n",
            "68\n",
            "69\n",
            "70\n",
            "71\n",
            "72\n",
            "73\n",
            "74\n",
            "75\n",
            "76\n",
            "77\n",
            "78\n",
            "79\n",
            "80\n",
            "81\n",
            "82\n",
            "83\n",
            "84\n",
            "85\n",
            "86\n",
            "87\n",
            "88\n",
            "89\n",
            "90\n",
            "91\n",
            "92\n",
            "93\n",
            "94\n",
            "95\n",
            "96\n",
            "97\n",
            "98\n"
          ]
        }
      ]
    },
    {
      "cell_type": "code",
      "source": [
        "tot_size=0 #100개의 passage중 has_answer가 하나라도 true 질문의 개수\n",
        "accurate=0 #100개의 passage중 has_answer가 true인 query에 대해 reranked된 top-k에 has_answer가 하나라도 true인 개수\n",
        "\n",
        "for q in range(1805,3610): #(뒤 1805개), range(data_size):\n",
        "  #print(queryy[q])\n",
        "  print(q)\n",
        "  query = Query(queryy[q])\n",
        "  passages=corpus[q]\n",
        "\n",
        "  texts = [ Text(p[2], {'id': p[0],'title':p[1],'text':p[2],'has_answer' : p[3]}, 0) for p in passages]\n",
        "\n",
        " #기존 passage의 has_answer가 모두 false인지 아닌지 보는것(accuracy계산에 활용), flag=1이면 has_answer가 하나라도 있는거임\n",
        "  flag=0\n",
        "  for a in range(100):\n",
        "    if texts[a].metadata[\"has_answer\"]==1:\n",
        "      flag=1\n",
        "      tot_size+=1\n",
        "      break\n",
        "\n",
        "  reranked = reranker.rerank(query, texts)\n",
        "\n",
        "  if flag==1:\n",
        "   for i in range(0, 10):\n",
        "       if reranked[i].metadata[\"has_answer\"]==1:\n",
        "         accurate+=1\n",
        "         break\n",
        "\n",
        "  #json 파일 값 변경\n",
        "  for k in range(100):\n",
        "    data[q][\"ctxs\"][k][\"id\"]=reranked[k].metadata[\"id\"]\n",
        "    data[q][\"ctxs\"][k][\"title\"]=reranked[k].metadata[\"title\"]\n",
        "    data[q][\"ctxs\"][k][\"text\"]=reranked[k].metadata[\"text\"]\n",
        "    data[q][\"ctxs\"][k][\"score\"]=str(reranked[k].score) \n",
        "    data[q][\"ctxs\"][k][\"has_answer\"]=reranked[k].metadata[\"has_answer\"]\n",
        "\n",
        "accuracy=accurate/tot_size\n",
        "print(f'Accuracy : {accuracy:.4f}')\n",
        "\n",
        "with open('NQ_test_top100_reranked_bert_2', 'w') as file:\n",
        "      json.dump(data[1805:3610], file)"
      ],
      "metadata": {
        "id": "wGJiqyBFZLcL"
      },
      "execution_count": null,
      "outputs": []
    },
    {
      "cell_type": "markdown",
      "source": [
        "test top 100을 T5로 rerank하고 재정렬해서 JSON으로 뽑아내는 코드"
      ],
      "metadata": {
        "id": "6kDyMg1EU7FN"
      }
    },
    {
      "cell_type": "code",
      "source": [
        "import json\n",
        "\n",
        "queryy=[]\n",
        "#test set의 경우에는 list 사이즈 [3610][100][3]\n",
        "\n",
        "file_path ='/content/drive/MyDrive/Colab Notebooks/NQ_test_top100_all.json'    #test set 이용\n",
        "#file_path ='/content/drive/MyDrive/Colab Notebooks/NQ_dev_top100_all.json'    #dev set 이용\n",
        "\n",
        "with open(file_path, 'r', encoding='utf-8') as file:\n",
        "      data = json.load(file)\n",
        "      data_size=len(data)\n",
        "      corpus = [[['a' for _ in range(4)] for _ in range(100)] for _ in range(data_size)]\n",
        "      for i in range(len(data)):\n",
        "       queryy.append(data[i][\"question\"])\n",
        "       for j in range(100):\n",
        "        corpus[i][j][0]=data[i][\"ctxs\"][j][\"id\"]\n",
        "        corpus[i][j][1]=data[i][\"ctxs\"][j][\"title\"]\n",
        "        corpus[i][j][2]=data[i][\"ctxs\"][j][\"text\"]\n",
        "        corpus[i][j][3]=data[i][\"ctxs\"][j][\"has_answer\"]\n",
        "\n",
        "print(data_size)\n",
        "#print(type(corpus[0][99][2]))\n",
        "#print(corpus[0][99][1])\n",
        "#print(queryy[1])\n",
        "#print(data[0][\"ctxs\"][2][\"score\"])"
      ],
      "metadata": {
        "id": "Taqk2n4cZix2"
      },
      "execution_count": null,
      "outputs": []
    },
    {
      "cell_type": "code",
      "source": [
        "#T5 모델 이용\n",
        "from pygaggle.rerank.base import Query, Text\n",
        "from pygaggle.rerank.transformer import MonoT5\n",
        "\n",
        "reranker =  MonoT5()"
      ],
      "metadata": {
        "id": "SBUg2qSUbN0u"
      },
      "execution_count": null,
      "outputs": []
    },
    {
      "cell_type": "code",
      "source": [
        "tot_size=0 #100개의 passage중 has_answer가 하나라도 true 질문의 개수\n",
        "accurate=0 #100개의 passage중 has_answer가 true인 query에 대해 reranked된 top-k에 has_answer가 하나라도 true인 개수\n",
        "\n",
        "for q in range(0,1805): #(앞 1805개), range(data_size):\n",
        "  #print(queryy[q])\n",
        "  print(q)\n",
        "  query = Query(queryy[q])\n",
        "  passages=corpus[q]\n",
        "\n",
        "  texts = [ Text(p[2], {'id': p[0],'title':p[1],'text':p[2],'has_answer' : p[3]}, 0) for p in passages]\n",
        "\n",
        " #기존 passage의 has_answer가 모두 false인지 아닌지 보는것(accuracy계산에 활용), flag=1이면 has_answer가 하나라도 있는거임\n",
        "  flag=0\n",
        "  for a in range(100):\n",
        "    if texts[a].metadata[\"has_answer\"]==1:\n",
        "      flag=1\n",
        "      tot_size+=1\n",
        "      break\n",
        "\n",
        "  reranked = reranker.rerank(query, texts)\n",
        "\n",
        "  if flag==1:\n",
        "   for i in range(0, 10):\n",
        "       if reranked[i].metadata[\"has_answer\"]==1:\n",
        "         accurate+=1\n",
        "         break\n",
        "\n",
        "  #json 파일 값 변경\n",
        "  for k in range(100):\n",
        "    data[q][\"ctxs\"][k][\"id\"]=reranked[k].metadata[\"id\"]\n",
        "    data[q][\"ctxs\"][k][\"title\"]=reranked[k].metadata[\"title\"]\n",
        "    data[q][\"ctxs\"][k][\"text\"]=reranked[k].metadata[\"text\"]\n",
        "    data[q][\"ctxs\"][k][\"score\"]=str(reranked[k].score) \n",
        "    data[q][\"ctxs\"][k][\"has_answer\"]=reranked[k].metadata[\"has_answer\"]\n",
        "\n",
        "accuracy=accurate/tot_size\n",
        "print(f'Accuracy : {accuracy:.4f}')\n",
        "\n",
        "with open('NQ_test_top100_reranked_t5_1', 'w') as file:\n",
        "      json.dump(data[0:1805], file)"
      ],
      "metadata": {
        "id": "lCrEZyuIZ367"
      },
      "execution_count": null,
      "outputs": []
    },
    {
      "cell_type": "code",
      "source": [
        "tot_size=0 #100개의 passage중 has_answer가 하나라도 true 질문의 개수\n",
        "accurate=0 #100개의 passage중 has_answer가 true인 query에 대해 reranked된 top-k에 has_answer가 하나라도 true인 개수\n",
        "\n",
        "for q in range(1805,3610): #(뒤 1805개), range(data_size):\n",
        "  #print(queryy[q])\n",
        "  print(q)\n",
        "  query = Query(queryy[q])\n",
        "  passages=corpus[q]\n",
        "\n",
        "  texts = [ Text(p[2], {'id': p[0],'title':p[1],'text':p[2],'has_answer' : p[3]}, 0) for p in passages]\n",
        "\n",
        " #기존 passage의 has_answer가 모두 false인지 아닌지 보는것(accuracy계산에 활용), flag=1이면 has_answer가 하나라도 있는거임\n",
        "  flag=0\n",
        "  for a in range(100):\n",
        "    if texts[a].metadata[\"has_answer\"]==1:\n",
        "      flag=1\n",
        "      tot_size+=1\n",
        "      break\n",
        "\n",
        "  reranked = reranker.rerank(query, texts)\n",
        "\n",
        "  if flag==1:\n",
        "   for i in range(0, 10):\n",
        "       if reranked[i].metadata[\"has_answer\"]==1:\n",
        "         accurate+=1\n",
        "         break\n",
        "\n",
        "  #json 파일 값 변경\n",
        "  for k in range(100):\n",
        "    data[q][\"ctxs\"][k][\"id\"]=reranked[k].metadata[\"id\"]\n",
        "    data[q][\"ctxs\"][k][\"title\"]=reranked[k].metadata[\"title\"]\n",
        "    data[q][\"ctxs\"][k][\"text\"]=reranked[k].metadata[\"text\"]\n",
        "    data[q][\"ctxs\"][k][\"score\"]=str(reranked[k].score) \n",
        "    data[q][\"ctxs\"][k][\"has_answer\"]=reranked[k].metadata[\"has_answer\"]\n",
        "\n",
        "accuracy=accurate/tot_size\n",
        "print(f'Accuracy : {accuracy:.4f}')\n",
        "\n",
        "with open('NQ_test_top100_reranked_t5_2', 'w') as file:\n",
        "      json.dump(data[1805:3610], file)"
      ],
      "metadata": {
        "id": "gOmIdnAcZ9SN"
      },
      "execution_count": null,
      "outputs": []
    }
  ]
}