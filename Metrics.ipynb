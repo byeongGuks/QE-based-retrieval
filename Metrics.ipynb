{
 "cells": [
  {
   "cell_type": "code",
   "execution_count": null,
   "metadata": {},
   "outputs": [],
   "source": [
    "# from google.colab import drive\n",
    "# drive.mount('/content/drive')"
   ]
  },
  {
   "cell_type": "code",
   "execution_count": null,
   "metadata": {},
   "outputs": [],
   "source": [
    "import pandas as pd\n",
    "import numpy as np"
   ]
  },
  {
   "cell_type": "code",
   "execution_count": null,
   "metadata": {},
   "outputs": [],
   "source": [
    "def json_to_df(json_path):\n",
    "  with open(json_path, 'r') as f:\n",
    "    df = pd.read_json(f)\n",
    "  return df"
   ]
  },
  {
   "cell_type": "code",
   "execution_count": null,
   "metadata": {},
   "outputs": [],
   "source": [
    "test_path = '/content/drive/MyDrive/NQ_test_top100_all.json'\n",
    "test_rerank_path_1 = '/content/drive/MyDrive/NQ_test_top100_reranked_bert_1.json'\n",
    "test_rerank_path_2 = '/content/drive/MyDrive/NQ_test_top100_reranked_bert_2.json'\n",
    "\n",
    "test_df = json_to_df(test_path)\n",
    "\n",
    "test_rerank_1 = json_to_df(test_rerank_path_1)\n",
    "test_rerank_2 = json_to_df(test_rerank_path_2)\n",
    "test_rerank = pd.concat([test_rerank_1, test_rerank_2], ignore_index=True)"
   ]
  },
  {
   "cell_type": "code",
   "execution_count": null,
   "metadata": {},
   "outputs": [],
   "source": [
    "dev_qe_path = '/content/drive/MyDrive/NQ_dev_top100_all.json'\n",
    "dev_qe_rerank_t5_path_1 = '/content/drive/MyDrive/NQ_dev_top100_qe_reranked_t5_1.json'\n",
    "dev_qe_rerank_t5_path_2 = '/content/drive/MyDrive/NQ_dev_top100_qe_reranked_t5_2.json'\n",
    "\n",
    "dev_qe_df = json_to_df(dev_qe_path)\n",
    "\n",
    "dev_qe_rerank_t5_1 = json_to_df(dev_qe_rerank_t5_path_1)\n",
    "dev_qe_rerank_t5_2 = json_to_df(dev_qe_rerank_t5_path_2)\n",
    "dev_qe_rerank_t5_df = pd.concat([dev_qe_rerank_t5_1, dev_qe_rerank_t5_2], ignore_index=True)"
   ]
  },
  {
   "cell_type": "code",
   "execution_count": null,
   "metadata": {},
   "outputs": [],
   "source": [
    "dev_rerank_t5_path_1 = '/content/drive/MyDrive/NQ_dev_top100_reranked_t5_1.json'\n",
    "dev_rerank_t5_path_2 = '/content/drive/MyDrive/NQ_dev_top100_reranked_t5_2.json'\n",
    "\n",
    "dev_rerank_t5_1 = json_to_df(dev_rerank_t5_path_1)\n",
    "dev_rerank_t5_2 = json_to_df(dev_rerank_t5_path_2)\n",
    "dev_rerank_t5_df = pd.concat([dev_rerank_t5_1, dev_rerank_t5_2], ignore_index=True)"
   ]
  },
  {
   "cell_type": "code",
   "execution_count": null,
   "metadata": {},
   "outputs": [],
   "source": [
    "def calculate_precision(df_json=pd.DataFrame, k=100):\n",
    "  precision = 0\n",
    "  for i in range(len(df_json)): # iterate per row\n",
    "    cnt = 0\n",
    "    pos_lst = [1 for x in df_json['ctxs'][i] if x['has_answer']]\n",
    "    for j in range(k): # iterate per ctxs\n",
    "      if df_json['ctxs'][i][j]['has_answer']:\n",
    "        cnt += 1\n",
    "    if len(pos_lst):\n",
    "      curr_precision = cnt / len(pos_lst)\n",
    "    else:\n",
    "      curr_precision = 0\n",
    "    precision += curr_precision\n",
    "  return precision / len(df_json)"
   ]
  },
  {
   "cell_type": "code",
   "execution_count": null,
   "metadata": {},
   "outputs": [],
   "source": [
    "def calculate_mrr(df_json=pd.DataFrame, k=100):\n",
    "  mrr = 0\n",
    "  for i in range(len(df_json)): # iterate per row\n",
    "    for j in range(k): # iterate per ctxs\n",
    "      if df_json['ctxs'][i][j]['has_answer']:\n",
    "        mrr += 1 / (j + 1) # (j+1)-th rank\n",
    "        break\n",
    "  return mrr / len(df_json)"
   ]
  },
  {
   "cell_type": "code",
   "execution_count": null,
   "metadata": {},
   "outputs": [],
   "source": [
    "def calculate_map(df_json=pd.DataFrame, k=100):\n",
    "  map = 0\n",
    "  for i in range(len(df_json)): # iterate per row\n",
    "    cnt = 0\n",
    "    curr_precision = 0\n",
    "    for j in range(k): # iterate per ctxs\n",
    "      if df_json['ctxs'][i][j]['has_answer']:\n",
    "        cnt += 1\n",
    "        curr_precision += cnt / (j + 1)\n",
    "    if cnt:\n",
    "      map += curr_precision / cnt\n",
    "  return map / len(df_json)"
   ]
  },
  {
   "cell_type": "code",
   "execution_count": null,
   "metadata": {},
   "outputs": [],
   "source": [
    "def calculate_ndcg(df_json=pd.DataFrame, k=100):\n",
    "  ndcg = 0\n",
    "  for i in range(len(df_json)): # iterate per row\n",
    "    dcg = 0\n",
    "    cnt = 0\n",
    "    ideal_dcg = 1\n",
    "    for j in range(k): # iterate per ctxs\n",
    "      if df_json['ctxs'][i][j]['has_answer']:\n",
    "        dcg += 1 / np.log2(j + 2)\n",
    "        ideal_dcg += 1 / np.log2(cnt + 2)\n",
    "        cnt += 1\n",
    "    if ideal_dcg or dcg:\n",
    "      ndcg += dcg / ideal_dcg\n",
    "  return ndcg / len(df_json)"
   ]
  },
  {
   "cell_type": "code",
   "execution_count": null,
   "metadata": {},
   "outputs": [],
   "source": [
    "print(calculate_precision(dev_qe_df, 100))\n",
    "print(calculate_mrr(dev_qe_df, 100))\n",
    "print(calculate_map(dev_qe_df, 100))\n",
    "print(calculate_ndcg(dev_qe_df, 100))"
   ]
  },
  {
   "cell_type": "code",
   "execution_count": null,
   "metadata": {},
   "outputs": [],
   "source": []
  }
 ],
 "metadata": {
  "language_info": {
   "name": "python"
  },
  "orig_nbformat": 4
 },
 "nbformat": 4,
 "nbformat_minor": 2
}
