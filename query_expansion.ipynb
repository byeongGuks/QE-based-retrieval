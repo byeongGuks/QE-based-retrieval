{
 "cells": [
  {
   "attachments": {},
   "cell_type": "markdown",
   "metadata": {},
   "source": [
    "## 1. Language Model list up"
   ]
  },
  {
   "attachments": {},
   "cell_type": "markdown",
   "metadata": {},
   "source": [
    "### 1-1 T5"
   ]
  },
  {
   "cell_type": "code",
   "execution_count": null,
   "metadata": {},
   "outputs": [],
   "source": [
    "text = \"It can be defined as a permanent and densely settled place with administratively defined boundaries whose members work primarily on non-agricultural tasks. Cities generally have extensive systems for housing, transportation, sanitation, utilities, land use, production of goods, and communication. Their density facilitates interaction between people, government organisations and businesses, sometimes benefiting different parties in the process, such as improving efficiency of goods and service distribution. Historically, city-dwellers have been a small proportion of humanity overall, but following two centuries of unprecedented and rapid urbanization, more than half of the world population now lives in cities, which has had profound consequences for global sustainability.[4][5] Present-day cities usually form the core of larger metropolitan areas and urban areas—creating numerous commuters traveling towards city centres for employment, entertainment, and education. However, in a world of intensifying globalization, all cities are to varying degrees also connected globally beyond these regions. This increased influence means that cities also have significant influences on global issues, such as sustainable development, climate change, and global health. Because of these major influences on global issues, the international community has prioritized investment in sustainable cities through Sustainable Development Goal 11. Due to the efficiency of transportation and the smaller land consumption, dense cities hold the potential to have a smaller ecological footprint per inhabitant than more sparsely populated areas.[6] Therefore, compact cities are often referred to as a crucial element of fighting climate change.[7] However, this concentration can also have significant negative consequences, such as forming urban heat islands, concentrating pollution, and stressing water supplies and other resources. Other important traits of cities besides population include the capital status and relative continued occupation of the city. For example, country capitals such as Beijing, Jakarta, Kuala lumpur, London, Manila, Mexico City, Moscow, Nairobi, New Delhi, Paris, Rome, Athens, Seoul, Singapore, Tokyo, and Washington, D.C. reflect the identity and apex of their respective nations.[8] Some historic capitals, such as Kyoto, Yogyakarta, and Xi'an, maintain their reflection of cultural identity even without modern capital status.\""
   ]
  },
  {
   "cell_type": "code",
   "execution_count": 52,
   "metadata": {},
   "outputs": [
    {
     "name": "stdout",
     "output_type": "stream",
     "text": [
      "\n"
     ]
    }
   ],
   "source": [
    "from transformers import T5ForConditionalGeneration, T5Tokenizer\n",
    "\n",
    "# Load pre-trained model and tokenizer\n",
    "tokenizer = T5Tokenizer.from_pretrained('t5-large')\n",
    "model = T5ForConditionalGeneration.from_pretrained('t5-large')\n",
    "\n",
    "# Define input text\n",
    "input_text = \"translate english to French : Whar are the major cities in French\"\n",
    "input_text2 = \"translate French to English : Voici les principales villes françaises\"\n",
    "\n",
    "# Tokenize input text\n",
    "input_ids = tokenizer.encode(input_text2, return_tensors='pt')\n",
    "\n",
    "# Generate output\n",
    "outputs = model.generate(input_ids=input_ids, max_length=100)\n",
    "\n",
    "# Decode output\n",
    "output_text = tokenizer.decode(outputs[0], skip_special_tokens=True)\n",
    "\n",
    "print(output_text)"
   ]
  },
  {
   "cell_type": "code",
   "execution_count": 8,
   "metadata": {},
   "outputs": [
    {
     "name": "stdout",
     "output_type": "stream",
     "text": [
      "Requirement already satisfied: transformers in c:\\users\\dmis\\anaconda3\\envs\\qeretrieval\\lib\\site-packages (4.28.1)\n",
      "Requirement already satisfied: filelock in c:\\users\\dmis\\anaconda3\\envs\\qeretrieval\\lib\\site-packages (from transformers) (3.12.0)\n",
      "Requirement already satisfied: huggingface-hub<1.0,>=0.11.0 in c:\\users\\dmis\\anaconda3\\envs\\qeretrieval\\lib\\site-packages (from transformers) (0.14.1)\n",
      "Requirement already satisfied: numpy>=1.17 in c:\\users\\dmis\\anaconda3\\envs\\qeretrieval\\lib\\site-packages (from transformers) (1.23.5)\n",
      "Requirement already satisfied: packaging>=20.0 in c:\\users\\dmis\\anaconda3\\envs\\qeretrieval\\lib\\site-packages (from transformers) (23.1)\n",
      "Requirement already satisfied: pyyaml>=5.1 in c:\\users\\dmis\\anaconda3\\envs\\qeretrieval\\lib\\site-packages (from transformers) (6.0)\n",
      "Requirement already satisfied: regex!=2019.12.17 in c:\\users\\dmis\\anaconda3\\envs\\qeretrieval\\lib\\site-packages (from transformers) (2023.5.4)\n",
      "Requirement already satisfied: requests in c:\\users\\dmis\\anaconda3\\envs\\qeretrieval\\lib\\site-packages (from transformers) (2.29.0)\n",
      "Requirement already satisfied: tokenizers!=0.11.3,<0.14,>=0.11.1 in c:\\users\\dmis\\anaconda3\\envs\\qeretrieval\\lib\\site-packages (from transformers) (0.13.3)\n",
      "Requirement already satisfied: tqdm>=4.27 in c:\\users\\dmis\\anaconda3\\envs\\qeretrieval\\lib\\site-packages (from transformers) (4.65.0)\n",
      "Requirement already satisfied: fsspec in c:\\users\\dmis\\anaconda3\\envs\\qeretrieval\\lib\\site-packages (from huggingface-hub<1.0,>=0.11.0->transformers) (2023.4.0)\n",
      "Requirement already satisfied: typing-extensions>=3.7.4.3 in c:\\users\\dmis\\anaconda3\\envs\\qeretrieval\\lib\\site-packages (from huggingface-hub<1.0,>=0.11.0->transformers) (4.5.0)\n",
      "Requirement already satisfied: colorama in c:\\users\\dmis\\anaconda3\\envs\\qeretrieval\\lib\\site-packages (from tqdm>=4.27->transformers) (0.4.6)\n",
      "Requirement already satisfied: charset-normalizer<4,>=2 in c:\\users\\dmis\\anaconda3\\envs\\qeretrieval\\lib\\site-packages (from requests->transformers) (3.1.0)\n",
      "Requirement already satisfied: idna<4,>=2.5 in c:\\users\\dmis\\anaconda3\\envs\\qeretrieval\\lib\\site-packages (from requests->transformers) (3.4)\n",
      "Requirement already satisfied: urllib3<1.27,>=1.21.1 in c:\\users\\dmis\\anaconda3\\envs\\qeretrieval\\lib\\site-packages (from requests->transformers) (1.26.15)\n",
      "Requirement already satisfied: certifi>=2017.4.17 in c:\\users\\dmis\\anaconda3\\envs\\qeretrieval\\lib\\site-packages (from requests->transformers) (2022.12.7)\n",
      "Note: you may need to restart the kernel to use updated packages.\n"
     ]
    }
   ],
   "source": [
    "%pip install transformers --upgrade"
   ]
  },
  {
   "cell_type": "code",
   "execution_count": 9,
   "metadata": {},
   "outputs": [
    {
     "name": "stdout",
     "output_type": "stream",
     "text": [
      "Requirement already satisfied: torch in c:\\users\\dmis\\anaconda3\\envs\\qeretrieval\\lib\\site-packages (2.0.0)\n",
      "Requirement already satisfied: filelock in c:\\users\\dmis\\anaconda3\\envs\\qeretrieval\\lib\\site-packages (from torch) (3.12.0)\n",
      "Requirement already satisfied: typing-extensions in c:\\users\\dmis\\anaconda3\\envs\\qeretrieval\\lib\\site-packages (from torch) (4.5.0)\n",
      "Requirement already satisfied: sympy in c:\\users\\dmis\\anaconda3\\envs\\qeretrieval\\lib\\site-packages (from torch) (1.11.1)\n",
      "Requirement already satisfied: networkx in c:\\users\\dmis\\anaconda3\\envs\\qeretrieval\\lib\\site-packages (from torch) (3.1)\n",
      "Requirement already satisfied: jinja2 in c:\\users\\dmis\\anaconda3\\envs\\qeretrieval\\lib\\site-packages (from torch) (3.1.2)\n",
      "Requirement already satisfied: MarkupSafe>=2.0 in c:\\users\\dmis\\anaconda3\\envs\\qeretrieval\\lib\\site-packages (from jinja2->torch) (2.1.2)\n",
      "Requirement already satisfied: mpmath>=0.19 in c:\\users\\dmis\\anaconda3\\envs\\qeretrieval\\lib\\site-packages (from sympy->torch) (1.3.0)\n",
      "Note: you may need to restart the kernel to use updated packages.\n"
     ]
    }
   ],
   "source": [
    "%pip install torch"
   ]
  },
  {
   "cell_type": "code",
   "execution_count": 10,
   "metadata": {},
   "outputs": [
    {
     "name": "stdout",
     "output_type": "stream",
     "text": [
      "Collecting sentencepiece==0.1.91\n",
      "  Using cached sentencepiece-0.1.91.tar.gz (500 kB)\n",
      "  Preparing metadata (setup.py): started\n",
      "  Preparing metadata (setup.py): finished with status 'done'\n",
      "Building wheels for collected packages: sentencepiece\n",
      "  Building wheel for sentencepiece (setup.py): started\n",
      "  Building wheel for sentencepiece (setup.py): finished with status 'error'\n",
      "  Running setup.py clean for sentencepiece\n",
      "Failed to build sentencepiece\n",
      "Note: you may need to restart the kernel to use updated packages.\n"
     ]
    },
    {
     "name": "stderr",
     "output_type": "stream",
     "text": [
      "  error: subprocess-exited-with-error\n",
      "  \n",
      "  × python setup.py bdist_wheel did not run successfully.\n",
      "  │ exit code: 1\n",
      "  ╰─> [24 lines of output]\n",
      "      c:\\Users\\DMIS\\anaconda3\\envs\\qeRetrieval\\Lib\\site-packages\\setuptools\\dist.py:755: SetuptoolsDeprecationWarning: Invalid dash-separated options\n",
      "      !!\n",
      "      \n",
      "              ********************************************************************************\n",
      "              Usage of dash-separated 'description-file' will not be supported in future\n",
      "              versions. Please use the underscore name 'description_file' instead.\n",
      "      \n",
      "              By 2023-Sep-26, you need to update your project and remove deprecated calls\n",
      "              or your builds will no longer be supported.\n",
      "      \n",
      "              See https://setuptools.pypa.io/en/latest/userguide/declarative_config.html for details.\n",
      "              ********************************************************************************\n",
      "      \n",
      "      !!\n",
      "        opt = self.warn_dash_deprecation(opt, section)\n",
      "      running bdist_wheel\n",
      "      running build\n",
      "      running build_py\n",
      "      creating build\n",
      "      creating build\\lib.win-amd64-cpython-311\n",
      "      copying sentencepiece.py -> build\\lib.win-amd64-cpython-311\n",
      "      running build_ext\n",
      "      building '_sentencepiece' extension\n",
      "      error: Microsoft Visual C++ 14.0 or greater is required. Get it with \"Microsoft C++ Build Tools\": https://visualstudio.microsoft.com/visual-cpp-build-tools/\n",
      "      [end of output]\n",
      "  \n",
      "  note: This error originates from a subprocess, and is likely not a problem with pip.\n",
      "  ERROR: Failed building wheel for sentencepiece\n",
      "ERROR: Could not build wheels for sentencepiece, which is required to install pyproject.toml-based projects\n"
     ]
    }
   ],
   "source": [
    "%pip install sentencepiece==0.1.91"
   ]
  },
  {
   "cell_type": "code",
   "execution_count": 11,
   "metadata": {},
   "outputs": [
    {
     "name": "stdout",
     "output_type": "stream",
     "text": [
      "Collecting tensorflow\n",
      "  Using cached tensorflow-2.12.0-cp311-cp311-win_amd64.whl (1.9 kB)\n",
      "Collecting tensorflow-intel==2.12.0 (from tensorflow)\n",
      "  Using cached tensorflow_intel-2.12.0-cp311-cp311-win_amd64.whl (272.9 MB)\n",
      "Collecting absl-py>=1.0.0 (from tensorflow-intel==2.12.0->tensorflow)\n",
      "  Using cached absl_py-1.4.0-py3-none-any.whl (126 kB)\n",
      "Collecting astunparse>=1.6.0 (from tensorflow-intel==2.12.0->tensorflow)\n",
      "  Using cached astunparse-1.6.3-py2.py3-none-any.whl (12 kB)\n",
      "Requirement already satisfied: flatbuffers>=2.0 in c:\\users\\dmis\\anaconda3\\envs\\qeretrieval\\lib\\site-packages (from tensorflow-intel==2.12.0->tensorflow) (23.3.3)\n",
      "Collecting gast<=0.4.0,>=0.2.1 (from tensorflow-intel==2.12.0->tensorflow)\n",
      "  Using cached gast-0.4.0-py3-none-any.whl (9.8 kB)\n",
      "Collecting google-pasta>=0.1.1 (from tensorflow-intel==2.12.0->tensorflow)\n",
      "  Using cached google_pasta-0.2.0-py3-none-any.whl (57 kB)\n",
      "Collecting h5py>=2.9.0 (from tensorflow-intel==2.12.0->tensorflow)\n",
      "  Using cached h5py-3.8.0-cp311-cp311-win_amd64.whl (2.6 MB)\n",
      "Collecting jax>=0.3.15 (from tensorflow-intel==2.12.0->tensorflow)\n",
      "  Using cached jax-0.4.8-py3-none-any.whl\n",
      "Requirement already satisfied: libclang>=13.0.0 in c:\\users\\dmis\\anaconda3\\envs\\qeretrieval\\lib\\site-packages (from tensorflow-intel==2.12.0->tensorflow) (16.0.0)\n",
      "Requirement already satisfied: numpy<1.24,>=1.22 in c:\\users\\dmis\\anaconda3\\envs\\qeretrieval\\lib\\site-packages (from tensorflow-intel==2.12.0->tensorflow) (1.23.5)\n",
      "Collecting opt-einsum>=2.3.2 (from tensorflow-intel==2.12.0->tensorflow)\n",
      "  Using cached opt_einsum-3.3.0-py3-none-any.whl (65 kB)\n",
      "Requirement already satisfied: packaging in c:\\users\\dmis\\anaconda3\\envs\\qeretrieval\\lib\\site-packages (from tensorflow-intel==2.12.0->tensorflow) (23.1)\n",
      "Requirement already satisfied: protobuf!=4.21.0,!=4.21.1,!=4.21.2,!=4.21.3,!=4.21.4,!=4.21.5,<5.0.0dev,>=3.20.3 in c:\\users\\dmis\\anaconda3\\envs\\qeretrieval\\lib\\site-packages (from tensorflow-intel==2.12.0->tensorflow) (4.22.3)\n",
      "Requirement already satisfied: setuptools in c:\\users\\dmis\\anaconda3\\envs\\qeretrieval\\lib\\site-packages (from tensorflow-intel==2.12.0->tensorflow) (67.7.2)\n",
      "Requirement already satisfied: six>=1.12.0 in c:\\users\\dmis\\anaconda3\\envs\\qeretrieval\\lib\\site-packages (from tensorflow-intel==2.12.0->tensorflow) (1.16.0)\n",
      "Requirement already satisfied: termcolor>=1.1.0 in c:\\users\\dmis\\anaconda3\\envs\\qeretrieval\\lib\\site-packages (from tensorflow-intel==2.12.0->tensorflow) (2.3.0)\n",
      "Requirement already satisfied: typing-extensions>=3.6.6 in c:\\users\\dmis\\anaconda3\\envs\\qeretrieval\\lib\\site-packages (from tensorflow-intel==2.12.0->tensorflow) (4.5.0)\n",
      "Requirement already satisfied: wrapt<1.15,>=1.11.0 in c:\\users\\dmis\\anaconda3\\envs\\qeretrieval\\lib\\site-packages (from tensorflow-intel==2.12.0->tensorflow) (1.14.1)\n",
      "Collecting grpcio<2.0,>=1.24.3 (from tensorflow-intel==2.12.0->tensorflow)\n",
      "  Using cached grpcio-1.54.0-cp311-cp311-win_amd64.whl (4.1 MB)\n",
      "Collecting tensorboard<2.13,>=2.12 (from tensorflow-intel==2.12.0->tensorflow)\n",
      "  Using cached tensorboard-2.12.3-py3-none-any.whl (5.6 MB)\n",
      "Requirement already satisfied: tensorflow-estimator<2.13,>=2.12.0 in c:\\users\\dmis\\anaconda3\\envs\\qeretrieval\\lib\\site-packages (from tensorflow-intel==2.12.0->tensorflow) (2.12.0)\n",
      "Collecting keras<2.13,>=2.12.0 (from tensorflow-intel==2.12.0->tensorflow)\n",
      "  Using cached keras-2.12.0-py2.py3-none-any.whl (1.7 MB)\n",
      "Requirement already satisfied: tensorflow-io-gcs-filesystem>=0.23.1 in c:\\users\\dmis\\anaconda3\\envs\\qeretrieval\\lib\\site-packages (from tensorflow-intel==2.12.0->tensorflow) (0.31.0)\n",
      "Requirement already satisfied: wheel<1.0,>=0.23.0 in c:\\users\\dmis\\anaconda3\\envs\\qeretrieval\\lib\\site-packages (from astunparse>=1.6.0->tensorflow-intel==2.12.0->tensorflow) (0.40.0)\n",
      "Collecting ml-dtypes>=0.0.3 (from jax>=0.3.15->tensorflow-intel==2.12.0->tensorflow)\n",
      "  Using cached ml_dtypes-0.1.0-cp311-cp311-win_amd64.whl (120 kB)\n",
      "Collecting scipy>=1.7 (from jax>=0.3.15->tensorflow-intel==2.12.0->tensorflow)\n",
      "  Using cached scipy-1.10.1-cp311-cp311-win_amd64.whl (42.2 MB)\n",
      "Collecting google-auth<3,>=1.6.3 (from tensorboard<2.13,>=2.12->tensorflow-intel==2.12.0->tensorflow)\n",
      "  Using cached google_auth-2.17.3-py2.py3-none-any.whl (178 kB)\n",
      "Collecting google-auth-oauthlib<1.1,>=0.5 (from tensorboard<2.13,>=2.12->tensorflow-intel==2.12.0->tensorflow)\n",
      "  Using cached google_auth_oauthlib-1.0.0-py2.py3-none-any.whl (18 kB)\n",
      "Collecting markdown>=2.6.8 (from tensorboard<2.13,>=2.12->tensorflow-intel==2.12.0->tensorflow)\n",
      "  Using cached Markdown-3.4.3-py3-none-any.whl (93 kB)\n",
      "Requirement already satisfied: requests<3,>=2.21.0 in c:\\users\\dmis\\anaconda3\\envs\\qeretrieval\\lib\\site-packages (from tensorboard<2.13,>=2.12->tensorflow-intel==2.12.0->tensorflow) (2.29.0)\n",
      "Requirement already satisfied: tensorboard-data-server<0.8.0,>=0.7.0 in c:\\users\\dmis\\anaconda3\\envs\\qeretrieval\\lib\\site-packages (from tensorboard<2.13,>=2.12->tensorflow-intel==2.12.0->tensorflow) (0.7.0)\n",
      "Requirement already satisfied: werkzeug>=1.0.1 in c:\\users\\dmis\\anaconda3\\envs\\qeretrieval\\lib\\site-packages (from tensorboard<2.13,>=2.12->tensorflow-intel==2.12.0->tensorflow) (2.3.3)\n",
      "Collecting cachetools<6.0,>=2.0.0 (from google-auth<3,>=1.6.3->tensorboard<2.13,>=2.12->tensorflow-intel==2.12.0->tensorflow)\n",
      "  Using cached cachetools-5.3.0-py3-none-any.whl (9.3 kB)\n",
      "Collecting pyasn1-modules>=0.2.1 (from google-auth<3,>=1.6.3->tensorboard<2.13,>=2.12->tensorflow-intel==2.12.0->tensorflow)\n",
      "  Using cached pyasn1_modules-0.3.0-py2.py3-none-any.whl (181 kB)\n",
      "Collecting rsa<5,>=3.1.4 (from google-auth<3,>=1.6.3->tensorboard<2.13,>=2.12->tensorflow-intel==2.12.0->tensorflow)\n",
      "  Using cached rsa-4.9-py3-none-any.whl (34 kB)\n",
      "Collecting requests-oauthlib>=0.7.0 (from google-auth-oauthlib<1.1,>=0.5->tensorboard<2.13,>=2.12->tensorflow-intel==2.12.0->tensorflow)\n",
      "  Using cached requests_oauthlib-1.3.1-py2.py3-none-any.whl (23 kB)\n",
      "Requirement already satisfied: charset-normalizer<4,>=2 in c:\\users\\dmis\\anaconda3\\envs\\qeretrieval\\lib\\site-packages (from requests<3,>=2.21.0->tensorboard<2.13,>=2.12->tensorflow-intel==2.12.0->tensorflow) (3.1.0)\n",
      "Requirement already satisfied: idna<4,>=2.5 in c:\\users\\dmis\\anaconda3\\envs\\qeretrieval\\lib\\site-packages (from requests<3,>=2.21.0->tensorboard<2.13,>=2.12->tensorflow-intel==2.12.0->tensorflow) (3.4)\n",
      "Requirement already satisfied: urllib3<1.27,>=1.21.1 in c:\\users\\dmis\\anaconda3\\envs\\qeretrieval\\lib\\site-packages (from requests<3,>=2.21.0->tensorboard<2.13,>=2.12->tensorflow-intel==2.12.0->tensorflow) (1.26.15)\n",
      "Requirement already satisfied: certifi>=2017.4.17 in c:\\users\\dmis\\anaconda3\\envs\\qeretrieval\\lib\\site-packages (from requests<3,>=2.21.0->tensorboard<2.13,>=2.12->tensorflow-intel==2.12.0->tensorflow) (2022.12.7)\n",
      "Requirement already satisfied: MarkupSafe>=2.1.1 in c:\\users\\dmis\\anaconda3\\envs\\qeretrieval\\lib\\site-packages (from werkzeug>=1.0.1->tensorboard<2.13,>=2.12->tensorflow-intel==2.12.0->tensorflow) (2.1.2)\n",
      "Requirement already satisfied: pyasn1<0.6.0,>=0.4.6 in c:\\users\\dmis\\anaconda3\\envs\\qeretrieval\\lib\\site-packages (from pyasn1-modules>=0.2.1->google-auth<3,>=1.6.3->tensorboard<2.13,>=2.12->tensorflow-intel==2.12.0->tensorflow) (0.5.0)\n",
      "Requirement already satisfied: oauthlib>=3.0.0 in c:\\users\\dmis\\anaconda3\\envs\\qeretrieval\\lib\\site-packages (from requests-oauthlib>=0.7.0->google-auth-oauthlib<1.1,>=0.5->tensorboard<2.13,>=2.12->tensorflow-intel==2.12.0->tensorflow) (3.2.2)\n",
      "Installing collected packages: scipy, rsa, pyasn1-modules, opt-einsum, ml-dtypes, markdown, keras, h5py, grpcio, google-pasta, gast, cachetools, astunparse, absl-py, requests-oauthlib, jax, google-auth, google-auth-oauthlib, tensorboard, tensorflow-intel, tensorflow\n",
      "Successfully installed absl-py-1.4.0 astunparse-1.6.3 cachetools-5.3.0 gast-0.4.0 google-auth-2.17.3 google-auth-oauthlib-1.0.0 google-pasta-0.2.0 grpcio-1.54.0 h5py-3.8.0 jax-0.4.8 keras-2.12.0 markdown-3.4.3 ml-dtypes-0.1.0 opt-einsum-3.3.0 pyasn1-modules-0.3.0 requests-oauthlib-1.3.1 rsa-4.9 scipy-1.10.1 tensorboard-2.12.3 tensorflow-2.12.0 tensorflow-intel-2.12.0\n",
      "Note: you may need to restart the kernel to use updated packages.\n"
     ]
    }
   ],
   "source": [
    "%pip install tensorflow"
   ]
  },
  {
   "attachments": {},
   "cell_type": "markdown",
   "metadata": {},
   "source": [
    "### 1-2 GPT2"
   ]
  },
  {
   "cell_type": "code",
   "execution_count": 31,
   "metadata": {},
   "outputs": [],
   "source": [
    "prompt = \"\"\"Q: Roger has 5 tennis balls. He buys 2 more cans of\n",
    "tennis balls. Each can has 3 tennis balls. How many\n",
    "tennis balls does he have now?\n",
    "A: Roger started with 5 balls. 2 cans of 3 tennis balls\n",
    "each is 6 tennis balls. 5 + 6 = 11. The answer is 11.\n",
    "Q: The cafeteria had 23 apples. If they used 20 to\n",
    "make lunch and bought 6 more, how many apples\n",
    "do they have?\"\"\""
   ]
  },
  {
   "cell_type": "code",
   "execution_count": 57,
   "metadata": {},
   "outputs": [],
   "source": [
    "\n",
    "promptQE = \"\"\"\n",
    "Q: Who is the best soccer player?\n",
    "A: best soccer player mean the player who score many goal in game. So Who is the best soccer player?\n",
    "Q: What are the major cities in france?\n",
    "A: \n",
    "\"\"\"\n",
    "\n",
    "promptQE = \"\"\"\n",
    "Expand Following Query with various terms\n",
    "What are the major cities in france?\n",
    "\"\"\""
   ]
  },
  {
   "cell_type": "code",
   "execution_count": 40,
   "metadata": {},
   "outputs": [
    {
     "name": "stdout",
     "output_type": "stream",
     "text": [
      "hello, PA)\n",
      "\n",
      "The city of Philadelphia is considering a $1.5 million renovation of the former Union Station, which was demolished in the 1970s.\n",
      "\n",
      "The project is expected to cost $1.5 million, according to the city's website.\n",
      "\n",
      "The project is expected to cost $1.5 million, according to the city's website.\n",
      "\n",
      "The project is expected to cost $1.5 million, according to the city's website.\n",
      "\n",
      "The project is expected to cost $1.5 million, according to the city's website.\n",
      "\n",
      "The project is expected to cost $1.5 million, according to the city's website.\n",
      "\n",
      "The project is expected to cost $1.5 million, according to the city's website.\n",
      "\n",
      "The project is expected to cost $1.5 million, according to the city's website.\n",
      "\n",
      "The project is expected to cost $1.5 million, according to the city's website.\n",
      "\n",
      "The project is expected to cost $1.5 million, according to the city's website.\n",
      "\n",
      "The project is expected to cost $1.5 million, according to the city's website.\n",
      "\n",
      "The project is expected to cost $1.5 million, according to the city's website.\n",
      "\n",
      "The project is expected to cost $1.5 million, according to the city's website.\n",
      "\n",
      "The project is expected to cost $1.5 million, according to the city's website.\n",
      "\n",
      "The project is expected to cost $1.5 million, according to the city's website.\n",
      "\n",
      "The project is expected to cost $1.5 million, according to the city's website.\n",
      "\n",
      "The project is expected to cost $1.5 million, according to the city's website.\n",
      "\n",
      "The project is expected to cost $1.5 million, according to the city's website.\n",
      "\n",
      "The project is expected to cost $1.5 million, according to the city's website.\n",
      "\n",
      "The project is expected to cost $1.5 million, according to the city's website.\n",
      "\n",
      "The project is expected to cost $1.5 million, according to the city's website.\n",
      "\n",
      "The project is expected to cost $1.5 million, according to the city's website.\n",
      "\n",
      "The project is expected to cost $1.5 million, according to the city's website.\n",
      "\n",
      "The project is expected to cost $1.5 million, according to the\n"
     ]
    }
   ],
   "source": [
    "import torch\n",
    "from transformers import pipeline, set_seed\n",
    "from transformers import GPT2Tokenizer, GPT2LMHeadModel\n",
    "\n",
    "tokenizer = GPT2Tokenizer.from_pretrained('gpt2')\n",
    "model = GPT2LMHeadModel.from_pretrained('gpt2')\n",
    "\n",
    "# Generate text\n",
    "input_text = \"What are the major cities in france?\"\n",
    "input_ids = tokenizer.encode(\"hello\", return_tensors='pt')\n",
    "attention_mask = torch.ones(input_ids.shape, dtype=torch.long)\n",
    "output = model.generate(input_ids, max_length=512, attention_mask=attention_mask, pad_token_id=tokenizer.eos_token_id)\n",
    "\n",
    "# Decode the output\n",
    "output_text = tokenizer.decode(output[0], skip_special_tokens=True)\n",
    "print(output_text)"
   ]
  },
  {
   "cell_type": "code",
   "execution_count": 41,
   "metadata": {},
   "outputs": [
    {
     "name": "stderr",
     "output_type": "stream",
     "text": [
      "Downloading (…)olve/main/vocab.json: 100%|██████████| 1.04M/1.04M [00:00<00:00, 1.50MB/s]\n",
      "Downloading (…)olve/main/merges.txt: 100%|██████████| 456k/456k [00:00<00:00, 875kB/s]\n",
      "Downloading (…)lve/main/config.json: 100%|██████████| 689/689 [00:00<?, ?B/s] \n",
      "Downloading pytorch_model.bin: 100%|██████████| 6.43G/6.43G [01:46<00:00, 60.2MB/s]\n"
     ]
    }
   ],
   "source": [
    "from transformers import GPT2Tokenizer, GPT2Model\n",
    "tokenizer = GPT2Tokenizer.from_pretrained('gpt2-xl')\n",
    "model = GPT2Model.from_pretrained('gpt2-xl')\n",
    "text = \"Replace me by any text you'd like.\"\n",
    "encoded_input = tokenizer(text, return_tensors='pt')\n",
    "output = model(**encoded_input)"
   ]
  },
  {
   "cell_type": "code",
   "execution_count": 59,
   "metadata": {},
   "outputs": [
    {
     "name": "stderr",
     "output_type": "stream",
     "text": [
      "Setting `pad_token_id` to `eos_token_id`:50256 for open-end generation.\n"
     ]
    },
    {
     "data": {
      "text/plain": [
       "[{'generated_text': \"\\nExpand Following Query with various terms\\nWhat are the major cities in france?\\nTo get information from the query you must use a string in bold type as shown in the example under The Result:\\nFrom the query: 'Cities in France\\nOr you can choose this query result by clicking the 'Expand Following Query' from the right hand column.\\nHow does it work?\\nIn a nutshell, the idea behind the Expand Following Query is that after typing your query you\"},\n",
       " {'generated_text': '\\nExpand Following Query with various terms\\nWhat are the major cities in france?\\nExpand Following Query with various terms\\nExpand What is the weather like in the city of lyon?\\nExpand \"what do you call the people that live in France\"\\nLoan terms for the French countryside\\nExpand Please select a region (Lausanne, Nice, Marseille, Toulouse, etc)\\nPlease select a type of loan from this drop-down menu'},\n",
       " {'generated_text': '\\nExpand Following Query with various terms\\nWhat are the major cities in france?\\nFrance is very famous for its varied architecture and cities. Many of these cities were built on old ruins that have been gradually reorganized into new districts in the past.\\nBelow, it shows the major cities in the world.'},\n",
       " {'generated_text': '\\nExpand Following Query with various terms\\nWhat are the major cities in france?\\nFACT: France has 8 of the largest cities, including Paris and Marseille, which are both large. France has 7 different regions:\\nFrançois Mitterrand\\nExpand \"The best food in the world\"\\nWho is the current president of france?\\nFACT: Hollande was elected in 2012, he is also currently the Socialist Party\\'s candidate for the 2016 presidential elections,'},\n",
       " {'generated_text': \"\\nExpand Following Query with various terms\\nWhat are the major cities in france?\\nIn case you need a map of any major city for a particular date/time in a year, just enter the town, city or region (if there is several, just put them all in), and we will give you all the important details for this date:\\nEntering information like this is very quick and easy. You only get one picture or even text message. It's easier to read and\"}]"
      ]
     },
     "execution_count": 59,
     "metadata": {},
     "output_type": "execute_result"
    }
   ],
   "source": [
    "from transformers import pipeline, set_seed\n",
    "generator = pipeline('text-generation', model='gpt2-xl')\n",
    "set_seed(42)\n",
    "generator(promptQE, max_length=100, num_return_sequences=5)"
   ]
  },
  {
   "attachments": {},
   "cell_type": "markdown",
   "metadata": {},
   "source": [
    "What are the major cities in france?,"
   ]
  },
  {
   "attachments": {},
   "cell_type": "markdown",
   "metadata": {},
   "source": [
    "### 1-3 LLama  (need facebook license)"
   ]
  },
  {
   "cell_type": "code",
   "execution_count": null,
   "metadata": {},
   "outputs": [],
   "source": [
    "from transformers import LlamaModel, LlamaConfig\n",
    "\n",
    "configuration = LlamaConfig()\n",
    "model = LlamaModel(configuration)\n",
    "configuration = model.config"
   ]
  },
  {
   "attachments": {},
   "cell_type": "markdown",
   "metadata": {},
   "source": [
    "### 1-4 pyllama https://github.com/juncongmoo/pyllama"
   ]
  }
 ],
 "metadata": {
  "kernelspec": {
   "display_name": "qeRetrieval",
   "language": "python",
   "name": "python3"
  },
  "language_info": {
   "codemirror_mode": {
    "name": "ipython",
    "version": 3
   },
   "file_extension": ".py",
   "mimetype": "text/x-python",
   "name": "python",
   "nbconvert_exporter": "python",
   "pygments_lexer": "ipython3",
   "version": "3.11.3"
  },
  "orig_nbformat": 4
 },
 "nbformat": 4,
 "nbformat_minor": 2
}
