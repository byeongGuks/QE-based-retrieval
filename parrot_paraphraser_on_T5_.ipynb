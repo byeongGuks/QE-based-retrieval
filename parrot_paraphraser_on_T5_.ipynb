{
  "nbformat": 4,
  "nbformat_minor": 0,
  "metadata": {
    "colab": {
      "provenance": []
    },
    "kernelspec": {
      "name": "python3",
      "display_name": "Python 3"
    },
    "language_info": {
      "name": "python"
    }
  },
  "cells": [
    {
      "cell_type": "code",
      "source": [
        "pip install git+https://github.com/PrithivirajDamodaran/Parrot_Paraphraser.git"
      ],
      "metadata": {
        "colab": {
          "base_uri": "https://localhost:8080/"
        },
        "id": "zDQXpwKve5pT",
        "outputId": "27b679c9-b5fc-4c1c-ff5a-42435653f90a"
      },
      "execution_count": null,
      "outputs": [
        {
          "output_type": "stream",
          "name": "stdout",
          "text": [
            "Looking in indexes: https://pypi.org/simple, https://us-python.pkg.dev/colab-wheels/public/simple/\n",
            "Collecting git+https://github.com/PrithivirajDamodaran/Parrot_Paraphraser.git\n",
            "  Cloning https://github.com/PrithivirajDamodaran/Parrot_Paraphraser.git to /tmp/pip-req-build-0ptr39gx\n",
            "  Running command git clone --filter=blob:none --quiet https://github.com/PrithivirajDamodaran/Parrot_Paraphraser.git /tmp/pip-req-build-0ptr39gx\n",
            "  Resolved https://github.com/PrithivirajDamodaran/Parrot_Paraphraser.git to commit 720a87a1ee557d8ed8d9a021adbdd1dd5616c5f9\n",
            "  Preparing metadata (setup.py) ... \u001b[?25l\u001b[?25hdone\n",
            "Requirement already satisfied: transformers in /usr/local/lib/python3.10/dist-packages (from parrot==1.0) (4.28.1)\n",
            "Requirement already satisfied: sentencepiece in /usr/local/lib/python3.10/dist-packages (from parrot==1.0) (0.1.99)\n",
            "Requirement already satisfied: python-Levenshtein in /usr/local/lib/python3.10/dist-packages (from parrot==1.0) (0.21.0)\n",
            "Requirement already satisfied: sentence-transformers in /usr/local/lib/python3.10/dist-packages (from parrot==1.0) (2.2.2)\n",
            "Requirement already satisfied: fuzzywuzzy in /usr/local/lib/python3.10/dist-packages (from parrot==1.0) (0.18.0)\n",
            "Requirement already satisfied: Levenshtein==0.21.0 in /usr/local/lib/python3.10/dist-packages (from python-Levenshtein->parrot==1.0) (0.21.0)\n",
            "Requirement already satisfied: rapidfuzz<4.0.0,>=2.3.0 in /usr/local/lib/python3.10/dist-packages (from Levenshtein==0.21.0->python-Levenshtein->parrot==1.0) (3.0.0)\n",
            "Requirement already satisfied: tqdm in /usr/local/lib/python3.10/dist-packages (from sentence-transformers->parrot==1.0) (4.65.0)\n",
            "Requirement already satisfied: huggingface-hub>=0.4.0 in /usr/local/lib/python3.10/dist-packages (from sentence-transformers->parrot==1.0) (0.14.1)\n",
            "Requirement already satisfied: scikit-learn in /usr/local/lib/python3.10/dist-packages (from sentence-transformers->parrot==1.0) (1.2.2)\n",
            "Requirement already satisfied: torchvision in /usr/local/lib/python3.10/dist-packages (from sentence-transformers->parrot==1.0) (0.15.1+cu118)\n",
            "Requirement already satisfied: numpy in /usr/local/lib/python3.10/dist-packages (from sentence-transformers->parrot==1.0) (1.24.3)\n",
            "Requirement already satisfied: nltk in /usr/local/lib/python3.10/dist-packages (from sentence-transformers->parrot==1.0) (3.8.1)\n",
            "Requirement already satisfied: scipy in /usr/local/lib/python3.10/dist-packages (from sentence-transformers->parrot==1.0) (1.10.1)\n",
            "Requirement already satisfied: torch>=1.6.0 in /usr/local/lib/python3.10/dist-packages (from sentence-transformers->parrot==1.0) (2.0.0+cu118)\n",
            "Requirement already satisfied: requests in /usr/local/lib/python3.10/dist-packages (from transformers->parrot==1.0) (2.27.1)\n",
            "Requirement already satisfied: regex!=2019.12.17 in /usr/local/lib/python3.10/dist-packages (from transformers->parrot==1.0) (2022.10.31)\n",
            "Requirement already satisfied: packaging>=20.0 in /usr/local/lib/python3.10/dist-packages (from transformers->parrot==1.0) (23.1)\n",
            "Requirement already satisfied: tokenizers!=0.11.3,<0.14,>=0.11.1 in /usr/local/lib/python3.10/dist-packages (from transformers->parrot==1.0) (0.13.3)\n",
            "Requirement already satisfied: pyyaml>=5.1 in /usr/local/lib/python3.10/dist-packages (from transformers->parrot==1.0) (6.0)\n",
            "Requirement already satisfied: filelock in /usr/local/lib/python3.10/dist-packages (from transformers->parrot==1.0) (3.12.0)\n",
            "Requirement already satisfied: fsspec in /usr/local/lib/python3.10/dist-packages (from huggingface-hub>=0.4.0->sentence-transformers->parrot==1.0) (2023.4.0)\n",
            "Requirement already satisfied: typing-extensions>=3.7.4.3 in /usr/local/lib/python3.10/dist-packages (from huggingface-hub>=0.4.0->sentence-transformers->parrot==1.0) (4.5.0)\n",
            "Requirement already satisfied: networkx in /usr/local/lib/python3.10/dist-packages (from torch>=1.6.0->sentence-transformers->parrot==1.0) (3.1)\n",
            "Requirement already satisfied: sympy in /usr/local/lib/python3.10/dist-packages (from torch>=1.6.0->sentence-transformers->parrot==1.0) (1.11.1)\n",
            "Requirement already satisfied: triton==2.0.0 in /usr/local/lib/python3.10/dist-packages (from torch>=1.6.0->sentence-transformers->parrot==1.0) (2.0.0)\n",
            "Requirement already satisfied: jinja2 in /usr/local/lib/python3.10/dist-packages (from torch>=1.6.0->sentence-transformers->parrot==1.0) (3.1.2)\n",
            "Requirement already satisfied: cmake in /usr/local/lib/python3.10/dist-packages (from triton==2.0.0->torch>=1.6.0->sentence-transformers->parrot==1.0) (3.25.2)\n",
            "Requirement already satisfied: lit in /usr/local/lib/python3.10/dist-packages (from triton==2.0.0->torch>=1.6.0->sentence-transformers->parrot==1.0) (16.0.2)\n",
            "Requirement already satisfied: click in /usr/local/lib/python3.10/dist-packages (from nltk->sentence-transformers->parrot==1.0) (8.1.3)\n",
            "Requirement already satisfied: joblib in /usr/local/lib/python3.10/dist-packages (from nltk->sentence-transformers->parrot==1.0) (1.2.0)\n",
            "Requirement already satisfied: charset-normalizer~=2.0.0 in /usr/local/lib/python3.10/dist-packages (from requests->transformers->parrot==1.0) (2.0.12)\n",
            "Requirement already satisfied: certifi>=2017.4.17 in /usr/local/lib/python3.10/dist-packages (from requests->transformers->parrot==1.0) (2022.12.7)\n",
            "Requirement already satisfied: urllib3<1.27,>=1.21.1 in /usr/local/lib/python3.10/dist-packages (from requests->transformers->parrot==1.0) (1.26.15)\n",
            "Requirement already satisfied: idna<4,>=2.5 in /usr/local/lib/python3.10/dist-packages (from requests->transformers->parrot==1.0) (3.4)\n",
            "Requirement already satisfied: threadpoolctl>=2.0.0 in /usr/local/lib/python3.10/dist-packages (from scikit-learn->sentence-transformers->parrot==1.0) (3.1.0)\n",
            "Requirement already satisfied: pillow!=8.3.*,>=5.3.0 in /usr/local/lib/python3.10/dist-packages (from torchvision->sentence-transformers->parrot==1.0) (8.4.0)\n",
            "Requirement already satisfied: MarkupSafe>=2.0 in /usr/local/lib/python3.10/dist-packages (from jinja2->torch>=1.6.0->sentence-transformers->parrot==1.0) (2.1.2)\n",
            "Requirement already satisfied: mpmath>=0.19 in /usr/local/lib/python3.10/dist-packages (from sympy->torch>=1.6.0->sentence-transformers->parrot==1.0) (1.3.0)\n"
          ]
        }
      ]
    },
    {
      "cell_type": "code",
      "source": [
        "from parrot import Parrot\n",
        "import torch\n",
        "import warnings\n",
        "warnings.filterwarnings(\"ignore\")\n",
        "\n",
        "''' \n",
        "uncomment to get reproducable paraphrase generations\n",
        "'''\n",
        "def random_state(seed):\n",
        "  torch.manual_seed(seed)\n",
        "  if torch.cuda.is_available():\n",
        "    torch.cuda.manual_seed_all(seed)\n",
        "\n",
        "random_state(1234)\n"
      ],
      "metadata": {
        "id": "c_CijebJfu_k"
      },
      "execution_count": null,
      "outputs": []
    },
    {
      "cell_type": "code",
      "source": [
        "parrot = Parrot(model_tag=\"prithivida/parrot_paraphraser_on_T5\", use_gpu=False)"
      ],
      "metadata": {
        "id": "Cd1ljYpffz_z"
      },
      "execution_count": null,
      "outputs": []
    },
    {
      "cell_type": "code",
      "source": [
        "phrases = [\"Who is the author of the book arabian nights?\",\n",
        "           \"What are the major cities in France?\",\n",
        "           \"Where is the world's largest ice sheet located today?\",\n",
        "           \"where is blood pumped after it leaves the right ventricle?\",\n",
        "           \"when are hops added to the brewing process?\",\n",
        "           \"what does the word china mean in chinese?\",\n",
        "           \"who lives in the imperial palace in tokyo?\",\n",
        "           \"where does the last name hogan come from?\",\n",
        "           \"how many episodes in season 2 breaking bad?\",\n",
        "           \"where is the bowling hall of fame located?\",\n",
        "           \"who played will on as the world turns?\",\n",
        "           \"who won the election for mayor of cleveland?\",\n",
        "           \"meaning of the cats in the cradle song?\",\n",
        "           \"where do dust storms occur in the US?\",\n",
        "           \"who is the voice of tony the tiger?\"\n",
        "]\n",
        "\n",
        "#\"Who is the author of the book arabian nights?\",\n",
        "#           \"What are the major cities in France?\",\n",
        "#           \"Where is the world's largest ice sheet located today?\""
      ],
      "metadata": {
        "id": "McODIjAKf4y8"
      },
      "execution_count": null,
      "outputs": []
    },
    {
      "cell_type": "code",
      "source": [
        "for phrase in phrases:\n",
        "  print(\"-\"*100)\n",
        "  print(\"Input_phrase: \", phrase)\n",
        "  print(\"-\"*100)\n",
        "  para_phrases = parrot.augment(input_phrase=phrase, \n",
        "                               diversity_ranker=\"levenshtein\",\n",
        "                               do_diverse=False,             #How much has the paraphrase changed the original sentence?\n",
        "                               max_return_phrases = 10, \n",
        "                               max_length=60, \n",
        "                               adequacy_threshold = 0.60,    #Is the meaning preserved adequately?\n",
        "                               fluency_threshold = 0.85)     #Is the paraphrase fluent English?\n",
        "  for para_phrase in para_phrases:\n",
        "    print(para_phrase)"
      ],
      "metadata": {
        "colab": {
          "base_uri": "https://localhost:8080/"
        },
        "id": "HnCaGfcvgK40",
        "outputId": "5dea401f-3a40-409a-db30-13e5524f7bec"
      },
      "execution_count": null,
      "outputs": [
        {
          "output_type": "stream",
          "name": "stdout",
          "text": [
            "----------------------------------------------------------------------------------------------------\n",
            "Input_phrase:  Who is the author of the book arabian nights?\n",
            "----------------------------------------------------------------------------------------------------\n",
            "('who wrote arabian nights?', 33)\n",
            "('who wrote the book arab nights?', 29)\n",
            "('who wrote the book the arab nights?', 29)\n",
            "('who wrote the book arabian nights?', 26)\n",
            "('who is the author of bookarabian night?', 18)\n",
            "----------------------------------------------------------------------------------------------------\n",
            "Input_phrase:  What are the major cities in France?\n",
            "----------------------------------------------------------------------------------------------------\n",
            "('tell me the major city of france?', 22)\n",
            "('show the main cities in france?', 21)\n",
            "('what is the major city in france?', 18)\n",
            "('which are the major cities in france?', 14)\n",
            "----------------------------------------------------------------------------------------------------\n",
            "Input_phrase:  Where is the world's largest ice sheet located today?\n",
            "----------------------------------------------------------------------------------------------------\n",
            "('tell me the largest ice sheet in the world?', 36)\n",
            "('where is the biggest ice sheet on earth?', 33)\n",
            "('where is the largest ice sheet in the world?', 30)\n",
            "(\"where is the world's largest ice sheet?\", 26)\n",
            "('where is the worlds biggest ice sheet located today?', 16)\n",
            "----------------------------------------------------------------------------------------------------\n",
            "Input_phrase:  where is blood pumped after it leaves the right ventricle?\n",
            "----------------------------------------------------------------------------------------------------\n",
            "('when the blood exits the right ventricle what happens?', 46)\n",
            "('where is the blood left when it exits a right ventricle?', 33)\n",
            "('where does blood escape from the right ventricle?', 33)\n",
            "('where does blood end up once it leaves the ventricle?', 31)\n",
            "('where does the blood travel after it leaves the ventricle?', 27)\n",
            "('where is the blood pumped after it left the right ventricle?', 20)\n",
            "('where is blood pumped after it exits the right ventricle?', 16)\n",
            "----------------------------------------------------------------------------------------------------\n",
            "Input_phrase:  when are hops added to the brewing process?\n",
            "----------------------------------------------------------------------------------------------------\n",
            "('when does hops get added to brewing?', 31)\n",
            "('when are hops added to beer?', 28)\n",
            "('when is the added hop in the brewing process?', 24)\n",
            "('when are hops added to brewing?', 24)\n",
            "('when will hops be added in the brewing process?', 21)\n",
            "('when is a hop added to the brewing process?', 16)\n",
            "('when are hops added to the brewing process?', 12)\n",
            "----------------------------------------------------------------------------------------------------\n",
            "Input_phrase:  what does the word china mean in chinese?\n",
            "----------------------------------------------------------------------------------------------------\n",
            "('what does a china in chinese means?', 31)\n",
            "('what does china in chinese mean?', 31)\n",
            "('what does the chinese word chinese mean?', 30)\n",
            "('what does the word china in chinese mean?', 22)\n",
            "(\"what does the word 'china' mean in chinese?\", 14)\n",
            "('what does the word china mean in chinese?', 12)\n",
            "----------------------------------------------------------------------------------------------------\n",
            "Input_phrase:  who lives in the imperial palace in tokyo?\n",
            "----------------------------------------------------------------------------------------------------\n",
            "('who lives in tokyo imperial palace?', 25)\n",
            "('who lives at the imperial palace in tokyo?', 14)\n",
            "('who lives in the imperial palace of tokyo?', 14)\n",
            "('who lives in the imperial palace in tokyo?', 12)\n",
            "----------------------------------------------------------------------------------------------------\n",
            "Input_phrase:  where does the last name hogan come from?\n",
            "----------------------------------------------------------------------------------------------------\n",
            "('how did the hogan name come to be?', 34)\n",
            "('how did the hogan name come about?', 33)\n",
            "(\"and where do you get hogan's name?\", 32)\n",
            "('where does the last name hogan originate from?', 20)\n",
            "('where did the last name hogan come from?', 15)\n",
            "('and where does the name hogan come from?', 15)\n",
            "----------------------------------------------------------------------------------------------------\n",
            "Input_phrase:  how many episodes in season 2 breaking bad?\n",
            "----------------------------------------------------------------------------------------------------\n",
            "('how many episodes do you remember from the last season of breaking bad?', 40)\n",
            "('how many episodes of breaking bad are there?', 31)\n",
            "('how many episodes in breaking bad season 2?', 28)\n",
            "('how many episodes in season 2 of breaking bad?', 15)\n",
            "('how many episodes of season 2 breaking bad?', 14)\n",
            "('how many episodes in season 2 breaking bad?', 12)\n",
            "----------------------------------------------------------------------------------------------------\n",
            "Input_phrase:  where is the bowling hall of fame located?\n",
            "----------------------------------------------------------------------------------------------------\n",
            "('where is the bowling hall of fame?', 20)\n",
            "('where is the bowling hall of fame located?', 12)\n",
            "----------------------------------------------------------------------------------------------------\n",
            "Input_phrase:  who played will on as the world turns?\n",
            "----------------------------------------------------------------------------------------------------\n",
            "('how do you play as the world turns?', 23)\n",
            "('who played the will when the world turns?', 21)\n",
            "----------------------------------------------------------------------------------------------------\n",
            "Input_phrase:  who won the election for mayor of cleveland?\n",
            "----------------------------------------------------------------------------------------------------\n",
            "('who was elected cleveland mayor?', 40)\n",
            "(\"who won the cleveland mayor's election?\", 30)\n",
            "('who won the election of the new mayor?', 30)\n",
            "----------------------------------------------------------------------------------------------------\n",
            "Input_phrase:  meaning of the cats in the cradle song?\n",
            "----------------------------------------------------------------------------------------------------\n",
            "('what does the cat in the cradle song mean?', 25)\n",
            "('what does the cat mean in the cradle song?', 24)\n",
            "(\"what is the cat's role in the cradle song?\", 24)\n",
            "('what is the meaning of a cat in the cradle song?', 14)\n",
            "(\"what's the meaning of cats in the cradle song?\", 14)\n",
            "----------------------------------------------------------------------------------------------------\n",
            "Input_phrase:  where do dust storms occur in the US?\n",
            "----------------------------------------------------------------------------------------------------\n",
            "('do dust storms occur in the us?', 18)\n",
            "('where do dust storms occur in the us?', 12)\n",
            "----------------------------------------------------------------------------------------------------\n",
            "Input_phrase:  who is the voice of tony the tiger?\n",
            "----------------------------------------------------------------------------------------------------\n",
            "(\"who's the voice of the tiger?\", 19)\n",
            "('who is the voice of the tiger?', 17)\n"
          ]
        }
      ]
    }
  ]
}