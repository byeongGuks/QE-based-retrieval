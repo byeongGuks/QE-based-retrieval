{
 "cells": [
  {
   "cell_type": "code",
   "execution_count": null,
   "metadata": {},
   "outputs": [],
   "source": [
    "cd DPR"
   ]
  },
  {
   "attachments": {},
   "cell_type": "markdown",
   "metadata": {},
   "source": [
    "This repo is currently modified to inference on CPU environment. To implement on GPU, must edit some files from current repository. (Original DPR repo is based on GPU implementation.)\n",
    "\n",
    "1. In file `DPR/conf/dense_retriever.yaml`, change `no_cuda` to `False`.\n",
    "2. Edit `DPR/dense_retriever.py` to add `.cuda()` to lines 83 and 84 with variables `q_ids_batch` and `q_seg_batch`. "
   ]
  },
  {
   "cell_type": "code",
   "execution_count": null,
   "metadata": {},
   "outputs": [],
   "source": [
    "python dpr/data/download_data.py --resource data.wikipedia_split.psgs_w100\n",
    "python dpr/data/download_data.py --resource data.retriever.nq\n",
    "python dpr/data/download_data.py --resource data.retriever.qas.nq\n",
    "python dpr/data/download_data.py --resource checkpoint.retriever.single.nq.bert-base-encoder"
   ]
  },
  {
   "cell_type": "code",
   "execution_count": null,
   "metadata": {},
   "outputs": [],
   "source": [
    "!python dense_retriever.py \\\n",
    "\tmodel_file='DPR/downloads/checkpoint/retriever/single/nq/bert-base-encoder.cp' \\\n",
    "\tqa_dataset=nq_test \\\n",
    "\tout_file='./result/'\n",
    "\t# ctx_datatsets=[dpr_wiki] \\\n",
    "\t# encoded_ctx_files=[{list of encoded document files glob expression, comma separated without spaces}] \\"
   ]
  },
  {
   "cell_type": "code",
   "execution_count": null,
   "metadata": {},
   "outputs": [],
   "source": [
    "# resolving OSError: [E050] Can't find model 'en_core_web_sm'.\n",
    "# !conda install -c conda-forge spacy -y\n",
    "# !python -m spacy download en_core_web_sm"
   ]
  }
 ],
 "metadata": {
  "kernelspec": {
   "display_name": "dpr",
   "language": "python",
   "name": "python3"
  },
  "language_info": {
   "codemirror_mode": {
    "name": "ipython",
    "version": 3
   },
   "file_extension": ".py",
   "mimetype": "text/x-python",
   "name": "python",
   "nbconvert_exporter": "python",
   "pygments_lexer": "ipython3",
   "version": "3.8.16"
  },
  "orig_nbformat": 4
 },
 "nbformat": 4,
 "nbformat_minor": 2
}
