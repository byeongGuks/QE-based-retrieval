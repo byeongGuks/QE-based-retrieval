{
  "nbformat": 4,
  "nbformat_minor": 0,
  "metadata": {
    "colab": {
      "provenance": [],
      "machine_shape": "hm",
      "gpuType": "T4"
    },
    "kernelspec": {
      "name": "python3",
      "display_name": "Python 3"
    },
    "language_info": {
      "name": "python"
    },
    "widgets": {
      "application/vnd.jupyter.widget-state+json": {
        "3671f446842c451c852cc4a7b557bab5": {
          "model_module": "@jupyter-widgets/controls",
          "model_name": "HBoxModel",
          "model_module_version": "1.5.0",
          "state": {
            "_dom_classes": [],
            "_model_module": "@jupyter-widgets/controls",
            "_model_module_version": "1.5.0",
            "_model_name": "HBoxModel",
            "_view_count": null,
            "_view_module": "@jupyter-widgets/controls",
            "_view_module_version": "1.5.0",
            "_view_name": "HBoxView",
            "box_style": "",
            "children": [
              "IPY_MODEL_e08d62625f64467aa3f1ba249ff38b20",
              "IPY_MODEL_5112586d7e4c4febb971db03a2d8d1a5",
              "IPY_MODEL_dc447e0c7bb14c9689faa411b7fef4d7"
            ],
            "layout": "IPY_MODEL_482d216e3cc0415092f26e36c2ace01d"
          }
        },
        "e08d62625f64467aa3f1ba249ff38b20": {
          "model_module": "@jupyter-widgets/controls",
          "model_name": "HTMLModel",
          "model_module_version": "1.5.0",
          "state": {
            "_dom_classes": [],
            "_model_module": "@jupyter-widgets/controls",
            "_model_module_version": "1.5.0",
            "_model_name": "HTMLModel",
            "_view_count": null,
            "_view_module": "@jupyter-widgets/controls",
            "_view_module_version": "1.5.0",
            "_view_name": "HTMLView",
            "description": "",
            "description_tooltip": null,
            "layout": "IPY_MODEL_da1e44ce22f44eff9396cb65ef70c343",
            "placeholder": "​",
            "style": "IPY_MODEL_93640662f16f41e299c06196361e2d7c",
            "value": "Downloading (…)lve/main/config.json: 100%"
          }
        },
        "5112586d7e4c4febb971db03a2d8d1a5": {
          "model_module": "@jupyter-widgets/controls",
          "model_name": "FloatProgressModel",
          "model_module_version": "1.5.0",
          "state": {
            "_dom_classes": [],
            "_model_module": "@jupyter-widgets/controls",
            "_model_module_version": "1.5.0",
            "_model_name": "FloatProgressModel",
            "_view_count": null,
            "_view_module": "@jupyter-widgets/controls",
            "_view_module_version": "1.5.0",
            "_view_name": "ProgressView",
            "bar_style": "success",
            "description": "",
            "description_tooltip": null,
            "layout": "IPY_MODEL_05dbf297840645d48cf3caced618d30f",
            "max": 1209,
            "min": 0,
            "orientation": "horizontal",
            "style": "IPY_MODEL_b18b0e51601b4104aac054c336600df6",
            "value": 1209
          }
        },
        "dc447e0c7bb14c9689faa411b7fef4d7": {
          "model_module": "@jupyter-widgets/controls",
          "model_name": "HTMLModel",
          "model_module_version": "1.5.0",
          "state": {
            "_dom_classes": [],
            "_model_module": "@jupyter-widgets/controls",
            "_model_module_version": "1.5.0",
            "_model_name": "HTMLModel",
            "_view_count": null,
            "_view_module": "@jupyter-widgets/controls",
            "_view_module_version": "1.5.0",
            "_view_name": "HTMLView",
            "description": "",
            "description_tooltip": null,
            "layout": "IPY_MODEL_5c15455a968d437e9b4b9a1d2013e634",
            "placeholder": "​",
            "style": "IPY_MODEL_eba52b4f1491499c84ad57948ae86654",
            "value": " 1.21k/1.21k [00:00&lt;00:00, 46.4kB/s]"
          }
        },
        "482d216e3cc0415092f26e36c2ace01d": {
          "model_module": "@jupyter-widgets/base",
          "model_name": "LayoutModel",
          "model_module_version": "1.2.0",
          "state": {
            "_model_module": "@jupyter-widgets/base",
            "_model_module_version": "1.2.0",
            "_model_name": "LayoutModel",
            "_view_count": null,
            "_view_module": "@jupyter-widgets/base",
            "_view_module_version": "1.2.0",
            "_view_name": "LayoutView",
            "align_content": null,
            "align_items": null,
            "align_self": null,
            "border": null,
            "bottom": null,
            "display": null,
            "flex": null,
            "flex_flow": null,
            "grid_area": null,
            "grid_auto_columns": null,
            "grid_auto_flow": null,
            "grid_auto_rows": null,
            "grid_column": null,
            "grid_gap": null,
            "grid_row": null,
            "grid_template_areas": null,
            "grid_template_columns": null,
            "grid_template_rows": null,
            "height": null,
            "justify_content": null,
            "justify_items": null,
            "left": null,
            "margin": null,
            "max_height": null,
            "max_width": null,
            "min_height": null,
            "min_width": null,
            "object_fit": null,
            "object_position": null,
            "order": null,
            "overflow": null,
            "overflow_x": null,
            "overflow_y": null,
            "padding": null,
            "right": null,
            "top": null,
            "visibility": null,
            "width": null
          }
        },
        "da1e44ce22f44eff9396cb65ef70c343": {
          "model_module": "@jupyter-widgets/base",
          "model_name": "LayoutModel",
          "model_module_version": "1.2.0",
          "state": {
            "_model_module": "@jupyter-widgets/base",
            "_model_module_version": "1.2.0",
            "_model_name": "LayoutModel",
            "_view_count": null,
            "_view_module": "@jupyter-widgets/base",
            "_view_module_version": "1.2.0",
            "_view_name": "LayoutView",
            "align_content": null,
            "align_items": null,
            "align_self": null,
            "border": null,
            "bottom": null,
            "display": null,
            "flex": null,
            "flex_flow": null,
            "grid_area": null,
            "grid_auto_columns": null,
            "grid_auto_flow": null,
            "grid_auto_rows": null,
            "grid_column": null,
            "grid_gap": null,
            "grid_row": null,
            "grid_template_areas": null,
            "grid_template_columns": null,
            "grid_template_rows": null,
            "height": null,
            "justify_content": null,
            "justify_items": null,
            "left": null,
            "margin": null,
            "max_height": null,
            "max_width": null,
            "min_height": null,
            "min_width": null,
            "object_fit": null,
            "object_position": null,
            "order": null,
            "overflow": null,
            "overflow_x": null,
            "overflow_y": null,
            "padding": null,
            "right": null,
            "top": null,
            "visibility": null,
            "width": null
          }
        },
        "93640662f16f41e299c06196361e2d7c": {
          "model_module": "@jupyter-widgets/controls",
          "model_name": "DescriptionStyleModel",
          "model_module_version": "1.5.0",
          "state": {
            "_model_module": "@jupyter-widgets/controls",
            "_model_module_version": "1.5.0",
            "_model_name": "DescriptionStyleModel",
            "_view_count": null,
            "_view_module": "@jupyter-widgets/base",
            "_view_module_version": "1.2.0",
            "_view_name": "StyleView",
            "description_width": ""
          }
        },
        "05dbf297840645d48cf3caced618d30f": {
          "model_module": "@jupyter-widgets/base",
          "model_name": "LayoutModel",
          "model_module_version": "1.2.0",
          "state": {
            "_model_module": "@jupyter-widgets/base",
            "_model_module_version": "1.2.0",
            "_model_name": "LayoutModel",
            "_view_count": null,
            "_view_module": "@jupyter-widgets/base",
            "_view_module_version": "1.2.0",
            "_view_name": "LayoutView",
            "align_content": null,
            "align_items": null,
            "align_self": null,
            "border": null,
            "bottom": null,
            "display": null,
            "flex": null,
            "flex_flow": null,
            "grid_area": null,
            "grid_auto_columns": null,
            "grid_auto_flow": null,
            "grid_auto_rows": null,
            "grid_column": null,
            "grid_gap": null,
            "grid_row": null,
            "grid_template_areas": null,
            "grid_template_columns": null,
            "grid_template_rows": null,
            "height": null,
            "justify_content": null,
            "justify_items": null,
            "left": null,
            "margin": null,
            "max_height": null,
            "max_width": null,
            "min_height": null,
            "min_width": null,
            "object_fit": null,
            "object_position": null,
            "order": null,
            "overflow": null,
            "overflow_x": null,
            "overflow_y": null,
            "padding": null,
            "right": null,
            "top": null,
            "visibility": null,
            "width": null
          }
        },
        "b18b0e51601b4104aac054c336600df6": {
          "model_module": "@jupyter-widgets/controls",
          "model_name": "ProgressStyleModel",
          "model_module_version": "1.5.0",
          "state": {
            "_model_module": "@jupyter-widgets/controls",
            "_model_module_version": "1.5.0",
            "_model_name": "ProgressStyleModel",
            "_view_count": null,
            "_view_module": "@jupyter-widgets/base",
            "_view_module_version": "1.2.0",
            "_view_name": "StyleView",
            "bar_color": null,
            "description_width": ""
          }
        },
        "5c15455a968d437e9b4b9a1d2013e634": {
          "model_module": "@jupyter-widgets/base",
          "model_name": "LayoutModel",
          "model_module_version": "1.2.0",
          "state": {
            "_model_module": "@jupyter-widgets/base",
            "_model_module_version": "1.2.0",
            "_model_name": "LayoutModel",
            "_view_count": null,
            "_view_module": "@jupyter-widgets/base",
            "_view_module_version": "1.2.0",
            "_view_name": "LayoutView",
            "align_content": null,
            "align_items": null,
            "align_self": null,
            "border": null,
            "bottom": null,
            "display": null,
            "flex": null,
            "flex_flow": null,
            "grid_area": null,
            "grid_auto_columns": null,
            "grid_auto_flow": null,
            "grid_auto_rows": null,
            "grid_column": null,
            "grid_gap": null,
            "grid_row": null,
            "grid_template_areas": null,
            "grid_template_columns": null,
            "grid_template_rows": null,
            "height": null,
            "justify_content": null,
            "justify_items": null,
            "left": null,
            "margin": null,
            "max_height": null,
            "max_width": null,
            "min_height": null,
            "min_width": null,
            "object_fit": null,
            "object_position": null,
            "order": null,
            "overflow": null,
            "overflow_x": null,
            "overflow_y": null,
            "padding": null,
            "right": null,
            "top": null,
            "visibility": null,
            "width": null
          }
        },
        "eba52b4f1491499c84ad57948ae86654": {
          "model_module": "@jupyter-widgets/controls",
          "model_name": "DescriptionStyleModel",
          "model_module_version": "1.5.0",
          "state": {
            "_model_module": "@jupyter-widgets/controls",
            "_model_module_version": "1.5.0",
            "_model_name": "DescriptionStyleModel",
            "_view_count": null,
            "_view_module": "@jupyter-widgets/base",
            "_view_module_version": "1.2.0",
            "_view_name": "StyleView",
            "description_width": ""
          }
        },
        "b6352e4d156b4fc9b8c2d6b6f90e81e5": {
          "model_module": "@jupyter-widgets/controls",
          "model_name": "HBoxModel",
          "model_module_version": "1.5.0",
          "state": {
            "_dom_classes": [],
            "_model_module": "@jupyter-widgets/controls",
            "_model_module_version": "1.5.0",
            "_model_name": "HBoxModel",
            "_view_count": null,
            "_view_module": "@jupyter-widgets/controls",
            "_view_module_version": "1.5.0",
            "_view_name": "HBoxView",
            "box_style": "",
            "children": [
              "IPY_MODEL_1d5b2d926b074e4cb8f4468524496928",
              "IPY_MODEL_e3f18604296f4ab78719dff3eb70b65c",
              "IPY_MODEL_348f22105baa4ba0bccd9039ee11b662"
            ],
            "layout": "IPY_MODEL_85894505672b4342aba8bcaa5273bad4"
          }
        },
        "1d5b2d926b074e4cb8f4468524496928": {
          "model_module": "@jupyter-widgets/controls",
          "model_name": "HTMLModel",
          "model_module_version": "1.5.0",
          "state": {
            "_dom_classes": [],
            "_model_module": "@jupyter-widgets/controls",
            "_model_module_version": "1.5.0",
            "_model_name": "HTMLModel",
            "_view_count": null,
            "_view_module": "@jupyter-widgets/controls",
            "_view_module_version": "1.5.0",
            "_view_name": "HTMLView",
            "description": "",
            "description_tooltip": null,
            "layout": "IPY_MODEL_3afc227170164ff1a2692d3ea374f0b1",
            "placeholder": "​",
            "style": "IPY_MODEL_a1fd264f2f334be991dd9f1113764ecd",
            "value": "Downloading (…)ve/main/spiece.model: 100%"
          }
        },
        "e3f18604296f4ab78719dff3eb70b65c": {
          "model_module": "@jupyter-widgets/controls",
          "model_name": "FloatProgressModel",
          "model_module_version": "1.5.0",
          "state": {
            "_dom_classes": [],
            "_model_module": "@jupyter-widgets/controls",
            "_model_module_version": "1.5.0",
            "_model_name": "FloatProgressModel",
            "_view_count": null,
            "_view_module": "@jupyter-widgets/controls",
            "_view_module_version": "1.5.0",
            "_view_name": "ProgressView",
            "bar_style": "success",
            "description": "",
            "description_tooltip": null,
            "layout": "IPY_MODEL_f730347226924909b2aa15fc8bf46cb8",
            "max": 791656,
            "min": 0,
            "orientation": "horizontal",
            "style": "IPY_MODEL_e01ccc6e098645c295a9056a4d2664b7",
            "value": 791656
          }
        },
        "348f22105baa4ba0bccd9039ee11b662": {
          "model_module": "@jupyter-widgets/controls",
          "model_name": "HTMLModel",
          "model_module_version": "1.5.0",
          "state": {
            "_dom_classes": [],
            "_model_module": "@jupyter-widgets/controls",
            "_model_module_version": "1.5.0",
            "_model_name": "HTMLModel",
            "_view_count": null,
            "_view_module": "@jupyter-widgets/controls",
            "_view_module_version": "1.5.0",
            "_view_name": "HTMLView",
            "description": "",
            "description_tooltip": null,
            "layout": "IPY_MODEL_c7e863099ca64eb6b47d5a6c36e8b3a8",
            "placeholder": "​",
            "style": "IPY_MODEL_b6b4b4364b2c466a8b90a047e89b9828",
            "value": " 792k/792k [00:00&lt;00:00, 6.55MB/s]"
          }
        },
        "85894505672b4342aba8bcaa5273bad4": {
          "model_module": "@jupyter-widgets/base",
          "model_name": "LayoutModel",
          "model_module_version": "1.2.0",
          "state": {
            "_model_module": "@jupyter-widgets/base",
            "_model_module_version": "1.2.0",
            "_model_name": "LayoutModel",
            "_view_count": null,
            "_view_module": "@jupyter-widgets/base",
            "_view_module_version": "1.2.0",
            "_view_name": "LayoutView",
            "align_content": null,
            "align_items": null,
            "align_self": null,
            "border": null,
            "bottom": null,
            "display": null,
            "flex": null,
            "flex_flow": null,
            "grid_area": null,
            "grid_auto_columns": null,
            "grid_auto_flow": null,
            "grid_auto_rows": null,
            "grid_column": null,
            "grid_gap": null,
            "grid_row": null,
            "grid_template_areas": null,
            "grid_template_columns": null,
            "grid_template_rows": null,
            "height": null,
            "justify_content": null,
            "justify_items": null,
            "left": null,
            "margin": null,
            "max_height": null,
            "max_width": null,
            "min_height": null,
            "min_width": null,
            "object_fit": null,
            "object_position": null,
            "order": null,
            "overflow": null,
            "overflow_x": null,
            "overflow_y": null,
            "padding": null,
            "right": null,
            "top": null,
            "visibility": null,
            "width": null
          }
        },
        "3afc227170164ff1a2692d3ea374f0b1": {
          "model_module": "@jupyter-widgets/base",
          "model_name": "LayoutModel",
          "model_module_version": "1.2.0",
          "state": {
            "_model_module": "@jupyter-widgets/base",
            "_model_module_version": "1.2.0",
            "_model_name": "LayoutModel",
            "_view_count": null,
            "_view_module": "@jupyter-widgets/base",
            "_view_module_version": "1.2.0",
            "_view_name": "LayoutView",
            "align_content": null,
            "align_items": null,
            "align_self": null,
            "border": null,
            "bottom": null,
            "display": null,
            "flex": null,
            "flex_flow": null,
            "grid_area": null,
            "grid_auto_columns": null,
            "grid_auto_flow": null,
            "grid_auto_rows": null,
            "grid_column": null,
            "grid_gap": null,
            "grid_row": null,
            "grid_template_areas": null,
            "grid_template_columns": null,
            "grid_template_rows": null,
            "height": null,
            "justify_content": null,
            "justify_items": null,
            "left": null,
            "margin": null,
            "max_height": null,
            "max_width": null,
            "min_height": null,
            "min_width": null,
            "object_fit": null,
            "object_position": null,
            "order": null,
            "overflow": null,
            "overflow_x": null,
            "overflow_y": null,
            "padding": null,
            "right": null,
            "top": null,
            "visibility": null,
            "width": null
          }
        },
        "a1fd264f2f334be991dd9f1113764ecd": {
          "model_module": "@jupyter-widgets/controls",
          "model_name": "DescriptionStyleModel",
          "model_module_version": "1.5.0",
          "state": {
            "_model_module": "@jupyter-widgets/controls",
            "_model_module_version": "1.5.0",
            "_model_name": "DescriptionStyleModel",
            "_view_count": null,
            "_view_module": "@jupyter-widgets/base",
            "_view_module_version": "1.2.0",
            "_view_name": "StyleView",
            "description_width": ""
          }
        },
        "f730347226924909b2aa15fc8bf46cb8": {
          "model_module": "@jupyter-widgets/base",
          "model_name": "LayoutModel",
          "model_module_version": "1.2.0",
          "state": {
            "_model_module": "@jupyter-widgets/base",
            "_model_module_version": "1.2.0",
            "_model_name": "LayoutModel",
            "_view_count": null,
            "_view_module": "@jupyter-widgets/base",
            "_view_module_version": "1.2.0",
            "_view_name": "LayoutView",
            "align_content": null,
            "align_items": null,
            "align_self": null,
            "border": null,
            "bottom": null,
            "display": null,
            "flex": null,
            "flex_flow": null,
            "grid_area": null,
            "grid_auto_columns": null,
            "grid_auto_flow": null,
            "grid_auto_rows": null,
            "grid_column": null,
            "grid_gap": null,
            "grid_row": null,
            "grid_template_areas": null,
            "grid_template_columns": null,
            "grid_template_rows": null,
            "height": null,
            "justify_content": null,
            "justify_items": null,
            "left": null,
            "margin": null,
            "max_height": null,
            "max_width": null,
            "min_height": null,
            "min_width": null,
            "object_fit": null,
            "object_position": null,
            "order": null,
            "overflow": null,
            "overflow_x": null,
            "overflow_y": null,
            "padding": null,
            "right": null,
            "top": null,
            "visibility": null,
            "width": null
          }
        },
        "e01ccc6e098645c295a9056a4d2664b7": {
          "model_module": "@jupyter-widgets/controls",
          "model_name": "ProgressStyleModel",
          "model_module_version": "1.5.0",
          "state": {
            "_model_module": "@jupyter-widgets/controls",
            "_model_module_version": "1.5.0",
            "_model_name": "ProgressStyleModel",
            "_view_count": null,
            "_view_module": "@jupyter-widgets/base",
            "_view_module_version": "1.2.0",
            "_view_name": "StyleView",
            "bar_color": null,
            "description_width": ""
          }
        },
        "c7e863099ca64eb6b47d5a6c36e8b3a8": {
          "model_module": "@jupyter-widgets/base",
          "model_name": "LayoutModel",
          "model_module_version": "1.2.0",
          "state": {
            "_model_module": "@jupyter-widgets/base",
            "_model_module_version": "1.2.0",
            "_model_name": "LayoutModel",
            "_view_count": null,
            "_view_module": "@jupyter-widgets/base",
            "_view_module_version": "1.2.0",
            "_view_name": "LayoutView",
            "align_content": null,
            "align_items": null,
            "align_self": null,
            "border": null,
            "bottom": null,
            "display": null,
            "flex": null,
            "flex_flow": null,
            "grid_area": null,
            "grid_auto_columns": null,
            "grid_auto_flow": null,
            "grid_auto_rows": null,
            "grid_column": null,
            "grid_gap": null,
            "grid_row": null,
            "grid_template_areas": null,
            "grid_template_columns": null,
            "grid_template_rows": null,
            "height": null,
            "justify_content": null,
            "justify_items": null,
            "left": null,
            "margin": null,
            "max_height": null,
            "max_width": null,
            "min_height": null,
            "min_width": null,
            "object_fit": null,
            "object_position": null,
            "order": null,
            "overflow": null,
            "overflow_x": null,
            "overflow_y": null,
            "padding": null,
            "right": null,
            "top": null,
            "visibility": null,
            "width": null
          }
        },
        "b6b4b4364b2c466a8b90a047e89b9828": {
          "model_module": "@jupyter-widgets/controls",
          "model_name": "DescriptionStyleModel",
          "model_module_version": "1.5.0",
          "state": {
            "_model_module": "@jupyter-widgets/controls",
            "_model_module_version": "1.5.0",
            "_model_name": "DescriptionStyleModel",
            "_view_count": null,
            "_view_module": "@jupyter-widgets/base",
            "_view_module_version": "1.2.0",
            "_view_name": "StyleView",
            "description_width": ""
          }
        },
        "d2a6944ae0e047498a14dc8a0b17c7c4": {
          "model_module": "@jupyter-widgets/controls",
          "model_name": "HBoxModel",
          "model_module_version": "1.5.0",
          "state": {
            "_dom_classes": [],
            "_model_module": "@jupyter-widgets/controls",
            "_model_module_version": "1.5.0",
            "_model_name": "HBoxModel",
            "_view_count": null,
            "_view_module": "@jupyter-widgets/controls",
            "_view_module_version": "1.5.0",
            "_view_name": "HBoxView",
            "box_style": "",
            "children": [
              "IPY_MODEL_0242239d1da94be8a929a1c522dd54d1",
              "IPY_MODEL_c8a176f12b8041f69b2f80ff3fb8003c",
              "IPY_MODEL_252633cd7fda4a848f9050dda7332cf3"
            ],
            "layout": "IPY_MODEL_49c3b4552347475b9723201d7e072922"
          }
        },
        "0242239d1da94be8a929a1c522dd54d1": {
          "model_module": "@jupyter-widgets/controls",
          "model_name": "HTMLModel",
          "model_module_version": "1.5.0",
          "state": {
            "_dom_classes": [],
            "_model_module": "@jupyter-widgets/controls",
            "_model_module_version": "1.5.0",
            "_model_name": "HTMLModel",
            "_view_count": null,
            "_view_module": "@jupyter-widgets/controls",
            "_view_module_version": "1.5.0",
            "_view_name": "HTMLView",
            "description": "",
            "description_tooltip": null,
            "layout": "IPY_MODEL_977bba07368a498aadc125c58714079a",
            "placeholder": "​",
            "style": "IPY_MODEL_6c67311b82b54c658c0b9d2c6024f115",
            "value": "Downloading (…)/main/tokenizer.json: 100%"
          }
        },
        "c8a176f12b8041f69b2f80ff3fb8003c": {
          "model_module": "@jupyter-widgets/controls",
          "model_name": "FloatProgressModel",
          "model_module_version": "1.5.0",
          "state": {
            "_dom_classes": [],
            "_model_module": "@jupyter-widgets/controls",
            "_model_module_version": "1.5.0",
            "_model_name": "FloatProgressModel",
            "_view_count": null,
            "_view_module": "@jupyter-widgets/controls",
            "_view_module_version": "1.5.0",
            "_view_name": "ProgressView",
            "bar_style": "success",
            "description": "",
            "description_tooltip": null,
            "layout": "IPY_MODEL_7d652c7d56ed4a2d99a828f79f13bcf9",
            "max": 1389353,
            "min": 0,
            "orientation": "horizontal",
            "style": "IPY_MODEL_de15e55a165d47ccb94a39046131bc4a",
            "value": 1389353
          }
        },
        "252633cd7fda4a848f9050dda7332cf3": {
          "model_module": "@jupyter-widgets/controls",
          "model_name": "HTMLModel",
          "model_module_version": "1.5.0",
          "state": {
            "_dom_classes": [],
            "_model_module": "@jupyter-widgets/controls",
            "_model_module_version": "1.5.0",
            "_model_name": "HTMLModel",
            "_view_count": null,
            "_view_module": "@jupyter-widgets/controls",
            "_view_module_version": "1.5.0",
            "_view_name": "HTMLView",
            "description": "",
            "description_tooltip": null,
            "layout": "IPY_MODEL_8cce5d4e8ac447aeb6ea1ddebd16383c",
            "placeholder": "​",
            "style": "IPY_MODEL_0c4ab75abb18491fa9f91ce98ebc9087",
            "value": " 1.39M/1.39M [00:00&lt;00:00, 33.7MB/s]"
          }
        },
        "49c3b4552347475b9723201d7e072922": {
          "model_module": "@jupyter-widgets/base",
          "model_name": "LayoutModel",
          "model_module_version": "1.2.0",
          "state": {
            "_model_module": "@jupyter-widgets/base",
            "_model_module_version": "1.2.0",
            "_model_name": "LayoutModel",
            "_view_count": null,
            "_view_module": "@jupyter-widgets/base",
            "_view_module_version": "1.2.0",
            "_view_name": "LayoutView",
            "align_content": null,
            "align_items": null,
            "align_self": null,
            "border": null,
            "bottom": null,
            "display": null,
            "flex": null,
            "flex_flow": null,
            "grid_area": null,
            "grid_auto_columns": null,
            "grid_auto_flow": null,
            "grid_auto_rows": null,
            "grid_column": null,
            "grid_gap": null,
            "grid_row": null,
            "grid_template_areas": null,
            "grid_template_columns": null,
            "grid_template_rows": null,
            "height": null,
            "justify_content": null,
            "justify_items": null,
            "left": null,
            "margin": null,
            "max_height": null,
            "max_width": null,
            "min_height": null,
            "min_width": null,
            "object_fit": null,
            "object_position": null,
            "order": null,
            "overflow": null,
            "overflow_x": null,
            "overflow_y": null,
            "padding": null,
            "right": null,
            "top": null,
            "visibility": null,
            "width": null
          }
        },
        "977bba07368a498aadc125c58714079a": {
          "model_module": "@jupyter-widgets/base",
          "model_name": "LayoutModel",
          "model_module_version": "1.2.0",
          "state": {
            "_model_module": "@jupyter-widgets/base",
            "_model_module_version": "1.2.0",
            "_model_name": "LayoutModel",
            "_view_count": null,
            "_view_module": "@jupyter-widgets/base",
            "_view_module_version": "1.2.0",
            "_view_name": "LayoutView",
            "align_content": null,
            "align_items": null,
            "align_self": null,
            "border": null,
            "bottom": null,
            "display": null,
            "flex": null,
            "flex_flow": null,
            "grid_area": null,
            "grid_auto_columns": null,
            "grid_auto_flow": null,
            "grid_auto_rows": null,
            "grid_column": null,
            "grid_gap": null,
            "grid_row": null,
            "grid_template_areas": null,
            "grid_template_columns": null,
            "grid_template_rows": null,
            "height": null,
            "justify_content": null,
            "justify_items": null,
            "left": null,
            "margin": null,
            "max_height": null,
            "max_width": null,
            "min_height": null,
            "min_width": null,
            "object_fit": null,
            "object_position": null,
            "order": null,
            "overflow": null,
            "overflow_x": null,
            "overflow_y": null,
            "padding": null,
            "right": null,
            "top": null,
            "visibility": null,
            "width": null
          }
        },
        "6c67311b82b54c658c0b9d2c6024f115": {
          "model_module": "@jupyter-widgets/controls",
          "model_name": "DescriptionStyleModel",
          "model_module_version": "1.5.0",
          "state": {
            "_model_module": "@jupyter-widgets/controls",
            "_model_module_version": "1.5.0",
            "_model_name": "DescriptionStyleModel",
            "_view_count": null,
            "_view_module": "@jupyter-widgets/base",
            "_view_module_version": "1.2.0",
            "_view_name": "StyleView",
            "description_width": ""
          }
        },
        "7d652c7d56ed4a2d99a828f79f13bcf9": {
          "model_module": "@jupyter-widgets/base",
          "model_name": "LayoutModel",
          "model_module_version": "1.2.0",
          "state": {
            "_model_module": "@jupyter-widgets/base",
            "_model_module_version": "1.2.0",
            "_model_name": "LayoutModel",
            "_view_count": null,
            "_view_module": "@jupyter-widgets/base",
            "_view_module_version": "1.2.0",
            "_view_name": "LayoutView",
            "align_content": null,
            "align_items": null,
            "align_self": null,
            "border": null,
            "bottom": null,
            "display": null,
            "flex": null,
            "flex_flow": null,
            "grid_area": null,
            "grid_auto_columns": null,
            "grid_auto_flow": null,
            "grid_auto_rows": null,
            "grid_column": null,
            "grid_gap": null,
            "grid_row": null,
            "grid_template_areas": null,
            "grid_template_columns": null,
            "grid_template_rows": null,
            "height": null,
            "justify_content": null,
            "justify_items": null,
            "left": null,
            "margin": null,
            "max_height": null,
            "max_width": null,
            "min_height": null,
            "min_width": null,
            "object_fit": null,
            "object_position": null,
            "order": null,
            "overflow": null,
            "overflow_x": null,
            "overflow_y": null,
            "padding": null,
            "right": null,
            "top": null,
            "visibility": null,
            "width": null
          }
        },
        "de15e55a165d47ccb94a39046131bc4a": {
          "model_module": "@jupyter-widgets/controls",
          "model_name": "ProgressStyleModel",
          "model_module_version": "1.5.0",
          "state": {
            "_model_module": "@jupyter-widgets/controls",
            "_model_module_version": "1.5.0",
            "_model_name": "ProgressStyleModel",
            "_view_count": null,
            "_view_module": "@jupyter-widgets/base",
            "_view_module_version": "1.2.0",
            "_view_name": "StyleView",
            "bar_color": null,
            "description_width": ""
          }
        },
        "8cce5d4e8ac447aeb6ea1ddebd16383c": {
          "model_module": "@jupyter-widgets/base",
          "model_name": "LayoutModel",
          "model_module_version": "1.2.0",
          "state": {
            "_model_module": "@jupyter-widgets/base",
            "_model_module_version": "1.2.0",
            "_model_name": "LayoutModel",
            "_view_count": null,
            "_view_module": "@jupyter-widgets/base",
            "_view_module_version": "1.2.0",
            "_view_name": "LayoutView",
            "align_content": null,
            "align_items": null,
            "align_self": null,
            "border": null,
            "bottom": null,
            "display": null,
            "flex": null,
            "flex_flow": null,
            "grid_area": null,
            "grid_auto_columns": null,
            "grid_auto_flow": null,
            "grid_auto_rows": null,
            "grid_column": null,
            "grid_gap": null,
            "grid_row": null,
            "grid_template_areas": null,
            "grid_template_columns": null,
            "grid_template_rows": null,
            "height": null,
            "justify_content": null,
            "justify_items": null,
            "left": null,
            "margin": null,
            "max_height": null,
            "max_width": null,
            "min_height": null,
            "min_width": null,
            "object_fit": null,
            "object_position": null,
            "order": null,
            "overflow": null,
            "overflow_x": null,
            "overflow_y": null,
            "padding": null,
            "right": null,
            "top": null,
            "visibility": null,
            "width": null
          }
        },
        "0c4ab75abb18491fa9f91ce98ebc9087": {
          "model_module": "@jupyter-widgets/controls",
          "model_name": "DescriptionStyleModel",
          "model_module_version": "1.5.0",
          "state": {
            "_model_module": "@jupyter-widgets/controls",
            "_model_module_version": "1.5.0",
            "_model_name": "DescriptionStyleModel",
            "_view_count": null,
            "_view_module": "@jupyter-widgets/base",
            "_view_module_version": "1.2.0",
            "_view_name": "StyleView",
            "description_width": ""
          }
        },
        "5e343bc9c33a4f4c926252f0164a53ee": {
          "model_module": "@jupyter-widgets/controls",
          "model_name": "HBoxModel",
          "model_module_version": "1.5.0",
          "state": {
            "_dom_classes": [],
            "_model_module": "@jupyter-widgets/controls",
            "_model_module_version": "1.5.0",
            "_model_name": "HBoxModel",
            "_view_count": null,
            "_view_module": "@jupyter-widgets/controls",
            "_view_module_version": "1.5.0",
            "_view_name": "HBoxView",
            "box_style": "",
            "children": [
              "IPY_MODEL_51ac14d9124145a69c8335f8284ecd49",
              "IPY_MODEL_79d35930235f49c8892b71dea515622d",
              "IPY_MODEL_b13ae7832307406181e0ca3e931532df"
            ],
            "layout": "IPY_MODEL_cc68c01faef2464f9fff1ebb752650b7"
          }
        },
        "51ac14d9124145a69c8335f8284ecd49": {
          "model_module": "@jupyter-widgets/controls",
          "model_name": "HTMLModel",
          "model_module_version": "1.5.0",
          "state": {
            "_dom_classes": [],
            "_model_module": "@jupyter-widgets/controls",
            "_model_module_version": "1.5.0",
            "_model_name": "HTMLModel",
            "_view_count": null,
            "_view_module": "@jupyter-widgets/controls",
            "_view_module_version": "1.5.0",
            "_view_name": "HTMLView",
            "description": "",
            "description_tooltip": null,
            "layout": "IPY_MODEL_cfbb77289480461dbc0e21c4ae61e5dc",
            "placeholder": "​",
            "style": "IPY_MODEL_46158e8fc54e42c3a1a612ae1bc82b60",
            "value": "Downloading pytorch_model.bin: 100%"
          }
        },
        "79d35930235f49c8892b71dea515622d": {
          "model_module": "@jupyter-widgets/controls",
          "model_name": "FloatProgressModel",
          "model_module_version": "1.5.0",
          "state": {
            "_dom_classes": [],
            "_model_module": "@jupyter-widgets/controls",
            "_model_module_version": "1.5.0",
            "_model_name": "FloatProgressModel",
            "_view_count": null,
            "_view_module": "@jupyter-widgets/controls",
            "_view_module_version": "1.5.0",
            "_view_name": "ProgressView",
            "bar_style": "success",
            "description": "",
            "description_tooltip": null,
            "layout": "IPY_MODEL_d5fc96c02ece4a0d97b1484ff69c50a6",
            "max": 2950825948,
            "min": 0,
            "orientation": "horizontal",
            "style": "IPY_MODEL_269a7dc35aec45a285204f172660278c",
            "value": 2950825948
          }
        },
        "b13ae7832307406181e0ca3e931532df": {
          "model_module": "@jupyter-widgets/controls",
          "model_name": "HTMLModel",
          "model_module_version": "1.5.0",
          "state": {
            "_dom_classes": [],
            "_model_module": "@jupyter-widgets/controls",
            "_model_module_version": "1.5.0",
            "_model_name": "HTMLModel",
            "_view_count": null,
            "_view_module": "@jupyter-widgets/controls",
            "_view_module_version": "1.5.0",
            "_view_name": "HTMLView",
            "description": "",
            "description_tooltip": null,
            "layout": "IPY_MODEL_be5c8aeab9ee449fad13481c23d32d0d",
            "placeholder": "​",
            "style": "IPY_MODEL_6ba8910731f949cbbb1f76bfb7f366a1",
            "value": " 2.95G/2.95G [01:16&lt;00:00, 37.0MB/s]"
          }
        },
        "cc68c01faef2464f9fff1ebb752650b7": {
          "model_module": "@jupyter-widgets/base",
          "model_name": "LayoutModel",
          "model_module_version": "1.2.0",
          "state": {
            "_model_module": "@jupyter-widgets/base",
            "_model_module_version": "1.2.0",
            "_model_name": "LayoutModel",
            "_view_count": null,
            "_view_module": "@jupyter-widgets/base",
            "_view_module_version": "1.2.0",
            "_view_name": "LayoutView",
            "align_content": null,
            "align_items": null,
            "align_self": null,
            "border": null,
            "bottom": null,
            "display": null,
            "flex": null,
            "flex_flow": null,
            "grid_area": null,
            "grid_auto_columns": null,
            "grid_auto_flow": null,
            "grid_auto_rows": null,
            "grid_column": null,
            "grid_gap": null,
            "grid_row": null,
            "grid_template_areas": null,
            "grid_template_columns": null,
            "grid_template_rows": null,
            "height": null,
            "justify_content": null,
            "justify_items": null,
            "left": null,
            "margin": null,
            "max_height": null,
            "max_width": null,
            "min_height": null,
            "min_width": null,
            "object_fit": null,
            "object_position": null,
            "order": null,
            "overflow": null,
            "overflow_x": null,
            "overflow_y": null,
            "padding": null,
            "right": null,
            "top": null,
            "visibility": null,
            "width": null
          }
        },
        "cfbb77289480461dbc0e21c4ae61e5dc": {
          "model_module": "@jupyter-widgets/base",
          "model_name": "LayoutModel",
          "model_module_version": "1.2.0",
          "state": {
            "_model_module": "@jupyter-widgets/base",
            "_model_module_version": "1.2.0",
            "_model_name": "LayoutModel",
            "_view_count": null,
            "_view_module": "@jupyter-widgets/base",
            "_view_module_version": "1.2.0",
            "_view_name": "LayoutView",
            "align_content": null,
            "align_items": null,
            "align_self": null,
            "border": null,
            "bottom": null,
            "display": null,
            "flex": null,
            "flex_flow": null,
            "grid_area": null,
            "grid_auto_columns": null,
            "grid_auto_flow": null,
            "grid_auto_rows": null,
            "grid_column": null,
            "grid_gap": null,
            "grid_row": null,
            "grid_template_areas": null,
            "grid_template_columns": null,
            "grid_template_rows": null,
            "height": null,
            "justify_content": null,
            "justify_items": null,
            "left": null,
            "margin": null,
            "max_height": null,
            "max_width": null,
            "min_height": null,
            "min_width": null,
            "object_fit": null,
            "object_position": null,
            "order": null,
            "overflow": null,
            "overflow_x": null,
            "overflow_y": null,
            "padding": null,
            "right": null,
            "top": null,
            "visibility": null,
            "width": null
          }
        },
        "46158e8fc54e42c3a1a612ae1bc82b60": {
          "model_module": "@jupyter-widgets/controls",
          "model_name": "DescriptionStyleModel",
          "model_module_version": "1.5.0",
          "state": {
            "_model_module": "@jupyter-widgets/controls",
            "_model_module_version": "1.5.0",
            "_model_name": "DescriptionStyleModel",
            "_view_count": null,
            "_view_module": "@jupyter-widgets/base",
            "_view_module_version": "1.2.0",
            "_view_name": "StyleView",
            "description_width": ""
          }
        },
        "d5fc96c02ece4a0d97b1484ff69c50a6": {
          "model_module": "@jupyter-widgets/base",
          "model_name": "LayoutModel",
          "model_module_version": "1.2.0",
          "state": {
            "_model_module": "@jupyter-widgets/base",
            "_model_module_version": "1.2.0",
            "_model_name": "LayoutModel",
            "_view_count": null,
            "_view_module": "@jupyter-widgets/base",
            "_view_module_version": "1.2.0",
            "_view_name": "LayoutView",
            "align_content": null,
            "align_items": null,
            "align_self": null,
            "border": null,
            "bottom": null,
            "display": null,
            "flex": null,
            "flex_flow": null,
            "grid_area": null,
            "grid_auto_columns": null,
            "grid_auto_flow": null,
            "grid_auto_rows": null,
            "grid_column": null,
            "grid_gap": null,
            "grid_row": null,
            "grid_template_areas": null,
            "grid_template_columns": null,
            "grid_template_rows": null,
            "height": null,
            "justify_content": null,
            "justify_items": null,
            "left": null,
            "margin": null,
            "max_height": null,
            "max_width": null,
            "min_height": null,
            "min_width": null,
            "object_fit": null,
            "object_position": null,
            "order": null,
            "overflow": null,
            "overflow_x": null,
            "overflow_y": null,
            "padding": null,
            "right": null,
            "top": null,
            "visibility": null,
            "width": null
          }
        },
        "269a7dc35aec45a285204f172660278c": {
          "model_module": "@jupyter-widgets/controls",
          "model_name": "ProgressStyleModel",
          "model_module_version": "1.5.0",
          "state": {
            "_model_module": "@jupyter-widgets/controls",
            "_model_module_version": "1.5.0",
            "_model_name": "ProgressStyleModel",
            "_view_count": null,
            "_view_module": "@jupyter-widgets/base",
            "_view_module_version": "1.2.0",
            "_view_name": "StyleView",
            "bar_color": null,
            "description_width": ""
          }
        },
        "be5c8aeab9ee449fad13481c23d32d0d": {
          "model_module": "@jupyter-widgets/base",
          "model_name": "LayoutModel",
          "model_module_version": "1.2.0",
          "state": {
            "_model_module": "@jupyter-widgets/base",
            "_model_module_version": "1.2.0",
            "_model_name": "LayoutModel",
            "_view_count": null,
            "_view_module": "@jupyter-widgets/base",
            "_view_module_version": "1.2.0",
            "_view_name": "LayoutView",
            "align_content": null,
            "align_items": null,
            "align_self": null,
            "border": null,
            "bottom": null,
            "display": null,
            "flex": null,
            "flex_flow": null,
            "grid_area": null,
            "grid_auto_columns": null,
            "grid_auto_flow": null,
            "grid_auto_rows": null,
            "grid_column": null,
            "grid_gap": null,
            "grid_row": null,
            "grid_template_areas": null,
            "grid_template_columns": null,
            "grid_template_rows": null,
            "height": null,
            "justify_content": null,
            "justify_items": null,
            "left": null,
            "margin": null,
            "max_height": null,
            "max_width": null,
            "min_height": null,
            "min_width": null,
            "object_fit": null,
            "object_position": null,
            "order": null,
            "overflow": null,
            "overflow_x": null,
            "overflow_y": null,
            "padding": null,
            "right": null,
            "top": null,
            "visibility": null,
            "width": null
          }
        },
        "6ba8910731f949cbbb1f76bfb7f366a1": {
          "model_module": "@jupyter-widgets/controls",
          "model_name": "DescriptionStyleModel",
          "model_module_version": "1.5.0",
          "state": {
            "_model_module": "@jupyter-widgets/controls",
            "_model_module_version": "1.5.0",
            "_model_name": "DescriptionStyleModel",
            "_view_count": null,
            "_view_module": "@jupyter-widgets/base",
            "_view_module_version": "1.2.0",
            "_view_name": "StyleView",
            "description_width": ""
          }
        },
        "f64b5716d6114417be14a3b6b68b424d": {
          "model_module": "@jupyter-widgets/controls",
          "model_name": "HBoxModel",
          "model_module_version": "1.5.0",
          "state": {
            "_dom_classes": [],
            "_model_module": "@jupyter-widgets/controls",
            "_model_module_version": "1.5.0",
            "_model_name": "HBoxModel",
            "_view_count": null,
            "_view_module": "@jupyter-widgets/controls",
            "_view_module_version": "1.5.0",
            "_view_name": "HBoxView",
            "box_style": "",
            "children": [
              "IPY_MODEL_63356b28285143c1987dc2b7373be6d1",
              "IPY_MODEL_51259a75a85e412a9f0f85fa42409641",
              "IPY_MODEL_0f12594b877f4ed3adc0a47023e2c674"
            ],
            "layout": "IPY_MODEL_b7beb5978ccf44298fa6d9224eeb6f43"
          }
        },
        "63356b28285143c1987dc2b7373be6d1": {
          "model_module": "@jupyter-widgets/controls",
          "model_name": "HTMLModel",
          "model_module_version": "1.5.0",
          "state": {
            "_dom_classes": [],
            "_model_module": "@jupyter-widgets/controls",
            "_model_module_version": "1.5.0",
            "_model_name": "HTMLModel",
            "_view_count": null,
            "_view_module": "@jupyter-widgets/controls",
            "_view_module_version": "1.5.0",
            "_view_name": "HTMLView",
            "description": "",
            "description_tooltip": null,
            "layout": "IPY_MODEL_1755f524875a490a8369f36c1bbdf726",
            "placeholder": "​",
            "style": "IPY_MODEL_8b4937cce6c64aa6a653dbb2fc2e507c",
            "value": "Downloading (…)neration_config.json: 100%"
          }
        },
        "51259a75a85e412a9f0f85fa42409641": {
          "model_module": "@jupyter-widgets/controls",
          "model_name": "FloatProgressModel",
          "model_module_version": "1.5.0",
          "state": {
            "_dom_classes": [],
            "_model_module": "@jupyter-widgets/controls",
            "_model_module_version": "1.5.0",
            "_model_name": "FloatProgressModel",
            "_view_count": null,
            "_view_module": "@jupyter-widgets/controls",
            "_view_module_version": "1.5.0",
            "_view_name": "ProgressView",
            "bar_style": "success",
            "description": "",
            "description_tooltip": null,
            "layout": "IPY_MODEL_da8946d0885e4fdaad69c5f236644cab",
            "max": 147,
            "min": 0,
            "orientation": "horizontal",
            "style": "IPY_MODEL_d612580f085e445a9e5c32456cac41a4",
            "value": 147
          }
        },
        "0f12594b877f4ed3adc0a47023e2c674": {
          "model_module": "@jupyter-widgets/controls",
          "model_name": "HTMLModel",
          "model_module_version": "1.5.0",
          "state": {
            "_dom_classes": [],
            "_model_module": "@jupyter-widgets/controls",
            "_model_module_version": "1.5.0",
            "_model_name": "HTMLModel",
            "_view_count": null,
            "_view_module": "@jupyter-widgets/controls",
            "_view_module_version": "1.5.0",
            "_view_name": "HTMLView",
            "description": "",
            "description_tooltip": null,
            "layout": "IPY_MODEL_352a5e7d614a465d8a0fea09140b68e6",
            "placeholder": "​",
            "style": "IPY_MODEL_4bb60ebc6d5143cba9da1bc10dcecb4a",
            "value": " 147/147 [00:00&lt;00:00, 6.37kB/s]"
          }
        },
        "b7beb5978ccf44298fa6d9224eeb6f43": {
          "model_module": "@jupyter-widgets/base",
          "model_name": "LayoutModel",
          "model_module_version": "1.2.0",
          "state": {
            "_model_module": "@jupyter-widgets/base",
            "_model_module_version": "1.2.0",
            "_model_name": "LayoutModel",
            "_view_count": null,
            "_view_module": "@jupyter-widgets/base",
            "_view_module_version": "1.2.0",
            "_view_name": "LayoutView",
            "align_content": null,
            "align_items": null,
            "align_self": null,
            "border": null,
            "bottom": null,
            "display": null,
            "flex": null,
            "flex_flow": null,
            "grid_area": null,
            "grid_auto_columns": null,
            "grid_auto_flow": null,
            "grid_auto_rows": null,
            "grid_column": null,
            "grid_gap": null,
            "grid_row": null,
            "grid_template_areas": null,
            "grid_template_columns": null,
            "grid_template_rows": null,
            "height": null,
            "justify_content": null,
            "justify_items": null,
            "left": null,
            "margin": null,
            "max_height": null,
            "max_width": null,
            "min_height": null,
            "min_width": null,
            "object_fit": null,
            "object_position": null,
            "order": null,
            "overflow": null,
            "overflow_x": null,
            "overflow_y": null,
            "padding": null,
            "right": null,
            "top": null,
            "visibility": null,
            "width": null
          }
        },
        "1755f524875a490a8369f36c1bbdf726": {
          "model_module": "@jupyter-widgets/base",
          "model_name": "LayoutModel",
          "model_module_version": "1.2.0",
          "state": {
            "_model_module": "@jupyter-widgets/base",
            "_model_module_version": "1.2.0",
            "_model_name": "LayoutModel",
            "_view_count": null,
            "_view_module": "@jupyter-widgets/base",
            "_view_module_version": "1.2.0",
            "_view_name": "LayoutView",
            "align_content": null,
            "align_items": null,
            "align_self": null,
            "border": null,
            "bottom": null,
            "display": null,
            "flex": null,
            "flex_flow": null,
            "grid_area": null,
            "grid_auto_columns": null,
            "grid_auto_flow": null,
            "grid_auto_rows": null,
            "grid_column": null,
            "grid_gap": null,
            "grid_row": null,
            "grid_template_areas": null,
            "grid_template_columns": null,
            "grid_template_rows": null,
            "height": null,
            "justify_content": null,
            "justify_items": null,
            "left": null,
            "margin": null,
            "max_height": null,
            "max_width": null,
            "min_height": null,
            "min_width": null,
            "object_fit": null,
            "object_position": null,
            "order": null,
            "overflow": null,
            "overflow_x": null,
            "overflow_y": null,
            "padding": null,
            "right": null,
            "top": null,
            "visibility": null,
            "width": null
          }
        },
        "8b4937cce6c64aa6a653dbb2fc2e507c": {
          "model_module": "@jupyter-widgets/controls",
          "model_name": "DescriptionStyleModel",
          "model_module_version": "1.5.0",
          "state": {
            "_model_module": "@jupyter-widgets/controls",
            "_model_module_version": "1.5.0",
            "_model_name": "DescriptionStyleModel",
            "_view_count": null,
            "_view_module": "@jupyter-widgets/base",
            "_view_module_version": "1.2.0",
            "_view_name": "StyleView",
            "description_width": ""
          }
        },
        "da8946d0885e4fdaad69c5f236644cab": {
          "model_module": "@jupyter-widgets/base",
          "model_name": "LayoutModel",
          "model_module_version": "1.2.0",
          "state": {
            "_model_module": "@jupyter-widgets/base",
            "_model_module_version": "1.2.0",
            "_model_name": "LayoutModel",
            "_view_count": null,
            "_view_module": "@jupyter-widgets/base",
            "_view_module_version": "1.2.0",
            "_view_name": "LayoutView",
            "align_content": null,
            "align_items": null,
            "align_self": null,
            "border": null,
            "bottom": null,
            "display": null,
            "flex": null,
            "flex_flow": null,
            "grid_area": null,
            "grid_auto_columns": null,
            "grid_auto_flow": null,
            "grid_auto_rows": null,
            "grid_column": null,
            "grid_gap": null,
            "grid_row": null,
            "grid_template_areas": null,
            "grid_template_columns": null,
            "grid_template_rows": null,
            "height": null,
            "justify_content": null,
            "justify_items": null,
            "left": null,
            "margin": null,
            "max_height": null,
            "max_width": null,
            "min_height": null,
            "min_width": null,
            "object_fit": null,
            "object_position": null,
            "order": null,
            "overflow": null,
            "overflow_x": null,
            "overflow_y": null,
            "padding": null,
            "right": null,
            "top": null,
            "visibility": null,
            "width": null
          }
        },
        "d612580f085e445a9e5c32456cac41a4": {
          "model_module": "@jupyter-widgets/controls",
          "model_name": "ProgressStyleModel",
          "model_module_version": "1.5.0",
          "state": {
            "_model_module": "@jupyter-widgets/controls",
            "_model_module_version": "1.5.0",
            "_model_name": "ProgressStyleModel",
            "_view_count": null,
            "_view_module": "@jupyter-widgets/base",
            "_view_module_version": "1.2.0",
            "_view_name": "StyleView",
            "bar_color": null,
            "description_width": ""
          }
        },
        "352a5e7d614a465d8a0fea09140b68e6": {
          "model_module": "@jupyter-widgets/base",
          "model_name": "LayoutModel",
          "model_module_version": "1.2.0",
          "state": {
            "_model_module": "@jupyter-widgets/base",
            "_model_module_version": "1.2.0",
            "_model_name": "LayoutModel",
            "_view_count": null,
            "_view_module": "@jupyter-widgets/base",
            "_view_module_version": "1.2.0",
            "_view_name": "LayoutView",
            "align_content": null,
            "align_items": null,
            "align_self": null,
            "border": null,
            "bottom": null,
            "display": null,
            "flex": null,
            "flex_flow": null,
            "grid_area": null,
            "grid_auto_columns": null,
            "grid_auto_flow": null,
            "grid_auto_rows": null,
            "grid_column": null,
            "grid_gap": null,
            "grid_row": null,
            "grid_template_areas": null,
            "grid_template_columns": null,
            "grid_template_rows": null,
            "height": null,
            "justify_content": null,
            "justify_items": null,
            "left": null,
            "margin": null,
            "max_height": null,
            "max_width": null,
            "min_height": null,
            "min_width": null,
            "object_fit": null,
            "object_position": null,
            "order": null,
            "overflow": null,
            "overflow_x": null,
            "overflow_y": null,
            "padding": null,
            "right": null,
            "top": null,
            "visibility": null,
            "width": null
          }
        },
        "4bb60ebc6d5143cba9da1bc10dcecb4a": {
          "model_module": "@jupyter-widgets/controls",
          "model_name": "DescriptionStyleModel",
          "model_module_version": "1.5.0",
          "state": {
            "_model_module": "@jupyter-widgets/controls",
            "_model_module_version": "1.5.0",
            "_model_name": "DescriptionStyleModel",
            "_view_count": null,
            "_view_module": "@jupyter-widgets/base",
            "_view_module_version": "1.2.0",
            "_view_name": "StyleView",
            "description_width": ""
          }
        },
        "e0318120401146f2955423b4588537e0": {
          "model_module": "@jupyter-widgets/controls",
          "model_name": "HBoxModel",
          "model_module_version": "1.5.0",
          "state": {
            "_dom_classes": [],
            "_model_module": "@jupyter-widgets/controls",
            "_model_module_version": "1.5.0",
            "_model_name": "HBoxModel",
            "_view_count": null,
            "_view_module": "@jupyter-widgets/controls",
            "_view_module_version": "1.5.0",
            "_view_name": "HBoxView",
            "box_style": "",
            "children": [
              "IPY_MODEL_61a9379e566d4e7d82b38cac8edadf20",
              "IPY_MODEL_266720b2608848318292c9d0951f8efa",
              "IPY_MODEL_6334e483c41842b8be786ec67c9b7df9"
            ],
            "layout": "IPY_MODEL_3201fc5d15064a6eab807389bee3a400"
          }
        },
        "61a9379e566d4e7d82b38cac8edadf20": {
          "model_module": "@jupyter-widgets/controls",
          "model_name": "HTMLModel",
          "model_module_version": "1.5.0",
          "state": {
            "_dom_classes": [],
            "_model_module": "@jupyter-widgets/controls",
            "_model_module_version": "1.5.0",
            "_model_name": "HTMLModel",
            "_view_count": null,
            "_view_module": "@jupyter-widgets/controls",
            "_view_module_version": "1.5.0",
            "_view_name": "HTMLView",
            "description": "",
            "description_tooltip": null,
            "layout": "IPY_MODEL_ebbf225795fa41c280597a8caa6af774",
            "placeholder": "​",
            "style": "IPY_MODEL_38b29f163bdc4b13b5232beb47df243b",
            "value": "Downloading (…)okenizer_config.json: 100%"
          }
        },
        "266720b2608848318292c9d0951f8efa": {
          "model_module": "@jupyter-widgets/controls",
          "model_name": "FloatProgressModel",
          "model_module_version": "1.5.0",
          "state": {
            "_dom_classes": [],
            "_model_module": "@jupyter-widgets/controls",
            "_model_module_version": "1.5.0",
            "_model_name": "FloatProgressModel",
            "_view_count": null,
            "_view_module": "@jupyter-widgets/controls",
            "_view_module_version": "1.5.0",
            "_view_name": "ProgressView",
            "bar_style": "success",
            "description": "",
            "description_tooltip": null,
            "layout": "IPY_MODEL_5ffffa3619a34499ac29b296ae619b8f",
            "max": 174,
            "min": 0,
            "orientation": "horizontal",
            "style": "IPY_MODEL_bce21c2879eb476badeda7aadfbc6576",
            "value": 174
          }
        },
        "6334e483c41842b8be786ec67c9b7df9": {
          "model_module": "@jupyter-widgets/controls",
          "model_name": "HTMLModel",
          "model_module_version": "1.5.0",
          "state": {
            "_dom_classes": [],
            "_model_module": "@jupyter-widgets/controls",
            "_model_module_version": "1.5.0",
            "_model_name": "HTMLModel",
            "_view_count": null,
            "_view_module": "@jupyter-widgets/controls",
            "_view_module_version": "1.5.0",
            "_view_name": "HTMLView",
            "description": "",
            "description_tooltip": null,
            "layout": "IPY_MODEL_6d1874265f544d84b717afa2a63dfdea",
            "placeholder": "​",
            "style": "IPY_MODEL_4738976140304cbb920b101620f40daf",
            "value": " 174/174 [00:00&lt;00:00, 2.45kB/s]"
          }
        },
        "3201fc5d15064a6eab807389bee3a400": {
          "model_module": "@jupyter-widgets/base",
          "model_name": "LayoutModel",
          "model_module_version": "1.2.0",
          "state": {
            "_model_module": "@jupyter-widgets/base",
            "_model_module_version": "1.2.0",
            "_model_name": "LayoutModel",
            "_view_count": null,
            "_view_module": "@jupyter-widgets/base",
            "_view_module_version": "1.2.0",
            "_view_name": "LayoutView",
            "align_content": null,
            "align_items": null,
            "align_self": null,
            "border": null,
            "bottom": null,
            "display": null,
            "flex": null,
            "flex_flow": null,
            "grid_area": null,
            "grid_auto_columns": null,
            "grid_auto_flow": null,
            "grid_auto_rows": null,
            "grid_column": null,
            "grid_gap": null,
            "grid_row": null,
            "grid_template_areas": null,
            "grid_template_columns": null,
            "grid_template_rows": null,
            "height": null,
            "justify_content": null,
            "justify_items": null,
            "left": null,
            "margin": null,
            "max_height": null,
            "max_width": null,
            "min_height": null,
            "min_width": null,
            "object_fit": null,
            "object_position": null,
            "order": null,
            "overflow": null,
            "overflow_x": null,
            "overflow_y": null,
            "padding": null,
            "right": null,
            "top": null,
            "visibility": null,
            "width": null
          }
        },
        "ebbf225795fa41c280597a8caa6af774": {
          "model_module": "@jupyter-widgets/base",
          "model_name": "LayoutModel",
          "model_module_version": "1.2.0",
          "state": {
            "_model_module": "@jupyter-widgets/base",
            "_model_module_version": "1.2.0",
            "_model_name": "LayoutModel",
            "_view_count": null,
            "_view_module": "@jupyter-widgets/base",
            "_view_module_version": "1.2.0",
            "_view_name": "LayoutView",
            "align_content": null,
            "align_items": null,
            "align_self": null,
            "border": null,
            "bottom": null,
            "display": null,
            "flex": null,
            "flex_flow": null,
            "grid_area": null,
            "grid_auto_columns": null,
            "grid_auto_flow": null,
            "grid_auto_rows": null,
            "grid_column": null,
            "grid_gap": null,
            "grid_row": null,
            "grid_template_areas": null,
            "grid_template_columns": null,
            "grid_template_rows": null,
            "height": null,
            "justify_content": null,
            "justify_items": null,
            "left": null,
            "margin": null,
            "max_height": null,
            "max_width": null,
            "min_height": null,
            "min_width": null,
            "object_fit": null,
            "object_position": null,
            "order": null,
            "overflow": null,
            "overflow_x": null,
            "overflow_y": null,
            "padding": null,
            "right": null,
            "top": null,
            "visibility": null,
            "width": null
          }
        },
        "38b29f163bdc4b13b5232beb47df243b": {
          "model_module": "@jupyter-widgets/controls",
          "model_name": "DescriptionStyleModel",
          "model_module_version": "1.5.0",
          "state": {
            "_model_module": "@jupyter-widgets/controls",
            "_model_module_version": "1.5.0",
            "_model_name": "DescriptionStyleModel",
            "_view_count": null,
            "_view_module": "@jupyter-widgets/base",
            "_view_module_version": "1.2.0",
            "_view_name": "StyleView",
            "description_width": ""
          }
        },
        "5ffffa3619a34499ac29b296ae619b8f": {
          "model_module": "@jupyter-widgets/base",
          "model_name": "LayoutModel",
          "model_module_version": "1.2.0",
          "state": {
            "_model_module": "@jupyter-widgets/base",
            "_model_module_version": "1.2.0",
            "_model_name": "LayoutModel",
            "_view_count": null,
            "_view_module": "@jupyter-widgets/base",
            "_view_module_version": "1.2.0",
            "_view_name": "LayoutView",
            "align_content": null,
            "align_items": null,
            "align_self": null,
            "border": null,
            "bottom": null,
            "display": null,
            "flex": null,
            "flex_flow": null,
            "grid_area": null,
            "grid_auto_columns": null,
            "grid_auto_flow": null,
            "grid_auto_rows": null,
            "grid_column": null,
            "grid_gap": null,
            "grid_row": null,
            "grid_template_areas": null,
            "grid_template_columns": null,
            "grid_template_rows": null,
            "height": null,
            "justify_content": null,
            "justify_items": null,
            "left": null,
            "margin": null,
            "max_height": null,
            "max_width": null,
            "min_height": null,
            "min_width": null,
            "object_fit": null,
            "object_position": null,
            "order": null,
            "overflow": null,
            "overflow_x": null,
            "overflow_y": null,
            "padding": null,
            "right": null,
            "top": null,
            "visibility": null,
            "width": null
          }
        },
        "bce21c2879eb476badeda7aadfbc6576": {
          "model_module": "@jupyter-widgets/controls",
          "model_name": "ProgressStyleModel",
          "model_module_version": "1.5.0",
          "state": {
            "_model_module": "@jupyter-widgets/controls",
            "_model_module_version": "1.5.0",
            "_model_name": "ProgressStyleModel",
            "_view_count": null,
            "_view_module": "@jupyter-widgets/base",
            "_view_module_version": "1.2.0",
            "_view_name": "StyleView",
            "bar_color": null,
            "description_width": ""
          }
        },
        "6d1874265f544d84b717afa2a63dfdea": {
          "model_module": "@jupyter-widgets/base",
          "model_name": "LayoutModel",
          "model_module_version": "1.2.0",
          "state": {
            "_model_module": "@jupyter-widgets/base",
            "_model_module_version": "1.2.0",
            "_model_name": "LayoutModel",
            "_view_count": null,
            "_view_module": "@jupyter-widgets/base",
            "_view_module_version": "1.2.0",
            "_view_name": "LayoutView",
            "align_content": null,
            "align_items": null,
            "align_self": null,
            "border": null,
            "bottom": null,
            "display": null,
            "flex": null,
            "flex_flow": null,
            "grid_area": null,
            "grid_auto_columns": null,
            "grid_auto_flow": null,
            "grid_auto_rows": null,
            "grid_column": null,
            "grid_gap": null,
            "grid_row": null,
            "grid_template_areas": null,
            "grid_template_columns": null,
            "grid_template_rows": null,
            "height": null,
            "justify_content": null,
            "justify_items": null,
            "left": null,
            "margin": null,
            "max_height": null,
            "max_width": null,
            "min_height": null,
            "min_width": null,
            "object_fit": null,
            "object_position": null,
            "order": null,
            "overflow": null,
            "overflow_x": null,
            "overflow_y": null,
            "padding": null,
            "right": null,
            "top": null,
            "visibility": null,
            "width": null
          }
        },
        "4738976140304cbb920b101620f40daf": {
          "model_module": "@jupyter-widgets/controls",
          "model_name": "DescriptionStyleModel",
          "model_module_version": "1.5.0",
          "state": {
            "_model_module": "@jupyter-widgets/controls",
            "_model_module_version": "1.5.0",
            "_model_name": "DescriptionStyleModel",
            "_view_count": null,
            "_view_module": "@jupyter-widgets/base",
            "_view_module_version": "1.2.0",
            "_view_name": "StyleView",
            "description_width": ""
          }
        },
        "9bc75e948fc847a7a9e7a9ffd2ac39bd": {
          "model_module": "@jupyter-widgets/controls",
          "model_name": "HBoxModel",
          "model_module_version": "1.5.0",
          "state": {
            "_dom_classes": [],
            "_model_module": "@jupyter-widgets/controls",
            "_model_module_version": "1.5.0",
            "_model_name": "HBoxModel",
            "_view_count": null,
            "_view_module": "@jupyter-widgets/controls",
            "_view_module_version": "1.5.0",
            "_view_name": "HBoxView",
            "box_style": "",
            "children": [
              "IPY_MODEL_d225cad5490f4613aaa30e27d1da724d",
              "IPY_MODEL_deb6568d9878445fb865e0be237767cd",
              "IPY_MODEL_a837af462f704735b263607f45fff7af"
            ],
            "layout": "IPY_MODEL_4b38f8c6a3124f2087f313d8d4715d18"
          }
        },
        "d225cad5490f4613aaa30e27d1da724d": {
          "model_module": "@jupyter-widgets/controls",
          "model_name": "HTMLModel",
          "model_module_version": "1.5.0",
          "state": {
            "_dom_classes": [],
            "_model_module": "@jupyter-widgets/controls",
            "_model_module_version": "1.5.0",
            "_model_name": "HTMLModel",
            "_view_count": null,
            "_view_module": "@jupyter-widgets/controls",
            "_view_module_version": "1.5.0",
            "_view_name": "HTMLView",
            "description": "",
            "description_tooltip": null,
            "layout": "IPY_MODEL_166894085804480cae1ded36e1662def",
            "placeholder": "​",
            "style": "IPY_MODEL_12157d0f8bf84f9c8362b605075de7ac",
            "value": "Downloading (…)lve/main/config.json: 100%"
          }
        },
        "deb6568d9878445fb865e0be237767cd": {
          "model_module": "@jupyter-widgets/controls",
          "model_name": "FloatProgressModel",
          "model_module_version": "1.5.0",
          "state": {
            "_dom_classes": [],
            "_model_module": "@jupyter-widgets/controls",
            "_model_module_version": "1.5.0",
            "_model_name": "FloatProgressModel",
            "_view_count": null,
            "_view_module": "@jupyter-widgets/controls",
            "_view_module_version": "1.5.0",
            "_view_name": "ProgressView",
            "bar_style": "success",
            "description": "",
            "description_tooltip": null,
            "layout": "IPY_MODEL_59e720870d21412a9c40dfd1ce87958c",
            "max": 502,
            "min": 0,
            "orientation": "horizontal",
            "style": "IPY_MODEL_42261ba9911448a0926712407463ba1c",
            "value": 502
          }
        },
        "a837af462f704735b263607f45fff7af": {
          "model_module": "@jupyter-widgets/controls",
          "model_name": "HTMLModel",
          "model_module_version": "1.5.0",
          "state": {
            "_dom_classes": [],
            "_model_module": "@jupyter-widgets/controls",
            "_model_module_version": "1.5.0",
            "_model_name": "HTMLModel",
            "_view_count": null,
            "_view_module": "@jupyter-widgets/controls",
            "_view_module_version": "1.5.0",
            "_view_name": "HTMLView",
            "description": "",
            "description_tooltip": null,
            "layout": "IPY_MODEL_504ae0dbadea4258b4d12ca592ad8106",
            "placeholder": "​",
            "style": "IPY_MODEL_79e11f6f0f2541d096fca56bf2adfdd1",
            "value": " 502/502 [00:00&lt;00:00, 15.7kB/s]"
          }
        },
        "4b38f8c6a3124f2087f313d8d4715d18": {
          "model_module": "@jupyter-widgets/base",
          "model_name": "LayoutModel",
          "model_module_version": "1.2.0",
          "state": {
            "_model_module": "@jupyter-widgets/base",
            "_model_module_version": "1.2.0",
            "_model_name": "LayoutModel",
            "_view_count": null,
            "_view_module": "@jupyter-widgets/base",
            "_view_module_version": "1.2.0",
            "_view_name": "LayoutView",
            "align_content": null,
            "align_items": null,
            "align_self": null,
            "border": null,
            "bottom": null,
            "display": null,
            "flex": null,
            "flex_flow": null,
            "grid_area": null,
            "grid_auto_columns": null,
            "grid_auto_flow": null,
            "grid_auto_rows": null,
            "grid_column": null,
            "grid_gap": null,
            "grid_row": null,
            "grid_template_areas": null,
            "grid_template_columns": null,
            "grid_template_rows": null,
            "height": null,
            "justify_content": null,
            "justify_items": null,
            "left": null,
            "margin": null,
            "max_height": null,
            "max_width": null,
            "min_height": null,
            "min_width": null,
            "object_fit": null,
            "object_position": null,
            "order": null,
            "overflow": null,
            "overflow_x": null,
            "overflow_y": null,
            "padding": null,
            "right": null,
            "top": null,
            "visibility": null,
            "width": null
          }
        },
        "166894085804480cae1ded36e1662def": {
          "model_module": "@jupyter-widgets/base",
          "model_name": "LayoutModel",
          "model_module_version": "1.2.0",
          "state": {
            "_model_module": "@jupyter-widgets/base",
            "_model_module_version": "1.2.0",
            "_model_name": "LayoutModel",
            "_view_count": null,
            "_view_module": "@jupyter-widgets/base",
            "_view_module_version": "1.2.0",
            "_view_name": "LayoutView",
            "align_content": null,
            "align_items": null,
            "align_self": null,
            "border": null,
            "bottom": null,
            "display": null,
            "flex": null,
            "flex_flow": null,
            "grid_area": null,
            "grid_auto_columns": null,
            "grid_auto_flow": null,
            "grid_auto_rows": null,
            "grid_column": null,
            "grid_gap": null,
            "grid_row": null,
            "grid_template_areas": null,
            "grid_template_columns": null,
            "grid_template_rows": null,
            "height": null,
            "justify_content": null,
            "justify_items": null,
            "left": null,
            "margin": null,
            "max_height": null,
            "max_width": null,
            "min_height": null,
            "min_width": null,
            "object_fit": null,
            "object_position": null,
            "order": null,
            "overflow": null,
            "overflow_x": null,
            "overflow_y": null,
            "padding": null,
            "right": null,
            "top": null,
            "visibility": null,
            "width": null
          }
        },
        "12157d0f8bf84f9c8362b605075de7ac": {
          "model_module": "@jupyter-widgets/controls",
          "model_name": "DescriptionStyleModel",
          "model_module_version": "1.5.0",
          "state": {
            "_model_module": "@jupyter-widgets/controls",
            "_model_module_version": "1.5.0",
            "_model_name": "DescriptionStyleModel",
            "_view_count": null,
            "_view_module": "@jupyter-widgets/base",
            "_view_module_version": "1.2.0",
            "_view_name": "StyleView",
            "description_width": ""
          }
        },
        "59e720870d21412a9c40dfd1ce87958c": {
          "model_module": "@jupyter-widgets/base",
          "model_name": "LayoutModel",
          "model_module_version": "1.2.0",
          "state": {
            "_model_module": "@jupyter-widgets/base",
            "_model_module_version": "1.2.0",
            "_model_name": "LayoutModel",
            "_view_count": null,
            "_view_module": "@jupyter-widgets/base",
            "_view_module_version": "1.2.0",
            "_view_name": "LayoutView",
            "align_content": null,
            "align_items": null,
            "align_self": null,
            "border": null,
            "bottom": null,
            "display": null,
            "flex": null,
            "flex_flow": null,
            "grid_area": null,
            "grid_auto_columns": null,
            "grid_auto_flow": null,
            "grid_auto_rows": null,
            "grid_column": null,
            "grid_gap": null,
            "grid_row": null,
            "grid_template_areas": null,
            "grid_template_columns": null,
            "grid_template_rows": null,
            "height": null,
            "justify_content": null,
            "justify_items": null,
            "left": null,
            "margin": null,
            "max_height": null,
            "max_width": null,
            "min_height": null,
            "min_width": null,
            "object_fit": null,
            "object_position": null,
            "order": null,
            "overflow": null,
            "overflow_x": null,
            "overflow_y": null,
            "padding": null,
            "right": null,
            "top": null,
            "visibility": null,
            "width": null
          }
        },
        "42261ba9911448a0926712407463ba1c": {
          "model_module": "@jupyter-widgets/controls",
          "model_name": "ProgressStyleModel",
          "model_module_version": "1.5.0",
          "state": {
            "_model_module": "@jupyter-widgets/controls",
            "_model_module_version": "1.5.0",
            "_model_name": "ProgressStyleModel",
            "_view_count": null,
            "_view_module": "@jupyter-widgets/base",
            "_view_module_version": "1.2.0",
            "_view_name": "StyleView",
            "bar_color": null,
            "description_width": ""
          }
        },
        "504ae0dbadea4258b4d12ca592ad8106": {
          "model_module": "@jupyter-widgets/base",
          "model_name": "LayoutModel",
          "model_module_version": "1.2.0",
          "state": {
            "_model_module": "@jupyter-widgets/base",
            "_model_module_version": "1.2.0",
            "_model_name": "LayoutModel",
            "_view_count": null,
            "_view_module": "@jupyter-widgets/base",
            "_view_module_version": "1.2.0",
            "_view_name": "LayoutView",
            "align_content": null,
            "align_items": null,
            "align_self": null,
            "border": null,
            "bottom": null,
            "display": null,
            "flex": null,
            "flex_flow": null,
            "grid_area": null,
            "grid_auto_columns": null,
            "grid_auto_flow": null,
            "grid_auto_rows": null,
            "grid_column": null,
            "grid_gap": null,
            "grid_row": null,
            "grid_template_areas": null,
            "grid_template_columns": null,
            "grid_template_rows": null,
            "height": null,
            "justify_content": null,
            "justify_items": null,
            "left": null,
            "margin": null,
            "max_height": null,
            "max_width": null,
            "min_height": null,
            "min_width": null,
            "object_fit": null,
            "object_position": null,
            "order": null,
            "overflow": null,
            "overflow_x": null,
            "overflow_y": null,
            "padding": null,
            "right": null,
            "top": null,
            "visibility": null,
            "width": null
          }
        },
        "79e11f6f0f2541d096fca56bf2adfdd1": {
          "model_module": "@jupyter-widgets/controls",
          "model_name": "DescriptionStyleModel",
          "model_module_version": "1.5.0",
          "state": {
            "_model_module": "@jupyter-widgets/controls",
            "_model_module_version": "1.5.0",
            "_model_name": "DescriptionStyleModel",
            "_view_count": null,
            "_view_module": "@jupyter-widgets/base",
            "_view_module_version": "1.2.0",
            "_view_name": "StyleView",
            "description_width": ""
          }
        },
        "f0982eef7a2f461dbf85e0982b5105d0": {
          "model_module": "@jupyter-widgets/controls",
          "model_name": "HBoxModel",
          "model_module_version": "1.5.0",
          "state": {
            "_dom_classes": [],
            "_model_module": "@jupyter-widgets/controls",
            "_model_module_version": "1.5.0",
            "_model_name": "HBoxModel",
            "_view_count": null,
            "_view_module": "@jupyter-widgets/controls",
            "_view_module_version": "1.5.0",
            "_view_name": "HBoxView",
            "box_style": "",
            "children": [
              "IPY_MODEL_fbd144d6c275407e832f72b03c47ee88",
              "IPY_MODEL_363f10b87db74b5c99a7c44f71ce1378",
              "IPY_MODEL_b9bc7e610cc74045a1be490a54f24b42"
            ],
            "layout": "IPY_MODEL_f8ebfb453fec425189d2158131816aa0"
          }
        },
        "fbd144d6c275407e832f72b03c47ee88": {
          "model_module": "@jupyter-widgets/controls",
          "model_name": "HTMLModel",
          "model_module_version": "1.5.0",
          "state": {
            "_dom_classes": [],
            "_model_module": "@jupyter-widgets/controls",
            "_model_module_version": "1.5.0",
            "_model_name": "HTMLModel",
            "_view_count": null,
            "_view_module": "@jupyter-widgets/controls",
            "_view_module_version": "1.5.0",
            "_view_name": "HTMLView",
            "description": "",
            "description_tooltip": null,
            "layout": "IPY_MODEL_152a0e34e8114be984f3451d319fc55c",
            "placeholder": "​",
            "style": "IPY_MODEL_f24bc1aa751945759046648ec2706ae7",
            "value": "Downloading (…)solve/main/vocab.txt: 100%"
          }
        },
        "363f10b87db74b5c99a7c44f71ce1378": {
          "model_module": "@jupyter-widgets/controls",
          "model_name": "FloatProgressModel",
          "model_module_version": "1.5.0",
          "state": {
            "_dom_classes": [],
            "_model_module": "@jupyter-widgets/controls",
            "_model_module_version": "1.5.0",
            "_model_name": "FloatProgressModel",
            "_view_count": null,
            "_view_module": "@jupyter-widgets/controls",
            "_view_module_version": "1.5.0",
            "_view_name": "ProgressView",
            "bar_style": "success",
            "description": "",
            "description_tooltip": null,
            "layout": "IPY_MODEL_765d4fdc8ce448a39a5076f3ad86d4f2",
            "max": 231508,
            "min": 0,
            "orientation": "horizontal",
            "style": "IPY_MODEL_6453cb72a9f4405c92b3a0f4ec461a6a",
            "value": 231508
          }
        },
        "b9bc7e610cc74045a1be490a54f24b42": {
          "model_module": "@jupyter-widgets/controls",
          "model_name": "HTMLModel",
          "model_module_version": "1.5.0",
          "state": {
            "_dom_classes": [],
            "_model_module": "@jupyter-widgets/controls",
            "_model_module_version": "1.5.0",
            "_model_name": "HTMLModel",
            "_view_count": null,
            "_view_module": "@jupyter-widgets/controls",
            "_view_module_version": "1.5.0",
            "_view_name": "HTMLView",
            "description": "",
            "description_tooltip": null,
            "layout": "IPY_MODEL_2bff20320c5042c8a1be02d7a55bf67d",
            "placeholder": "​",
            "style": "IPY_MODEL_3e72ec09b3214c4d92021e80f1aa9da4",
            "value": " 232k/232k [00:00&lt;00:00, 3.42MB/s]"
          }
        },
        "f8ebfb453fec425189d2158131816aa0": {
          "model_module": "@jupyter-widgets/base",
          "model_name": "LayoutModel",
          "model_module_version": "1.2.0",
          "state": {
            "_model_module": "@jupyter-widgets/base",
            "_model_module_version": "1.2.0",
            "_model_name": "LayoutModel",
            "_view_count": null,
            "_view_module": "@jupyter-widgets/base",
            "_view_module_version": "1.2.0",
            "_view_name": "LayoutView",
            "align_content": null,
            "align_items": null,
            "align_self": null,
            "border": null,
            "bottom": null,
            "display": null,
            "flex": null,
            "flex_flow": null,
            "grid_area": null,
            "grid_auto_columns": null,
            "grid_auto_flow": null,
            "grid_auto_rows": null,
            "grid_column": null,
            "grid_gap": null,
            "grid_row": null,
            "grid_template_areas": null,
            "grid_template_columns": null,
            "grid_template_rows": null,
            "height": null,
            "justify_content": null,
            "justify_items": null,
            "left": null,
            "margin": null,
            "max_height": null,
            "max_width": null,
            "min_height": null,
            "min_width": null,
            "object_fit": null,
            "object_position": null,
            "order": null,
            "overflow": null,
            "overflow_x": null,
            "overflow_y": null,
            "padding": null,
            "right": null,
            "top": null,
            "visibility": null,
            "width": null
          }
        },
        "152a0e34e8114be984f3451d319fc55c": {
          "model_module": "@jupyter-widgets/base",
          "model_name": "LayoutModel",
          "model_module_version": "1.2.0",
          "state": {
            "_model_module": "@jupyter-widgets/base",
            "_model_module_version": "1.2.0",
            "_model_name": "LayoutModel",
            "_view_count": null,
            "_view_module": "@jupyter-widgets/base",
            "_view_module_version": "1.2.0",
            "_view_name": "LayoutView",
            "align_content": null,
            "align_items": null,
            "align_self": null,
            "border": null,
            "bottom": null,
            "display": null,
            "flex": null,
            "flex_flow": null,
            "grid_area": null,
            "grid_auto_columns": null,
            "grid_auto_flow": null,
            "grid_auto_rows": null,
            "grid_column": null,
            "grid_gap": null,
            "grid_row": null,
            "grid_template_areas": null,
            "grid_template_columns": null,
            "grid_template_rows": null,
            "height": null,
            "justify_content": null,
            "justify_items": null,
            "left": null,
            "margin": null,
            "max_height": null,
            "max_width": null,
            "min_height": null,
            "min_width": null,
            "object_fit": null,
            "object_position": null,
            "order": null,
            "overflow": null,
            "overflow_x": null,
            "overflow_y": null,
            "padding": null,
            "right": null,
            "top": null,
            "visibility": null,
            "width": null
          }
        },
        "f24bc1aa751945759046648ec2706ae7": {
          "model_module": "@jupyter-widgets/controls",
          "model_name": "DescriptionStyleModel",
          "model_module_version": "1.5.0",
          "state": {
            "_model_module": "@jupyter-widgets/controls",
            "_model_module_version": "1.5.0",
            "_model_name": "DescriptionStyleModel",
            "_view_count": null,
            "_view_module": "@jupyter-widgets/base",
            "_view_module_version": "1.2.0",
            "_view_name": "StyleView",
            "description_width": ""
          }
        },
        "765d4fdc8ce448a39a5076f3ad86d4f2": {
          "model_module": "@jupyter-widgets/base",
          "model_name": "LayoutModel",
          "model_module_version": "1.2.0",
          "state": {
            "_model_module": "@jupyter-widgets/base",
            "_model_module_version": "1.2.0",
            "_model_name": "LayoutModel",
            "_view_count": null,
            "_view_module": "@jupyter-widgets/base",
            "_view_module_version": "1.2.0",
            "_view_name": "LayoutView",
            "align_content": null,
            "align_items": null,
            "align_self": null,
            "border": null,
            "bottom": null,
            "display": null,
            "flex": null,
            "flex_flow": null,
            "grid_area": null,
            "grid_auto_columns": null,
            "grid_auto_flow": null,
            "grid_auto_rows": null,
            "grid_column": null,
            "grid_gap": null,
            "grid_row": null,
            "grid_template_areas": null,
            "grid_template_columns": null,
            "grid_template_rows": null,
            "height": null,
            "justify_content": null,
            "justify_items": null,
            "left": null,
            "margin": null,
            "max_height": null,
            "max_width": null,
            "min_height": null,
            "min_width": null,
            "object_fit": null,
            "object_position": null,
            "order": null,
            "overflow": null,
            "overflow_x": null,
            "overflow_y": null,
            "padding": null,
            "right": null,
            "top": null,
            "visibility": null,
            "width": null
          }
        },
        "6453cb72a9f4405c92b3a0f4ec461a6a": {
          "model_module": "@jupyter-widgets/controls",
          "model_name": "ProgressStyleModel",
          "model_module_version": "1.5.0",
          "state": {
            "_model_module": "@jupyter-widgets/controls",
            "_model_module_version": "1.5.0",
            "_model_name": "ProgressStyleModel",
            "_view_count": null,
            "_view_module": "@jupyter-widgets/base",
            "_view_module_version": "1.2.0",
            "_view_name": "StyleView",
            "bar_color": null,
            "description_width": ""
          }
        },
        "2bff20320c5042c8a1be02d7a55bf67d": {
          "model_module": "@jupyter-widgets/base",
          "model_name": "LayoutModel",
          "model_module_version": "1.2.0",
          "state": {
            "_model_module": "@jupyter-widgets/base",
            "_model_module_version": "1.2.0",
            "_model_name": "LayoutModel",
            "_view_count": null,
            "_view_module": "@jupyter-widgets/base",
            "_view_module_version": "1.2.0",
            "_view_name": "LayoutView",
            "align_content": null,
            "align_items": null,
            "align_self": null,
            "border": null,
            "bottom": null,
            "display": null,
            "flex": null,
            "flex_flow": null,
            "grid_area": null,
            "grid_auto_columns": null,
            "grid_auto_flow": null,
            "grid_auto_rows": null,
            "grid_column": null,
            "grid_gap": null,
            "grid_row": null,
            "grid_template_areas": null,
            "grid_template_columns": null,
            "grid_template_rows": null,
            "height": null,
            "justify_content": null,
            "justify_items": null,
            "left": null,
            "margin": null,
            "max_height": null,
            "max_width": null,
            "min_height": null,
            "min_width": null,
            "object_fit": null,
            "object_position": null,
            "order": null,
            "overflow": null,
            "overflow_x": null,
            "overflow_y": null,
            "padding": null,
            "right": null,
            "top": null,
            "visibility": null,
            "width": null
          }
        },
        "3e72ec09b3214c4d92021e80f1aa9da4": {
          "model_module": "@jupyter-widgets/controls",
          "model_name": "DescriptionStyleModel",
          "model_module_version": "1.5.0",
          "state": {
            "_model_module": "@jupyter-widgets/controls",
            "_model_module_version": "1.5.0",
            "_model_name": "DescriptionStyleModel",
            "_view_count": null,
            "_view_module": "@jupyter-widgets/base",
            "_view_module_version": "1.2.0",
            "_view_name": "StyleView",
            "description_width": ""
          }
        },
        "e3acbeedb11e4d719bd1ec0aa7dc0752": {
          "model_module": "@jupyter-widgets/controls",
          "model_name": "HBoxModel",
          "model_module_version": "1.5.0",
          "state": {
            "_dom_classes": [],
            "_model_module": "@jupyter-widgets/controls",
            "_model_module_version": "1.5.0",
            "_model_name": "HBoxModel",
            "_view_count": null,
            "_view_module": "@jupyter-widgets/controls",
            "_view_module_version": "1.5.0",
            "_view_name": "HBoxView",
            "box_style": "",
            "children": [
              "IPY_MODEL_3fb4aa55dd564b94a077b69482927e68",
              "IPY_MODEL_c1b160bbdb6441a288633e4af60d1723",
              "IPY_MODEL_160724c08c704efba18693090766da71"
            ],
            "layout": "IPY_MODEL_7dae18f9f643435f9d87c6e20b7c6056"
          }
        },
        "3fb4aa55dd564b94a077b69482927e68": {
          "model_module": "@jupyter-widgets/controls",
          "model_name": "HTMLModel",
          "model_module_version": "1.5.0",
          "state": {
            "_dom_classes": [],
            "_model_module": "@jupyter-widgets/controls",
            "_model_module_version": "1.5.0",
            "_model_name": "HTMLModel",
            "_view_count": null,
            "_view_module": "@jupyter-widgets/controls",
            "_view_module_version": "1.5.0",
            "_view_name": "HTMLView",
            "description": "",
            "description_tooltip": null,
            "layout": "IPY_MODEL_ea902411f4fa43759351c78f7e2b7719",
            "placeholder": "​",
            "style": "IPY_MODEL_900a3687ea114d0091a483738690bbb4",
            "value": "Downloading (…)cial_tokens_map.json: 100%"
          }
        },
        "c1b160bbdb6441a288633e4af60d1723": {
          "model_module": "@jupyter-widgets/controls",
          "model_name": "FloatProgressModel",
          "model_module_version": "1.5.0",
          "state": {
            "_dom_classes": [],
            "_model_module": "@jupyter-widgets/controls",
            "_model_module_version": "1.5.0",
            "_model_name": "FloatProgressModel",
            "_view_count": null,
            "_view_module": "@jupyter-widgets/controls",
            "_view_module_version": "1.5.0",
            "_view_name": "ProgressView",
            "bar_style": "success",
            "description": "",
            "description_tooltip": null,
            "layout": "IPY_MODEL_6d4eccc86c1b4abab506967a50b7c783",
            "max": 112,
            "min": 0,
            "orientation": "horizontal",
            "style": "IPY_MODEL_5a074b1fd9fc45c09fe0af25628f6c77",
            "value": 112
          }
        },
        "160724c08c704efba18693090766da71": {
          "model_module": "@jupyter-widgets/controls",
          "model_name": "HTMLModel",
          "model_module_version": "1.5.0",
          "state": {
            "_dom_classes": [],
            "_model_module": "@jupyter-widgets/controls",
            "_model_module_version": "1.5.0",
            "_model_name": "HTMLModel",
            "_view_count": null,
            "_view_module": "@jupyter-widgets/controls",
            "_view_module_version": "1.5.0",
            "_view_name": "HTMLView",
            "description": "",
            "description_tooltip": null,
            "layout": "IPY_MODEL_5fe6736a1f01427b9489cf6a95a0e61f",
            "placeholder": "​",
            "style": "IPY_MODEL_4b865d7b7fc64281b59a376e8af4b371",
            "value": " 112/112 [00:00&lt;00:00, 3.41kB/s]"
          }
        },
        "7dae18f9f643435f9d87c6e20b7c6056": {
          "model_module": "@jupyter-widgets/base",
          "model_name": "LayoutModel",
          "model_module_version": "1.2.0",
          "state": {
            "_model_module": "@jupyter-widgets/base",
            "_model_module_version": "1.2.0",
            "_model_name": "LayoutModel",
            "_view_count": null,
            "_view_module": "@jupyter-widgets/base",
            "_view_module_version": "1.2.0",
            "_view_name": "LayoutView",
            "align_content": null,
            "align_items": null,
            "align_self": null,
            "border": null,
            "bottom": null,
            "display": null,
            "flex": null,
            "flex_flow": null,
            "grid_area": null,
            "grid_auto_columns": null,
            "grid_auto_flow": null,
            "grid_auto_rows": null,
            "grid_column": null,
            "grid_gap": null,
            "grid_row": null,
            "grid_template_areas": null,
            "grid_template_columns": null,
            "grid_template_rows": null,
            "height": null,
            "justify_content": null,
            "justify_items": null,
            "left": null,
            "margin": null,
            "max_height": null,
            "max_width": null,
            "min_height": null,
            "min_width": null,
            "object_fit": null,
            "object_position": null,
            "order": null,
            "overflow": null,
            "overflow_x": null,
            "overflow_y": null,
            "padding": null,
            "right": null,
            "top": null,
            "visibility": null,
            "width": null
          }
        },
        "ea902411f4fa43759351c78f7e2b7719": {
          "model_module": "@jupyter-widgets/base",
          "model_name": "LayoutModel",
          "model_module_version": "1.2.0",
          "state": {
            "_model_module": "@jupyter-widgets/base",
            "_model_module_version": "1.2.0",
            "_model_name": "LayoutModel",
            "_view_count": null,
            "_view_module": "@jupyter-widgets/base",
            "_view_module_version": "1.2.0",
            "_view_name": "LayoutView",
            "align_content": null,
            "align_items": null,
            "align_self": null,
            "border": null,
            "bottom": null,
            "display": null,
            "flex": null,
            "flex_flow": null,
            "grid_area": null,
            "grid_auto_columns": null,
            "grid_auto_flow": null,
            "grid_auto_rows": null,
            "grid_column": null,
            "grid_gap": null,
            "grid_row": null,
            "grid_template_areas": null,
            "grid_template_columns": null,
            "grid_template_rows": null,
            "height": null,
            "justify_content": null,
            "justify_items": null,
            "left": null,
            "margin": null,
            "max_height": null,
            "max_width": null,
            "min_height": null,
            "min_width": null,
            "object_fit": null,
            "object_position": null,
            "order": null,
            "overflow": null,
            "overflow_x": null,
            "overflow_y": null,
            "padding": null,
            "right": null,
            "top": null,
            "visibility": null,
            "width": null
          }
        },
        "900a3687ea114d0091a483738690bbb4": {
          "model_module": "@jupyter-widgets/controls",
          "model_name": "DescriptionStyleModel",
          "model_module_version": "1.5.0",
          "state": {
            "_model_module": "@jupyter-widgets/controls",
            "_model_module_version": "1.5.0",
            "_model_name": "DescriptionStyleModel",
            "_view_count": null,
            "_view_module": "@jupyter-widgets/base",
            "_view_module_version": "1.2.0",
            "_view_name": "StyleView",
            "description_width": ""
          }
        },
        "6d4eccc86c1b4abab506967a50b7c783": {
          "model_module": "@jupyter-widgets/base",
          "model_name": "LayoutModel",
          "model_module_version": "1.2.0",
          "state": {
            "_model_module": "@jupyter-widgets/base",
            "_model_module_version": "1.2.0",
            "_model_name": "LayoutModel",
            "_view_count": null,
            "_view_module": "@jupyter-widgets/base",
            "_view_module_version": "1.2.0",
            "_view_name": "LayoutView",
            "align_content": null,
            "align_items": null,
            "align_self": null,
            "border": null,
            "bottom": null,
            "display": null,
            "flex": null,
            "flex_flow": null,
            "grid_area": null,
            "grid_auto_columns": null,
            "grid_auto_flow": null,
            "grid_auto_rows": null,
            "grid_column": null,
            "grid_gap": null,
            "grid_row": null,
            "grid_template_areas": null,
            "grid_template_columns": null,
            "grid_template_rows": null,
            "height": null,
            "justify_content": null,
            "justify_items": null,
            "left": null,
            "margin": null,
            "max_height": null,
            "max_width": null,
            "min_height": null,
            "min_width": null,
            "object_fit": null,
            "object_position": null,
            "order": null,
            "overflow": null,
            "overflow_x": null,
            "overflow_y": null,
            "padding": null,
            "right": null,
            "top": null,
            "visibility": null,
            "width": null
          }
        },
        "5a074b1fd9fc45c09fe0af25628f6c77": {
          "model_module": "@jupyter-widgets/controls",
          "model_name": "ProgressStyleModel",
          "model_module_version": "1.5.0",
          "state": {
            "_model_module": "@jupyter-widgets/controls",
            "_model_module_version": "1.5.0",
            "_model_name": "ProgressStyleModel",
            "_view_count": null,
            "_view_module": "@jupyter-widgets/base",
            "_view_module_version": "1.2.0",
            "_view_name": "StyleView",
            "bar_color": null,
            "description_width": ""
          }
        },
        "5fe6736a1f01427b9489cf6a95a0e61f": {
          "model_module": "@jupyter-widgets/base",
          "model_name": "LayoutModel",
          "model_module_version": "1.2.0",
          "state": {
            "_model_module": "@jupyter-widgets/base",
            "_model_module_version": "1.2.0",
            "_model_name": "LayoutModel",
            "_view_count": null,
            "_view_module": "@jupyter-widgets/base",
            "_view_module_version": "1.2.0",
            "_view_name": "LayoutView",
            "align_content": null,
            "align_items": null,
            "align_self": null,
            "border": null,
            "bottom": null,
            "display": null,
            "flex": null,
            "flex_flow": null,
            "grid_area": null,
            "grid_auto_columns": null,
            "grid_auto_flow": null,
            "grid_auto_rows": null,
            "grid_column": null,
            "grid_gap": null,
            "grid_row": null,
            "grid_template_areas": null,
            "grid_template_columns": null,
            "grid_template_rows": null,
            "height": null,
            "justify_content": null,
            "justify_items": null,
            "left": null,
            "margin": null,
            "max_height": null,
            "max_width": null,
            "min_height": null,
            "min_width": null,
            "object_fit": null,
            "object_position": null,
            "order": null,
            "overflow": null,
            "overflow_x": null,
            "overflow_y": null,
            "padding": null,
            "right": null,
            "top": null,
            "visibility": null,
            "width": null
          }
        },
        "4b865d7b7fc64281b59a376e8af4b371": {
          "model_module": "@jupyter-widgets/controls",
          "model_name": "DescriptionStyleModel",
          "model_module_version": "1.5.0",
          "state": {
            "_model_module": "@jupyter-widgets/controls",
            "_model_module_version": "1.5.0",
            "_model_name": "DescriptionStyleModel",
            "_view_count": null,
            "_view_module": "@jupyter-widgets/base",
            "_view_module_version": "1.2.0",
            "_view_name": "StyleView",
            "description_width": ""
          }
        },
        "2443e1dac1dc4bdeb4e71b4ea3462220": {
          "model_module": "@jupyter-widgets/controls",
          "model_name": "HBoxModel",
          "model_module_version": "1.5.0",
          "state": {
            "_dom_classes": [],
            "_model_module": "@jupyter-widgets/controls",
            "_model_module_version": "1.5.0",
            "_model_name": "HBoxModel",
            "_view_count": null,
            "_view_module": "@jupyter-widgets/controls",
            "_view_module_version": "1.5.0",
            "_view_name": "HBoxView",
            "box_style": "",
            "children": [
              "IPY_MODEL_e501ee6c230e4299ba35b0a93c5596af",
              "IPY_MODEL_207d80a806784873b6f87700d05d49a2",
              "IPY_MODEL_6fbaf4c9ea0f498ca14a6e0362ff0c76"
            ],
            "layout": "IPY_MODEL_2a2d73c707cc442890e568ece13e36ce"
          }
        },
        "e501ee6c230e4299ba35b0a93c5596af": {
          "model_module": "@jupyter-widgets/controls",
          "model_name": "HTMLModel",
          "model_module_version": "1.5.0",
          "state": {
            "_dom_classes": [],
            "_model_module": "@jupyter-widgets/controls",
            "_model_module_version": "1.5.0",
            "_model_name": "HTMLModel",
            "_view_count": null,
            "_view_module": "@jupyter-widgets/controls",
            "_view_module_version": "1.5.0",
            "_view_name": "HTMLView",
            "description": "",
            "description_tooltip": null,
            "layout": "IPY_MODEL_4fe49f14406844d2a8db04dad46b1384",
            "placeholder": "​",
            "style": "IPY_MODEL_47341ffec0b7479b8197cd1688472bd2",
            "value": "Downloading pytorch_model.bin: 100%"
          }
        },
        "207d80a806784873b6f87700d05d49a2": {
          "model_module": "@jupyter-widgets/controls",
          "model_name": "FloatProgressModel",
          "model_module_version": "1.5.0",
          "state": {
            "_dom_classes": [],
            "_model_module": "@jupyter-widgets/controls",
            "_model_module_version": "1.5.0",
            "_model_name": "FloatProgressModel",
            "_view_count": null,
            "_view_module": "@jupyter-widgets/controls",
            "_view_module_version": "1.5.0",
            "_view_name": "ProgressView",
            "bar_style": "success",
            "description": "",
            "description_tooltip": null,
            "layout": "IPY_MODEL_0aff26dde1f34a6dbb93cbd52a7a7991",
            "max": 438015479,
            "min": 0,
            "orientation": "horizontal",
            "style": "IPY_MODEL_d6cfbfb6506c4645b429bbdf60b799ea",
            "value": 438015479
          }
        },
        "6fbaf4c9ea0f498ca14a6e0362ff0c76": {
          "model_module": "@jupyter-widgets/controls",
          "model_name": "HTMLModel",
          "model_module_version": "1.5.0",
          "state": {
            "_dom_classes": [],
            "_model_module": "@jupyter-widgets/controls",
            "_model_module_version": "1.5.0",
            "_model_name": "HTMLModel",
            "_view_count": null,
            "_view_module": "@jupyter-widgets/controls",
            "_view_module_version": "1.5.0",
            "_view_name": "HTMLView",
            "description": "",
            "description_tooltip": null,
            "layout": "IPY_MODEL_108c0fb34fdb4f459b97cb10c268749d",
            "placeholder": "​",
            "style": "IPY_MODEL_890d9af2b45149c99a90d502183e058a",
            "value": " 438M/438M [00:03&lt;00:00, 93.8MB/s]"
          }
        },
        "2a2d73c707cc442890e568ece13e36ce": {
          "model_module": "@jupyter-widgets/base",
          "model_name": "LayoutModel",
          "model_module_version": "1.2.0",
          "state": {
            "_model_module": "@jupyter-widgets/base",
            "_model_module_version": "1.2.0",
            "_model_name": "LayoutModel",
            "_view_count": null,
            "_view_module": "@jupyter-widgets/base",
            "_view_module_version": "1.2.0",
            "_view_name": "LayoutView",
            "align_content": null,
            "align_items": null,
            "align_self": null,
            "border": null,
            "bottom": null,
            "display": null,
            "flex": null,
            "flex_flow": null,
            "grid_area": null,
            "grid_auto_columns": null,
            "grid_auto_flow": null,
            "grid_auto_rows": null,
            "grid_column": null,
            "grid_gap": null,
            "grid_row": null,
            "grid_template_areas": null,
            "grid_template_columns": null,
            "grid_template_rows": null,
            "height": null,
            "justify_content": null,
            "justify_items": null,
            "left": null,
            "margin": null,
            "max_height": null,
            "max_width": null,
            "min_height": null,
            "min_width": null,
            "object_fit": null,
            "object_position": null,
            "order": null,
            "overflow": null,
            "overflow_x": null,
            "overflow_y": null,
            "padding": null,
            "right": null,
            "top": null,
            "visibility": null,
            "width": null
          }
        },
        "4fe49f14406844d2a8db04dad46b1384": {
          "model_module": "@jupyter-widgets/base",
          "model_name": "LayoutModel",
          "model_module_version": "1.2.0",
          "state": {
            "_model_module": "@jupyter-widgets/base",
            "_model_module_version": "1.2.0",
            "_model_name": "LayoutModel",
            "_view_count": null,
            "_view_module": "@jupyter-widgets/base",
            "_view_module_version": "1.2.0",
            "_view_name": "LayoutView",
            "align_content": null,
            "align_items": null,
            "align_self": null,
            "border": null,
            "bottom": null,
            "display": null,
            "flex": null,
            "flex_flow": null,
            "grid_area": null,
            "grid_auto_columns": null,
            "grid_auto_flow": null,
            "grid_auto_rows": null,
            "grid_column": null,
            "grid_gap": null,
            "grid_row": null,
            "grid_template_areas": null,
            "grid_template_columns": null,
            "grid_template_rows": null,
            "height": null,
            "justify_content": null,
            "justify_items": null,
            "left": null,
            "margin": null,
            "max_height": null,
            "max_width": null,
            "min_height": null,
            "min_width": null,
            "object_fit": null,
            "object_position": null,
            "order": null,
            "overflow": null,
            "overflow_x": null,
            "overflow_y": null,
            "padding": null,
            "right": null,
            "top": null,
            "visibility": null,
            "width": null
          }
        },
        "47341ffec0b7479b8197cd1688472bd2": {
          "model_module": "@jupyter-widgets/controls",
          "model_name": "DescriptionStyleModel",
          "model_module_version": "1.5.0",
          "state": {
            "_model_module": "@jupyter-widgets/controls",
            "_model_module_version": "1.5.0",
            "_model_name": "DescriptionStyleModel",
            "_view_count": null,
            "_view_module": "@jupyter-widgets/base",
            "_view_module_version": "1.2.0",
            "_view_name": "StyleView",
            "description_width": ""
          }
        },
        "0aff26dde1f34a6dbb93cbd52a7a7991": {
          "model_module": "@jupyter-widgets/base",
          "model_name": "LayoutModel",
          "model_module_version": "1.2.0",
          "state": {
            "_model_module": "@jupyter-widgets/base",
            "_model_module_version": "1.2.0",
            "_model_name": "LayoutModel",
            "_view_count": null,
            "_view_module": "@jupyter-widgets/base",
            "_view_module_version": "1.2.0",
            "_view_name": "LayoutView",
            "align_content": null,
            "align_items": null,
            "align_self": null,
            "border": null,
            "bottom": null,
            "display": null,
            "flex": null,
            "flex_flow": null,
            "grid_area": null,
            "grid_auto_columns": null,
            "grid_auto_flow": null,
            "grid_auto_rows": null,
            "grid_column": null,
            "grid_gap": null,
            "grid_row": null,
            "grid_template_areas": null,
            "grid_template_columns": null,
            "grid_template_rows": null,
            "height": null,
            "justify_content": null,
            "justify_items": null,
            "left": null,
            "margin": null,
            "max_height": null,
            "max_width": null,
            "min_height": null,
            "min_width": null,
            "object_fit": null,
            "object_position": null,
            "order": null,
            "overflow": null,
            "overflow_x": null,
            "overflow_y": null,
            "padding": null,
            "right": null,
            "top": null,
            "visibility": null,
            "width": null
          }
        },
        "d6cfbfb6506c4645b429bbdf60b799ea": {
          "model_module": "@jupyter-widgets/controls",
          "model_name": "ProgressStyleModel",
          "model_module_version": "1.5.0",
          "state": {
            "_model_module": "@jupyter-widgets/controls",
            "_model_module_version": "1.5.0",
            "_model_name": "ProgressStyleModel",
            "_view_count": null,
            "_view_module": "@jupyter-widgets/base",
            "_view_module_version": "1.2.0",
            "_view_name": "StyleView",
            "bar_color": null,
            "description_width": ""
          }
        },
        "108c0fb34fdb4f459b97cb10c268749d": {
          "model_module": "@jupyter-widgets/base",
          "model_name": "LayoutModel",
          "model_module_version": "1.2.0",
          "state": {
            "_model_module": "@jupyter-widgets/base",
            "_model_module_version": "1.2.0",
            "_model_name": "LayoutModel",
            "_view_count": null,
            "_view_module": "@jupyter-widgets/base",
            "_view_module_version": "1.2.0",
            "_view_name": "LayoutView",
            "align_content": null,
            "align_items": null,
            "align_self": null,
            "border": null,
            "bottom": null,
            "display": null,
            "flex": null,
            "flex_flow": null,
            "grid_area": null,
            "grid_auto_columns": null,
            "grid_auto_flow": null,
            "grid_auto_rows": null,
            "grid_column": null,
            "grid_gap": null,
            "grid_row": null,
            "grid_template_areas": null,
            "grid_template_columns": null,
            "grid_template_rows": null,
            "height": null,
            "justify_content": null,
            "justify_items": null,
            "left": null,
            "margin": null,
            "max_height": null,
            "max_width": null,
            "min_height": null,
            "min_width": null,
            "object_fit": null,
            "object_position": null,
            "order": null,
            "overflow": null,
            "overflow_x": null,
            "overflow_y": null,
            "padding": null,
            "right": null,
            "top": null,
            "visibility": null,
            "width": null
          }
        },
        "890d9af2b45149c99a90d502183e058a": {
          "model_module": "@jupyter-widgets/controls",
          "model_name": "DescriptionStyleModel",
          "model_module_version": "1.5.0",
          "state": {
            "_model_module": "@jupyter-widgets/controls",
            "_model_module_version": "1.5.0",
            "_model_name": "DescriptionStyleModel",
            "_view_count": null,
            "_view_module": "@jupyter-widgets/base",
            "_view_module_version": "1.2.0",
            "_view_name": "StyleView",
            "description_width": ""
          }
        },
        "8cd848c0e9284c0ead07201351f60cfa": {
          "model_module": "@jupyter-widgets/controls",
          "model_name": "HBoxModel",
          "model_module_version": "1.5.0",
          "state": {
            "_dom_classes": [],
            "_model_module": "@jupyter-widgets/controls",
            "_model_module_version": "1.5.0",
            "_model_name": "HBoxModel",
            "_view_count": null,
            "_view_module": "@jupyter-widgets/controls",
            "_view_module_version": "1.5.0",
            "_view_name": "HBoxView",
            "box_style": "",
            "children": [
              "IPY_MODEL_d912cfa1bd87428d909081f0b8d4b5f3",
              "IPY_MODEL_cc088041f08340dfbd159ff471ab3c97",
              "IPY_MODEL_9a5506f8bc154efa9f452c590fb3461c"
            ],
            "layout": "IPY_MODEL_f059c3d17a5b45d3a819d271ae0884cf"
          }
        },
        "d912cfa1bd87428d909081f0b8d4b5f3": {
          "model_module": "@jupyter-widgets/controls",
          "model_name": "HTMLModel",
          "model_module_version": "1.5.0",
          "state": {
            "_dom_classes": [],
            "_model_module": "@jupyter-widgets/controls",
            "_model_module_version": "1.5.0",
            "_model_name": "HTMLModel",
            "_view_count": null,
            "_view_module": "@jupyter-widgets/controls",
            "_view_module_version": "1.5.0",
            "_view_name": "HTMLView",
            "description": "",
            "description_tooltip": null,
            "layout": "IPY_MODEL_d4371c524e8b4b27be861884af2cee33",
            "placeholder": "​",
            "style": "IPY_MODEL_d11c6fb454104fc8ab7815717b244a61",
            "value": "Downloading (…)lve/main/config.json: 100%"
          }
        },
        "cc088041f08340dfbd159ff471ab3c97": {
          "model_module": "@jupyter-widgets/controls",
          "model_name": "FloatProgressModel",
          "model_module_version": "1.5.0",
          "state": {
            "_dom_classes": [],
            "_model_module": "@jupyter-widgets/controls",
            "_model_module_version": "1.5.0",
            "_model_name": "FloatProgressModel",
            "_view_count": null,
            "_view_module": "@jupyter-widgets/controls",
            "_view_module_version": "1.5.0",
            "_view_name": "ProgressView",
            "bar_style": "success",
            "description": "",
            "description_tooltip": null,
            "layout": "IPY_MODEL_823b8d78bccd4b098a7e06c54d1938ed",
            "max": 462,
            "min": 0,
            "orientation": "horizontal",
            "style": "IPY_MODEL_0722522df3454ba8b40cf1913f1216a4",
            "value": 462
          }
        },
        "9a5506f8bc154efa9f452c590fb3461c": {
          "model_module": "@jupyter-widgets/controls",
          "model_name": "HTMLModel",
          "model_module_version": "1.5.0",
          "state": {
            "_dom_classes": [],
            "_model_module": "@jupyter-widgets/controls",
            "_model_module_version": "1.5.0",
            "_model_name": "HTMLModel",
            "_view_count": null,
            "_view_module": "@jupyter-widgets/controls",
            "_view_module_version": "1.5.0",
            "_view_name": "HTMLView",
            "description": "",
            "description_tooltip": null,
            "layout": "IPY_MODEL_94371ada22c04522880e954d67a2e24c",
            "placeholder": "​",
            "style": "IPY_MODEL_8844f31d665f4e63a1cefc230583b9b5",
            "value": " 462/462 [00:00&lt;00:00, 12.4kB/s]"
          }
        },
        "f059c3d17a5b45d3a819d271ae0884cf": {
          "model_module": "@jupyter-widgets/base",
          "model_name": "LayoutModel",
          "model_module_version": "1.2.0",
          "state": {
            "_model_module": "@jupyter-widgets/base",
            "_model_module_version": "1.2.0",
            "_model_name": "LayoutModel",
            "_view_count": null,
            "_view_module": "@jupyter-widgets/base",
            "_view_module_version": "1.2.0",
            "_view_name": "LayoutView",
            "align_content": null,
            "align_items": null,
            "align_self": null,
            "border": null,
            "bottom": null,
            "display": null,
            "flex": null,
            "flex_flow": null,
            "grid_area": null,
            "grid_auto_columns": null,
            "grid_auto_flow": null,
            "grid_auto_rows": null,
            "grid_column": null,
            "grid_gap": null,
            "grid_row": null,
            "grid_template_areas": null,
            "grid_template_columns": null,
            "grid_template_rows": null,
            "height": null,
            "justify_content": null,
            "justify_items": null,
            "left": null,
            "margin": null,
            "max_height": null,
            "max_width": null,
            "min_height": null,
            "min_width": null,
            "object_fit": null,
            "object_position": null,
            "order": null,
            "overflow": null,
            "overflow_x": null,
            "overflow_y": null,
            "padding": null,
            "right": null,
            "top": null,
            "visibility": null,
            "width": null
          }
        },
        "d4371c524e8b4b27be861884af2cee33": {
          "model_module": "@jupyter-widgets/base",
          "model_name": "LayoutModel",
          "model_module_version": "1.2.0",
          "state": {
            "_model_module": "@jupyter-widgets/base",
            "_model_module_version": "1.2.0",
            "_model_name": "LayoutModel",
            "_view_count": null,
            "_view_module": "@jupyter-widgets/base",
            "_view_module_version": "1.2.0",
            "_view_name": "LayoutView",
            "align_content": null,
            "align_items": null,
            "align_self": null,
            "border": null,
            "bottom": null,
            "display": null,
            "flex": null,
            "flex_flow": null,
            "grid_area": null,
            "grid_auto_columns": null,
            "grid_auto_flow": null,
            "grid_auto_rows": null,
            "grid_column": null,
            "grid_gap": null,
            "grid_row": null,
            "grid_template_areas": null,
            "grid_template_columns": null,
            "grid_template_rows": null,
            "height": null,
            "justify_content": null,
            "justify_items": null,
            "left": null,
            "margin": null,
            "max_height": null,
            "max_width": null,
            "min_height": null,
            "min_width": null,
            "object_fit": null,
            "object_position": null,
            "order": null,
            "overflow": null,
            "overflow_x": null,
            "overflow_y": null,
            "padding": null,
            "right": null,
            "top": null,
            "visibility": null,
            "width": null
          }
        },
        "d11c6fb454104fc8ab7815717b244a61": {
          "model_module": "@jupyter-widgets/controls",
          "model_name": "DescriptionStyleModel",
          "model_module_version": "1.5.0",
          "state": {
            "_model_module": "@jupyter-widgets/controls",
            "_model_module_version": "1.5.0",
            "_model_name": "DescriptionStyleModel",
            "_view_count": null,
            "_view_module": "@jupyter-widgets/base",
            "_view_module_version": "1.2.0",
            "_view_name": "StyleView",
            "description_width": ""
          }
        },
        "823b8d78bccd4b098a7e06c54d1938ed": {
          "model_module": "@jupyter-widgets/base",
          "model_name": "LayoutModel",
          "model_module_version": "1.2.0",
          "state": {
            "_model_module": "@jupyter-widgets/base",
            "_model_module_version": "1.2.0",
            "_model_name": "LayoutModel",
            "_view_count": null,
            "_view_module": "@jupyter-widgets/base",
            "_view_module_version": "1.2.0",
            "_view_name": "LayoutView",
            "align_content": null,
            "align_items": null,
            "align_self": null,
            "border": null,
            "bottom": null,
            "display": null,
            "flex": null,
            "flex_flow": null,
            "grid_area": null,
            "grid_auto_columns": null,
            "grid_auto_flow": null,
            "grid_auto_rows": null,
            "grid_column": null,
            "grid_gap": null,
            "grid_row": null,
            "grid_template_areas": null,
            "grid_template_columns": null,
            "grid_template_rows": null,
            "height": null,
            "justify_content": null,
            "justify_items": null,
            "left": null,
            "margin": null,
            "max_height": null,
            "max_width": null,
            "min_height": null,
            "min_width": null,
            "object_fit": null,
            "object_position": null,
            "order": null,
            "overflow": null,
            "overflow_x": null,
            "overflow_y": null,
            "padding": null,
            "right": null,
            "top": null,
            "visibility": null,
            "width": null
          }
        },
        "0722522df3454ba8b40cf1913f1216a4": {
          "model_module": "@jupyter-widgets/controls",
          "model_name": "ProgressStyleModel",
          "model_module_version": "1.5.0",
          "state": {
            "_model_module": "@jupyter-widgets/controls",
            "_model_module_version": "1.5.0",
            "_model_name": "ProgressStyleModel",
            "_view_count": null,
            "_view_module": "@jupyter-widgets/base",
            "_view_module_version": "1.2.0",
            "_view_name": "StyleView",
            "bar_color": null,
            "description_width": ""
          }
        },
        "94371ada22c04522880e954d67a2e24c": {
          "model_module": "@jupyter-widgets/base",
          "model_name": "LayoutModel",
          "model_module_version": "1.2.0",
          "state": {
            "_model_module": "@jupyter-widgets/base",
            "_model_module_version": "1.2.0",
            "_model_name": "LayoutModel",
            "_view_count": null,
            "_view_module": "@jupyter-widgets/base",
            "_view_module_version": "1.2.0",
            "_view_name": "LayoutView",
            "align_content": null,
            "align_items": null,
            "align_self": null,
            "border": null,
            "bottom": null,
            "display": null,
            "flex": null,
            "flex_flow": null,
            "grid_area": null,
            "grid_auto_columns": null,
            "grid_auto_flow": null,
            "grid_auto_rows": null,
            "grid_column": null,
            "grid_gap": null,
            "grid_row": null,
            "grid_template_areas": null,
            "grid_template_columns": null,
            "grid_template_rows": null,
            "height": null,
            "justify_content": null,
            "justify_items": null,
            "left": null,
            "margin": null,
            "max_height": null,
            "max_width": null,
            "min_height": null,
            "min_width": null,
            "object_fit": null,
            "object_position": null,
            "order": null,
            "overflow": null,
            "overflow_x": null,
            "overflow_y": null,
            "padding": null,
            "right": null,
            "top": null,
            "visibility": null,
            "width": null
          }
        },
        "8844f31d665f4e63a1cefc230583b9b5": {
          "model_module": "@jupyter-widgets/controls",
          "model_name": "DescriptionStyleModel",
          "model_module_version": "1.5.0",
          "state": {
            "_model_module": "@jupyter-widgets/controls",
            "_model_module_version": "1.5.0",
            "_model_name": "DescriptionStyleModel",
            "_view_count": null,
            "_view_module": "@jupyter-widgets/base",
            "_view_module_version": "1.2.0",
            "_view_name": "StyleView",
            "description_width": ""
          }
        },
        "a177cb166f304a538d317edae4c2c8ae": {
          "model_module": "@jupyter-widgets/controls",
          "model_name": "HBoxModel",
          "model_module_version": "1.5.0",
          "state": {
            "_dom_classes": [],
            "_model_module": "@jupyter-widgets/controls",
            "_model_module_version": "1.5.0",
            "_model_name": "HBoxModel",
            "_view_count": null,
            "_view_module": "@jupyter-widgets/controls",
            "_view_module_version": "1.5.0",
            "_view_name": "HBoxView",
            "box_style": "",
            "children": [
              "IPY_MODEL_852ab0c6af6f40ffaeec96de2f7e74f4",
              "IPY_MODEL_ed66a0d9f3a64759b02af8db71ab3bf7",
              "IPY_MODEL_59d2cb52412347c6bdd7ffff18081a50"
            ],
            "layout": "IPY_MODEL_4437f31659034bb3a3a5b95c216f10ed"
          }
        },
        "852ab0c6af6f40ffaeec96de2f7e74f4": {
          "model_module": "@jupyter-widgets/controls",
          "model_name": "HTMLModel",
          "model_module_version": "1.5.0",
          "state": {
            "_dom_classes": [],
            "_model_module": "@jupyter-widgets/controls",
            "_model_module_version": "1.5.0",
            "_model_name": "HTMLModel",
            "_view_count": null,
            "_view_module": "@jupyter-widgets/controls",
            "_view_module_version": "1.5.0",
            "_view_name": "HTMLView",
            "description": "",
            "description_tooltip": null,
            "layout": "IPY_MODEL_28cd5f75dd304113adcec43ed81ba8d8",
            "placeholder": "​",
            "style": "IPY_MODEL_21cdb216d5904c1cbf321fc93fbea6ce",
            "value": "Downloading pytorch_model.bin: 100%"
          }
        },
        "ed66a0d9f3a64759b02af8db71ab3bf7": {
          "model_module": "@jupyter-widgets/controls",
          "model_name": "FloatProgressModel",
          "model_module_version": "1.5.0",
          "state": {
            "_dom_classes": [],
            "_model_module": "@jupyter-widgets/controls",
            "_model_module_version": "1.5.0",
            "_model_name": "FloatProgressModel",
            "_view_count": null,
            "_view_module": "@jupyter-widgets/controls",
            "_view_module_version": "1.5.0",
            "_view_name": "ProgressView",
            "bar_style": "success",
            "description": "",
            "description_tooltip": null,
            "layout": "IPY_MODEL_14073e304e9e4e1fbb155682c9af6a6f",
            "max": 438015479,
            "min": 0,
            "orientation": "horizontal",
            "style": "IPY_MODEL_3d7e1c30beeb4088b0c9286dde72e1d0",
            "value": 438015479
          }
        },
        "59d2cb52412347c6bdd7ffff18081a50": {
          "model_module": "@jupyter-widgets/controls",
          "model_name": "HTMLModel",
          "model_module_version": "1.5.0",
          "state": {
            "_dom_classes": [],
            "_model_module": "@jupyter-widgets/controls",
            "_model_module_version": "1.5.0",
            "_model_name": "HTMLModel",
            "_view_count": null,
            "_view_module": "@jupyter-widgets/controls",
            "_view_module_version": "1.5.0",
            "_view_name": "HTMLView",
            "description": "",
            "description_tooltip": null,
            "layout": "IPY_MODEL_9def935ef65f44f5aa3367840591544a",
            "placeholder": "​",
            "style": "IPY_MODEL_bc360764424243a080ea9b4b34bbdf87",
            "value": " 438M/438M [00:06&lt;00:00, 69.5MB/s]"
          }
        },
        "4437f31659034bb3a3a5b95c216f10ed": {
          "model_module": "@jupyter-widgets/base",
          "model_name": "LayoutModel",
          "model_module_version": "1.2.0",
          "state": {
            "_model_module": "@jupyter-widgets/base",
            "_model_module_version": "1.2.0",
            "_model_name": "LayoutModel",
            "_view_count": null,
            "_view_module": "@jupyter-widgets/base",
            "_view_module_version": "1.2.0",
            "_view_name": "LayoutView",
            "align_content": null,
            "align_items": null,
            "align_self": null,
            "border": null,
            "bottom": null,
            "display": null,
            "flex": null,
            "flex_flow": null,
            "grid_area": null,
            "grid_auto_columns": null,
            "grid_auto_flow": null,
            "grid_auto_rows": null,
            "grid_column": null,
            "grid_gap": null,
            "grid_row": null,
            "grid_template_areas": null,
            "grid_template_columns": null,
            "grid_template_rows": null,
            "height": null,
            "justify_content": null,
            "justify_items": null,
            "left": null,
            "margin": null,
            "max_height": null,
            "max_width": null,
            "min_height": null,
            "min_width": null,
            "object_fit": null,
            "object_position": null,
            "order": null,
            "overflow": null,
            "overflow_x": null,
            "overflow_y": null,
            "padding": null,
            "right": null,
            "top": null,
            "visibility": null,
            "width": null
          }
        },
        "28cd5f75dd304113adcec43ed81ba8d8": {
          "model_module": "@jupyter-widgets/base",
          "model_name": "LayoutModel",
          "model_module_version": "1.2.0",
          "state": {
            "_model_module": "@jupyter-widgets/base",
            "_model_module_version": "1.2.0",
            "_model_name": "LayoutModel",
            "_view_count": null,
            "_view_module": "@jupyter-widgets/base",
            "_view_module_version": "1.2.0",
            "_view_name": "LayoutView",
            "align_content": null,
            "align_items": null,
            "align_self": null,
            "border": null,
            "bottom": null,
            "display": null,
            "flex": null,
            "flex_flow": null,
            "grid_area": null,
            "grid_auto_columns": null,
            "grid_auto_flow": null,
            "grid_auto_rows": null,
            "grid_column": null,
            "grid_gap": null,
            "grid_row": null,
            "grid_template_areas": null,
            "grid_template_columns": null,
            "grid_template_rows": null,
            "height": null,
            "justify_content": null,
            "justify_items": null,
            "left": null,
            "margin": null,
            "max_height": null,
            "max_width": null,
            "min_height": null,
            "min_width": null,
            "object_fit": null,
            "object_position": null,
            "order": null,
            "overflow": null,
            "overflow_x": null,
            "overflow_y": null,
            "padding": null,
            "right": null,
            "top": null,
            "visibility": null,
            "width": null
          }
        },
        "21cdb216d5904c1cbf321fc93fbea6ce": {
          "model_module": "@jupyter-widgets/controls",
          "model_name": "DescriptionStyleModel",
          "model_module_version": "1.5.0",
          "state": {
            "_model_module": "@jupyter-widgets/controls",
            "_model_module_version": "1.5.0",
            "_model_name": "DescriptionStyleModel",
            "_view_count": null,
            "_view_module": "@jupyter-widgets/base",
            "_view_module_version": "1.2.0",
            "_view_name": "StyleView",
            "description_width": ""
          }
        },
        "14073e304e9e4e1fbb155682c9af6a6f": {
          "model_module": "@jupyter-widgets/base",
          "model_name": "LayoutModel",
          "model_module_version": "1.2.0",
          "state": {
            "_model_module": "@jupyter-widgets/base",
            "_model_module_version": "1.2.0",
            "_model_name": "LayoutModel",
            "_view_count": null,
            "_view_module": "@jupyter-widgets/base",
            "_view_module_version": "1.2.0",
            "_view_name": "LayoutView",
            "align_content": null,
            "align_items": null,
            "align_self": null,
            "border": null,
            "bottom": null,
            "display": null,
            "flex": null,
            "flex_flow": null,
            "grid_area": null,
            "grid_auto_columns": null,
            "grid_auto_flow": null,
            "grid_auto_rows": null,
            "grid_column": null,
            "grid_gap": null,
            "grid_row": null,
            "grid_template_areas": null,
            "grid_template_columns": null,
            "grid_template_rows": null,
            "height": null,
            "justify_content": null,
            "justify_items": null,
            "left": null,
            "margin": null,
            "max_height": null,
            "max_width": null,
            "min_height": null,
            "min_width": null,
            "object_fit": null,
            "object_position": null,
            "order": null,
            "overflow": null,
            "overflow_x": null,
            "overflow_y": null,
            "padding": null,
            "right": null,
            "top": null,
            "visibility": null,
            "width": null
          }
        },
        "3d7e1c30beeb4088b0c9286dde72e1d0": {
          "model_module": "@jupyter-widgets/controls",
          "model_name": "ProgressStyleModel",
          "model_module_version": "1.5.0",
          "state": {
            "_model_module": "@jupyter-widgets/controls",
            "_model_module_version": "1.5.0",
            "_model_name": "ProgressStyleModel",
            "_view_count": null,
            "_view_module": "@jupyter-widgets/base",
            "_view_module_version": "1.2.0",
            "_view_name": "StyleView",
            "bar_color": null,
            "description_width": ""
          }
        },
        "9def935ef65f44f5aa3367840591544a": {
          "model_module": "@jupyter-widgets/base",
          "model_name": "LayoutModel",
          "model_module_version": "1.2.0",
          "state": {
            "_model_module": "@jupyter-widgets/base",
            "_model_module_version": "1.2.0",
            "_model_name": "LayoutModel",
            "_view_count": null,
            "_view_module": "@jupyter-widgets/base",
            "_view_module_version": "1.2.0",
            "_view_name": "LayoutView",
            "align_content": null,
            "align_items": null,
            "align_self": null,
            "border": null,
            "bottom": null,
            "display": null,
            "flex": null,
            "flex_flow": null,
            "grid_area": null,
            "grid_auto_columns": null,
            "grid_auto_flow": null,
            "grid_auto_rows": null,
            "grid_column": null,
            "grid_gap": null,
            "grid_row": null,
            "grid_template_areas": null,
            "grid_template_columns": null,
            "grid_template_rows": null,
            "height": null,
            "justify_content": null,
            "justify_items": null,
            "left": null,
            "margin": null,
            "max_height": null,
            "max_width": null,
            "min_height": null,
            "min_width": null,
            "object_fit": null,
            "object_position": null,
            "order": null,
            "overflow": null,
            "overflow_x": null,
            "overflow_y": null,
            "padding": null,
            "right": null,
            "top": null,
            "visibility": null,
            "width": null
          }
        },
        "bc360764424243a080ea9b4b34bbdf87": {
          "model_module": "@jupyter-widgets/controls",
          "model_name": "DescriptionStyleModel",
          "model_module_version": "1.5.0",
          "state": {
            "_model_module": "@jupyter-widgets/controls",
            "_model_module_version": "1.5.0",
            "_model_name": "DescriptionStyleModel",
            "_view_count": null,
            "_view_module": "@jupyter-widgets/base",
            "_view_module_version": "1.2.0",
            "_view_name": "StyleView",
            "description_width": ""
          }
        },
        "e934e688c94f445ab83389a8451ebbc6": {
          "model_module": "@jupyter-widgets/controls",
          "model_name": "HBoxModel",
          "model_module_version": "1.5.0",
          "state": {
            "_dom_classes": [],
            "_model_module": "@jupyter-widgets/controls",
            "_model_module_version": "1.5.0",
            "_model_name": "HBoxModel",
            "_view_count": null,
            "_view_module": "@jupyter-widgets/controls",
            "_view_module_version": "1.5.0",
            "_view_name": "HBoxView",
            "box_style": "",
            "children": [
              "IPY_MODEL_79e3770d27d74ed38db8f4530ae6ff06",
              "IPY_MODEL_611f75ef7c0d4a1290a8f737d6711c5a",
              "IPY_MODEL_5e4f083829ca40339407a0d5f51e64ed"
            ],
            "layout": "IPY_MODEL_40afc506706e434c94f7e9012f7e85f6"
          }
        },
        "79e3770d27d74ed38db8f4530ae6ff06": {
          "model_module": "@jupyter-widgets/controls",
          "model_name": "HTMLModel",
          "model_module_version": "1.5.0",
          "state": {
            "_dom_classes": [],
            "_model_module": "@jupyter-widgets/controls",
            "_model_module_version": "1.5.0",
            "_model_name": "HTMLModel",
            "_view_count": null,
            "_view_module": "@jupyter-widgets/controls",
            "_view_module_version": "1.5.0",
            "_view_name": "HTMLView",
            "description": "",
            "description_tooltip": null,
            "layout": "IPY_MODEL_f638d34758d044d5bbdf7c894ee4863b",
            "placeholder": "​",
            "style": "IPY_MODEL_3042a3ab5f2c447c83485094f4a6e0a1",
            "value": "Downloading pytorch_model.bin: 100%"
          }
        },
        "611f75ef7c0d4a1290a8f737d6711c5a": {
          "model_module": "@jupyter-widgets/controls",
          "model_name": "FloatProgressModel",
          "model_module_version": "1.5.0",
          "state": {
            "_dom_classes": [],
            "_model_module": "@jupyter-widgets/controls",
            "_model_module_version": "1.5.0",
            "_model_name": "FloatProgressModel",
            "_view_count": null,
            "_view_module": "@jupyter-widgets/controls",
            "_view_module_version": "1.5.0",
            "_view_name": "ProgressView",
            "bar_style": "success",
            "description": "",
            "description_tooltip": null,
            "layout": "IPY_MODEL_cf6dc08fc0ae47bda6854c1c44166037",
            "max": 891692441,
            "min": 0,
            "orientation": "horizontal",
            "style": "IPY_MODEL_ef137ae891d14d398788d8caf780f1fe",
            "value": 891692441
          }
        },
        "5e4f083829ca40339407a0d5f51e64ed": {
          "model_module": "@jupyter-widgets/controls",
          "model_name": "HTMLModel",
          "model_module_version": "1.5.0",
          "state": {
            "_dom_classes": [],
            "_model_module": "@jupyter-widgets/controls",
            "_model_module_version": "1.5.0",
            "_model_name": "HTMLModel",
            "_view_count": null,
            "_view_module": "@jupyter-widgets/controls",
            "_view_module_version": "1.5.0",
            "_view_name": "HTMLView",
            "description": "",
            "description_tooltip": null,
            "layout": "IPY_MODEL_3c0bf3cf8ef64685b35408c57e03a4fe",
            "placeholder": "​",
            "style": "IPY_MODEL_ac979270f2da48058cb755e4c32a9fab",
            "value": " 892M/892M [00:27&lt;00:00, 37.7MB/s]"
          }
        },
        "40afc506706e434c94f7e9012f7e85f6": {
          "model_module": "@jupyter-widgets/base",
          "model_name": "LayoutModel",
          "model_module_version": "1.2.0",
          "state": {
            "_model_module": "@jupyter-widgets/base",
            "_model_module_version": "1.2.0",
            "_model_name": "LayoutModel",
            "_view_count": null,
            "_view_module": "@jupyter-widgets/base",
            "_view_module_version": "1.2.0",
            "_view_name": "LayoutView",
            "align_content": null,
            "align_items": null,
            "align_self": null,
            "border": null,
            "bottom": null,
            "display": null,
            "flex": null,
            "flex_flow": null,
            "grid_area": null,
            "grid_auto_columns": null,
            "grid_auto_flow": null,
            "grid_auto_rows": null,
            "grid_column": null,
            "grid_gap": null,
            "grid_row": null,
            "grid_template_areas": null,
            "grid_template_columns": null,
            "grid_template_rows": null,
            "height": null,
            "justify_content": null,
            "justify_items": null,
            "left": null,
            "margin": null,
            "max_height": null,
            "max_width": null,
            "min_height": null,
            "min_width": null,
            "object_fit": null,
            "object_position": null,
            "order": null,
            "overflow": null,
            "overflow_x": null,
            "overflow_y": null,
            "padding": null,
            "right": null,
            "top": null,
            "visibility": null,
            "width": null
          }
        },
        "f638d34758d044d5bbdf7c894ee4863b": {
          "model_module": "@jupyter-widgets/base",
          "model_name": "LayoutModel",
          "model_module_version": "1.2.0",
          "state": {
            "_model_module": "@jupyter-widgets/base",
            "_model_module_version": "1.2.0",
            "_model_name": "LayoutModel",
            "_view_count": null,
            "_view_module": "@jupyter-widgets/base",
            "_view_module_version": "1.2.0",
            "_view_name": "LayoutView",
            "align_content": null,
            "align_items": null,
            "align_self": null,
            "border": null,
            "bottom": null,
            "display": null,
            "flex": null,
            "flex_flow": null,
            "grid_area": null,
            "grid_auto_columns": null,
            "grid_auto_flow": null,
            "grid_auto_rows": null,
            "grid_column": null,
            "grid_gap": null,
            "grid_row": null,
            "grid_template_areas": null,
            "grid_template_columns": null,
            "grid_template_rows": null,
            "height": null,
            "justify_content": null,
            "justify_items": null,
            "left": null,
            "margin": null,
            "max_height": null,
            "max_width": null,
            "min_height": null,
            "min_width": null,
            "object_fit": null,
            "object_position": null,
            "order": null,
            "overflow": null,
            "overflow_x": null,
            "overflow_y": null,
            "padding": null,
            "right": null,
            "top": null,
            "visibility": null,
            "width": null
          }
        },
        "3042a3ab5f2c447c83485094f4a6e0a1": {
          "model_module": "@jupyter-widgets/controls",
          "model_name": "DescriptionStyleModel",
          "model_module_version": "1.5.0",
          "state": {
            "_model_module": "@jupyter-widgets/controls",
            "_model_module_version": "1.5.0",
            "_model_name": "DescriptionStyleModel",
            "_view_count": null,
            "_view_module": "@jupyter-widgets/base",
            "_view_module_version": "1.2.0",
            "_view_name": "StyleView",
            "description_width": ""
          }
        },
        "cf6dc08fc0ae47bda6854c1c44166037": {
          "model_module": "@jupyter-widgets/base",
          "model_name": "LayoutModel",
          "model_module_version": "1.2.0",
          "state": {
            "_model_module": "@jupyter-widgets/base",
            "_model_module_version": "1.2.0",
            "_model_name": "LayoutModel",
            "_view_count": null,
            "_view_module": "@jupyter-widgets/base",
            "_view_module_version": "1.2.0",
            "_view_name": "LayoutView",
            "align_content": null,
            "align_items": null,
            "align_self": null,
            "border": null,
            "bottom": null,
            "display": null,
            "flex": null,
            "flex_flow": null,
            "grid_area": null,
            "grid_auto_columns": null,
            "grid_auto_flow": null,
            "grid_auto_rows": null,
            "grid_column": null,
            "grid_gap": null,
            "grid_row": null,
            "grid_template_areas": null,
            "grid_template_columns": null,
            "grid_template_rows": null,
            "height": null,
            "justify_content": null,
            "justify_items": null,
            "left": null,
            "margin": null,
            "max_height": null,
            "max_width": null,
            "min_height": null,
            "min_width": null,
            "object_fit": null,
            "object_position": null,
            "order": null,
            "overflow": null,
            "overflow_x": null,
            "overflow_y": null,
            "padding": null,
            "right": null,
            "top": null,
            "visibility": null,
            "width": null
          }
        },
        "ef137ae891d14d398788d8caf780f1fe": {
          "model_module": "@jupyter-widgets/controls",
          "model_name": "ProgressStyleModel",
          "model_module_version": "1.5.0",
          "state": {
            "_model_module": "@jupyter-widgets/controls",
            "_model_module_version": "1.5.0",
            "_model_name": "ProgressStyleModel",
            "_view_count": null,
            "_view_module": "@jupyter-widgets/base",
            "_view_module_version": "1.2.0",
            "_view_name": "StyleView",
            "bar_color": null,
            "description_width": ""
          }
        },
        "3c0bf3cf8ef64685b35408c57e03a4fe": {
          "model_module": "@jupyter-widgets/base",
          "model_name": "LayoutModel",
          "model_module_version": "1.2.0",
          "state": {
            "_model_module": "@jupyter-widgets/base",
            "_model_module_version": "1.2.0",
            "_model_name": "LayoutModel",
            "_view_count": null,
            "_view_module": "@jupyter-widgets/base",
            "_view_module_version": "1.2.0",
            "_view_name": "LayoutView",
            "align_content": null,
            "align_items": null,
            "align_self": null,
            "border": null,
            "bottom": null,
            "display": null,
            "flex": null,
            "flex_flow": null,
            "grid_area": null,
            "grid_auto_columns": null,
            "grid_auto_flow": null,
            "grid_auto_rows": null,
            "grid_column": null,
            "grid_gap": null,
            "grid_row": null,
            "grid_template_areas": null,
            "grid_template_columns": null,
            "grid_template_rows": null,
            "height": null,
            "justify_content": null,
            "justify_items": null,
            "left": null,
            "margin": null,
            "max_height": null,
            "max_width": null,
            "min_height": null,
            "min_width": null,
            "object_fit": null,
            "object_position": null,
            "order": null,
            "overflow": null,
            "overflow_x": null,
            "overflow_y": null,
            "padding": null,
            "right": null,
            "top": null,
            "visibility": null,
            "width": null
          }
        },
        "ac979270f2da48058cb755e4c32a9fab": {
          "model_module": "@jupyter-widgets/controls",
          "model_name": "DescriptionStyleModel",
          "model_module_version": "1.5.0",
          "state": {
            "_model_module": "@jupyter-widgets/controls",
            "_model_module_version": "1.5.0",
            "_model_name": "DescriptionStyleModel",
            "_view_count": null,
            "_view_module": "@jupyter-widgets/base",
            "_view_module_version": "1.2.0",
            "_view_name": "StyleView",
            "description_width": ""
          }
        },
        "22a7ada2fc4f4070bc26f41534ac9ca8": {
          "model_module": "@jupyter-widgets/controls",
          "model_name": "HBoxModel",
          "model_module_version": "1.5.0",
          "state": {
            "_dom_classes": [],
            "_model_module": "@jupyter-widgets/controls",
            "_model_module_version": "1.5.0",
            "_model_name": "HBoxModel",
            "_view_count": null,
            "_view_module": "@jupyter-widgets/controls",
            "_view_module_version": "1.5.0",
            "_view_name": "HBoxView",
            "box_style": "",
            "children": [
              "IPY_MODEL_c473b5a7388e4ee796dd9ac4e5c65c03",
              "IPY_MODEL_d1db1d8d97f64faab44a0ce0421f5e3c",
              "IPY_MODEL_f7e9e723bc5f48ada3bbe93fdbb624c0"
            ],
            "layout": "IPY_MODEL_d27b7c95e0da4caebae0b87d9a8ad97d"
          }
        },
        "c473b5a7388e4ee796dd9ac4e5c65c03": {
          "model_module": "@jupyter-widgets/controls",
          "model_name": "HTMLModel",
          "model_module_version": "1.5.0",
          "state": {
            "_dom_classes": [],
            "_model_module": "@jupyter-widgets/controls",
            "_model_module_version": "1.5.0",
            "_model_name": "HTMLModel",
            "_view_count": null,
            "_view_module": "@jupyter-widgets/controls",
            "_view_module_version": "1.5.0",
            "_view_name": "HTMLView",
            "description": "",
            "description_tooltip": null,
            "layout": "IPY_MODEL_854009a8981c4428940b0adf37e5f206",
            "placeholder": "​",
            "style": "IPY_MODEL_881e1a857e6b48a2819bfa98803de8b9",
            "value": "Downloading (…)olve/main/vocab.json: 100%"
          }
        },
        "d1db1d8d97f64faab44a0ce0421f5e3c": {
          "model_module": "@jupyter-widgets/controls",
          "model_name": "FloatProgressModel",
          "model_module_version": "1.5.0",
          "state": {
            "_dom_classes": [],
            "_model_module": "@jupyter-widgets/controls",
            "_model_module_version": "1.5.0",
            "_model_name": "FloatProgressModel",
            "_view_count": null,
            "_view_module": "@jupyter-widgets/controls",
            "_view_module_version": "1.5.0",
            "_view_name": "ProgressView",
            "bar_style": "success",
            "description": "",
            "description_tooltip": null,
            "layout": "IPY_MODEL_8f8f7190ff7f4906aaa35f017580759f",
            "max": 1042301,
            "min": 0,
            "orientation": "horizontal",
            "style": "IPY_MODEL_fae8ea853bd847c58893710460fad8ae",
            "value": 1042301
          }
        },
        "f7e9e723bc5f48ada3bbe93fdbb624c0": {
          "model_module": "@jupyter-widgets/controls",
          "model_name": "HTMLModel",
          "model_module_version": "1.5.0",
          "state": {
            "_dom_classes": [],
            "_model_module": "@jupyter-widgets/controls",
            "_model_module_version": "1.5.0",
            "_model_name": "HTMLModel",
            "_view_count": null,
            "_view_module": "@jupyter-widgets/controls",
            "_view_module_version": "1.5.0",
            "_view_name": "HTMLView",
            "description": "",
            "description_tooltip": null,
            "layout": "IPY_MODEL_1b77863f73a04ffeb4d4360f0ae4e4e6",
            "placeholder": "​",
            "style": "IPY_MODEL_92b80be7105b439aa7526e852be74053",
            "value": " 1.04M/1.04M [00:00&lt;00:00, 12.4MB/s]"
          }
        },
        "d27b7c95e0da4caebae0b87d9a8ad97d": {
          "model_module": "@jupyter-widgets/base",
          "model_name": "LayoutModel",
          "model_module_version": "1.2.0",
          "state": {
            "_model_module": "@jupyter-widgets/base",
            "_model_module_version": "1.2.0",
            "_model_name": "LayoutModel",
            "_view_count": null,
            "_view_module": "@jupyter-widgets/base",
            "_view_module_version": "1.2.0",
            "_view_name": "LayoutView",
            "align_content": null,
            "align_items": null,
            "align_self": null,
            "border": null,
            "bottom": null,
            "display": null,
            "flex": null,
            "flex_flow": null,
            "grid_area": null,
            "grid_auto_columns": null,
            "grid_auto_flow": null,
            "grid_auto_rows": null,
            "grid_column": null,
            "grid_gap": null,
            "grid_row": null,
            "grid_template_areas": null,
            "grid_template_columns": null,
            "grid_template_rows": null,
            "height": null,
            "justify_content": null,
            "justify_items": null,
            "left": null,
            "margin": null,
            "max_height": null,
            "max_width": null,
            "min_height": null,
            "min_width": null,
            "object_fit": null,
            "object_position": null,
            "order": null,
            "overflow": null,
            "overflow_x": null,
            "overflow_y": null,
            "padding": null,
            "right": null,
            "top": null,
            "visibility": null,
            "width": null
          }
        },
        "854009a8981c4428940b0adf37e5f206": {
          "model_module": "@jupyter-widgets/base",
          "model_name": "LayoutModel",
          "model_module_version": "1.2.0",
          "state": {
            "_model_module": "@jupyter-widgets/base",
            "_model_module_version": "1.2.0",
            "_model_name": "LayoutModel",
            "_view_count": null,
            "_view_module": "@jupyter-widgets/base",
            "_view_module_version": "1.2.0",
            "_view_name": "LayoutView",
            "align_content": null,
            "align_items": null,
            "align_self": null,
            "border": null,
            "bottom": null,
            "display": null,
            "flex": null,
            "flex_flow": null,
            "grid_area": null,
            "grid_auto_columns": null,
            "grid_auto_flow": null,
            "grid_auto_rows": null,
            "grid_column": null,
            "grid_gap": null,
            "grid_row": null,
            "grid_template_areas": null,
            "grid_template_columns": null,
            "grid_template_rows": null,
            "height": null,
            "justify_content": null,
            "justify_items": null,
            "left": null,
            "margin": null,
            "max_height": null,
            "max_width": null,
            "min_height": null,
            "min_width": null,
            "object_fit": null,
            "object_position": null,
            "order": null,
            "overflow": null,
            "overflow_x": null,
            "overflow_y": null,
            "padding": null,
            "right": null,
            "top": null,
            "visibility": null,
            "width": null
          }
        },
        "881e1a857e6b48a2819bfa98803de8b9": {
          "model_module": "@jupyter-widgets/controls",
          "model_name": "DescriptionStyleModel",
          "model_module_version": "1.5.0",
          "state": {
            "_model_module": "@jupyter-widgets/controls",
            "_model_module_version": "1.5.0",
            "_model_name": "DescriptionStyleModel",
            "_view_count": null,
            "_view_module": "@jupyter-widgets/base",
            "_view_module_version": "1.2.0",
            "_view_name": "StyleView",
            "description_width": ""
          }
        },
        "8f8f7190ff7f4906aaa35f017580759f": {
          "model_module": "@jupyter-widgets/base",
          "model_name": "LayoutModel",
          "model_module_version": "1.2.0",
          "state": {
            "_model_module": "@jupyter-widgets/base",
            "_model_module_version": "1.2.0",
            "_model_name": "LayoutModel",
            "_view_count": null,
            "_view_module": "@jupyter-widgets/base",
            "_view_module_version": "1.2.0",
            "_view_name": "LayoutView",
            "align_content": null,
            "align_items": null,
            "align_self": null,
            "border": null,
            "bottom": null,
            "display": null,
            "flex": null,
            "flex_flow": null,
            "grid_area": null,
            "grid_auto_columns": null,
            "grid_auto_flow": null,
            "grid_auto_rows": null,
            "grid_column": null,
            "grid_gap": null,
            "grid_row": null,
            "grid_template_areas": null,
            "grid_template_columns": null,
            "grid_template_rows": null,
            "height": null,
            "justify_content": null,
            "justify_items": null,
            "left": null,
            "margin": null,
            "max_height": null,
            "max_width": null,
            "min_height": null,
            "min_width": null,
            "object_fit": null,
            "object_position": null,
            "order": null,
            "overflow": null,
            "overflow_x": null,
            "overflow_y": null,
            "padding": null,
            "right": null,
            "top": null,
            "visibility": null,
            "width": null
          }
        },
        "fae8ea853bd847c58893710460fad8ae": {
          "model_module": "@jupyter-widgets/controls",
          "model_name": "ProgressStyleModel",
          "model_module_version": "1.5.0",
          "state": {
            "_model_module": "@jupyter-widgets/controls",
            "_model_module_version": "1.5.0",
            "_model_name": "ProgressStyleModel",
            "_view_count": null,
            "_view_module": "@jupyter-widgets/base",
            "_view_module_version": "1.2.0",
            "_view_name": "StyleView",
            "bar_color": null,
            "description_width": ""
          }
        },
        "1b77863f73a04ffeb4d4360f0ae4e4e6": {
          "model_module": "@jupyter-widgets/base",
          "model_name": "LayoutModel",
          "model_module_version": "1.2.0",
          "state": {
            "_model_module": "@jupyter-widgets/base",
            "_model_module_version": "1.2.0",
            "_model_name": "LayoutModel",
            "_view_count": null,
            "_view_module": "@jupyter-widgets/base",
            "_view_module_version": "1.2.0",
            "_view_name": "LayoutView",
            "align_content": null,
            "align_items": null,
            "align_self": null,
            "border": null,
            "bottom": null,
            "display": null,
            "flex": null,
            "flex_flow": null,
            "grid_area": null,
            "grid_auto_columns": null,
            "grid_auto_flow": null,
            "grid_auto_rows": null,
            "grid_column": null,
            "grid_gap": null,
            "grid_row": null,
            "grid_template_areas": null,
            "grid_template_columns": null,
            "grid_template_rows": null,
            "height": null,
            "justify_content": null,
            "justify_items": null,
            "left": null,
            "margin": null,
            "max_height": null,
            "max_width": null,
            "min_height": null,
            "min_width": null,
            "object_fit": null,
            "object_position": null,
            "order": null,
            "overflow": null,
            "overflow_x": null,
            "overflow_y": null,
            "padding": null,
            "right": null,
            "top": null,
            "visibility": null,
            "width": null
          }
        },
        "92b80be7105b439aa7526e852be74053": {
          "model_module": "@jupyter-widgets/controls",
          "model_name": "DescriptionStyleModel",
          "model_module_version": "1.5.0",
          "state": {
            "_model_module": "@jupyter-widgets/controls",
            "_model_module_version": "1.5.0",
            "_model_name": "DescriptionStyleModel",
            "_view_count": null,
            "_view_module": "@jupyter-widgets/base",
            "_view_module_version": "1.2.0",
            "_view_name": "StyleView",
            "description_width": ""
          }
        },
        "78fcf8c8fff848a9aedcb8578e1f0401": {
          "model_module": "@jupyter-widgets/controls",
          "model_name": "HBoxModel",
          "model_module_version": "1.5.0",
          "state": {
            "_dom_classes": [],
            "_model_module": "@jupyter-widgets/controls",
            "_model_module_version": "1.5.0",
            "_model_name": "HBoxModel",
            "_view_count": null,
            "_view_module": "@jupyter-widgets/controls",
            "_view_module_version": "1.5.0",
            "_view_name": "HBoxView",
            "box_style": "",
            "children": [
              "IPY_MODEL_86324973e09c46d098130bd21413a204",
              "IPY_MODEL_24c6117579f2440fa0193d5535a9637f",
              "IPY_MODEL_71939c1274324d88a4ab366e2ef83387"
            ],
            "layout": "IPY_MODEL_5be4fae21d33498f9844f86b9ed03d19"
          }
        },
        "86324973e09c46d098130bd21413a204": {
          "model_module": "@jupyter-widgets/controls",
          "model_name": "HTMLModel",
          "model_module_version": "1.5.0",
          "state": {
            "_dom_classes": [],
            "_model_module": "@jupyter-widgets/controls",
            "_model_module_version": "1.5.0",
            "_model_name": "HTMLModel",
            "_view_count": null,
            "_view_module": "@jupyter-widgets/controls",
            "_view_module_version": "1.5.0",
            "_view_name": "HTMLView",
            "description": "",
            "description_tooltip": null,
            "layout": "IPY_MODEL_ca56a6e16a8f40b2a7c7f239b44de820",
            "placeholder": "​",
            "style": "IPY_MODEL_ec3bb2fd382945d09946691314099742",
            "value": "Downloading (…)olve/main/merges.txt: 100%"
          }
        },
        "24c6117579f2440fa0193d5535a9637f": {
          "model_module": "@jupyter-widgets/controls",
          "model_name": "FloatProgressModel",
          "model_module_version": "1.5.0",
          "state": {
            "_dom_classes": [],
            "_model_module": "@jupyter-widgets/controls",
            "_model_module_version": "1.5.0",
            "_model_name": "FloatProgressModel",
            "_view_count": null,
            "_view_module": "@jupyter-widgets/controls",
            "_view_module_version": "1.5.0",
            "_view_name": "ProgressView",
            "bar_style": "success",
            "description": "",
            "description_tooltip": null,
            "layout": "IPY_MODEL_7e55236945aa47f8a9c9ce91548480f2",
            "max": 456318,
            "min": 0,
            "orientation": "horizontal",
            "style": "IPY_MODEL_87185a4393704de89f8efc6ae427fb1d",
            "value": 456318
          }
        },
        "71939c1274324d88a4ab366e2ef83387": {
          "model_module": "@jupyter-widgets/controls",
          "model_name": "HTMLModel",
          "model_module_version": "1.5.0",
          "state": {
            "_dom_classes": [],
            "_model_module": "@jupyter-widgets/controls",
            "_model_module_version": "1.5.0",
            "_model_name": "HTMLModel",
            "_view_count": null,
            "_view_module": "@jupyter-widgets/controls",
            "_view_module_version": "1.5.0",
            "_view_name": "HTMLView",
            "description": "",
            "description_tooltip": null,
            "layout": "IPY_MODEL_8920a811f685474ea7d8f5e00245823e",
            "placeholder": "​",
            "style": "IPY_MODEL_0656b7f0ac94452d91a86ab1e5d41b8b",
            "value": " 456k/456k [00:00&lt;00:00, 8.11MB/s]"
          }
        },
        "5be4fae21d33498f9844f86b9ed03d19": {
          "model_module": "@jupyter-widgets/base",
          "model_name": "LayoutModel",
          "model_module_version": "1.2.0",
          "state": {
            "_model_module": "@jupyter-widgets/base",
            "_model_module_version": "1.2.0",
            "_model_name": "LayoutModel",
            "_view_count": null,
            "_view_module": "@jupyter-widgets/base",
            "_view_module_version": "1.2.0",
            "_view_name": "LayoutView",
            "align_content": null,
            "align_items": null,
            "align_self": null,
            "border": null,
            "bottom": null,
            "display": null,
            "flex": null,
            "flex_flow": null,
            "grid_area": null,
            "grid_auto_columns": null,
            "grid_auto_flow": null,
            "grid_auto_rows": null,
            "grid_column": null,
            "grid_gap": null,
            "grid_row": null,
            "grid_template_areas": null,
            "grid_template_columns": null,
            "grid_template_rows": null,
            "height": null,
            "justify_content": null,
            "justify_items": null,
            "left": null,
            "margin": null,
            "max_height": null,
            "max_width": null,
            "min_height": null,
            "min_width": null,
            "object_fit": null,
            "object_position": null,
            "order": null,
            "overflow": null,
            "overflow_x": null,
            "overflow_y": null,
            "padding": null,
            "right": null,
            "top": null,
            "visibility": null,
            "width": null
          }
        },
        "ca56a6e16a8f40b2a7c7f239b44de820": {
          "model_module": "@jupyter-widgets/base",
          "model_name": "LayoutModel",
          "model_module_version": "1.2.0",
          "state": {
            "_model_module": "@jupyter-widgets/base",
            "_model_module_version": "1.2.0",
            "_model_name": "LayoutModel",
            "_view_count": null,
            "_view_module": "@jupyter-widgets/base",
            "_view_module_version": "1.2.0",
            "_view_name": "LayoutView",
            "align_content": null,
            "align_items": null,
            "align_self": null,
            "border": null,
            "bottom": null,
            "display": null,
            "flex": null,
            "flex_flow": null,
            "grid_area": null,
            "grid_auto_columns": null,
            "grid_auto_flow": null,
            "grid_auto_rows": null,
            "grid_column": null,
            "grid_gap": null,
            "grid_row": null,
            "grid_template_areas": null,
            "grid_template_columns": null,
            "grid_template_rows": null,
            "height": null,
            "justify_content": null,
            "justify_items": null,
            "left": null,
            "margin": null,
            "max_height": null,
            "max_width": null,
            "min_height": null,
            "min_width": null,
            "object_fit": null,
            "object_position": null,
            "order": null,
            "overflow": null,
            "overflow_x": null,
            "overflow_y": null,
            "padding": null,
            "right": null,
            "top": null,
            "visibility": null,
            "width": null
          }
        },
        "ec3bb2fd382945d09946691314099742": {
          "model_module": "@jupyter-widgets/controls",
          "model_name": "DescriptionStyleModel",
          "model_module_version": "1.5.0",
          "state": {
            "_model_module": "@jupyter-widgets/controls",
            "_model_module_version": "1.5.0",
            "_model_name": "DescriptionStyleModel",
            "_view_count": null,
            "_view_module": "@jupyter-widgets/base",
            "_view_module_version": "1.2.0",
            "_view_name": "StyleView",
            "description_width": ""
          }
        },
        "7e55236945aa47f8a9c9ce91548480f2": {
          "model_module": "@jupyter-widgets/base",
          "model_name": "LayoutModel",
          "model_module_version": "1.2.0",
          "state": {
            "_model_module": "@jupyter-widgets/base",
            "_model_module_version": "1.2.0",
            "_model_name": "LayoutModel",
            "_view_count": null,
            "_view_module": "@jupyter-widgets/base",
            "_view_module_version": "1.2.0",
            "_view_name": "LayoutView",
            "align_content": null,
            "align_items": null,
            "align_self": null,
            "border": null,
            "bottom": null,
            "display": null,
            "flex": null,
            "flex_flow": null,
            "grid_area": null,
            "grid_auto_columns": null,
            "grid_auto_flow": null,
            "grid_auto_rows": null,
            "grid_column": null,
            "grid_gap": null,
            "grid_row": null,
            "grid_template_areas": null,
            "grid_template_columns": null,
            "grid_template_rows": null,
            "height": null,
            "justify_content": null,
            "justify_items": null,
            "left": null,
            "margin": null,
            "max_height": null,
            "max_width": null,
            "min_height": null,
            "min_width": null,
            "object_fit": null,
            "object_position": null,
            "order": null,
            "overflow": null,
            "overflow_x": null,
            "overflow_y": null,
            "padding": null,
            "right": null,
            "top": null,
            "visibility": null,
            "width": null
          }
        },
        "87185a4393704de89f8efc6ae427fb1d": {
          "model_module": "@jupyter-widgets/controls",
          "model_name": "ProgressStyleModel",
          "model_module_version": "1.5.0",
          "state": {
            "_model_module": "@jupyter-widgets/controls",
            "_model_module_version": "1.5.0",
            "_model_name": "ProgressStyleModel",
            "_view_count": null,
            "_view_module": "@jupyter-widgets/base",
            "_view_module_version": "1.2.0",
            "_view_name": "StyleView",
            "bar_color": null,
            "description_width": ""
          }
        },
        "8920a811f685474ea7d8f5e00245823e": {
          "model_module": "@jupyter-widgets/base",
          "model_name": "LayoutModel",
          "model_module_version": "1.2.0",
          "state": {
            "_model_module": "@jupyter-widgets/base",
            "_model_module_version": "1.2.0",
            "_model_name": "LayoutModel",
            "_view_count": null,
            "_view_module": "@jupyter-widgets/base",
            "_view_module_version": "1.2.0",
            "_view_name": "LayoutView",
            "align_content": null,
            "align_items": null,
            "align_self": null,
            "border": null,
            "bottom": null,
            "display": null,
            "flex": null,
            "flex_flow": null,
            "grid_area": null,
            "grid_auto_columns": null,
            "grid_auto_flow": null,
            "grid_auto_rows": null,
            "grid_column": null,
            "grid_gap": null,
            "grid_row": null,
            "grid_template_areas": null,
            "grid_template_columns": null,
            "grid_template_rows": null,
            "height": null,
            "justify_content": null,
            "justify_items": null,
            "left": null,
            "margin": null,
            "max_height": null,
            "max_width": null,
            "min_height": null,
            "min_width": null,
            "object_fit": null,
            "object_position": null,
            "order": null,
            "overflow": null,
            "overflow_x": null,
            "overflow_y": null,
            "padding": null,
            "right": null,
            "top": null,
            "visibility": null,
            "width": null
          }
        },
        "0656b7f0ac94452d91a86ab1e5d41b8b": {
          "model_module": "@jupyter-widgets/controls",
          "model_name": "DescriptionStyleModel",
          "model_module_version": "1.5.0",
          "state": {
            "_model_module": "@jupyter-widgets/controls",
            "_model_module_version": "1.5.0",
            "_model_name": "DescriptionStyleModel",
            "_view_count": null,
            "_view_module": "@jupyter-widgets/base",
            "_view_module_version": "1.2.0",
            "_view_name": "StyleView",
            "description_width": ""
          }
        },
        "e82dfaf5b11843cd977b49d3ff2fdb64": {
          "model_module": "@jupyter-widgets/controls",
          "model_name": "HBoxModel",
          "model_module_version": "1.5.0",
          "state": {
            "_dom_classes": [],
            "_model_module": "@jupyter-widgets/controls",
            "_model_module_version": "1.5.0",
            "_model_name": "HBoxModel",
            "_view_count": null,
            "_view_module": "@jupyter-widgets/controls",
            "_view_module_version": "1.5.0",
            "_view_name": "HBoxView",
            "box_style": "",
            "children": [
              "IPY_MODEL_d1b62fd714db44c68655f0cee348be94",
              "IPY_MODEL_bb643416e0314e01a5f002d878ccb636",
              "IPY_MODEL_9549ca75ba6f48cfad3b39b2f9100271"
            ],
            "layout": "IPY_MODEL_12d4c81e5364490c8b948c89b5b3e762"
          }
        },
        "d1b62fd714db44c68655f0cee348be94": {
          "model_module": "@jupyter-widgets/controls",
          "model_name": "HTMLModel",
          "model_module_version": "1.5.0",
          "state": {
            "_dom_classes": [],
            "_model_module": "@jupyter-widgets/controls",
            "_model_module_version": "1.5.0",
            "_model_name": "HTMLModel",
            "_view_count": null,
            "_view_module": "@jupyter-widgets/controls",
            "_view_module_version": "1.5.0",
            "_view_name": "HTMLView",
            "description": "",
            "description_tooltip": null,
            "layout": "IPY_MODEL_03759d96984b4665b8ece5584d7a9515",
            "placeholder": "​",
            "style": "IPY_MODEL_e9aa587809bd4ba1b4e980343519c97a",
            "value": "Downloading (…)lve/main/config.json: 100%"
          }
        },
        "bb643416e0314e01a5f002d878ccb636": {
          "model_module": "@jupyter-widgets/controls",
          "model_name": "FloatProgressModel",
          "model_module_version": "1.5.0",
          "state": {
            "_dom_classes": [],
            "_model_module": "@jupyter-widgets/controls",
            "_model_module_version": "1.5.0",
            "_model_name": "FloatProgressModel",
            "_view_count": null,
            "_view_module": "@jupyter-widgets/controls",
            "_view_module_version": "1.5.0",
            "_view_name": "ProgressView",
            "bar_style": "success",
            "description": "",
            "description_tooltip": null,
            "layout": "IPY_MODEL_246643a13ac04759b7a3089921b67252",
            "max": 689,
            "min": 0,
            "orientation": "horizontal",
            "style": "IPY_MODEL_2b08b0274e444da4b0197ba79782dac0",
            "value": 689
          }
        },
        "9549ca75ba6f48cfad3b39b2f9100271": {
          "model_module": "@jupyter-widgets/controls",
          "model_name": "HTMLModel",
          "model_module_version": "1.5.0",
          "state": {
            "_dom_classes": [],
            "_model_module": "@jupyter-widgets/controls",
            "_model_module_version": "1.5.0",
            "_model_name": "HTMLModel",
            "_view_count": null,
            "_view_module": "@jupyter-widgets/controls",
            "_view_module_version": "1.5.0",
            "_view_name": "HTMLView",
            "description": "",
            "description_tooltip": null,
            "layout": "IPY_MODEL_c3446bb12fa84e61be2ff84463093b7f",
            "placeholder": "​",
            "style": "IPY_MODEL_f21803f935da41d0ad6eae82b7172d61",
            "value": " 689/689 [00:00&lt;00:00, 51.8kB/s]"
          }
        },
        "12d4c81e5364490c8b948c89b5b3e762": {
          "model_module": "@jupyter-widgets/base",
          "model_name": "LayoutModel",
          "model_module_version": "1.2.0",
          "state": {
            "_model_module": "@jupyter-widgets/base",
            "_model_module_version": "1.2.0",
            "_model_name": "LayoutModel",
            "_view_count": null,
            "_view_module": "@jupyter-widgets/base",
            "_view_module_version": "1.2.0",
            "_view_name": "LayoutView",
            "align_content": null,
            "align_items": null,
            "align_self": null,
            "border": null,
            "bottom": null,
            "display": null,
            "flex": null,
            "flex_flow": null,
            "grid_area": null,
            "grid_auto_columns": null,
            "grid_auto_flow": null,
            "grid_auto_rows": null,
            "grid_column": null,
            "grid_gap": null,
            "grid_row": null,
            "grid_template_areas": null,
            "grid_template_columns": null,
            "grid_template_rows": null,
            "height": null,
            "justify_content": null,
            "justify_items": null,
            "left": null,
            "margin": null,
            "max_height": null,
            "max_width": null,
            "min_height": null,
            "min_width": null,
            "object_fit": null,
            "object_position": null,
            "order": null,
            "overflow": null,
            "overflow_x": null,
            "overflow_y": null,
            "padding": null,
            "right": null,
            "top": null,
            "visibility": null,
            "width": null
          }
        },
        "03759d96984b4665b8ece5584d7a9515": {
          "model_module": "@jupyter-widgets/base",
          "model_name": "LayoutModel",
          "model_module_version": "1.2.0",
          "state": {
            "_model_module": "@jupyter-widgets/base",
            "_model_module_version": "1.2.0",
            "_model_name": "LayoutModel",
            "_view_count": null,
            "_view_module": "@jupyter-widgets/base",
            "_view_module_version": "1.2.0",
            "_view_name": "LayoutView",
            "align_content": null,
            "align_items": null,
            "align_self": null,
            "border": null,
            "bottom": null,
            "display": null,
            "flex": null,
            "flex_flow": null,
            "grid_area": null,
            "grid_auto_columns": null,
            "grid_auto_flow": null,
            "grid_auto_rows": null,
            "grid_column": null,
            "grid_gap": null,
            "grid_row": null,
            "grid_template_areas": null,
            "grid_template_columns": null,
            "grid_template_rows": null,
            "height": null,
            "justify_content": null,
            "justify_items": null,
            "left": null,
            "margin": null,
            "max_height": null,
            "max_width": null,
            "min_height": null,
            "min_width": null,
            "object_fit": null,
            "object_position": null,
            "order": null,
            "overflow": null,
            "overflow_x": null,
            "overflow_y": null,
            "padding": null,
            "right": null,
            "top": null,
            "visibility": null,
            "width": null
          }
        },
        "e9aa587809bd4ba1b4e980343519c97a": {
          "model_module": "@jupyter-widgets/controls",
          "model_name": "DescriptionStyleModel",
          "model_module_version": "1.5.0",
          "state": {
            "_model_module": "@jupyter-widgets/controls",
            "_model_module_version": "1.5.0",
            "_model_name": "DescriptionStyleModel",
            "_view_count": null,
            "_view_module": "@jupyter-widgets/base",
            "_view_module_version": "1.2.0",
            "_view_name": "StyleView",
            "description_width": ""
          }
        },
        "246643a13ac04759b7a3089921b67252": {
          "model_module": "@jupyter-widgets/base",
          "model_name": "LayoutModel",
          "model_module_version": "1.2.0",
          "state": {
            "_model_module": "@jupyter-widgets/base",
            "_model_module_version": "1.2.0",
            "_model_name": "LayoutModel",
            "_view_count": null,
            "_view_module": "@jupyter-widgets/base",
            "_view_module_version": "1.2.0",
            "_view_name": "LayoutView",
            "align_content": null,
            "align_items": null,
            "align_self": null,
            "border": null,
            "bottom": null,
            "display": null,
            "flex": null,
            "flex_flow": null,
            "grid_area": null,
            "grid_auto_columns": null,
            "grid_auto_flow": null,
            "grid_auto_rows": null,
            "grid_column": null,
            "grid_gap": null,
            "grid_row": null,
            "grid_template_areas": null,
            "grid_template_columns": null,
            "grid_template_rows": null,
            "height": null,
            "justify_content": null,
            "justify_items": null,
            "left": null,
            "margin": null,
            "max_height": null,
            "max_width": null,
            "min_height": null,
            "min_width": null,
            "object_fit": null,
            "object_position": null,
            "order": null,
            "overflow": null,
            "overflow_x": null,
            "overflow_y": null,
            "padding": null,
            "right": null,
            "top": null,
            "visibility": null,
            "width": null
          }
        },
        "2b08b0274e444da4b0197ba79782dac0": {
          "model_module": "@jupyter-widgets/controls",
          "model_name": "ProgressStyleModel",
          "model_module_version": "1.5.0",
          "state": {
            "_model_module": "@jupyter-widgets/controls",
            "_model_module_version": "1.5.0",
            "_model_name": "ProgressStyleModel",
            "_view_count": null,
            "_view_module": "@jupyter-widgets/base",
            "_view_module_version": "1.2.0",
            "_view_name": "StyleView",
            "bar_color": null,
            "description_width": ""
          }
        },
        "c3446bb12fa84e61be2ff84463093b7f": {
          "model_module": "@jupyter-widgets/base",
          "model_name": "LayoutModel",
          "model_module_version": "1.2.0",
          "state": {
            "_model_module": "@jupyter-widgets/base",
            "_model_module_version": "1.2.0",
            "_model_name": "LayoutModel",
            "_view_count": null,
            "_view_module": "@jupyter-widgets/base",
            "_view_module_version": "1.2.0",
            "_view_name": "LayoutView",
            "align_content": null,
            "align_items": null,
            "align_self": null,
            "border": null,
            "bottom": null,
            "display": null,
            "flex": null,
            "flex_flow": null,
            "grid_area": null,
            "grid_auto_columns": null,
            "grid_auto_flow": null,
            "grid_auto_rows": null,
            "grid_column": null,
            "grid_gap": null,
            "grid_row": null,
            "grid_template_areas": null,
            "grid_template_columns": null,
            "grid_template_rows": null,
            "height": null,
            "justify_content": null,
            "justify_items": null,
            "left": null,
            "margin": null,
            "max_height": null,
            "max_width": null,
            "min_height": null,
            "min_width": null,
            "object_fit": null,
            "object_position": null,
            "order": null,
            "overflow": null,
            "overflow_x": null,
            "overflow_y": null,
            "padding": null,
            "right": null,
            "top": null,
            "visibility": null,
            "width": null
          }
        },
        "f21803f935da41d0ad6eae82b7172d61": {
          "model_module": "@jupyter-widgets/controls",
          "model_name": "DescriptionStyleModel",
          "model_module_version": "1.5.0",
          "state": {
            "_model_module": "@jupyter-widgets/controls",
            "_model_module_version": "1.5.0",
            "_model_name": "DescriptionStyleModel",
            "_view_count": null,
            "_view_module": "@jupyter-widgets/base",
            "_view_module_version": "1.2.0",
            "_view_name": "StyleView",
            "description_width": ""
          }
        },
        "8595332305284a9391a769d2ea17550b": {
          "model_module": "@jupyter-widgets/controls",
          "model_name": "HBoxModel",
          "model_module_version": "1.5.0",
          "state": {
            "_dom_classes": [],
            "_model_module": "@jupyter-widgets/controls",
            "_model_module_version": "1.5.0",
            "_model_name": "HBoxModel",
            "_view_count": null,
            "_view_module": "@jupyter-widgets/controls",
            "_view_module_version": "1.5.0",
            "_view_name": "HBoxView",
            "box_style": "",
            "children": [
              "IPY_MODEL_ef689078976c4026861854a803fa48f8",
              "IPY_MODEL_04ba414795044138818854baecfe7c16",
              "IPY_MODEL_8698691c0314449a84122437c3bf6482"
            ],
            "layout": "IPY_MODEL_361accd1257643568d11cb02c4da999c"
          }
        },
        "ef689078976c4026861854a803fa48f8": {
          "model_module": "@jupyter-widgets/controls",
          "model_name": "HTMLModel",
          "model_module_version": "1.5.0",
          "state": {
            "_dom_classes": [],
            "_model_module": "@jupyter-widgets/controls",
            "_model_module_version": "1.5.0",
            "_model_name": "HTMLModel",
            "_view_count": null,
            "_view_module": "@jupyter-widgets/controls",
            "_view_module_version": "1.5.0",
            "_view_name": "HTMLView",
            "description": "",
            "description_tooltip": null,
            "layout": "IPY_MODEL_bfd586b36e864fde991572fde13e14ab",
            "placeholder": "​",
            "style": "IPY_MODEL_85fb329f7ac944bbbd2a20ad6c5b362a",
            "value": "Downloading pytorch_model.bin: 100%"
          }
        },
        "04ba414795044138818854baecfe7c16": {
          "model_module": "@jupyter-widgets/controls",
          "model_name": "FloatProgressModel",
          "model_module_version": "1.5.0",
          "state": {
            "_dom_classes": [],
            "_model_module": "@jupyter-widgets/controls",
            "_model_module_version": "1.5.0",
            "_model_name": "FloatProgressModel",
            "_view_count": null,
            "_view_module": "@jupyter-widgets/controls",
            "_view_module_version": "1.5.0",
            "_view_name": "ProgressView",
            "bar_style": "success",
            "description": "",
            "description_tooltip": null,
            "layout": "IPY_MODEL_063e9bf8de604ad5bdc24b819de0a094",
            "max": 6431878936,
            "min": 0,
            "orientation": "horizontal",
            "style": "IPY_MODEL_025a31e641be42258d293388818094bd",
            "value": 6431878936
          }
        },
        "8698691c0314449a84122437c3bf6482": {
          "model_module": "@jupyter-widgets/controls",
          "model_name": "HTMLModel",
          "model_module_version": "1.5.0",
          "state": {
            "_dom_classes": [],
            "_model_module": "@jupyter-widgets/controls",
            "_model_module_version": "1.5.0",
            "_model_name": "HTMLModel",
            "_view_count": null,
            "_view_module": "@jupyter-widgets/controls",
            "_view_module_version": "1.5.0",
            "_view_name": "HTMLView",
            "description": "",
            "description_tooltip": null,
            "layout": "IPY_MODEL_f62af77a1cd6486ab5037d54d0566973",
            "placeholder": "​",
            "style": "IPY_MODEL_7bb106811114462d9b2e870a2cacb2ce",
            "value": " 6.43G/6.43G [01:02&lt;00:00, 99.5MB/s]"
          }
        },
        "361accd1257643568d11cb02c4da999c": {
          "model_module": "@jupyter-widgets/base",
          "model_name": "LayoutModel",
          "model_module_version": "1.2.0",
          "state": {
            "_model_module": "@jupyter-widgets/base",
            "_model_module_version": "1.2.0",
            "_model_name": "LayoutModel",
            "_view_count": null,
            "_view_module": "@jupyter-widgets/base",
            "_view_module_version": "1.2.0",
            "_view_name": "LayoutView",
            "align_content": null,
            "align_items": null,
            "align_self": null,
            "border": null,
            "bottom": null,
            "display": null,
            "flex": null,
            "flex_flow": null,
            "grid_area": null,
            "grid_auto_columns": null,
            "grid_auto_flow": null,
            "grid_auto_rows": null,
            "grid_column": null,
            "grid_gap": null,
            "grid_row": null,
            "grid_template_areas": null,
            "grid_template_columns": null,
            "grid_template_rows": null,
            "height": null,
            "justify_content": null,
            "justify_items": null,
            "left": null,
            "margin": null,
            "max_height": null,
            "max_width": null,
            "min_height": null,
            "min_width": null,
            "object_fit": null,
            "object_position": null,
            "order": null,
            "overflow": null,
            "overflow_x": null,
            "overflow_y": null,
            "padding": null,
            "right": null,
            "top": null,
            "visibility": null,
            "width": null
          }
        },
        "bfd586b36e864fde991572fde13e14ab": {
          "model_module": "@jupyter-widgets/base",
          "model_name": "LayoutModel",
          "model_module_version": "1.2.0",
          "state": {
            "_model_module": "@jupyter-widgets/base",
            "_model_module_version": "1.2.0",
            "_model_name": "LayoutModel",
            "_view_count": null,
            "_view_module": "@jupyter-widgets/base",
            "_view_module_version": "1.2.0",
            "_view_name": "LayoutView",
            "align_content": null,
            "align_items": null,
            "align_self": null,
            "border": null,
            "bottom": null,
            "display": null,
            "flex": null,
            "flex_flow": null,
            "grid_area": null,
            "grid_auto_columns": null,
            "grid_auto_flow": null,
            "grid_auto_rows": null,
            "grid_column": null,
            "grid_gap": null,
            "grid_row": null,
            "grid_template_areas": null,
            "grid_template_columns": null,
            "grid_template_rows": null,
            "height": null,
            "justify_content": null,
            "justify_items": null,
            "left": null,
            "margin": null,
            "max_height": null,
            "max_width": null,
            "min_height": null,
            "min_width": null,
            "object_fit": null,
            "object_position": null,
            "order": null,
            "overflow": null,
            "overflow_x": null,
            "overflow_y": null,
            "padding": null,
            "right": null,
            "top": null,
            "visibility": null,
            "width": null
          }
        },
        "85fb329f7ac944bbbd2a20ad6c5b362a": {
          "model_module": "@jupyter-widgets/controls",
          "model_name": "DescriptionStyleModel",
          "model_module_version": "1.5.0",
          "state": {
            "_model_module": "@jupyter-widgets/controls",
            "_model_module_version": "1.5.0",
            "_model_name": "DescriptionStyleModel",
            "_view_count": null,
            "_view_module": "@jupyter-widgets/base",
            "_view_module_version": "1.2.0",
            "_view_name": "StyleView",
            "description_width": ""
          }
        },
        "063e9bf8de604ad5bdc24b819de0a094": {
          "model_module": "@jupyter-widgets/base",
          "model_name": "LayoutModel",
          "model_module_version": "1.2.0",
          "state": {
            "_model_module": "@jupyter-widgets/base",
            "_model_module_version": "1.2.0",
            "_model_name": "LayoutModel",
            "_view_count": null,
            "_view_module": "@jupyter-widgets/base",
            "_view_module_version": "1.2.0",
            "_view_name": "LayoutView",
            "align_content": null,
            "align_items": null,
            "align_self": null,
            "border": null,
            "bottom": null,
            "display": null,
            "flex": null,
            "flex_flow": null,
            "grid_area": null,
            "grid_auto_columns": null,
            "grid_auto_flow": null,
            "grid_auto_rows": null,
            "grid_column": null,
            "grid_gap": null,
            "grid_row": null,
            "grid_template_areas": null,
            "grid_template_columns": null,
            "grid_template_rows": null,
            "height": null,
            "justify_content": null,
            "justify_items": null,
            "left": null,
            "margin": null,
            "max_height": null,
            "max_width": null,
            "min_height": null,
            "min_width": null,
            "object_fit": null,
            "object_position": null,
            "order": null,
            "overflow": null,
            "overflow_x": null,
            "overflow_y": null,
            "padding": null,
            "right": null,
            "top": null,
            "visibility": null,
            "width": null
          }
        },
        "025a31e641be42258d293388818094bd": {
          "model_module": "@jupyter-widgets/controls",
          "model_name": "ProgressStyleModel",
          "model_module_version": "1.5.0",
          "state": {
            "_model_module": "@jupyter-widgets/controls",
            "_model_module_version": "1.5.0",
            "_model_name": "ProgressStyleModel",
            "_view_count": null,
            "_view_module": "@jupyter-widgets/base",
            "_view_module_version": "1.2.0",
            "_view_name": "StyleView",
            "bar_color": null,
            "description_width": ""
          }
        },
        "f62af77a1cd6486ab5037d54d0566973": {
          "model_module": "@jupyter-widgets/base",
          "model_name": "LayoutModel",
          "model_module_version": "1.2.0",
          "state": {
            "_model_module": "@jupyter-widgets/base",
            "_model_module_version": "1.2.0",
            "_model_name": "LayoutModel",
            "_view_count": null,
            "_view_module": "@jupyter-widgets/base",
            "_view_module_version": "1.2.0",
            "_view_name": "LayoutView",
            "align_content": null,
            "align_items": null,
            "align_self": null,
            "border": null,
            "bottom": null,
            "display": null,
            "flex": null,
            "flex_flow": null,
            "grid_area": null,
            "grid_auto_columns": null,
            "grid_auto_flow": null,
            "grid_auto_rows": null,
            "grid_column": null,
            "grid_gap": null,
            "grid_row": null,
            "grid_template_areas": null,
            "grid_template_columns": null,
            "grid_template_rows": null,
            "height": null,
            "justify_content": null,
            "justify_items": null,
            "left": null,
            "margin": null,
            "max_height": null,
            "max_width": null,
            "min_height": null,
            "min_width": null,
            "object_fit": null,
            "object_position": null,
            "order": null,
            "overflow": null,
            "overflow_x": null,
            "overflow_y": null,
            "padding": null,
            "right": null,
            "top": null,
            "visibility": null,
            "width": null
          }
        },
        "7bb106811114462d9b2e870a2cacb2ce": {
          "model_module": "@jupyter-widgets/controls",
          "model_name": "DescriptionStyleModel",
          "model_module_version": "1.5.0",
          "state": {
            "_model_module": "@jupyter-widgets/controls",
            "_model_module_version": "1.5.0",
            "_model_name": "DescriptionStyleModel",
            "_view_count": null,
            "_view_module": "@jupyter-widgets/base",
            "_view_module_version": "1.2.0",
            "_view_name": "StyleView",
            "description_width": ""
          }
        },
        "d5e4fff67b334b8bae21d050ce13380f": {
          "model_module": "@jupyter-widgets/controls",
          "model_name": "HBoxModel",
          "model_module_version": "1.5.0",
          "state": {
            "_dom_classes": [],
            "_model_module": "@jupyter-widgets/controls",
            "_model_module_version": "1.5.0",
            "_model_name": "HBoxModel",
            "_view_count": null,
            "_view_module": "@jupyter-widgets/controls",
            "_view_module_version": "1.5.0",
            "_view_name": "HBoxView",
            "box_style": "",
            "children": [
              "IPY_MODEL_7825a8c1e776449ca7bffdae1720b647",
              "IPY_MODEL_04267ae8a045452e8b64daf335771181",
              "IPY_MODEL_388f14498a114a30848c43a608cd1775"
            ],
            "layout": "IPY_MODEL_2c17ea6f85d14f2e9a2c2d121149b64f"
          }
        },
        "7825a8c1e776449ca7bffdae1720b647": {
          "model_module": "@jupyter-widgets/controls",
          "model_name": "HTMLModel",
          "model_module_version": "1.5.0",
          "state": {
            "_dom_classes": [],
            "_model_module": "@jupyter-widgets/controls",
            "_model_module_version": "1.5.0",
            "_model_name": "HTMLModel",
            "_view_count": null,
            "_view_module": "@jupyter-widgets/controls",
            "_view_module_version": "1.5.0",
            "_view_name": "HTMLView",
            "description": "",
            "description_tooltip": null,
            "layout": "IPY_MODEL_88b5b82c261a4f0f84ddcf0a82cdd651",
            "placeholder": "​",
            "style": "IPY_MODEL_20719bb6a32745e1a200840ddbf38d3b",
            "value": "Downloading (…)neration_config.json: 100%"
          }
        },
        "04267ae8a045452e8b64daf335771181": {
          "model_module": "@jupyter-widgets/controls",
          "model_name": "FloatProgressModel",
          "model_module_version": "1.5.0",
          "state": {
            "_dom_classes": [],
            "_model_module": "@jupyter-widgets/controls",
            "_model_module_version": "1.5.0",
            "_model_name": "FloatProgressModel",
            "_view_count": null,
            "_view_module": "@jupyter-widgets/controls",
            "_view_module_version": "1.5.0",
            "_view_name": "ProgressView",
            "bar_style": "success",
            "description": "",
            "description_tooltip": null,
            "layout": "IPY_MODEL_018813611010400693269b38fe8172bb",
            "max": 124,
            "min": 0,
            "orientation": "horizontal",
            "style": "IPY_MODEL_fcdb6dc42df64c00b363a84558773d47",
            "value": 124
          }
        },
        "388f14498a114a30848c43a608cd1775": {
          "model_module": "@jupyter-widgets/controls",
          "model_name": "HTMLModel",
          "model_module_version": "1.5.0",
          "state": {
            "_dom_classes": [],
            "_model_module": "@jupyter-widgets/controls",
            "_model_module_version": "1.5.0",
            "_model_name": "HTMLModel",
            "_view_count": null,
            "_view_module": "@jupyter-widgets/controls",
            "_view_module_version": "1.5.0",
            "_view_name": "HTMLView",
            "description": "",
            "description_tooltip": null,
            "layout": "IPY_MODEL_e119931823c5495b98e5cac5b6c330af",
            "placeholder": "​",
            "style": "IPY_MODEL_882e4dad141c4af2855a6003bf0b6d9c",
            "value": " 124/124 [00:00&lt;00:00, 6.77kB/s]"
          }
        },
        "2c17ea6f85d14f2e9a2c2d121149b64f": {
          "model_module": "@jupyter-widgets/base",
          "model_name": "LayoutModel",
          "model_module_version": "1.2.0",
          "state": {
            "_model_module": "@jupyter-widgets/base",
            "_model_module_version": "1.2.0",
            "_model_name": "LayoutModel",
            "_view_count": null,
            "_view_module": "@jupyter-widgets/base",
            "_view_module_version": "1.2.0",
            "_view_name": "LayoutView",
            "align_content": null,
            "align_items": null,
            "align_self": null,
            "border": null,
            "bottom": null,
            "display": null,
            "flex": null,
            "flex_flow": null,
            "grid_area": null,
            "grid_auto_columns": null,
            "grid_auto_flow": null,
            "grid_auto_rows": null,
            "grid_column": null,
            "grid_gap": null,
            "grid_row": null,
            "grid_template_areas": null,
            "grid_template_columns": null,
            "grid_template_rows": null,
            "height": null,
            "justify_content": null,
            "justify_items": null,
            "left": null,
            "margin": null,
            "max_height": null,
            "max_width": null,
            "min_height": null,
            "min_width": null,
            "object_fit": null,
            "object_position": null,
            "order": null,
            "overflow": null,
            "overflow_x": null,
            "overflow_y": null,
            "padding": null,
            "right": null,
            "top": null,
            "visibility": null,
            "width": null
          }
        },
        "88b5b82c261a4f0f84ddcf0a82cdd651": {
          "model_module": "@jupyter-widgets/base",
          "model_name": "LayoutModel",
          "model_module_version": "1.2.0",
          "state": {
            "_model_module": "@jupyter-widgets/base",
            "_model_module_version": "1.2.0",
            "_model_name": "LayoutModel",
            "_view_count": null,
            "_view_module": "@jupyter-widgets/base",
            "_view_module_version": "1.2.0",
            "_view_name": "LayoutView",
            "align_content": null,
            "align_items": null,
            "align_self": null,
            "border": null,
            "bottom": null,
            "display": null,
            "flex": null,
            "flex_flow": null,
            "grid_area": null,
            "grid_auto_columns": null,
            "grid_auto_flow": null,
            "grid_auto_rows": null,
            "grid_column": null,
            "grid_gap": null,
            "grid_row": null,
            "grid_template_areas": null,
            "grid_template_columns": null,
            "grid_template_rows": null,
            "height": null,
            "justify_content": null,
            "justify_items": null,
            "left": null,
            "margin": null,
            "max_height": null,
            "max_width": null,
            "min_height": null,
            "min_width": null,
            "object_fit": null,
            "object_position": null,
            "order": null,
            "overflow": null,
            "overflow_x": null,
            "overflow_y": null,
            "padding": null,
            "right": null,
            "top": null,
            "visibility": null,
            "width": null
          }
        },
        "20719bb6a32745e1a200840ddbf38d3b": {
          "model_module": "@jupyter-widgets/controls",
          "model_name": "DescriptionStyleModel",
          "model_module_version": "1.5.0",
          "state": {
            "_model_module": "@jupyter-widgets/controls",
            "_model_module_version": "1.5.0",
            "_model_name": "DescriptionStyleModel",
            "_view_count": null,
            "_view_module": "@jupyter-widgets/base",
            "_view_module_version": "1.2.0",
            "_view_name": "StyleView",
            "description_width": ""
          }
        },
        "018813611010400693269b38fe8172bb": {
          "model_module": "@jupyter-widgets/base",
          "model_name": "LayoutModel",
          "model_module_version": "1.2.0",
          "state": {
            "_model_module": "@jupyter-widgets/base",
            "_model_module_version": "1.2.0",
            "_model_name": "LayoutModel",
            "_view_count": null,
            "_view_module": "@jupyter-widgets/base",
            "_view_module_version": "1.2.0",
            "_view_name": "LayoutView",
            "align_content": null,
            "align_items": null,
            "align_self": null,
            "border": null,
            "bottom": null,
            "display": null,
            "flex": null,
            "flex_flow": null,
            "grid_area": null,
            "grid_auto_columns": null,
            "grid_auto_flow": null,
            "grid_auto_rows": null,
            "grid_column": null,
            "grid_gap": null,
            "grid_row": null,
            "grid_template_areas": null,
            "grid_template_columns": null,
            "grid_template_rows": null,
            "height": null,
            "justify_content": null,
            "justify_items": null,
            "left": null,
            "margin": null,
            "max_height": null,
            "max_width": null,
            "min_height": null,
            "min_width": null,
            "object_fit": null,
            "object_position": null,
            "order": null,
            "overflow": null,
            "overflow_x": null,
            "overflow_y": null,
            "padding": null,
            "right": null,
            "top": null,
            "visibility": null,
            "width": null
          }
        },
        "fcdb6dc42df64c00b363a84558773d47": {
          "model_module": "@jupyter-widgets/controls",
          "model_name": "ProgressStyleModel",
          "model_module_version": "1.5.0",
          "state": {
            "_model_module": "@jupyter-widgets/controls",
            "_model_module_version": "1.5.0",
            "_model_name": "ProgressStyleModel",
            "_view_count": null,
            "_view_module": "@jupyter-widgets/base",
            "_view_module_version": "1.2.0",
            "_view_name": "StyleView",
            "bar_color": null,
            "description_width": ""
          }
        },
        "e119931823c5495b98e5cac5b6c330af": {
          "model_module": "@jupyter-widgets/base",
          "model_name": "LayoutModel",
          "model_module_version": "1.2.0",
          "state": {
            "_model_module": "@jupyter-widgets/base",
            "_model_module_version": "1.2.0",
            "_model_name": "LayoutModel",
            "_view_count": null,
            "_view_module": "@jupyter-widgets/base",
            "_view_module_version": "1.2.0",
            "_view_name": "LayoutView",
            "align_content": null,
            "align_items": null,
            "align_self": null,
            "border": null,
            "bottom": null,
            "display": null,
            "flex": null,
            "flex_flow": null,
            "grid_area": null,
            "grid_auto_columns": null,
            "grid_auto_flow": null,
            "grid_auto_rows": null,
            "grid_column": null,
            "grid_gap": null,
            "grid_row": null,
            "grid_template_areas": null,
            "grid_template_columns": null,
            "grid_template_rows": null,
            "height": null,
            "justify_content": null,
            "justify_items": null,
            "left": null,
            "margin": null,
            "max_height": null,
            "max_width": null,
            "min_height": null,
            "min_width": null,
            "object_fit": null,
            "object_position": null,
            "order": null,
            "overflow": null,
            "overflow_x": null,
            "overflow_y": null,
            "padding": null,
            "right": null,
            "top": null,
            "visibility": null,
            "width": null
          }
        },
        "882e4dad141c4af2855a6003bf0b6d9c": {
          "model_module": "@jupyter-widgets/controls",
          "model_name": "DescriptionStyleModel",
          "model_module_version": "1.5.0",
          "state": {
            "_model_module": "@jupyter-widgets/controls",
            "_model_module_version": "1.5.0",
            "_model_name": "DescriptionStyleModel",
            "_view_count": null,
            "_view_module": "@jupyter-widgets/base",
            "_view_module_version": "1.2.0",
            "_view_name": "StyleView",
            "description_width": ""
          }
        },
        "d28e89963cf84d9494018a14cae36fc1": {
          "model_module": "@jupyter-widgets/controls",
          "model_name": "HBoxModel",
          "model_module_version": "1.5.0",
          "state": {
            "_dom_classes": [],
            "_model_module": "@jupyter-widgets/controls",
            "_model_module_version": "1.5.0",
            "_model_name": "HBoxModel",
            "_view_count": null,
            "_view_module": "@jupyter-widgets/controls",
            "_view_module_version": "1.5.0",
            "_view_name": "HBoxView",
            "box_style": "",
            "children": [
              "IPY_MODEL_f5aefe3d89864122a5529ae81ff2d39e",
              "IPY_MODEL_ab471855c57c48bb9136ac71c7918860",
              "IPY_MODEL_d2cf021a13804fd3be08c3ec5f198cf9"
            ],
            "layout": "IPY_MODEL_ccad13b40dea474092eb917dced61603"
          }
        },
        "f5aefe3d89864122a5529ae81ff2d39e": {
          "model_module": "@jupyter-widgets/controls",
          "model_name": "HTMLModel",
          "model_module_version": "1.5.0",
          "state": {
            "_dom_classes": [],
            "_model_module": "@jupyter-widgets/controls",
            "_model_module_version": "1.5.0",
            "_model_name": "HTMLModel",
            "_view_count": null,
            "_view_module": "@jupyter-widgets/controls",
            "_view_module_version": "1.5.0",
            "_view_name": "HTMLView",
            "description": "",
            "description_tooltip": null,
            "layout": "IPY_MODEL_c84986a2f6ec4a668e45868397c7c78b",
            "placeholder": "​",
            "style": "IPY_MODEL_0422db59c1fc47528aa3e9a04b5b7437",
            "value": "Downloading (…)/main/tokenizer.json: 100%"
          }
        },
        "ab471855c57c48bb9136ac71c7918860": {
          "model_module": "@jupyter-widgets/controls",
          "model_name": "FloatProgressModel",
          "model_module_version": "1.5.0",
          "state": {
            "_dom_classes": [],
            "_model_module": "@jupyter-widgets/controls",
            "_model_module_version": "1.5.0",
            "_model_name": "FloatProgressModel",
            "_view_count": null,
            "_view_module": "@jupyter-widgets/controls",
            "_view_module_version": "1.5.0",
            "_view_name": "ProgressView",
            "bar_style": "success",
            "description": "",
            "description_tooltip": null,
            "layout": "IPY_MODEL_1be8f429741746b3b71a5446e01e61c0",
            "max": 1355256,
            "min": 0,
            "orientation": "horizontal",
            "style": "IPY_MODEL_8b7ab26aa97c4203a34f5fffb286dd0c",
            "value": 1355256
          }
        },
        "d2cf021a13804fd3be08c3ec5f198cf9": {
          "model_module": "@jupyter-widgets/controls",
          "model_name": "HTMLModel",
          "model_module_version": "1.5.0",
          "state": {
            "_dom_classes": [],
            "_model_module": "@jupyter-widgets/controls",
            "_model_module_version": "1.5.0",
            "_model_name": "HTMLModel",
            "_view_count": null,
            "_view_module": "@jupyter-widgets/controls",
            "_view_module_version": "1.5.0",
            "_view_name": "HTMLView",
            "description": "",
            "description_tooltip": null,
            "layout": "IPY_MODEL_81c71a6729224b078b23e2aca74ffec3",
            "placeholder": "​",
            "style": "IPY_MODEL_2ad87279fcbc4ff88bf965408d0bd40b",
            "value": " 1.36M/1.36M [00:00&lt;00:00, 15.6MB/s]"
          }
        },
        "ccad13b40dea474092eb917dced61603": {
          "model_module": "@jupyter-widgets/base",
          "model_name": "LayoutModel",
          "model_module_version": "1.2.0",
          "state": {
            "_model_module": "@jupyter-widgets/base",
            "_model_module_version": "1.2.0",
            "_model_name": "LayoutModel",
            "_view_count": null,
            "_view_module": "@jupyter-widgets/base",
            "_view_module_version": "1.2.0",
            "_view_name": "LayoutView",
            "align_content": null,
            "align_items": null,
            "align_self": null,
            "border": null,
            "bottom": null,
            "display": null,
            "flex": null,
            "flex_flow": null,
            "grid_area": null,
            "grid_auto_columns": null,
            "grid_auto_flow": null,
            "grid_auto_rows": null,
            "grid_column": null,
            "grid_gap": null,
            "grid_row": null,
            "grid_template_areas": null,
            "grid_template_columns": null,
            "grid_template_rows": null,
            "height": null,
            "justify_content": null,
            "justify_items": null,
            "left": null,
            "margin": null,
            "max_height": null,
            "max_width": null,
            "min_height": null,
            "min_width": null,
            "object_fit": null,
            "object_position": null,
            "order": null,
            "overflow": null,
            "overflow_x": null,
            "overflow_y": null,
            "padding": null,
            "right": null,
            "top": null,
            "visibility": null,
            "width": null
          }
        },
        "c84986a2f6ec4a668e45868397c7c78b": {
          "model_module": "@jupyter-widgets/base",
          "model_name": "LayoutModel",
          "model_module_version": "1.2.0",
          "state": {
            "_model_module": "@jupyter-widgets/base",
            "_model_module_version": "1.2.0",
            "_model_name": "LayoutModel",
            "_view_count": null,
            "_view_module": "@jupyter-widgets/base",
            "_view_module_version": "1.2.0",
            "_view_name": "LayoutView",
            "align_content": null,
            "align_items": null,
            "align_self": null,
            "border": null,
            "bottom": null,
            "display": null,
            "flex": null,
            "flex_flow": null,
            "grid_area": null,
            "grid_auto_columns": null,
            "grid_auto_flow": null,
            "grid_auto_rows": null,
            "grid_column": null,
            "grid_gap": null,
            "grid_row": null,
            "grid_template_areas": null,
            "grid_template_columns": null,
            "grid_template_rows": null,
            "height": null,
            "justify_content": null,
            "justify_items": null,
            "left": null,
            "margin": null,
            "max_height": null,
            "max_width": null,
            "min_height": null,
            "min_width": null,
            "object_fit": null,
            "object_position": null,
            "order": null,
            "overflow": null,
            "overflow_x": null,
            "overflow_y": null,
            "padding": null,
            "right": null,
            "top": null,
            "visibility": null,
            "width": null
          }
        },
        "0422db59c1fc47528aa3e9a04b5b7437": {
          "model_module": "@jupyter-widgets/controls",
          "model_name": "DescriptionStyleModel",
          "model_module_version": "1.5.0",
          "state": {
            "_model_module": "@jupyter-widgets/controls",
            "_model_module_version": "1.5.0",
            "_model_name": "DescriptionStyleModel",
            "_view_count": null,
            "_view_module": "@jupyter-widgets/base",
            "_view_module_version": "1.2.0",
            "_view_name": "StyleView",
            "description_width": ""
          }
        },
        "1be8f429741746b3b71a5446e01e61c0": {
          "model_module": "@jupyter-widgets/base",
          "model_name": "LayoutModel",
          "model_module_version": "1.2.0",
          "state": {
            "_model_module": "@jupyter-widgets/base",
            "_model_module_version": "1.2.0",
            "_model_name": "LayoutModel",
            "_view_count": null,
            "_view_module": "@jupyter-widgets/base",
            "_view_module_version": "1.2.0",
            "_view_name": "LayoutView",
            "align_content": null,
            "align_items": null,
            "align_self": null,
            "border": null,
            "bottom": null,
            "display": null,
            "flex": null,
            "flex_flow": null,
            "grid_area": null,
            "grid_auto_columns": null,
            "grid_auto_flow": null,
            "grid_auto_rows": null,
            "grid_column": null,
            "grid_gap": null,
            "grid_row": null,
            "grid_template_areas": null,
            "grid_template_columns": null,
            "grid_template_rows": null,
            "height": null,
            "justify_content": null,
            "justify_items": null,
            "left": null,
            "margin": null,
            "max_height": null,
            "max_width": null,
            "min_height": null,
            "min_width": null,
            "object_fit": null,
            "object_position": null,
            "order": null,
            "overflow": null,
            "overflow_x": null,
            "overflow_y": null,
            "padding": null,
            "right": null,
            "top": null,
            "visibility": null,
            "width": null
          }
        },
        "8b7ab26aa97c4203a34f5fffb286dd0c": {
          "model_module": "@jupyter-widgets/controls",
          "model_name": "ProgressStyleModel",
          "model_module_version": "1.5.0",
          "state": {
            "_model_module": "@jupyter-widgets/controls",
            "_model_module_version": "1.5.0",
            "_model_name": "ProgressStyleModel",
            "_view_count": null,
            "_view_module": "@jupyter-widgets/base",
            "_view_module_version": "1.2.0",
            "_view_name": "StyleView",
            "bar_color": null,
            "description_width": ""
          }
        },
        "81c71a6729224b078b23e2aca74ffec3": {
          "model_module": "@jupyter-widgets/base",
          "model_name": "LayoutModel",
          "model_module_version": "1.2.0",
          "state": {
            "_model_module": "@jupyter-widgets/base",
            "_model_module_version": "1.2.0",
            "_model_name": "LayoutModel",
            "_view_count": null,
            "_view_module": "@jupyter-widgets/base",
            "_view_module_version": "1.2.0",
            "_view_name": "LayoutView",
            "align_content": null,
            "align_items": null,
            "align_self": null,
            "border": null,
            "bottom": null,
            "display": null,
            "flex": null,
            "flex_flow": null,
            "grid_area": null,
            "grid_auto_columns": null,
            "grid_auto_flow": null,
            "grid_auto_rows": null,
            "grid_column": null,
            "grid_gap": null,
            "grid_row": null,
            "grid_template_areas": null,
            "grid_template_columns": null,
            "grid_template_rows": null,
            "height": null,
            "justify_content": null,
            "justify_items": null,
            "left": null,
            "margin": null,
            "max_height": null,
            "max_width": null,
            "min_height": null,
            "min_width": null,
            "object_fit": null,
            "object_position": null,
            "order": null,
            "overflow": null,
            "overflow_x": null,
            "overflow_y": null,
            "padding": null,
            "right": null,
            "top": null,
            "visibility": null,
            "width": null
          }
        },
        "2ad87279fcbc4ff88bf965408d0bd40b": {
          "model_module": "@jupyter-widgets/controls",
          "model_name": "DescriptionStyleModel",
          "model_module_version": "1.5.0",
          "state": {
            "_model_module": "@jupyter-widgets/controls",
            "_model_module_version": "1.5.0",
            "_model_name": "DescriptionStyleModel",
            "_view_count": null,
            "_view_module": "@jupyter-widgets/base",
            "_view_module_version": "1.2.0",
            "_view_name": "StyleView",
            "description_width": ""
          }
        }
      }
    },
    "accelerator": "TPU",
    "gpuClass": "standard"
  },
  "cells": [
    {
      "cell_type": "code",
      "execution_count": 1,
      "metadata": {
        "colab": {
          "base_uri": "https://localhost:8080/"
        },
        "id": "hFdTgyyND2C1",
        "outputId": "5bdb339f-f9fc-48c8-851c-b2a33cee061b"
      },
      "outputs": [
        {
          "output_type": "stream",
          "name": "stdout",
          "text": [
            "Looking in indexes: https://pypi.org/simple, https://us-python.pkg.dev/colab-wheels/public/simple/\n",
            "Collecting transformers\n",
            "  Downloading transformers-4.28.1-py3-none-any.whl (7.0 MB)\n",
            "\u001b[2K     \u001b[90m━━━━━━━━━━━━━━━━━━━━━━━━━━━━━━━━━━━━━━━━\u001b[0m \u001b[32m7.0/7.0 MB\u001b[0m \u001b[31m58.4 MB/s\u001b[0m eta \u001b[36m0:00:00\u001b[0m\n",
            "\u001b[?25hRequirement already satisfied: tqdm>=4.27 in /usr/local/lib/python3.10/dist-packages (from transformers) (4.65.0)\n",
            "Collecting tokenizers!=0.11.3,<0.14,>=0.11.1\n",
            "  Downloading tokenizers-0.13.3-cp310-cp310-manylinux_2_17_x86_64.manylinux2014_x86_64.whl (7.8 MB)\n",
            "\u001b[2K     \u001b[90m━━━━━━━━━━━━━━━━━━━━━━━━━━━━━━━━━━━━━━━━\u001b[0m \u001b[32m7.8/7.8 MB\u001b[0m \u001b[31m37.4 MB/s\u001b[0m eta \u001b[36m0:00:00\u001b[0m\n",
            "\u001b[?25hRequirement already satisfied: requests in /usr/local/lib/python3.10/dist-packages (from transformers) (2.27.1)\n",
            "Requirement already satisfied: numpy>=1.17 in /usr/local/lib/python3.10/dist-packages (from transformers) (1.24.3)\n",
            "Collecting huggingface-hub<1.0,>=0.11.0\n",
            "  Downloading huggingface_hub-0.14.1-py3-none-any.whl (224 kB)\n",
            "\u001b[2K     \u001b[90m━━━━━━━━━━━━━━━━━━━━━━━━━━━━━━━━━━━━━━\u001b[0m \u001b[32m224.5/224.5 kB\u001b[0m \u001b[31m25.5 MB/s\u001b[0m eta \u001b[36m0:00:00\u001b[0m\n",
            "\u001b[?25hRequirement already satisfied: pyyaml>=5.1 in /usr/local/lib/python3.10/dist-packages (from transformers) (6.0)\n",
            "Requirement already satisfied: filelock in /usr/local/lib/python3.10/dist-packages (from transformers) (3.12.0)\n",
            "Requirement already satisfied: regex!=2019.12.17 in /usr/local/lib/python3.10/dist-packages (from transformers) (2022.10.31)\n",
            "Requirement already satisfied: packaging>=20.0 in /usr/local/lib/python3.10/dist-packages (from transformers) (23.1)\n",
            "Requirement already satisfied: fsspec in /usr/local/lib/python3.10/dist-packages (from huggingface-hub<1.0,>=0.11.0->transformers) (2023.4.0)\n",
            "Requirement already satisfied: typing-extensions>=3.7.4.3 in /usr/local/lib/python3.10/dist-packages (from huggingface-hub<1.0,>=0.11.0->transformers) (4.5.0)\n",
            "Requirement already satisfied: charset-normalizer~=2.0.0 in /usr/local/lib/python3.10/dist-packages (from requests->transformers) (2.0.12)\n",
            "Requirement already satisfied: urllib3<1.27,>=1.21.1 in /usr/local/lib/python3.10/dist-packages (from requests->transformers) (1.26.15)\n",
            "Requirement already satisfied: certifi>=2017.4.17 in /usr/local/lib/python3.10/dist-packages (from requests->transformers) (2022.12.7)\n",
            "Requirement already satisfied: idna<4,>=2.5 in /usr/local/lib/python3.10/dist-packages (from requests->transformers) (3.4)\n",
            "Installing collected packages: tokenizers, huggingface-hub, transformers\n",
            "Successfully installed huggingface-hub-0.14.1 tokenizers-0.13.3 transformers-4.28.1\n"
          ]
        }
      ],
      "source": [
        "!pip install transformers"
      ]
    },
    {
      "cell_type": "markdown",
      "source": [
        "t5 query expansion(failed)"
      ],
      "metadata": {
        "id": "inyXAjTS_osA"
      }
    },
    {
      "cell_type": "code",
      "source": [
        "from transformers import T5ForConditionalGeneration, T5Tokenizer"
      ],
      "metadata": {
        "id": "oRJyY0yIGGUM"
      },
      "execution_count": 3,
      "outputs": []
    },
    {
      "cell_type": "code",
      "source": [
        "pip install sentencepiece"
      ],
      "metadata": {
        "colab": {
          "base_uri": "https://localhost:8080/"
        },
        "id": "9kZfcpT_GQ1-",
        "outputId": "003dafc6-c153-4363-d33e-242e362d1db6"
      },
      "execution_count": 4,
      "outputs": [
        {
          "output_type": "stream",
          "name": "stdout",
          "text": [
            "Looking in indexes: https://pypi.org/simple, https://us-python.pkg.dev/colab-wheels/public/simple/\n",
            "Collecting sentencepiece\n",
            "  Downloading sentencepiece-0.1.99-cp310-cp310-manylinux_2_17_x86_64.manylinux2014_x86_64.whl (1.3 MB)\n",
            "\u001b[2K     \u001b[90m━━━━━━━━━━━━━━━━━━━━━━━━━━━━━━━━━━━━━━━━\u001b[0m \u001b[32m1.3/1.3 MB\u001b[0m \u001b[31m19.3 MB/s\u001b[0m eta \u001b[36m0:00:00\u001b[0m\n",
            "\u001b[?25hInstalling collected packages: sentencepiece\n",
            "Successfully installed sentencepiece-0.1.99\n"
          ]
        }
      ]
    },
    {
      "cell_type": "code",
      "source": [
        "from transformers import AutoTokenizer, AutoModelForSeq2SeqLM\n",
        "tokenizer = AutoTokenizer.from_pretrained(\"t5-large\")\n",
        "model = AutoModelForSeq2SeqLM.from_pretrained(\"t5-large\")"
      ],
      "metadata": {
        "colab": {
          "base_uri": "https://localhost:8080/",
          "height": 306,
          "referenced_widgets": [
            "3671f446842c451c852cc4a7b557bab5",
            "e08d62625f64467aa3f1ba249ff38b20",
            "5112586d7e4c4febb971db03a2d8d1a5",
            "dc447e0c7bb14c9689faa411b7fef4d7",
            "482d216e3cc0415092f26e36c2ace01d",
            "da1e44ce22f44eff9396cb65ef70c343",
            "93640662f16f41e299c06196361e2d7c",
            "05dbf297840645d48cf3caced618d30f",
            "b18b0e51601b4104aac054c336600df6",
            "5c15455a968d437e9b4b9a1d2013e634",
            "eba52b4f1491499c84ad57948ae86654",
            "b6352e4d156b4fc9b8c2d6b6f90e81e5",
            "1d5b2d926b074e4cb8f4468524496928",
            "e3f18604296f4ab78719dff3eb70b65c",
            "348f22105baa4ba0bccd9039ee11b662",
            "85894505672b4342aba8bcaa5273bad4",
            "3afc227170164ff1a2692d3ea374f0b1",
            "a1fd264f2f334be991dd9f1113764ecd",
            "f730347226924909b2aa15fc8bf46cb8",
            "e01ccc6e098645c295a9056a4d2664b7",
            "c7e863099ca64eb6b47d5a6c36e8b3a8",
            "b6b4b4364b2c466a8b90a047e89b9828",
            "d2a6944ae0e047498a14dc8a0b17c7c4",
            "0242239d1da94be8a929a1c522dd54d1",
            "c8a176f12b8041f69b2f80ff3fb8003c",
            "252633cd7fda4a848f9050dda7332cf3",
            "49c3b4552347475b9723201d7e072922",
            "977bba07368a498aadc125c58714079a",
            "6c67311b82b54c658c0b9d2c6024f115",
            "7d652c7d56ed4a2d99a828f79f13bcf9",
            "de15e55a165d47ccb94a39046131bc4a",
            "8cce5d4e8ac447aeb6ea1ddebd16383c",
            "0c4ab75abb18491fa9f91ce98ebc9087",
            "5e343bc9c33a4f4c926252f0164a53ee",
            "51ac14d9124145a69c8335f8284ecd49",
            "79d35930235f49c8892b71dea515622d",
            "b13ae7832307406181e0ca3e931532df",
            "cc68c01faef2464f9fff1ebb752650b7",
            "cfbb77289480461dbc0e21c4ae61e5dc",
            "46158e8fc54e42c3a1a612ae1bc82b60",
            "d5fc96c02ece4a0d97b1484ff69c50a6",
            "269a7dc35aec45a285204f172660278c",
            "be5c8aeab9ee449fad13481c23d32d0d",
            "6ba8910731f949cbbb1f76bfb7f366a1",
            "f64b5716d6114417be14a3b6b68b424d",
            "63356b28285143c1987dc2b7373be6d1",
            "51259a75a85e412a9f0f85fa42409641",
            "0f12594b877f4ed3adc0a47023e2c674",
            "b7beb5978ccf44298fa6d9224eeb6f43",
            "1755f524875a490a8369f36c1bbdf726",
            "8b4937cce6c64aa6a653dbb2fc2e507c",
            "da8946d0885e4fdaad69c5f236644cab",
            "d612580f085e445a9e5c32456cac41a4",
            "352a5e7d614a465d8a0fea09140b68e6",
            "4bb60ebc6d5143cba9da1bc10dcecb4a"
          ]
        },
        "id": "AyEDdOjOGLMG",
        "outputId": "f2fbde90-3a5c-43d0-81bd-63e19b798f56"
      },
      "execution_count": null,
      "outputs": [
        {
          "output_type": "display_data",
          "data": {
            "text/plain": [
              "Downloading (…)lve/main/config.json:   0%|          | 0.00/1.21k [00:00<?, ?B/s]"
            ],
            "application/vnd.jupyter.widget-view+json": {
              "version_major": 2,
              "version_minor": 0,
              "model_id": "3671f446842c451c852cc4a7b557bab5"
            }
          },
          "metadata": {}
        },
        {
          "output_type": "display_data",
          "data": {
            "text/plain": [
              "Downloading (…)ve/main/spiece.model:   0%|          | 0.00/792k [00:00<?, ?B/s]"
            ],
            "application/vnd.jupyter.widget-view+json": {
              "version_major": 2,
              "version_minor": 0,
              "model_id": "b6352e4d156b4fc9b8c2d6b6f90e81e5"
            }
          },
          "metadata": {}
        },
        {
          "output_type": "display_data",
          "data": {
            "text/plain": [
              "Downloading (…)/main/tokenizer.json:   0%|          | 0.00/1.39M [00:00<?, ?B/s]"
            ],
            "application/vnd.jupyter.widget-view+json": {
              "version_major": 2,
              "version_minor": 0,
              "model_id": "d2a6944ae0e047498a14dc8a0b17c7c4"
            }
          },
          "metadata": {}
        },
        {
          "output_type": "stream",
          "name": "stderr",
          "text": [
            "/usr/local/lib/python3.10/dist-packages/transformers/models/t5/tokenization_t5_fast.py:155: FutureWarning: This tokenizer was incorrectly instantiated with a model max length of 512 which will be corrected in Transformers v5.\n",
            "For now, this behavior is kept to avoid breaking backwards compatibility when padding/encoding with `truncation is True`.\n",
            "- Be aware that you SHOULD NOT rely on t5-large automatically truncating your input to 512 when padding/encoding.\n",
            "- If you want to encode/pad to sequences longer than 512 you can either instantiate this tokenizer with `model_max_length` or pass `max_length` when encoding/padding.\n",
            "- To avoid this warning, please instantiate this tokenizer with `model_max_length` set to your preferred value.\n",
            "  warnings.warn(\n"
          ]
        },
        {
          "output_type": "display_data",
          "data": {
            "text/plain": [
              "Downloading pytorch_model.bin:   0%|          | 0.00/2.95G [00:00<?, ?B/s]"
            ],
            "application/vnd.jupyter.widget-view+json": {
              "version_major": 2,
              "version_minor": 0,
              "model_id": "5e343bc9c33a4f4c926252f0164a53ee"
            }
          },
          "metadata": {}
        },
        {
          "output_type": "display_data",
          "data": {
            "text/plain": [
              "Downloading (…)neration_config.json:   0%|          | 0.00/147 [00:00<?, ?B/s]"
            ],
            "application/vnd.jupyter.widget-view+json": {
              "version_major": 2,
              "version_minor": 0,
              "model_id": "f64b5716d6114417be14a3b6b68b424d"
            }
          },
          "metadata": {}
        }
      ]
    },
    {
      "cell_type": "code",
      "source": [
        "text = \"Do you love me?\""
      ],
      "metadata": {
        "id": "uCgFI2V-NNPa"
      },
      "execution_count": null,
      "outputs": []
    },
    {
      "cell_type": "code",
      "source": [
        "input_text = \"sumarize : \" + text"
      ],
      "metadata": {
        "id": "cowyx8jcNSk5"
      },
      "execution_count": null,
      "outputs": []
    },
    {
      "cell_type": "code",
      "source": [
        "input_ids = tokenizer.encode(input_text, return_tensors='pt')"
      ],
      "metadata": {
        "id": "GM8eSDZ-NVNT"
      },
      "execution_count": null,
      "outputs": []
    },
    {
      "cell_type": "code",
      "source": [
        "outputs = model.generate(input_ids=input_ids, min_length=30, max_length=100)"
      ],
      "metadata": {
        "id": "JrylJ-IDNYVS"
      },
      "execution_count": null,
      "outputs": []
    },
    {
      "cell_type": "code",
      "source": [
        "output_text = tokenizer.decode(outputs[0], skip_special_tokens=True)"
      ],
      "metadata": {
        "id": "NMpOcov6Nep5"
      },
      "execution_count": null,
      "outputs": []
    },
    {
      "cell_type": "code",
      "source": [
        "print(output_text)"
      ],
      "metadata": {
        "colab": {
          "base_uri": "https://localhost:8080/"
        },
        "id": "38onF7wlNhdZ",
        "outputId": "18ea9832-be55-471e-dafc-efa3793c0871"
      },
      "execution_count": null,
      "outputs": [
        {
          "output_type": "stream",
          "name": "stdout",
          "text": [
            ": Do you love me?? Do you love me? Do you love me? Do you love me? Do you love me? Do you love me? Do you love me? Do you love me? Do you love me?\n"
          ]
        }
      ]
    },
    {
      "cell_type": "markdown",
      "source": [
        "facebook/spar-wiki-bm25-lexmodel-query-encoder"
      ],
      "metadata": {
        "id": "VkyuL17j_vHa"
      }
    },
    {
      "cell_type": "code",
      "source": [
        "import torch\n",
        "from transformers import AutoTokenizer, AutoModel"
      ],
      "metadata": {
        "id": "V5jLpHBWQ4id"
      },
      "execution_count": null,
      "outputs": []
    },
    {
      "cell_type": "code",
      "source": [
        "tokenizer = AutoTokenizer.from_pretrained('facebook/spar-wiki-bm25-lexmodel-query-encoder')\n",
        "query_encoder = AutoModel.from_pretrained('facebook/spar-wiki-bm25-lexmodel-query-encoder')\n",
        "context_encoder = AutoModel.from_pretrained('facebook/spar-wiki-bm25-lexmodel-context-encoder')"
      ],
      "metadata": {
        "colab": {
          "base_uri": "https://localhost:8080/",
          "height": 241,
          "referenced_widgets": [
            "e0318120401146f2955423b4588537e0",
            "61a9379e566d4e7d82b38cac8edadf20",
            "266720b2608848318292c9d0951f8efa",
            "6334e483c41842b8be786ec67c9b7df9",
            "3201fc5d15064a6eab807389bee3a400",
            "ebbf225795fa41c280597a8caa6af774",
            "38b29f163bdc4b13b5232beb47df243b",
            "5ffffa3619a34499ac29b296ae619b8f",
            "bce21c2879eb476badeda7aadfbc6576",
            "6d1874265f544d84b717afa2a63dfdea",
            "4738976140304cbb920b101620f40daf",
            "9bc75e948fc847a7a9e7a9ffd2ac39bd",
            "d225cad5490f4613aaa30e27d1da724d",
            "deb6568d9878445fb865e0be237767cd",
            "a837af462f704735b263607f45fff7af",
            "4b38f8c6a3124f2087f313d8d4715d18",
            "166894085804480cae1ded36e1662def",
            "12157d0f8bf84f9c8362b605075de7ac",
            "59e720870d21412a9c40dfd1ce87958c",
            "42261ba9911448a0926712407463ba1c",
            "504ae0dbadea4258b4d12ca592ad8106",
            "79e11f6f0f2541d096fca56bf2adfdd1",
            "f0982eef7a2f461dbf85e0982b5105d0",
            "fbd144d6c275407e832f72b03c47ee88",
            "363f10b87db74b5c99a7c44f71ce1378",
            "b9bc7e610cc74045a1be490a54f24b42",
            "f8ebfb453fec425189d2158131816aa0",
            "152a0e34e8114be984f3451d319fc55c",
            "f24bc1aa751945759046648ec2706ae7",
            "765d4fdc8ce448a39a5076f3ad86d4f2",
            "6453cb72a9f4405c92b3a0f4ec461a6a",
            "2bff20320c5042c8a1be02d7a55bf67d",
            "3e72ec09b3214c4d92021e80f1aa9da4",
            "e3acbeedb11e4d719bd1ec0aa7dc0752",
            "3fb4aa55dd564b94a077b69482927e68",
            "c1b160bbdb6441a288633e4af60d1723",
            "160724c08c704efba18693090766da71",
            "7dae18f9f643435f9d87c6e20b7c6056",
            "ea902411f4fa43759351c78f7e2b7719",
            "900a3687ea114d0091a483738690bbb4",
            "6d4eccc86c1b4abab506967a50b7c783",
            "5a074b1fd9fc45c09fe0af25628f6c77",
            "5fe6736a1f01427b9489cf6a95a0e61f",
            "4b865d7b7fc64281b59a376e8af4b371",
            "2443e1dac1dc4bdeb4e71b4ea3462220",
            "e501ee6c230e4299ba35b0a93c5596af",
            "207d80a806784873b6f87700d05d49a2",
            "6fbaf4c9ea0f498ca14a6e0362ff0c76",
            "2a2d73c707cc442890e568ece13e36ce",
            "4fe49f14406844d2a8db04dad46b1384",
            "47341ffec0b7479b8197cd1688472bd2",
            "0aff26dde1f34a6dbb93cbd52a7a7991",
            "d6cfbfb6506c4645b429bbdf60b799ea",
            "108c0fb34fdb4f459b97cb10c268749d",
            "890d9af2b45149c99a90d502183e058a",
            "8cd848c0e9284c0ead07201351f60cfa",
            "d912cfa1bd87428d909081f0b8d4b5f3",
            "cc088041f08340dfbd159ff471ab3c97",
            "9a5506f8bc154efa9f452c590fb3461c",
            "f059c3d17a5b45d3a819d271ae0884cf",
            "d4371c524e8b4b27be861884af2cee33",
            "d11c6fb454104fc8ab7815717b244a61",
            "823b8d78bccd4b098a7e06c54d1938ed",
            "0722522df3454ba8b40cf1913f1216a4",
            "94371ada22c04522880e954d67a2e24c",
            "8844f31d665f4e63a1cefc230583b9b5",
            "a177cb166f304a538d317edae4c2c8ae",
            "852ab0c6af6f40ffaeec96de2f7e74f4",
            "ed66a0d9f3a64759b02af8db71ab3bf7",
            "59d2cb52412347c6bdd7ffff18081a50",
            "4437f31659034bb3a3a5b95c216f10ed",
            "28cd5f75dd304113adcec43ed81ba8d8",
            "21cdb216d5904c1cbf321fc93fbea6ce",
            "14073e304e9e4e1fbb155682c9af6a6f",
            "3d7e1c30beeb4088b0c9286dde72e1d0",
            "9def935ef65f44f5aa3367840591544a",
            "bc360764424243a080ea9b4b34bbdf87"
          ]
        },
        "id": "uItZ4wYkQ-Gy",
        "outputId": "1c7f8ac2-60da-43bb-d7f0-2a0fc1ecbca0"
      },
      "execution_count": null,
      "outputs": [
        {
          "output_type": "display_data",
          "data": {
            "text/plain": [
              "Downloading (…)okenizer_config.json:   0%|          | 0.00/174 [00:00<?, ?B/s]"
            ],
            "application/vnd.jupyter.widget-view+json": {
              "version_major": 2,
              "version_minor": 0,
              "model_id": "e0318120401146f2955423b4588537e0"
            }
          },
          "metadata": {}
        },
        {
          "output_type": "display_data",
          "data": {
            "text/plain": [
              "Downloading (…)lve/main/config.json:   0%|          | 0.00/502 [00:00<?, ?B/s]"
            ],
            "application/vnd.jupyter.widget-view+json": {
              "version_major": 2,
              "version_minor": 0,
              "model_id": "9bc75e948fc847a7a9e7a9ffd2ac39bd"
            }
          },
          "metadata": {}
        },
        {
          "output_type": "display_data",
          "data": {
            "text/plain": [
              "Downloading (…)solve/main/vocab.txt:   0%|          | 0.00/232k [00:00<?, ?B/s]"
            ],
            "application/vnd.jupyter.widget-view+json": {
              "version_major": 2,
              "version_minor": 0,
              "model_id": "f0982eef7a2f461dbf85e0982b5105d0"
            }
          },
          "metadata": {}
        },
        {
          "output_type": "display_data",
          "data": {
            "text/plain": [
              "Downloading (…)cial_tokens_map.json:   0%|          | 0.00/112 [00:00<?, ?B/s]"
            ],
            "application/vnd.jupyter.widget-view+json": {
              "version_major": 2,
              "version_minor": 0,
              "model_id": "e3acbeedb11e4d719bd1ec0aa7dc0752"
            }
          },
          "metadata": {}
        },
        {
          "output_type": "display_data",
          "data": {
            "text/plain": [
              "Downloading pytorch_model.bin:   0%|          | 0.00/438M [00:00<?, ?B/s]"
            ],
            "application/vnd.jupyter.widget-view+json": {
              "version_major": 2,
              "version_minor": 0,
              "model_id": "2443e1dac1dc4bdeb4e71b4ea3462220"
            }
          },
          "metadata": {}
        },
        {
          "output_type": "display_data",
          "data": {
            "text/plain": [
              "Downloading (…)lve/main/config.json:   0%|          | 0.00/462 [00:00<?, ?B/s]"
            ],
            "application/vnd.jupyter.widget-view+json": {
              "version_major": 2,
              "version_minor": 0,
              "model_id": "8cd848c0e9284c0ead07201351f60cfa"
            }
          },
          "metadata": {}
        },
        {
          "output_type": "display_data",
          "data": {
            "text/plain": [
              "Downloading pytorch_model.bin:   0%|          | 0.00/438M [00:00<?, ?B/s]"
            ],
            "application/vnd.jupyter.widget-view+json": {
              "version_major": 2,
              "version_minor": 0,
              "model_id": "a177cb166f304a538d317edae4c2c8ae"
            }
          },
          "metadata": {}
        }
      ]
    },
    {
      "cell_type": "code",
      "source": [
        "query = \"Where was Marie Curie born?\"\n",
        "contexts = [\n",
        "    \"Maria Sklodowska, later known as Marie Curie, was born on November 7, 1867.\",\n",
        "    \"Born in Paris on 15 May 1859, Pierre Curie was the son of Eugène Curie, a doctor of French Catholic origin from Alsace.\"\n",
        "]"
      ],
      "metadata": {
        "id": "SRnfMhGPRP_x"
      },
      "execution_count": null,
      "outputs": []
    },
    {
      "cell_type": "code",
      "source": [
        "query_input = tokenizer(query, return_tensors='pt')\n",
        "ctx_input = tokenizer(contexts, padding=True, truncation=True, return_tensors='pt')"
      ],
      "metadata": {
        "id": "jkC2k6FyRTGc"
      },
      "execution_count": null,
      "outputs": []
    },
    {
      "cell_type": "code",
      "source": [
        "output_text = tokenizer.decode(outputs[0], skip_special_tokens=True)"
      ],
      "metadata": {
        "id": "yK-RWn9vWDhd"
      },
      "execution_count": null,
      "outputs": []
    },
    {
      "cell_type": "code",
      "source": [
        "print(output_text)"
      ],
      "metadata": {
        "colab": {
          "base_uri": "https://localhost:8080/"
        },
        "id": "Ma9DR_uAWQF0",
        "outputId": "4f3e4dc4-53e7-440a-87b5-d3a27dc6ed23"
      },
      "execution_count": null,
      "outputs": [
        {
          "output_type": "stream",
          "name": "stdout",
          "text": [
            "[unused526] [unused24] [unused328] [unused135] [unused57] [unused57] [unused526] [unused24] [unused328] [unused135] [unused57] [unused526] [unused24] [unused328] [unused135] [unused57] [unused526] [unused24] [unused328] [unused135] [unused57] [unused526] [unused24] [unused328] [unused135] [unused57] [unused526] [unused24] [unused328] [unused135] [unused57] [unused526] [unused24] [unused328] [unused135] [unused57] [unused526] [unused24] [unused328] [unused135] [unused57] [unused526] [unused24] [unused328] [unused135] [unused57] [unused526] [unused24] [unused328] [unused135] [unused57] [unused526] [unused24] [unused328] [unused135] [unused57] [unused0]\n"
          ]
        }
      ]
    },
    {
      "cell_type": "code",
      "source": [
        "query_emb = query_encoder(**query_input).last_hidden_state[:, 0, :]\n",
        "ctx_emb = context_encoder(**ctx_input).last_hidden_state[:, 0, :]"
      ],
      "metadata": {
        "id": "mZnegBgwRUPi"
      },
      "execution_count": null,
      "outputs": []
    },
    {
      "cell_type": "code",
      "source": [
        "score1 = query_emb @ ctx_emb[0]  # 341.3268\n",
        "score2 = query_emb @ ctx_emb[1]  # 340.1626\n",
        "print(score1)\n",
        "print(score2)"
      ],
      "metadata": {
        "colab": {
          "base_uri": "https://localhost:8080/"
        },
        "id": "8k9RCUfVRcpp",
        "outputId": "ae3ff806-362f-40a9-c0b8-b28a988749ae"
      },
      "execution_count": null,
      "outputs": [
        {
          "output_type": "stream",
          "name": "stdout",
          "text": [
            "tensor([341.3268], grad_fn=<MvBackward0>)\n",
            "tensor([340.1627], grad_fn=<MvBackward0>)\n"
          ]
        }
      ]
    },
    {
      "cell_type": "markdown",
      "source": [
        "gpt2 query expansion(애매)"
      ],
      "metadata": {
        "id": "rpU6nhox_1CA"
      }
    },
    {
      "cell_type": "code",
      "source": [
        "from transformers import GPT2Tokenizer, GPT2Model\n",
        "tokenizer = GPT2Tokenizer.from_pretrained('gpt2')\n",
        "model = GPT2Model.from_pretrained('gpt2')\n",
        "text = \"Replace me by any text you'd like.\"\n",
        "encoded_input = tokenizer(text, return_tensors='pt')\n",
        "output = model(**encoded_input)"
      ],
      "metadata": {
        "id": "GeSaMiqXYWDM"
      },
      "execution_count": null,
      "outputs": []
    },
    {
      "cell_type": "code",
      "source": [
        "from transformers import pipeline, set_seed\n",
        "generator = pipeline('text-generation', model='gpt2')\n",
        "set_seed(42)\n",
        "generator(\"who is the author of the book arabian nights?\", max_length=100, num_return_sequences=5)"
      ],
      "metadata": {
        "colab": {
          "base_uri": "https://localhost:8080/"
        },
        "id": "ZKEPcpewY0Ku",
        "outputId": "e5635735-2262-47b9-9bcc-55a112d41378"
      },
      "execution_count": null,
      "outputs": [
        {
          "output_type": "stream",
          "name": "stderr",
          "text": [
            "/usr/local/lib/python3.10/dist-packages/transformers/generation/utils.py:1219: UserWarning: You have modified the pretrained model configuration to control generation. This is a deprecated strategy to control generation and will be removed soon, in a future version. Please use a generation configuration file (see https://huggingface.co/docs/transformers/main_classes/text_generation)\n",
            "  warnings.warn(\n",
            "Setting `pad_token_id` to `eos_token_id`:50256 for open-end generation.\n"
          ]
        },
        {
          "output_type": "execute_result",
          "data": {
            "text/plain": [
              "[{'generated_text': 'who is the author of the book arabian nights?'},\n",
              " {'generated_text': \"who is the author of the book arabian nights?\\n\\nI would love to see a new version of night owl to represent the night and to go to work in the autumn when the owl doesn't have any sort of light from outside.\\n\\nThe owl will not go on the roof when it finds anything but a pillowcase.\\n\\nI'm going to change myself, although it would be great for an article where I say I don't want me to go back to work for\"},\n",
              " {'generated_text': \"who is the author of the book arabian nights?\\n\\nWhat do they do there?\\n\\nArabian nights!\\n\\nI get that that it seems so… odd? So… you know there's something about it it makes sense, but don't get me wrong, there's things about that book. It's very much so. It is a mystery that may take us anywhere from two or three pages to four chapters (we have to keep the plot as tight as possible\"},\n",
              " {'generated_text': \"who is the author of the book arabian nights? Who is the author of the 'night in her face?'? We are not speaking of the world's most famous and influential women, who have been making their mark. We are speaking of the world's most eminent, and most powerful, feminists, who have gone on to influence the politics and political economy of the globe.\\n\\nThis is not an argument of self-pity, but rather, a defense of our freedom as human\"},\n",
              " {'generated_text': \"who is the author of the book arabian nights? I think the book is in bad taste. I haven't read it, and I don't read it in the U.K to try and try a new approach, to put down this bad taste. I think the thing is that I've read this book quite a bit and yet I can't be persuaded to read it with the confidence of the reader that I've read this book and then read it again and that was the problem with\"}]"
            ]
          },
          "metadata": {},
          "execution_count": 23
        }
      ]
    },
    {
      "cell_type": "code",
      "source": [
        "from transformers import pipeline, set_seed\n",
        "generator = pipeline('text-generation', model='gpt2')\n",
        "set_seed(42)\n",
        "generator(\"One Thousand and One Nights (Arabic: أَلْفُ لَيْلَةٍ وَلَيْلَةٌ, ʾAlf Laylah wa-Laylah)[1] is a collection of Middle Eastern folk tales compiled in Arabic during the Islamic Golden Age. It is often known in English as the Arabian Nights, from the first English-language edition (c. 1706–1721), which rendered the title as The Arabian Nights' Entertainment.[2]The work was collected over many centuries by various authors, translators, and scholars across West Asia, Central Asia, South Asia, and North Africa. Some tales trace their roots back to ancient and medieval Arabic, Sanskrit, Persian, and Mesopotamian literature.[3] Many tales were originally folk stories from the Abbasid and Mamluk eras, while others, especially the frame story, are probably drawn from the Pahlavi Persian work Hezār Afsān (Persian: هزار افسان, lit. A Thousand Tales), some of which may in turn be translations of older Indian texts.\", max_length=300, num_return_sequences=3)"
      ],
      "metadata": {
        "colab": {
          "base_uri": "https://localhost:8080/"
        },
        "id": "L9LCMs19qwiB",
        "outputId": "0ace5bbe-3594-4fbe-dec6-5df378deface"
      },
      "execution_count": null,
      "outputs": [
        {
          "output_type": "stream",
          "name": "stderr",
          "text": [
            "Setting `pad_token_id` to `eos_token_id`:50256 for open-end generation.\n"
          ]
        },
        {
          "output_type": "execute_result",
          "data": {
            "text/plain": [
              "[{'generated_text': \"One Thousand and One Nights (Arabic: أَلْفُ لَيْلَةٍ وَلَيْلَةٌ, ʾAlf Laylah wa-Laylah)[1] is a collection of Middle Eastern folk tales compiled in Arabic during the Islamic Golden Age. It is often known in English as the Arabian Nights, from the first English-language edition (c.\\u20091706–1721), which rendered the title as The Arabian Nights' Entertainment.[2]The work was collected over many centuries by various authors, translators, and scholars across West Asia, Central Asia, South Asia, and North Africa. Some tales trace their roots back to ancient and medieval Arabic, Sanskrit, Persian, and Mesopotamian literature.[3] Many tales were originally folk stories from the Abbasid and Mamluk eras, while others, especially the frame story, are probably drawn from the Pahlavi Persian work Hezār Afsān (Persian: هزار افسان, lit. A Thousand Tales), some of which may in turn be translations of older Indian texts.\"},\n",
              " {'generated_text': \"One Thousand and One Nights (Arabic: أَلْفُ لَيْلَةٍ وَلَيْلَةٌ, ʾAlf Laylah wa-Laylah)[1] is a collection of Middle Eastern folk tales compiled in Arabic during the Islamic Golden Age. It is often known in English as the Arabian Nights, from the first English-language edition (c.\\u20091706–1721), which rendered the title as The Arabian Nights' Entertainment.[2]The work was collected over many centuries by various authors, translators, and scholars across West Asia, Central Asia, South Asia, and North Africa. Some tales trace their roots back to ancient and medieval Arabic, Sanskrit, Persian, and Mesopotamian literature.[3] Many tales were originally folk stories from the Abbasid and Mamluk eras, while others, especially the frame story, are probably drawn from the Pahlavi Persian work Hezār Afsān (Persian: هزار افسان, lit. A Thousand Tales), some of which may in turn be translations of older Indian texts.\\n\\nOther historical and literary sources [ edit ]\\n\\nIn the Middle East, the legend of the Arabian Nights has been in the works of various writers, notably Sir Eliphalot by Al-Ghazali and Ibn Battuta by Ibn Saba (\"},\n",
              " {'generated_text': \"One Thousand and One Nights (Arabic: أَلْفُ لَيْلَةٍ وَلَيْلَةٌ, ʾAlf Laylah wa-Laylah)[1] is a collection of Middle Eastern folk tales compiled in Arabic during the Islamic Golden Age. It is often known in English as the Arabian Nights, from the first English-language edition (c.\\u20091706–1721), which rendered the title as The Arabian Nights' Entertainment.[2]The work was collected over many centuries by various authors, translators, and scholars across West Asia, Central Asia, South Asia, and North Africa. Some tales trace their roots back to ancient and medieval Arabic, Sanskrit, Persian, and Mesopotamian literature.[3] Many tales were originally folk stories from the Abbasid and Mamluk eras, while others, especially the frame story, are probably drawn from the Pahlavi Persian work Hezār Afsān (Persian: هزار افسان, lit. A Thousand Tales), some of which may in turn be translations of older Indian texts.\\n\\nMany contemporary English translations of Arabic texts, from the first known Arabic edition (947–1231) to a much newer edition (1313 to 1537), incorporate it as the main source for the narrative.[4][note 1] However, most\"}]"
            ]
          },
          "metadata": {},
          "execution_count": 24
        }
      ]
    },
    {
      "cell_type": "markdown",
      "source": [
        "Bm25(t5 and gpt2 paragraph)"
      ],
      "metadata": {
        "id": "3sxyepObtw23"
      }
    },
    {
      "cell_type": "code",
      "source": [
        "pip install rank_bm25"
      ],
      "metadata": {
        "colab": {
          "base_uri": "https://localhost:8080/"
        },
        "id": "lgUNHxHUsHGS",
        "outputId": "284828d3-9945-43b9-8062-4cc7cd6decc3"
      },
      "execution_count": null,
      "outputs": [
        {
          "output_type": "stream",
          "name": "stdout",
          "text": [
            "Looking in indexes: https://pypi.org/simple, https://us-python.pkg.dev/colab-wheels/public/simple/\n",
            "Collecting rank_bm25\n",
            "  Downloading rank_bm25-0.2.2-py3-none-any.whl (8.6 kB)\n",
            "Requirement already satisfied: numpy in /usr/local/lib/python3.10/dist-packages (from rank_bm25) (1.22.4)\n",
            "Installing collected packages: rank_bm25\n",
            "Successfully installed rank_bm25-0.2.2\n"
          ]
        }
      ]
    },
    {
      "cell_type": "code",
      "source": [
        "from rank_bm25 import BM25Okapi\n",
        "\n",
        "corpus = [\n",
        "    \"The second season of the American television drama series Breaking Bad premiered on March 8, 2009 and concluded on May 31, 2009. It consisted of 13 episodes, each running approximately 47 minutes in length. AMC broadcast the second season on Sundays at 10:00 pm in the United States. The complete second season was released on Region 1 DVD and Region A Blu-ray on March 16, 2010.\",\n",
        "    \"No-Doze dies from the beating Tuco inflicted on him, and Gonzo leaves to hide the body. Walt and Jesse are horrified by Tuco's violent outbursts, as well as the mysterious appearance of an ominous black SUV. Jesse resolves to shoot Tuco, but Walt has a more surreptitious plan involving poisoning him with ricin, thus leaving their hands clean. Hank reviews the security surveillance footage of the warehouse break-in without realizing he is watching Walt and Jesse, though he can tell they are inexperienced thieves. Investigating the junkyard, he finds Gonzo dead from a botched attempt to hide No-Doze's body. Skyler tells Hank about Marie's shoplifting, and learns she has already been receiving therapy for kleptomania.\",\n",
        "    \"Tuco takes Walt and Jesse at gunpoint to a remote desert hideout, where he takes care of his sick uncle Hector, a former drug kingpin who is now incapacitated due to a stroke and can only communicate with a bell. Tuco explains that Hank and the DEA have rolled his entire organization. Unaware of Gonzo's death, Tuco believes Gonzo has ratted him out. Tuco now intends to take Walt and Jesse to Mexico, where they will cook meth for him 24/7. Desperate, Walt attempts to poison Tuco, but Hector disrupts his plan. Enraged, Tuco attacks and attempts to kill Jesse, but Jesse manages to wound him and escape with Walt. Meanwhile, Skyler is worried over Walt's disappearance and, after Hank reveals his suspicion that Walt has a second cell phone, remembers that Jesse had been supplying Walt with marijuana. Hank tracks Jesse to Tuco's hideout and gets into a shootout with Tuco, whom he kills in self-defense.\"\n",
        "]\n",
        "\n",
        "tokenized_corpus = [doc.split(\" \") for doc in corpus]\n",
        "\n",
        "bm25 = BM25Okapi(tokenized_corpus)"
      ],
      "metadata": {
        "id": "im5mMkTXsPyQ"
      },
      "execution_count": null,
      "outputs": []
    },
    {
      "cell_type": "code",
      "source": [
        "query = \"how many episodes in season 2 breaking bad?\"\n",
        "tokenized_query = query.split(\" \")"
      ],
      "metadata": {
        "id": "dqVAntCis7ko"
      },
      "execution_count": null,
      "outputs": []
    },
    {
      "cell_type": "code",
      "source": [
        "bm25.get_top_n(tokenized_query, corpus, n=1)"
      ],
      "metadata": {
        "colab": {
          "base_uri": "https://localhost:8080/"
        },
        "id": "GaxBxfB7s-vo",
        "outputId": "cc5d98cf-a4aa-41c4-9888-eadb2e323a54"
      },
      "execution_count": null,
      "outputs": [
        {
          "output_type": "execute_result",
          "data": {
            "text/plain": [
              "['The second season of the American television drama series Breaking Bad premiered on March 8, 2009 and concluded on May 31, 2009. It consisted of 13 episodes, each running approximately 47 minutes in length. AMC broadcast the second season on Sundays at 10:00 pm in the United States. The complete second season was released on Region 1 DVD and Region A Blu-ray on March 16, 2010.']"
            ]
          },
          "metadata": {},
          "execution_count": 28
        }
      ]
    },
    {
      "cell_type": "code",
      "source": [
        "generator = pipeline('text-generation', model='gpt2')\n",
        "set_seed(42)\n",
        "generator(\"The second season of the American television drama series Breaking Bad premiered on March 8, 2009 and concluded on May 31, 2009. It consisted of 13 episodes, each running approximately 47 minutes in length. AMC broadcast the second season on Sundays at 10:00 pm in the United States. The complete second season was released on Region 1 DVD and Region A Blu-ray on March 16, 2010.\", max_length=300, num_return_sequences=3)"
      ],
      "metadata": {
        "colab": {
          "base_uri": "https://localhost:8080/"
        },
        "id": "hU--2RBMuGv_",
        "outputId": "d207952d-5734-495e-9e9d-bd082758c12b"
      },
      "execution_count": null,
      "outputs": [
        {
          "output_type": "stream",
          "name": "stderr",
          "text": [
            "Setting `pad_token_id` to `eos_token_id`:50256 for open-end generation.\n"
          ]
        },
        {
          "output_type": "execute_result",
          "data": {
            "text/plain": [
              "[{'generated_text': 'The second season of the American television drama series Breaking Bad premiered on March 8, 2009 and concluded on May 31, 2009. It consisted of 13 episodes, each running approximately 47 minutes in length. AMC broadcast the second season on Sundays at 10:00 pm in the United States. The complete second season was released on Region 1 DVD and Region A Blu-ray on March 16, 2010.'},\n",
              " {'generated_text': 'The second season of the American television drama series Breaking Bad premiered on March 8, 2009 and concluded on May 31, 2009. It consisted of 13 episodes, each running approximately 47 minutes in length. AMC broadcast the second season on Sundays at 10:00 pm in the United States. The complete second season was released on Region 1 DVD and Region A Blu-ray on March 16, 2010.\\n\\nOther notable recent television programs\\n\\nOther notable shows that aired on AMC are the following:\\n\\nBacked by \"Breaking Bad\"\\n\\nIn the early 1990s, Breaking Bad was also based on the HBO sitcom \"Good Morning America\" and was the second season of ABC\\'s \"Big Brother.\" The series, based on the successful book series, \"The Badass\", focused on a group of law students who work for the CIA and FBI.\\n\\nThe following years, some characters with ties to Breaking Bad were also featured on AMC\\'s episodes:\\n\\nIn the final episode of \"The Day We Go To Hell,\" an officer named \"Maggie\" (voiced by Jon Hamm) and his men are forced by Jesse to go to the hospital (a similar set of events occurs in the first season). They are treated with drugs and have to drive out of the hospital. However, they eventually arrive at the hospital, despite being too scared, and escape. The officers get hold of and escape (both episodes are released free on Blu-ray).\\n\\nIn the final'},\n",
              " {'generated_text': 'The second season of the American television drama series Breaking Bad premiered on March 8, 2009 and concluded on May 31, 2009. It consisted of 13 episodes, each running approximately 47 minutes in length. AMC broadcast the second season on Sundays at 10:00 pm in the United States. The complete second season was released on Region 1 DVD and Region A Blu-ray on March 16, 2010.\\n\\nOn March 17, 2008, AMC added a total of 19 episodes to AMC America\\'s Season 6 DVD and Region A Blu-ray, bringing the total to 13. On December 23, 2008, AMC America\\'s Season 4 Blu-ray released on October 11.\\n\\nMAMC America\\'s Season 4 DVD and Region A Blu-ray, featuring the entire second season are titled \"The Uncomfortable Truth: Breaking Bad\", being released by AMC on November 31, 2009.\\n\\nDVD and Region A Blu-rays include:\\n\\n\\nDVD and Region A Blu-rays feature:\\n\\n\\nSeason 5 Blu-rays feature: Season 4\\n\\nVideo:\\n\\nBrought to you by:\\n\\nThe Blacklist\\n\\nAll The Bravest\\n\\nAll The Wire\\n\\nBlue'}]"
            ]
          },
          "metadata": {},
          "execution_count": 29
        }
      ]
    },
    {
      "cell_type": "code",
      "source": [
        "doc_scores = bm25.get_scores(tokenized_query)"
      ],
      "metadata": {
        "id": "p9EpVkKnw7fg"
      },
      "execution_count": null,
      "outputs": []
    },
    {
      "cell_type": "code",
      "source": [
        "print(doc_scores)"
      ],
      "metadata": {
        "colab": {
          "base_uri": "https://localhost:8080/"
        },
        "id": "O_lYdSQSw_TJ",
        "outputId": "bf5ec6dd-91f0-4b2d-d2bd-0c8a69fc4fc2"
      },
      "execution_count": null,
      "outputs": [
        {
          "output_type": "stream",
          "name": "stdout",
          "text": [
            "[1.09681557 0.         0.07583094]\n"
          ]
        }
      ]
    },
    {
      "cell_type": "code",
      "source": [
        "print(corpus)"
      ],
      "metadata": {
        "colab": {
          "base_uri": "https://localhost:8080/"
        },
        "id": "H6ZcmV_ZxFP5",
        "outputId": "067d0206-1d82-4084-8455-589f88716f24"
      },
      "execution_count": null,
      "outputs": [
        {
          "output_type": "stream",
          "name": "stdout",
          "text": [
            "['The second season of the American television drama series Breaking Bad premiered on March 8, 2009 and concluded on May 31, 2009. It consisted of 13 episodes, each running approximately 47 minutes in length. AMC broadcast the second season on Sundays at 10:00 pm in the United States. The complete second season was released on Region 1 DVD and Region A Blu-ray on March 16, 2010.', \"No-Doze dies from the beating Tuco inflicted on him, and Gonzo leaves to hide the body. Walt and Jesse are horrified by Tuco's violent outbursts, as well as the mysterious appearance of an ominous black SUV. Jesse resolves to shoot Tuco, but Walt has a more surreptitious plan involving poisoning him with ricin, thus leaving their hands clean. Hank reviews the security surveillance footage of the warehouse break-in without realizing he is watching Walt and Jesse, though he can tell they are inexperienced thieves. Investigating the junkyard, he finds Gonzo dead from a botched attempt to hide No-Doze's body. Skyler tells Hank about Marie's shoplifting, and learns she has already been receiving therapy for kleptomania.\", \"Tuco takes Walt and Jesse at gunpoint to a remote desert hideout, where he takes care of his sick uncle Hector, a former drug kingpin who is now incapacitated due to a stroke and can only communicate with a bell. Tuco explains that Hank and the DEA have rolled his entire organization. Unaware of Gonzo's death, Tuco believes Gonzo has ratted him out. Tuco now intends to take Walt and Jesse to Mexico, where they will cook meth for him 24/7. Desperate, Walt attempts to poison Tuco, but Hector disrupts his plan. Enraged, Tuco attacks and attempts to kill Jesse, but Jesse manages to wound him and escape with Walt. Meanwhile, Skyler is worried over Walt's disappearance and, after Hank reveals his suspicion that Walt has a second cell phone, remembers that Jesse had been supplying Walt with marijuana. Hank tracks Jesse to Tuco's hideout and gets into a shootout with Tuco, whom he kills in self-defense.\"]\n"
          ]
        }
      ]
    },
    {
      "cell_type": "code",
      "source": [
        "from transformers import AutoTokenizer, AutoModelForSeq2SeqLM\n",
        "tokenizer = AutoTokenizer.from_pretrained(\"t5-large\")\n",
        "model = AutoModelForSeq2SeqLM.from_pretrained(\"t5-large\")"
      ],
      "metadata": {
        "colab": {
          "base_uri": "https://localhost:8080/"
        },
        "id": "sDvotX0qykqQ",
        "outputId": "ed904d82-e2cf-472c-e6c1-f58687a24c36"
      },
      "execution_count": null,
      "outputs": [
        {
          "output_type": "stream",
          "name": "stderr",
          "text": [
            "/usr/local/lib/python3.10/dist-packages/transformers/models/t5/tokenization_t5_fast.py:155: FutureWarning: This tokenizer was incorrectly instantiated with a model max length of 512 which will be corrected in Transformers v5.\n",
            "For now, this behavior is kept to avoid breaking backwards compatibility when padding/encoding with `truncation is True`.\n",
            "- Be aware that you SHOULD NOT rely on t5-large automatically truncating your input to 512 when padding/encoding.\n",
            "- If you want to encode/pad to sequences longer than 512 you can either instantiate this tokenizer with `model_max_length` or pass `max_length` when encoding/padding.\n",
            "- To avoid this warning, please instantiate this tokenizer with `model_max_length` set to your preferred value.\n",
            "  warnings.warn(\n"
          ]
        }
      ]
    },
    {
      "cell_type": "code",
      "source": [
        "input_text = \"The second season of the American television drama series Breaking Bad premiered on March 8, 2009 and concluded on May 31, 2009. It consisted of 13 episodes, each running approximately 47 minutes in length. AMC broadcast the second season on Sundays at 10:00 pm in the United States. The complete second season was released on Region 1 DVD and Region A Blu-ray on March 16, 2010.\"\n",
        "input_ids = tokenizer.encode(input_text, return_tensors='pt')\n",
        "outputs = model.generate(input_ids=input_ids, min_length=30, max_length=100)\n",
        "output_text = tokenizer.decode(outputs[0], skip_special_tokens=True)\n",
        "print(output_text)"
      ],
      "metadata": {
        "colab": {
          "base_uri": "https://localhost:8080/"
        },
        "id": "bhuLo9yTy0_o",
        "outputId": "76c9634f-28b5-4761-a4a9-b331f5bc0412"
      },
      "execution_count": null,
      "outputs": [
        {
          "output_type": "stream",
          "name": "stdout",
          "text": [
            "of the television series Breaking Bad. on March 16, 2010. on March 16, 2010. The second season of Breaking Bad premiered on March 8, 2009 and concluded on May 31, 2009. on March 16, 2010. The second season was released on Region 1 DVD on March 16, 2010. series premiered on March 8, 2009.. concluded on May 31, 2009.......... The season.\n"
          ]
        }
      ]
    },
    {
      "cell_type": "code",
      "source": [
        "pip install sentencepiece"
      ],
      "metadata": {
        "colab": {
          "base_uri": "https://localhost:8080/"
        },
        "id": "bmGjrPsjH9LL",
        "outputId": "b35bf3a3-6dae-4ec3-c641-f7407d6e1b5c"
      },
      "execution_count": null,
      "outputs": [
        {
          "output_type": "stream",
          "name": "stdout",
          "text": [
            "Looking in indexes: https://pypi.org/simple, https://us-python.pkg.dev/colab-wheels/public/simple/\n",
            "Requirement already satisfied: sentencepiece in /usr/local/lib/python3.10/dist-packages (0.1.99)\n"
          ]
        }
      ]
    },
    {
      "cell_type": "markdown",
      "source": [
        "doc2query/msmarco-t5-base-v1 (query prediction)"
      ],
      "metadata": {
        "id": "Bx5ub54t-OZ6"
      }
    },
    {
      "cell_type": "code",
      "source": [
        "from transformers import T5Tokenizer, T5ForConditionalGeneration\n",
        "from transformers import AutoTokenizer, AutoModelForSeq2SeqLM\n",
        "\n",
        "model_name = 'doc2query/msmarco-t5-base-v1'\n",
        "tokenizer = AutoTokenizer.from_pretrained(model_name)\n",
        "model = AutoModelForSeq2SeqLM.from_pretrained(model_name)\n",
        "\n",
        "text = \"Python is an interpreted, high-level and general-purpose programming language. Python's design philosophy emphasizes code readability with its notable use of significant whitespace. Its language constructs and object-oriented approach aim to help programmers write clear, logical code for small and large-scale projects.\"\n",
        "text=\"how many episodes in season 2 breaking bad?\"\n",
        "\n",
        "input_ids = tokenizer.encode(text, max_length=320, truncation=True, return_tensors='pt')\n",
        "outputs = model.generate(\n",
        "    input_ids=input_ids,\n",
        "    max_length=100,\n",
        "    do_sample=True,\n",
        "    top_p=0.95,\n",
        "    num_return_sequences=5)\n",
        "\n",
        "print(\"Text:\")\n",
        "print(text)\n",
        "\n",
        "print(\"\\nGenerated Queries:\")\n",
        "for i in range(len(outputs)):\n",
        "    query = tokenizer.decode(outputs[i], skip_special_tokens=True)\n",
        "    print(f'{i + 1}: {query}')"
      ],
      "metadata": {
        "colab": {
          "base_uri": "https://localhost:8080/",
          "height": 390
        },
        "id": "WWoFo7FTH2Hb",
        "outputId": "39e42b3e-d71c-49e0-8d5b-b367cefa7cb9"
      },
      "execution_count": null,
      "outputs": [
        {
          "output_type": "error",
          "ename": "ModuleNotFoundError",
          "evalue": "ignored",
          "traceback": [
            "\u001b[0;31m---------------------------------------------------------------------------\u001b[0m",
            "\u001b[0;31mModuleNotFoundError\u001b[0m                       Traceback (most recent call last)",
            "\u001b[0;32m<ipython-input-7-30f821cbdb0e>\u001b[0m in \u001b[0;36m<cell line: 1>\u001b[0;34m()\u001b[0m\n\u001b[0;32m----> 1\u001b[0;31m \u001b[0;32mfrom\u001b[0m \u001b[0mtransformers\u001b[0m \u001b[0;32mimport\u001b[0m \u001b[0mT5Tokenizer\u001b[0m\u001b[0;34m,\u001b[0m \u001b[0mT5ForConditionalGeneration\u001b[0m\u001b[0;34m\u001b[0m\u001b[0;34m\u001b[0m\u001b[0m\n\u001b[0m\u001b[1;32m      2\u001b[0m \u001b[0;32mfrom\u001b[0m \u001b[0mtransformers\u001b[0m \u001b[0;32mimport\u001b[0m \u001b[0mAutoTokenizer\u001b[0m\u001b[0;34m,\u001b[0m \u001b[0mAutoModelForSeq2SeqLM\u001b[0m\u001b[0;34m\u001b[0m\u001b[0;34m\u001b[0m\u001b[0m\n\u001b[1;32m      3\u001b[0m \u001b[0;34m\u001b[0m\u001b[0m\n\u001b[1;32m      4\u001b[0m \u001b[0mmodel_name\u001b[0m \u001b[0;34m=\u001b[0m \u001b[0;34m'doc2query/msmarco-t5-base-v1'\u001b[0m\u001b[0;34m\u001b[0m\u001b[0;34m\u001b[0m\u001b[0m\n\u001b[1;32m      5\u001b[0m \u001b[0mtokenizer\u001b[0m \u001b[0;34m=\u001b[0m \u001b[0mAutoTokenizer\u001b[0m\u001b[0;34m.\u001b[0m\u001b[0mfrom_pretrained\u001b[0m\u001b[0;34m(\u001b[0m\u001b[0mmodel_name\u001b[0m\u001b[0;34m)\u001b[0m\u001b[0;34m\u001b[0m\u001b[0;34m\u001b[0m\u001b[0m\n",
            "\u001b[0;31mModuleNotFoundError\u001b[0m: No module named 'transformers'",
            "",
            "\u001b[0;31m---------------------------------------------------------------------------\u001b[0;32m\nNOTE: If your import is failing due to a missing package, you can\nmanually install dependencies using either !pip or !apt.\n\nTo view examples of installing some common dependencies, click the\n\"Open Examples\" button below.\n\u001b[0;31m---------------------------------------------------------------------------\u001b[0m\n"
          ],
          "errorDetails": {
            "actions": [
              {
                "action": "open_url",
                "actionText": "Open Examples",
                "url": "/notebooks/snippets/importing_libraries.ipynb"
              }
            ]
          }
        }
      ]
    },
    {
      "cell_type": "markdown",
      "source": [
        "t5-base-finetuned-summarize-news"
      ],
      "metadata": {
        "id": "rOOGC6e1-GzL"
      }
    },
    {
      "cell_type": "code",
      "source": [
        "from transformers import AutoModelWithLMHead, AutoTokenizer\n",
        "\n",
        "tokenizer = AutoTokenizer.from_pretrained(\"mrm8488/t5-base-finetuned-summarize-news\")\n",
        "model = AutoModelWithLMHead.from_pretrained(\"mrm8488/t5-base-finetuned-summarize-news\")\n",
        "\n",
        "def summarize(text, max_length=150):\n",
        "  input_ids = tokenizer.encode(text, return_tensors=\"pt\", add_special_tokens=True)\n",
        "\n",
        "  generated_ids = model.generate(input_ids=input_ids, num_beams=2, max_length=max_length,  repetition_penalty=2.5, length_penalty=1.0, early_stopping=True)\n",
        "\n",
        "  preds = [tokenizer.decode(g, skip_special_tokens=True, clean_up_tokenization_spaces=True) for g in generated_ids]\n",
        "\n",
        "  return preds[0]"
      ],
      "metadata": {
        "colab": {
          "base_uri": "https://localhost:8080/",
          "height": 105,
          "referenced_widgets": [
            "e934e688c94f445ab83389a8451ebbc6",
            "79e3770d27d74ed38db8f4530ae6ff06",
            "611f75ef7c0d4a1290a8f737d6711c5a",
            "5e4f083829ca40339407a0d5f51e64ed",
            "40afc506706e434c94f7e9012f7e85f6",
            "f638d34758d044d5bbdf7c894ee4863b",
            "3042a3ab5f2c447c83485094f4a6e0a1",
            "cf6dc08fc0ae47bda6854c1c44166037",
            "ef137ae891d14d398788d8caf780f1fe",
            "3c0bf3cf8ef64685b35408c57e03a4fe",
            "ac979270f2da48058cb755e4c32a9fab"
          ]
        },
        "id": "ctApeF7Z5RxO",
        "outputId": "40a18eb2-74f1-4f20-fdbf-8903a7aed5a5"
      },
      "execution_count": null,
      "outputs": [
        {
          "output_type": "stream",
          "name": "stderr",
          "text": [
            "/usr/local/lib/python3.10/dist-packages/transformers/models/auto/modeling_auto.py:1322: FutureWarning: The class `AutoModelWithLMHead` is deprecated and will be removed in a future version. Please use `AutoModelForCausalLM` for causal language models, `AutoModelForMaskedLM` for masked language models and `AutoModelForSeq2SeqLM` for encoder-decoder models.\n",
            "  warnings.warn(\n"
          ]
        },
        {
          "output_type": "display_data",
          "data": {
            "text/plain": [
              "Downloading pytorch_model.bin:   0%|          | 0.00/892M [00:00<?, ?B/s]"
            ],
            "application/vnd.jupyter.widget-view+json": {
              "version_major": 2,
              "version_minor": 0,
              "model_id": "e934e688c94f445ab83389a8451ebbc6"
            }
          },
          "metadata": {}
        }
      ]
    },
    {
      "cell_type": "code",
      "source": [
        "summarize('After the sound and the fury, weeks of demonstrations and anguished calls for racial justice, the man whose death gave rise to an international movement, and whose last words — “I can’t breathe” — have been a rallying cry, will be laid to rest on Tuesday at a private funeral in Houston.George Floyd, who was 46, will then be buried in a grave next to his mother’s.The service, scheduled to begin at 11 a.m. at the Fountain of Praise church, comes after five days of public memorials in Minneapolis, North Carolina and Houston and two weeks after a Minneapolis police officer was caught on video pressing his knee into Mr. Floyd’s neck for nearly nine minutes before Mr. Floyd died. That officer, Derek Chauvin, has been charged with second-degree murder and second-degree manslaughter. His bail was set at $1.25 million in a court appearance on Monday. The outpouring of anger and outrage after Mr. Floyd’s death — and the speed at which protests spread from tense, chaotic demonstrations in the city where he died to an international movement from Rome to Rio de Janeiro — has reflected the depth of frustration borne of years of watching black people die at the hands of the police or vigilantes while calls for change went unmet.', 80)"
      ],
      "metadata": {
        "colab": {
          "base_uri": "https://localhost:8080/",
          "height": 54
        },
        "id": "ts32SqYa8qdV",
        "outputId": "32ff7cd3-7ba7-4cb2-a477-c59191c3a3a0"
      },
      "execution_count": null,
      "outputs": [
        {
          "output_type": "execute_result",
          "data": {
            "text/plain": [
              "'to Rio de Janeiro. George Floyd will be laid to rest on Tuesday at a private funeral in Houston.After the sound and the fury, weeks of demonstrations and anguished calls for racial justice, the man whose death gave rise to an international movement will be laid to rest on Tuesday at a private funeral in Houston.George Floyd, who was'"
            ],
            "application/vnd.google.colaboratory.intrinsic+json": {
              "type": "string"
            }
          },
          "metadata": {},
          "execution_count": 41
        }
      ]
    },
    {
      "cell_type": "markdown",
      "source": [
        "t5 summarization"
      ],
      "metadata": {
        "id": "3hDyjzgB_Bci"
      }
    },
    {
      "cell_type": "code",
      "source": [
        "from rank_bm25 import BM25Okapi\n",
        "\n",
        "#1\n",
        "corpus = [\n",
        "    \"The second season of the American television drama series Breaking Bad premiered on March 8, 2009 and concluded on May 31, 2009. It consisted of 13 episodes, each running approximately 47 minutes in length. AMC broadcast the second season on Sundays at 10:00 pm in the United States. The complete second season was released on Region 1 DVD and Region A Blu-ray on March 16, 2010.\",\n",
        "    \"No-Doze dies from the beating Tuco inflicted on him, and Gonzo leaves to hide the body. Walt and Jesse are horrified by Tuco's violent outbursts, as well as the mysterious appearance of an ominous black SUV. Jesse resolves to shoot Tuco, but Walt has a more surreptitious plan involving poisoning him with ricin, thus leaving their hands clean. Hank reviews the security surveillance footage of the warehouse break-in without realizing he is watching Walt and Jesse, though he can tell they are inexperienced thieves. Investigating the junkyard, he finds Gonzo dead from a botched attempt to hide No-Doze's body. Skyler tells Hank about Marie's shoplifting, and learns she has already been receiving therapy for kleptomania.\",\n",
        "    \"Tuco takes Walt and Jesse at gunpoint to a remote desert hideout, where he takes care of his sick uncle Hector, a former drug kingpin who is now incapacitated due to a stroke and can only communicate with a bell. Tuco explains that Hank and the DEA have rolled his entire organization. Unaware of Gonzo's death, Tuco believes Gonzo has ratted him out. Tuco now intends to take Walt and Jesse to Mexico, where they will cook meth for him 24/7. Desperate, Walt attempts to poison Tuco, but Hector disrupts his plan. Enraged, Tuco attacks and attempts to kill Jesse, but Jesse manages to wound him and escape with Walt. Meanwhile, Skyler is worried over Walt's disappearance and, after Hank reveals his suspicion that Walt has a second cell phone, remembers that Jesse had been supplying Walt with marijuana. Hank tracks Jesse to Tuco's hideout and gets into a shootout with Tuco, whom he kills in self-defense.\"\n",
        "]\n",
        "\n",
        "#2\n",
        "'''corpus = [\n",
        "    \"The pulmonary arteries carry deoxygenated blood to the lungs, where carbon dioxide is released and oxygen is picked up during respiration.[3] Arteries are further divided into very fine capillaries which are extremely thin-walled.[4] The pulmonary veins return oxygenated blood to the left atrium of the heart.[3]\",\n",
        "    \"Oxygenated blood leaves the lungs through pulmonary veins, which return it to the left part of the heart, completing the pulmonary cycle.[3][5] This blood then enters the left atrium, which pumps it through the mitral valve into the left ventricle.[3][5] From the left ventricle, the blood passes through the aortic valve to the aorta.[3][5] The blood is then distributed to the body through the systemic circulation before returning again to the pulmonary circulation.[3][5]\",\n",
        "    \"From the right ventricle, blood is pumped through the semilunar pulmonary valve into the left and right main pulmonary artery (one for each lung), which branch into smaller pulmonary arteries that spread throughout the lungs.[3][5]\"\n",
        "]'''\n",
        "\n",
        "#3\n",
        "'''corpus = [\n",
        "    \"\\\"Cat's in the Cradle\\\" is a 1974 folk rock song by Harry Chapin from the album Verities & Balderdash. The single topped the US Billboard Hot 100 in December 1974. As Chapin's only number-one song, it became the best known of his work and a staple for folk rock music. Chapin's recording of the song was nominated for the 1975 Grammy Award for Best Male Pop Vocal Performance and was inducted into the Grammy Hall of Fame in 2011.[5]\",\n",
        "    \"The song's lyrics began as a poem written by Harry's wife, Sandra \\\"Sandy\\\" Gaston; the poem itself was inspired by the awkward relationship between her first husband, James Cashmore, and his father, John, a politician who served as Brooklyn borough president. She was also inspired by a country music song she had heard on the radio.[6] Chapin also said the song was about his own relationship with his son, Josh, admitting, \\\"Frankly, this song scares me to death.\\\"[7]\",\n",
        "    \"Cash Box called it \\\"a tender story of a father and his son and a perfect representation of how roles change in the relationship over the years,\\\" stating it was a \\\"lyrical delight.\\\"[8] Record World said that the song \\\"deals with the preoccupations plaguing parenthood\\\" and that it \\\"bridges the generation gap by pointing up mutual faults.\\\"[9]\"\n",
        "]'''\n",
        "\n",
        "#4\n",
        "'''corpus=[\n",
        "    \"Americans within the kingdom government rewrote the constitution, severely curtailing the power of King \\\"David\\\" Kalākaua, and disenfranchising the rights of most Native Hawaiians and Asian citizens to vote, through excessively high property and income requirements. This gave a sizeable advantage to plantation owners. Queen Liliʻuokalani attempted to restore royal powers in 1893 but was placed under house arrest by businessmen with help from the United States military. Against the Queen's wishes, the Republic of Hawaii was formed for a short time. This government agreed on behalf of Hawaii to join the United States in 1898 as the Territory of Hawaii. In 1959, the islands became the state of Hawaii.\",\n",
        "    \"The date of the first settlements of the Hawaiian Islands is a topic of continuing debate.[11] Patrick Vinton Kirch's books on Hawaiian archeology, standard textbooks, date the first Polynesian settlements to about 300, with more recent suggestions by Kirch as late as 600. Other theories suggest dates as late as 700 to 800.[11] The most recent survey of carbon-dating evidence puts the arrival of the first settlers at around A.D. 940–1130.[12]\",\n",
        "    \"There were atheists, known as 'aia, in Hawaii.[20] However, the dominant religion in Hawaii, similar to many other Polynesian societies, was the kapu or taboo religion, which has a theology, ritual and a code of conduct.[21] There are many gods and heroes with many different people worshiping different gods in different ways.[20] In one tradition, Wākea, the Sky Father, wed Papahānaumoku, the Earth Mother. From their union came all others, including the other gods.[21] In another traditional genealogy named Pu-anue, Kumukumu-ke-kaa and her husband Paia-a-ka-lani were the mother and father of the earth and heavens. Another genealogy declares that Ka-mai-eli and Kumu-honua were the mother and father.[20]\"\n",
        "]'''\n",
        "tokenized_corpus = [doc.split(\" \") for doc in corpus]\n",
        "\n",
        "bm25 = BM25Okapi(tokenized_corpus)\n",
        "\n",
        "query = \"how many episodes in season 2 breaking bad?\"\n",
        "#query = \"where is blood pumped after it leaves the right ventricle?\"\n",
        "#query = \"meaning of the cats in the cradle song?\"\n",
        "#query=\"who did hawaii belong to before 1959 purchase?\"\n",
        "\n",
        "tokenized_query = query.split(\" \")\n",
        "\n",
        "sentence=bm25.get_top_n(tokenized_query, corpus, n=1)\n",
        "print(sentence)\n",
        "\n",
        "doc_scores = bm25.get_scores(tokenized_query)\n",
        "print(doc_scores)"
      ],
      "metadata": {
        "colab": {
          "base_uri": "https://localhost:8080/"
        },
        "id": "dtJ6ZPRSHtV4",
        "outputId": "0f679057-6fe8-486e-95a2-7f04f8f6ee1e"
      },
      "execution_count": null,
      "outputs": [
        {
          "output_type": "stream",
          "name": "stdout",
          "text": [
            "['The second season of the American television drama series Breaking Bad premiered on March 8, 2009 and concluded on May 31, 2009. It consisted of 13 episodes, each running approximately 47 minutes in length. AMC broadcast the second season on Sundays at 10:00 pm in the United States. The complete second season was released on Region 1 DVD and Region A Blu-ray on March 16, 2010.']\n",
            "[1.09681557 0.         0.07583094]\n"
          ]
        }
      ]
    },
    {
      "cell_type": "code",
      "source": [
        "import torch\n",
        "from transformers import AutoTokenizer, AutoModelWithLMHead"
      ],
      "metadata": {
        "id": "DJ_TMa1M_BJi"
      },
      "execution_count": null,
      "outputs": []
    },
    {
      "cell_type": "code",
      "source": [
        "tokenizer=AutoTokenizer.from_pretrained('T5-base')\n",
        "model=AutoModelWithLMHead.from_pretrained('T5-base', return_dict=True)"
      ],
      "metadata": {
        "id": "TaIfBXYB_H4B"
      },
      "execution_count": null,
      "outputs": []
    },
    {
      "cell_type": "code",
      "source": [
        "#sequence = (\"Data science is an interdisciplinary field[10] focused on extracting knowledge from typically large data sets and applying the knowledge and insights from that data to solve problems in a wide range of application domains.[11] The field encompasses preparing data for analysis, formulating data science problems, analyzing data, developing data-driven solutions, and presenting findings to inform high-level decisions in a broad range of application domains. As such, it incorporates skills from computer science, statistics, information science, mathematics, data visualization, information visualization, data sonification, data integration, graphic design, complex systems, communication and business.[12][13] Statistician Nathan Yau, drawing on Ben Fry, also links data science to human–computer interaction: users should be able to intuitively control and explore data.[14][15] In 2015, the American Statistical Association identified database management, statistics and machine learning, and distributed and parallel systems as the three emerging foundational professional communities.[16]\")\n",
        "#sequence = (\"The second season of the American television drama series Breaking Bad premiered on March 8, 2009 and concluded on May 31, 2009. It consisted of 13 episodes, each running approximately 47 minutes in length. AMC broadcast the second season on Sundays at 10:00 pm in the United States. The complete second season was released on Region 1 DVD and Region A Blu-ray on March 16, 2010.\") #passage 그대로 넣은 것\n",
        "sequence = (\"The second season of the American television drama series Breaking Bad premiered on March 8, 2009 and concluded on May 31, 2009. It consisted of 13 episodes, each running approximately 47 minutes in length. AMC broadcast the second season on Sundays at 10:00 pm in the United States. The complete second season was released on Region 1 DVD and Region A Blu-ray on March 16, 2010. How many episodes in season 2 breaking bad\")  #질문 뒤에 붙인것, 물음표를 빼면 대답을 잘함\n",
        "#sequence = str(sentence)+\"where is blood pumped after it leaves the right ventricle\"\n",
        "#sequence=str(sentence)+\"who did hawaii belong to before 1959 purchase?\""
      ],
      "metadata": {
        "id": "GshxIi1O_MF5"
      },
      "execution_count": null,
      "outputs": []
    },
    {
      "cell_type": "code",
      "source": [
        "inputs=tokenizer.encode(\"sumarize: \" + sequence,return_tensors='pt', max_length=512, truncation=True)"
      ],
      "metadata": {
        "id": "nVncpf5K_VNL"
      },
      "execution_count": null,
      "outputs": []
    },
    {
      "cell_type": "code",
      "source": [
        "output = model.generate(inputs, min_length=20, max_length=100)"
      ],
      "metadata": {
        "id": "8zJ2ohoO_X_M"
      },
      "execution_count": null,
      "outputs": []
    },
    {
      "cell_type": "code",
      "source": [
        "summary=tokenizer.decode(output[0])\n",
        "print(summary)\n",
        "#얼추 summary 비슷하게는 하는데 중요한 정보를 빠뜨림"
      ],
      "metadata": {
        "colab": {
          "base_uri": "https://localhost:8080/"
        },
        "id": "svSHcFDI_aGv",
        "outputId": "319e0d54-0aa8-4c28-8e3f-dd6329e4d923"
      },
      "execution_count": null,
      "outputs": [
        {
          "output_type": "stream",
          "name": "stdout",
          "text": [
            "<pad> True : 13 episodes in season 2 breaking bad premiered on march 8, 2009 and concluded on may 31, 2009.</s>\n"
          ]
        }
      ]
    },
    {
      "cell_type": "markdown",
      "source": [
        "gpt2-xl"
      ],
      "metadata": {
        "id": "_rGTAtndWl-j"
      }
    },
    {
      "cell_type": "code",
      "source": [
        "from transformers import GPT2Tokenizer, GPT2Model\n",
        "tokenizer = GPT2Tokenizer.from_pretrained('gpt2-xl')\n",
        "model = GPT2Model.from_pretrained('gpt2-xl')\n",
        "text = \"Replace me by any text you'd like.\"\n",
        "encoded_input = tokenizer(text, return_tensors='pt')\n",
        "output = model(**encoded_input)"
      ],
      "metadata": {
        "colab": {
          "base_uri": "https://localhost:8080/",
          "height": 145,
          "referenced_widgets": [
            "22a7ada2fc4f4070bc26f41534ac9ca8",
            "c473b5a7388e4ee796dd9ac4e5c65c03",
            "d1db1d8d97f64faab44a0ce0421f5e3c",
            "f7e9e723bc5f48ada3bbe93fdbb624c0",
            "d27b7c95e0da4caebae0b87d9a8ad97d",
            "854009a8981c4428940b0adf37e5f206",
            "881e1a857e6b48a2819bfa98803de8b9",
            "8f8f7190ff7f4906aaa35f017580759f",
            "fae8ea853bd847c58893710460fad8ae",
            "1b77863f73a04ffeb4d4360f0ae4e4e6",
            "92b80be7105b439aa7526e852be74053",
            "78fcf8c8fff848a9aedcb8578e1f0401",
            "86324973e09c46d098130bd21413a204",
            "24c6117579f2440fa0193d5535a9637f",
            "71939c1274324d88a4ab366e2ef83387",
            "5be4fae21d33498f9844f86b9ed03d19",
            "ca56a6e16a8f40b2a7c7f239b44de820",
            "ec3bb2fd382945d09946691314099742",
            "7e55236945aa47f8a9c9ce91548480f2",
            "87185a4393704de89f8efc6ae427fb1d",
            "8920a811f685474ea7d8f5e00245823e",
            "0656b7f0ac94452d91a86ab1e5d41b8b",
            "e82dfaf5b11843cd977b49d3ff2fdb64",
            "d1b62fd714db44c68655f0cee348be94",
            "bb643416e0314e01a5f002d878ccb636",
            "9549ca75ba6f48cfad3b39b2f9100271",
            "12d4c81e5364490c8b948c89b5b3e762",
            "03759d96984b4665b8ece5584d7a9515",
            "e9aa587809bd4ba1b4e980343519c97a",
            "246643a13ac04759b7a3089921b67252",
            "2b08b0274e444da4b0197ba79782dac0",
            "c3446bb12fa84e61be2ff84463093b7f",
            "f21803f935da41d0ad6eae82b7172d61",
            "8595332305284a9391a769d2ea17550b",
            "ef689078976c4026861854a803fa48f8",
            "04ba414795044138818854baecfe7c16",
            "8698691c0314449a84122437c3bf6482",
            "361accd1257643568d11cb02c4da999c",
            "bfd586b36e864fde991572fde13e14ab",
            "85fb329f7ac944bbbd2a20ad6c5b362a",
            "063e9bf8de604ad5bdc24b819de0a094",
            "025a31e641be42258d293388818094bd",
            "f62af77a1cd6486ab5037d54d0566973",
            "7bb106811114462d9b2e870a2cacb2ce"
          ]
        },
        "id": "IZdHuW3XWM1E",
        "outputId": "81426d5a-8b78-49ce-a05b-04122a8f6f69"
      },
      "execution_count": 2,
      "outputs": [
        {
          "output_type": "display_data",
          "data": {
            "text/plain": [
              "Downloading (…)olve/main/vocab.json:   0%|          | 0.00/1.04M [00:00<?, ?B/s]"
            ],
            "application/vnd.jupyter.widget-view+json": {
              "version_major": 2,
              "version_minor": 0,
              "model_id": "22a7ada2fc4f4070bc26f41534ac9ca8"
            }
          },
          "metadata": {}
        },
        {
          "output_type": "display_data",
          "data": {
            "text/plain": [
              "Downloading (…)olve/main/merges.txt:   0%|          | 0.00/456k [00:00<?, ?B/s]"
            ],
            "application/vnd.jupyter.widget-view+json": {
              "version_major": 2,
              "version_minor": 0,
              "model_id": "78fcf8c8fff848a9aedcb8578e1f0401"
            }
          },
          "metadata": {}
        },
        {
          "output_type": "display_data",
          "data": {
            "text/plain": [
              "Downloading (…)lve/main/config.json:   0%|          | 0.00/689 [00:00<?, ?B/s]"
            ],
            "application/vnd.jupyter.widget-view+json": {
              "version_major": 2,
              "version_minor": 0,
              "model_id": "e82dfaf5b11843cd977b49d3ff2fdb64"
            }
          },
          "metadata": {}
        },
        {
          "output_type": "display_data",
          "data": {
            "text/plain": [
              "Downloading pytorch_model.bin:   0%|          | 0.00/6.43G [00:00<?, ?B/s]"
            ],
            "application/vnd.jupyter.widget-view+json": {
              "version_major": 2,
              "version_minor": 0,
              "model_id": "8595332305284a9391a769d2ea17550b"
            }
          },
          "metadata": {}
        }
      ]
    },
    {
      "cell_type": "code",
      "source": [
        "#그나마 나음 (3,4번째가 유의미)\n",
        "promptQE =  \"\"\"\n",
        "Expand following query with various terms.\n",
        "What are the major cities in france?\n",
        "\"\"\"\n"
      ],
      "metadata": {
        "id": "b4v2SylHWlmc"
      },
      "execution_count": 3,
      "outputs": []
    },
    {
      "cell_type": "code",
      "source": [
        "from transformers import pipeline, set_seed\n",
        "generator = pipeline('text-generation', model='gpt2-xl')\n",
        "set_seed(42)\n",
        "generator(promptQE, max_length=100, num_return_sequences=5)"
      ],
      "metadata": {
        "id": "BY9cdN7xWXc-",
        "colab": {
          "base_uri": "https://localhost:8080/",
          "height": 428,
          "referenced_widgets": [
            "d5e4fff67b334b8bae21d050ce13380f",
            "7825a8c1e776449ca7bffdae1720b647",
            "04267ae8a045452e8b64daf335771181",
            "388f14498a114a30848c43a608cd1775",
            "2c17ea6f85d14f2e9a2c2d121149b64f",
            "88b5b82c261a4f0f84ddcf0a82cdd651",
            "20719bb6a32745e1a200840ddbf38d3b",
            "018813611010400693269b38fe8172bb",
            "fcdb6dc42df64c00b363a84558773d47",
            "e119931823c5495b98e5cac5b6c330af",
            "882e4dad141c4af2855a6003bf0b6d9c",
            "d28e89963cf84d9494018a14cae36fc1",
            "f5aefe3d89864122a5529ae81ff2d39e",
            "ab471855c57c48bb9136ac71c7918860",
            "d2cf021a13804fd3be08c3ec5f198cf9",
            "ccad13b40dea474092eb917dced61603",
            "c84986a2f6ec4a668e45868397c7c78b",
            "0422db59c1fc47528aa3e9a04b5b7437",
            "1be8f429741746b3b71a5446e01e61c0",
            "8b7ab26aa97c4203a34f5fffb286dd0c",
            "81c71a6729224b078b23e2aca74ffec3",
            "2ad87279fcbc4ff88bf965408d0bd40b"
          ]
        },
        "outputId": "1c23298e-84e1-4111-8193-eb0039f180eb"
      },
      "execution_count": 4,
      "outputs": [
        {
          "output_type": "display_data",
          "data": {
            "text/plain": [
              "Downloading (…)neration_config.json:   0%|          | 0.00/124 [00:00<?, ?B/s]"
            ],
            "application/vnd.jupyter.widget-view+json": {
              "version_major": 2,
              "version_minor": 0,
              "model_id": "d5e4fff67b334b8bae21d050ce13380f"
            }
          },
          "metadata": {}
        },
        {
          "output_type": "display_data",
          "data": {
            "text/plain": [
              "Downloading (…)/main/tokenizer.json:   0%|          | 0.00/1.36M [00:00<?, ?B/s]"
            ],
            "application/vnd.jupyter.widget-view+json": {
              "version_major": 2,
              "version_minor": 0,
              "model_id": "d28e89963cf84d9494018a14cae36fc1"
            }
          },
          "metadata": {}
        },
        {
          "output_type": "stream",
          "name": "stderr",
          "text": [
            "/usr/local/lib/python3.10/dist-packages/transformers/generation/utils.py:1219: UserWarning: You have modified the pretrained model configuration to control generation. This is a deprecated strategy to control generation and will be removed soon, in a future version. Please use a generation configuration file (see https://huggingface.co/docs/transformers/main_classes/text_generation)\n",
            "  warnings.warn(\n",
            "Setting `pad_token_id` to `eos_token_id`:50256 for open-end generation.\n"
          ]
        },
        {
          "output_type": "execute_result",
          "data": {
            "text/plain": [
              "[{'generated_text': '\\nExpand following query with various terms.\\nWhat are the major cities in france?\\nTo get information on the locations where the information about the city was collected as compared to the United States, the following query was used:\\nSELECT COUNTRY, city\\nFrom geocoded.tables\\nWe can view the results now:\\nIn the example above, the query produced the following data.\\nIn a moment we will use the data to build a viz for a city.\\n'},\n",
              " {'generated_text': '\\nExpand following query with various terms.\\nWhat are the major cities in france?\\n\\xa0frac is a language-independent language. What is the difference between frac and frances?\\nIs there a \"cities in france\" sortal alphabetical listing?\\nThe frac Alphabet is based on the language French and is mainly designed for speakers of French. For information about france please see the French Language page on Wikipedia.\\nFrac is a European language which'},\n",
              " {'generated_text': \"\\nExpand following query with various terms.\\nWhat are the major cities in france?\\nFrance is very famous for its varied architecture and cities. Many of these cities were once known as strongholds of feudal Europe and this history made them attractive as a location for economic, academic and cultural activity. The following are the major geographical areas in France where you'll find some of the most interesting and important places in all that France has to offer.\\nFrieure la Cire (Fries\"},\n",
              " {'generated_text': '\\nExpand following query with various terms.\\nWhat are the major cities in france?\\nFACT: France has 8 of the largest cities, including Paris and Marseille, which are both large. France has 717,857 registered vehicles.\\nWhere can I buy French wine?\\nThe best place to buy French wines is on French wine merchants. You can find these online or at most wine shops.\\nIs there a French bank?\\nThere are many online banks in French'},\n",
              " {'generated_text': '\\nExpand following query with various terms.\\nWhat are the major cities in france?\\nInfraria is a city located in the western part of France bordering the Netherlands and Belgium. It\\'s known internationally as \"The City of Lights\".\\nFrance, a region of Europe (France), has been a country since the end of the year 1368. Infraria is located around 10 Km west of Nancy with the city of Grenoble at its centre.\\nHow many French'}]"
            ]
          },
          "metadata": {},
          "execution_count": 4
        }
      ]
    },
    {
      "cell_type": "code",
      "source": [
        "#그나마 나음, #2,#3,#5번째 유의미\n",
        "promptQE =  \"\"\"\n",
        "Expand Following Query with various terms and good coherence\n",
        "What are the major cities in France?\n",
        "\"\"\""
      ],
      "metadata": {
        "id": "ivuyrAZZebjY"
      },
      "execution_count": 3,
      "outputs": []
    },
    {
      "cell_type": "code",
      "source": [
        "from transformers import pipeline, set_seed\n",
        "generator = pipeline('text-generation', model='gpt2-xl')\n",
        "set_seed(42)\n",
        "generator(promptQE, max_length=100, num_return_sequences=5)"
      ],
      "metadata": {
        "colab": {
          "base_uri": "https://localhost:8080/"
        },
        "id": "mqROlQ2rezwE",
        "outputId": "18b33c92-64f3-4451-fb6c-cd671657f7fb"
      },
      "execution_count": 4,
      "outputs": [
        {
          "output_type": "stream",
          "name": "stderr",
          "text": [
            "Setting `pad_token_id` to `eos_token_id`:50256 for open-end generation.\n"
          ]
        },
        {
          "output_type": "execute_result",
          "data": {
            "text/plain": [
              "[{'generated_text': '\\nExpand Following Query with various terms and good coherence\\nWhat are the major cities in France?\\nTo get information from the Google Maps API use a Query for Paris. There are several queries, depending on the criteria. This query should cover most of the locations:\\nTo get information about this query, use the Query for Paris option while retrieving the result:\\nHere you can see that the query only selects up to a certain latitude or longitude: this is by design : to do'},\n",
              " {'generated_text': '\\nExpand Following Query with various terms and good coherence\\nWhat are the major cities in France?\\n\\xa0From this table you can see there are three major cities in France; Lyon, Toulouse and Lyon.\\nLyon has the largest city with over 13,000,000 inhabitants\\nThe population of Toulouse is the second largest and Toulouse has the third largest city in France with over 9,00,000 people\\nFrom this table you can see that Lyon has'},\n",
              " {'generated_text': '\\nExpand Following Query with various terms and good coherence\\nWhat are the major cities in France?\\nFrance is very geographically diverse, there are 11 cities (in the city of Paris alone) with more than 200 000 inhabitants each. The major cities in France include:\\nParis, it´s famous historical center\\nMéribel, the most popular tourist city with some nice modern architecture and pretty much every city in that part of France\\nNantes, the capital of Céven'},\n",
              " {'generated_text': '\\nExpand Following Query with various terms and good coherence\\nWhat are the major cities in France?\\nSo one way to make the following query more intelligible is to expand the query to include the following terms:\\n\"City name\" \"city name, given\" \"city name, given, or city name in English\" \"City name, Given\" \"city name, Given, or city name in French\"\\nNow we have this:\\nWe have given both cities names in English'},\n",
              " {'generated_text': \"\\nExpand Following Query with various terms and good coherence\\nWhat are the major cities in France?\\nIn Paris the metro and buses all link to the airport at Charles de Gaulle airport and to several major urban locations. The metro to Charles de Gaulle airport, a 5 minute ride (3 minutes if walking from the airport), contains approximately 250,000 fares. In addition, several metro stations and bus interchanges connect to the airport.\\nHow's that for a big metro system?\"}]"
            ]
          },
          "metadata": {},
          "execution_count": 4
        }
      ]
    },
    {
      "cell_type": "code",
      "source": [
        "#별로 결과 안좋음 3,5가 그나마 연관은 있음\n",
        "promptQE =  \"\"\"\n",
        "Ask similar questions with various terms\n",
        "What are the major cities in France?\n",
        "\"\"\""
      ],
      "metadata": {
        "id": "zXxOMQ9mhazG"
      },
      "execution_count": 5,
      "outputs": []
    },
    {
      "cell_type": "code",
      "source": [
        "from transformers import pipeline, set_seed\n",
        "generator = pipeline('text-generation', model='gpt2-xl')\n",
        "set_seed(42)\n",
        "generator(promptQE, max_length=100, num_return_sequences=5)"
      ],
      "metadata": {
        "colab": {
          "base_uri": "https://localhost:8080/"
        },
        "id": "5sJCHr5ehcZ8",
        "outputId": "84f36e4b-9622-4c18-e2f9-10886c75ca32"
      },
      "execution_count": 6,
      "outputs": [
        {
          "output_type": "stream",
          "name": "stderr",
          "text": [
            "Setting `pad_token_id` to `eos_token_id`:50256 for open-end generation.\n"
          ]
        },
        {
          "output_type": "execute_result",
          "data": {
            "text/plain": [
              "[{'generated_text': \"\\nAsk similar questions with various terms\\nWhat are the major cities in France?\\nIs it easy to obtain a passport?\\nWhat are the countries where you can obtain a passport under the EU Visa Waiver for 90 days?\\nHow do you apply for the visa?\\nYou don't need to speak French to obtain an eTA, as you can still apply for a visa in English\\nHow much is it?\\nThis is a list by country\\nThe first 2 letters after each country\"},\n",
              " {'generated_text': '\\nAsk similar questions with various terms\\nWhat are the major cities in France?\\nIs a French citizen allowed to live and work in France?\\nWhat is the residence permit for migrants?\\nIs there a \"right to stay\" in France after 5 years?\\nHow does one apply for residence?\\nHow many legal immigrants and refugees are in France?\\nHow many foreigners have been granted permanent residence permits, by how many countries?\\nHow many are allowed to come to France as citizens by'},\n",
              " {'generated_text': \"\\nAsk similar questions with various terms\\nWhat are the major cities in France?\\nFrance has a country, France. What is the name?\\nFrance is divided into three different regions that have their own languages:\\nParis - The capital of France\\nHauts-de-Seine - The northern part of Paris\\nGermansch - A rural region near the River Rhône\\nIs that French or not I don't know\\nFrench is an extremely important language for everyone\\nBut\"},\n",
              " {'generated_text': '\\nAsk similar questions with various terms\\nWhat are the major cities in France?\\nWhose nose has the pink rose?\\nWhy don\\'t French companies sell more than one type of product?\\nWhy does the \"C\" stand for \"Caviar\", and not \"Chef\"?\\nWhy do French children never get as angry as ours?\\nWhy do people in France talk so much? \\xa0\\nWhy could I get an \"A\" if I scored more points in my last exams'},\n",
              " {'generated_text': \"\\nAsk similar questions with various terms\\nWhat are the major cities in France?\\nWhere are the major towns in France?\\nBy far the most frequently used term were 'towns'. This was more than doubles to 37% among English speakers, a sign of the linguistic success of French. The number of French speakers using 'towns' also increased.\\nThe word 'town' was used twice as often as 'centre' (27%) although this could be due to English speakers being\"}]"
            ]
          },
          "metadata": {},
          "execution_count": 6
        }
      ]
    },
    {
      "cell_type": "code",
      "source": [
        "#성능 별로임, 4가 연관있음\n",
        "promptQE =  \"\"\"\n",
        "Expand following query with related vocabularies, similar questions, and good coherence.\n",
        "What are the major cities in france?\n",
        "\"\"\""
      ],
      "metadata": {
        "id": "xnQnBH0TiVUV"
      },
      "execution_count": 7,
      "outputs": []
    },
    {
      "cell_type": "code",
      "source": [
        "from transformers import pipeline, set_seed\n",
        "generator = pipeline('text-generation', model='gpt2-xl')\n",
        "set_seed(42)\n",
        "generator(promptQE, max_length=100, num_return_sequences=5)"
      ],
      "metadata": {
        "colab": {
          "base_uri": "https://localhost:8080/"
        },
        "id": "3Dcyd9c0iXqU",
        "outputId": "72b28166-0c8a-4eb6-a697-83b6e0490e16"
      },
      "execution_count": 8,
      "outputs": [
        {
          "output_type": "stream",
          "name": "stderr",
          "text": [
            "Setting `pad_token_id` to `eos_token_id`:50256 for open-end generation.\n"
          ]
        },
        {
          "output_type": "execute_result",
          "data": {
            "text/plain": [
              "[{'generated_text': \"\\nExpand following query with related vocabularies, similar questions, and good coherence.\\nWhat are the major cities in france?\\nTo what extent do you use different vocabularies for different sentences? Which ones do you use regularly, which ones less often?\\xa0\\nWhich do your French teachers use when they teach French?\\xa0 Can you tell when you're speaking English instead of French that you're still using the same vocabulary as English speakers? If yes, look for\"},\n",
              " {'generated_text': '\\nExpand following query with related vocabularies, similar questions, and good coherence.\\nWhat are the major cities in france?\\n\\xa0This question is easy and can be answered in one word, \"Paris\".\\nWhat are some of the famous French people?\\nThis question is also obvious, and can be answered by simply listing the most famous French people.\\nHow will you pronounce (the name of) one of the major cities in France?\\nTo avoid this'},\n",
              " {'generated_text': '\\nExpand following query with related vocabularies, similar questions, and good coherence.\\nWhat are the major cities in france?\\nWhat are the major cities in Italy?\\nWhat are the major cities in Spain?\\nWhat are the major cities in United Kingdom?\\nWhat are the main cities in Sweden?\\nHow many major cities in the world are currently known?\\nWhat is the current population of the world?\\nWhat is the current population that may live in the'},\n",
              " {'generated_text': '\\nExpand following query with related vocabularies, similar questions, and good coherence.\\nWhat are the major cities in france?\\nFACT: France has 8 of the top 10 cities.\\nFACT: Fringe cities like Lyon have more inhabitants than almost all of the top 20.\\nFACT: Paris and Lyon are similar in size, and both have a smaller population than the biggest city in continental Europe.\\nWhat is the average number of children that a woman'},\n",
              " {'generated_text': \"\\nExpand following query with related vocabularies, similar questions, and good coherence.\\nWhat are the major cities in france?\\nIn case the information you're looking for is not available on this site, ask yourself: What is a good way to get direct or indirect information about a topic, a region, or a group of people?\"}]"
            ]
          },
          "metadata": {},
          "execution_count": 8
        }
      ]
    },
    {
      "cell_type": "code",
      "source": [
        "#별로고 4,5가 좀 연관이있음\n",
        "promptQE =  \"\"\"\n",
        "Expand following query by asking similar questions.\n",
        "What are the major cities in france?\n",
        "\"\"\""
      ],
      "metadata": {
        "id": "fYaDoHDa3rbD"
      },
      "execution_count": 9,
      "outputs": []
    },
    {
      "cell_type": "code",
      "source": [
        "from transformers import pipeline, set_seed\n",
        "generator = pipeline('text-generation', model='gpt2-xl')\n",
        "set_seed(42)\n",
        "generator(promptQE, max_length=100, num_return_sequences=5)"
      ],
      "metadata": {
        "colab": {
          "base_uri": "https://localhost:8080/"
        },
        "id": "Wn_xDOtf3rpy",
        "outputId": "88a76b09-9221-4043-90d2-b3d3e3bd2013"
      },
      "execution_count": 10,
      "outputs": [
        {
          "output_type": "stream",
          "name": "stderr",
          "text": [
            "Setting `pad_token_id` to `eos_token_id`:50256 for open-end generation.\n"
          ]
        },
        {
          "output_type": "execute_result",
          "data": {
            "text/plain": [
              "[{'generated_text': '\\nExpand following query by asking similar questions.\\nWhat are the major cities in france?\\nTo get information on the locations where the information about the city was collected, you need to drill under the table \"Growth of Cities: Country Listing\" section with the Query:\\nSELECT Country, City FROM GrowthOfCitiesCountry WHERE Country = \\'FRANCE\\' AND City IN (\\'Paris\\', \\'Luxembourg\\')\\nNow, the information about the largest cities in France is'},\n",
              " {'generated_text': '\\nExpand following query by asking similar questions.\\nWhat are the major cities in france?\\n\\xa0Enter each city name and press [Enter]. What is the distance between france and baltimore? Or, what is the distance between france and san diego?\\n\\xa0Press [Enter].\\nClick on the search button. You will see a new menu appear.\\nThis is the menu of advanced options, this one is not for beginners.\\nThe main function of the'},\n",
              " {'generated_text': \"\\nExpand following query by asking similar questions.\\nWhat are the major cities in france?\\nWhat are the major cities in Italy?\\nWhat are the major airports in europe?\\nWhat is the world's biggest naval base?\\nWhat are the cities with the most internet sites?\\nHow many billionaires are there in the united states?\\nWhat country has the highest number of billionaires - and is that in the united states?\\nHow many square miles are there in Italy (not\"},\n",
              " {'generated_text': '\\nExpand following query by asking similar questions.\\nWhat are the major cities in france?\\nWhat is the name of the capital city in france?\\nWhat are the names of the four large lakes in france? Which three of these lakes are in france\\nWhat are the names of the four medium rivers in france? Which two of these rivers are in france\\nWhat is the name of the mountain near the south east of france?\\nWhat is the name'},\n",
              " {'generated_text': \"\\nExpand following query by asking similar questions.\\nWhat are the major cities in france?\\nWhere are the major towns in france?\\nWhat is the major economic partner of france?\\nWhich are more important for our economy: france, spain, or britain?\\nWhat is the difference in income between britain and france?\\nPlease explain which of the following are the most important factors determining the economy's overall growth: (A) The exchange\"}]"
            ]
          },
          "metadata": {},
          "execution_count": 10
        }
      ]
    },
    {
      "cell_type": "code",
      "source": [
        "#나쁘지 않은듯, 1,2,3,4 연관\n",
        "promptQE =  \"\"\"\n",
        "Expand following query with various terms but similar meanings\n",
        "What are the major cities in france?\n",
        "\"\"\""
      ],
      "metadata": {
        "id": "M_4LJjvQ4fID"
      },
      "execution_count": 13,
      "outputs": []
    },
    {
      "cell_type": "code",
      "source": [
        "from transformers import pipeline, set_seed\n",
        "generator = pipeline('text-generation', model='gpt2-xl')\n",
        "set_seed(42)\n",
        "generator(promptQE, max_length=100, num_return_sequences=5)"
      ],
      "metadata": {
        "colab": {
          "base_uri": "https://localhost:8080/"
        },
        "id": "YjgVXIXQ4fW3",
        "outputId": "e0e50d14-f734-4b7a-bd99-af8356c2895c"
      },
      "execution_count": 14,
      "outputs": [
        {
          "output_type": "stream",
          "name": "stderr",
          "text": [
            "Setting `pad_token_id` to `eos_token_id`:50256 for open-end generation.\n"
          ]
        },
        {
          "output_type": "execute_result",
          "data": {
            "text/plain": [
              "[{'generated_text': '\\nExpand following query with various terms but similar meanings\\nWhat are the major cities in france?\\nI wanted to get you started but since this is not a typical blog post with lots of data, i will cut to the chase:\\xa0\\n1. Lyon:\\n2. Brest:\\nIt looks like the biggest cities in France are the same cities that are featured in this list, only here we are exploring a particular aspect of each city:\\xa0\\nThe largest concentrations of French'},\n",
              " {'generated_text': '\\nExpand following query with various terms but similar meanings\\nWhat are the major cities in france?\\n\\xa0From this table you can see there are over 150 cities in france with a population over 10 thousand and these are my \"top 10\"\\nTop 10 cities in France France is not the largest country in the world but is the fourth largest country in Europe (the second largest being spain ), the largest country in the world by area is france and the largest country in Europe has'},\n",
              " {'generated_text': '\\nExpand following query with various terms but similar meanings\\nWhat are the major cities in france?\\nFrance is very famous for its varied architecture and cities. Many of these cities were once known as strongholds of feudal Europe and this history made them attractive as a location for economic, academic and cultural activity. The following are the major cities in France: Paris\\nIn the west (west) of France, is the capital that plays a major role as a cultural center. The most notable feature'},\n",
              " {'generated_text': '\\nExpand following query with various terms but similar meanings\\nWhat are the major cities in france?\\nFACT: France has 8 of the largest cities, Paris being the largest city in France and 5 large cities in France. Paris is the capital city of France. This information is gathered by the world city rankings.\\nWhat is the largest city in Germany?\\nFACT: Germany has 4 of the 12 largest cities in Germany. This information is gathered by the world city rankings.\\n'},\n",
              " {'generated_text': \"\\nExpand following query with various terms but similar meanings\\nWhat are the major cities in france?\\nInfraria is a city located in the canton of Vaucluse in northern France. Known as the capital, it's part of the canton, a region of France. Located in the south-western part of the country, in this region is the first and second biggest cities of Angers and Caen with a total of over 1 million inhabitants.\\nVaucl\"}]"
            ]
          },
          "metadata": {},
          "execution_count": 14
        }
      ]
    },
    {
      "cell_type": "code",
      "source": [
        "#2는 연관 있는데 애매함\n",
        "promptQE =  \"\"\"\n",
        "Expand following query with various terms but similar meanings\n",
        "who is the author of the book arabian nights?\n",
        "\"\"\""
      ],
      "metadata": {
        "id": "8Lnv-HCF6HZh"
      },
      "execution_count": 15,
      "outputs": []
    },
    {
      "cell_type": "code",
      "source": [
        "from transformers import pipeline, set_seed\n",
        "generator = pipeline('text-generation', model='gpt2-xl')\n",
        "set_seed(42)\n",
        "generator(promptQE, max_length=100, num_return_sequences=5)"
      ],
      "metadata": {
        "colab": {
          "base_uri": "https://localhost:8080/"
        },
        "id": "CuXakXAG6Hrw",
        "outputId": "33fdd036-c64e-4fb6-9983-5d8db6543d93"
      },
      "execution_count": 16,
      "outputs": [
        {
          "output_type": "stream",
          "name": "stderr",
          "text": [
            "Setting `pad_token_id` to `eos_token_id`:50256 for open-end generation.\n"
          ]
        },
        {
          "output_type": "execute_result",
          "data": {
            "text/plain": [
              "[{'generated_text': '\\nExpand following query with various terms but similar meanings\\nwho is the author of the book arabian nights?\\nWho is the author of the book arabian nights?\\nWhen I read arabian nights i read the word \"hope\". I was hoping for a nice ending when i read this book.\\nBut the ending was not nice. The story seemed to be over at the same time.\\nWhat did you like about this story?\\nI liked the ending with'},\n",
              " {'generated_text': \"\\nExpand following query with various terms but similar meanings\\nwho is the author of the book arabian nights?\\n\\xa0who is the illustrator of the book arabian nights?\\n\\xa0who is the copyright owner of the book arabian nights?\\nWho is the author of the novel?\\nThe author's name is not on the book.\\nWhy are you still trying to contact the publishers after you cancelled the contract?\\nI have spoken to all my friends and are\"},\n",
              " {'generated_text': \"\\nExpand following query with various terms but similar meanings\\nwho is the author of the book arabian nights?\\nAnd then there's other questions like:\\xa0\\n- how many books does it take to get to the point where this isn't a bad book in the first place\\n-\\xa0 which books are most representative of the types of book written by the most prolific authors?\\n- do the most popular books (for example, that of Thomas, or Dickens, or George R.\"},\n",
              " {'generated_text': \"\\nExpand following query with various terms but similar meanings\\nwho is the author of the book arabian nights?\\nSo one way to view the issue is to say, a search engine isn't required to recognize the book arabian nights? Well if you think about the definition of arabian nights, what it really means is a place, a moment of time when you are in a place or experience a time when you are not in place. For example, I can be outside\"},\n",
              " {'generated_text': '\\nExpand following query with various terms but similar meanings\\nwho is the author of the book arabian nights?\\nIn case the information is in any way incorrect and confusing, you are advised to leave a comment.'}]"
            ]
          },
          "metadata": {},
          "execution_count": 16
        }
      ]
    },
    {
      "cell_type": "code",
      "source": [
        "#애매한데 2는 연관있음\n",
        "promptQE =  \"\"\"\n",
        "Expand following query with various terms\n",
        "who is the author of the book arabian nights?\n",
        "\"\"\""
      ],
      "metadata": {
        "id": "efggI5hb7fCQ"
      },
      "execution_count": 17,
      "outputs": []
    },
    {
      "cell_type": "code",
      "source": [
        "from transformers import pipeline, set_seed\n",
        "generator = pipeline('text-generation', model='gpt2-xl')\n",
        "set_seed(42)\n",
        "generator(promptQE, max_length=100, num_return_sequences=5)"
      ],
      "metadata": {
        "colab": {
          "base_uri": "https://localhost:8080/"
        },
        "id": "fOD6jPmR7fZo",
        "outputId": "0b1cfaf6-f2ec-4dc4-b24d-9f8dfb9d596e"
      },
      "execution_count": 18,
      "outputs": [
        {
          "output_type": "stream",
          "name": "stderr",
          "text": [
            "Setting `pad_token_id` to `eos_token_id`:50256 for open-end generation.\n"
          ]
        },
        {
          "output_type": "execute_result",
          "data": {
            "text/plain": [
              "[{'generated_text': '\\nExpand following query with various terms\\nwho is the author of the book arabian nights?\\nWho is the author of the book arabian nights?\\nWhen I read arabian nights i read the word \"hope\". I was hoping for a nice ending when i read this book.\\nBut the ending was not nice. The story seemed to be over. I hope the next book will be something different.\\nI have read the review by someone with the same name'},\n",
              " {'generated_text': \"\\nExpand following query with various terms\\nwho is the author of the book arabian nights?\\n\\xa0who is the illustrator of the book arabian nights?\\n\\xa0who is the copyright owner of the book arabian nights?\\nWho is the author of the novel?\\nThe author's name is not on the book.\\nWhy are you still trying to contact the author's contact details?\\nWho is this person who is using my photos?\\nThe photo has\"},\n",
              " {'generated_text': \"\\nExpand following query with various terms\\nwho is the author of the book arabian nights?\\nAnd then there's other questions like :\\xa0\\n- how many books does it take to get to the author?\\n- how many authors did you know before?\\n- how did you learn to write?\\n- what kind of writing do you write?\\n- how do you find new words?\\n- are your sentences short enough, or longer?\\n- how will you add\"},\n",
              " {'generated_text': '\\nExpand following query with various terms\\nwho is the author of the book arabian nights?\\nSo that\\'s a book.\\nBut, why, a book about arabian nights? Because, according to the blog post \"The Book of Unnamed Women\", someone asked her last March to write a book about arabian nights. It was the only topic she had ever thought of writing about.\\nWhen she asked her fans about her plans for such a book, she was'},\n",
              " {'generated_text': \"\\nExpand following query with various terms\\nwho is the author of the book arabian nights?\\nIn case the information is in any way incorrect and you still intend to make a claim for 'author' or 'author's' work, then try a search instead. The search would find it much more easily if the search term contains 'author'.\\nThis is very common in English language sources and it's considered polite to show respect to your source's wishes. The same is true when\"}]"
            ]
          },
          "metadata": {},
          "execution_count": 18
        }
      ]
    },
    {
      "cell_type": "code",
      "source": [
        "#애매함\n",
        "promptQE =  \"\"\"\n",
        "Expand following query with synonyms and full sentence\n",
        "who is the author of the book arabian nights?\n",
        "\"\"\""
      ],
      "metadata": {
        "id": "waiBGBEn8m8w"
      },
      "execution_count": 21,
      "outputs": []
    },
    {
      "cell_type": "code",
      "source": [
        "from transformers import pipeline, set_seed\n",
        "generator = pipeline('text-generation', model='gpt2-xl')\n",
        "set_seed(42)\n",
        "generator(promptQE, max_length=100, num_return_sequences=5)"
      ],
      "metadata": {
        "colab": {
          "base_uri": "https://localhost:8080/"
        },
        "id": "u9XhsWVE8nJn",
        "outputId": "45c4d2e5-5d06-4e7a-818b-28b4fce5aad7"
      },
      "execution_count": 22,
      "outputs": [
        {
          "output_type": "stream",
          "name": "stderr",
          "text": [
            "Setting `pad_token_id` to `eos_token_id`:50256 for open-end generation.\n"
          ]
        },
        {
          "output_type": "execute_result",
          "data": {
            "text/plain": [
              "[{'generated_text': '\\nExpand following query with synonyms and full sentence\\nwho is the author of the book arabian nights?\\nWho is the author of the book arabian nights?\\nWhen I read arabian nights i read the word \"night\" but i was just looking for the whole story. I did look up your author but when it was brought to the site, that was just the author of the story. I thought it was a mistake or it was the wrong site but I'},\n",
              " {'generated_text': \"\\nExpand following query with synonyms and full sentence\\nwho is the author of the book arabian nights?\\n\\xa0who is the author and title of the book who is the author and author of the book who is the publisher and co-author of the book who is the editor and co-editor\\nThe author's name is not always the first author name. It can be one of the next first names or the last name of the author.\\n\\xa0\\xa0 author and title of book\"},\n",
              " {'generated_text': \"\\nExpand following query with synonyms and full sentence\\nwho is the author of the book arabian nights?\\nAnd then there's\\nWho is the author of the book arabian nights?\\nThis was a fairly simple query, and it's pretty obvious that there's just too many synonyms to go through to get rid of the single author.\\nWhy is it so hard? It's so hard because there's so much of a problem with using it in conjunction with single\"},\n",
              " {'generated_text': '\\nExpand following query with synonyms and full sentence\\nwho is the author of the book arabian nights?\\nSo that\\'s a simple query you can use to fetch a simple page:\\nand then the full text of the page.\\nNow if you think about the structure of the article and the question, you can guess that the query will never work as well as this. You can simply put \"authors\" inside the subject clause:\\nThis is a query I can use if'},\n",
              " {'generated_text': \"\\nExpand following query with synonyms and full sentence\\nwho is the author of the book arabian nights?\\nIn case the information is in any way incorrect and you still intend to make a claim about a person or entity, you should add to your ClaimForm a link that links to your Statement of Claim, which contains your full documentation. Once you've linked this, you will be able to find your Statement of Claim by looking up your details on Companies House's website. The details\"}]"
            ]
          },
          "metadata": {},
          "execution_count": 22
        }
      ]
    },
    {
      "cell_type": "code",
      "source": [
        "#애매함\n",
        "promptQE =  \"\"\"\n",
        "Expand following query with various terms and similar meanings\n",
        "who is the author of the book arabian nights?\n",
        "\"\"\""
      ],
      "metadata": {
        "id": "v2KvlJ2k93Yi"
      },
      "execution_count": 25,
      "outputs": []
    },
    {
      "cell_type": "code",
      "source": [
        "from transformers import pipeline, set_seed\n",
        "generator = pipeline('text-generation', model='gpt2-xl')\n",
        "set_seed(42)\n",
        "generator(promptQE, max_length=100, num_return_sequences=5)"
      ],
      "metadata": {
        "colab": {
          "base_uri": "https://localhost:8080/"
        },
        "id": "9qDSCsy093l4",
        "outputId": "64257dc2-719e-4c4e-ecee-b8483ceb536e"
      },
      "execution_count": 26,
      "outputs": [
        {
          "output_type": "stream",
          "name": "stderr",
          "text": [
            "Setting `pad_token_id` to `eos_token_id`:50256 for open-end generation.\n"
          ]
        },
        {
          "output_type": "execute_result",
          "data": {
            "text/plain": [
              "[{'generated_text': '\\nExpand following query with various terms and similar meanings\\nwho is the author of the book arabian nights?\\nWho is the author of the book arabian nights?\\nWhen I read arabian nights i read the word \"hope\". I was hoping for a nice ending when i read this book.\\nBut the ending was not nice. The story seemed to be over. I hope the next book will be something different.\\nI have read the review by someone with'},\n",
              " {'generated_text': \"\\nExpand following query with various terms and similar meanings\\nwho is the author of the book arabian nights?\\n\\xa0who is the illustrator of the book arabian nights?\\n\\xa0who is the copyright owner of the book arabian nights?\\nWho is the author of the novel?\\nThe author's name is not on the book.\\nWhy are you still trying to contact the publishers about your book?\\nThe book hasn't been published.\\nHow do you\"},\n",
              " {'generated_text': '\\nExpand following query with various terms and similar meanings\\nwho is the author of the book arabian nights?\\nArabist? American English/English Arabic?\\nArabian Nights is a book described as being produced by \"a publisher in the U.K.\", and by the description it sounds to be a historical reenactment book written by a person living in the U.K., which takes place in the late 18th century in the time of the famous King Hussein.'},\n",
              " {'generated_text': '\\nExpand following query with various terms and similar meanings\\nwho is the author of the book arabian nights?\\nSo one way to view the issue is in terms of a simple rule: if a noun refers to a group of things or people, then the subject of the noun will be a group of individuals or humans. If the noun refers to a category of things or people, the subject of the noun is not a group of people, but could also mean a group of objects if'},\n",
              " {'generated_text': \"\\nExpand following query with various terms and similar meanings\\nwho is the author of the book arabian nights?\\nIn case the information of the content of the book is given in a sentence, such as 'We are going to learn about the wonderful adventures of the Arabs who lived a century ago in this beautiful country,' we can search this term for 'arabian nights' using the following information: The author of the book is a man named Abd al-Rahman Ghulam\"}]"
            ]
          },
          "metadata": {},
          "execution_count": 26
        }
      ]
    },
    {
      "cell_type": "code",
      "source": [
        "#애매하고 별로인거같음\n",
        "promptQE =  \"\"\"\n",
        "Do Query Expansion\n",
        "who is the author of the book arabian nights?\n",
        "\"\"\""
      ],
      "metadata": {
        "id": "Dt2j6W3_AQ4H"
      },
      "execution_count": 27,
      "outputs": []
    },
    {
      "cell_type": "code",
      "source": [
        "from transformers import pipeline, set_seed\n",
        "generator = pipeline('text-generation', model='gpt2-xl')\n",
        "set_seed(42)\n",
        "generator(promptQE, max_length=100, num_return_sequences=5)"
      ],
      "metadata": {
        "colab": {
          "base_uri": "https://localhost:8080/"
        },
        "id": "t47Zx9DMAREx",
        "outputId": "ac1f3da6-08d8-4709-8929-dccd370f4d99"
      },
      "execution_count": 28,
      "outputs": [
        {
          "output_type": "stream",
          "name": "stderr",
          "text": [
            "Setting `pad_token_id` to `eos_token_id`:50256 for open-end generation.\n"
          ]
        },
        {
          "output_type": "execute_result",
          "data": {
            "text/plain": [
              "[{'generated_text': \"\\nDo Query Expansion\\nwho is the author of the book arabian nights?\\nI didn't get that far into the book before I had to go to the bathroom -- I'd forgotten the title. So for the rest of the day I only got to know that Arash was a boy from the Middle East and was an immigrant from Afghanistan. He got his American education in a private Catholic school in Philadelphia. He worked in the steel industry, but I think that's where it ends.\"},\n",
              " {'generated_text': '\\nDo Query Expansion\\nwho is the author of the book arabian nights?\\n\\xa0Armenian Nights is a book written in 1980 by Arsham Batmanglij.\\nArsham Arghavan is a playwright, director and writer.\\nLana Danaklis is an illustrator.\\nArmenian Nights was made into a film in 2001.\\nThe movie was based on a book by Batmanglij and Danaklis.\\nAr'},\n",
              " {'generated_text': \"\\nDo Query Expansion\\nwho is the author of the book arabian nights?\\nAnd then there's the other question that could possibly arise: if you're planning on reading this book, do you ever plan on writing your own book? After all, this book is very much a series of articles, and your own story could be an excellent book.\\nWell, that's a difficult question to answer that may take us into the realm of conspiracy theories. We are a series of one-\"},\n",
              " {'generated_text': '\\nDo Query Expansion\\nwho is the author of the book arabian nights?\\nSo one way to view the issue is in terms of a simple rule: Do Expansion\\nDo Refactoring\\nand Do Query Expansion\\ndo Refactor\\nand Do Query Expansion\\nis the author of the book arabian nights?\\nRefactoring is just a way of doing something new with something old. \\xa0\\xa0\\xa0\\xa0\\xa0\\xa0\\xa0\\xa0\\xa0\\xa0\\xa0\\xa0\\xa0\\xa0\\xa0\\nA query expansion is exactly the opposite: Do Expanding\\nDo'},\n",
              " {'generated_text': '\\nDo Query Expansion\\nwho is the author of the book arabian nights?\\nIn chapter 7 of the book arabian nights the author says \"it\\'s not even about the story. I\\'m making fun to show how people read the book, to put down on paper what I love most about this sort of book.\"\\nThis is quite interesting. There is an idea of \"story\" in a book. In one of his blog posts he says about reading this sort of books :'}]"
            ]
          },
          "metadata": {},
          "execution_count": 28
        }
      ]
    },
    {
      "cell_type": "code",
      "source": [
        "#(성능 더안좋음, 3만 연관)\n",
        "promptQE =  \"\"\"\n",
        "Do Query Expansion \n",
        "What are the major cities in france?\n",
        "\"\"\""
      ],
      "metadata": {
        "id": "wJVml4zZA1q4"
      },
      "execution_count": 29,
      "outputs": []
    },
    {
      "cell_type": "code",
      "source": [
        "from transformers import pipeline, set_seed\n",
        "generator = pipeline('text-generation', model='gpt2-xl')\n",
        "set_seed(42)\n",
        "generator(promptQE, max_length=100, num_return_sequences=5)"
      ],
      "metadata": {
        "colab": {
          "base_uri": "https://localhost:8080/"
        },
        "id": "RM5fPBFsA14I",
        "outputId": "457ef3ef-a728-479f-f4a0-3ba418cf295a"
      },
      "execution_count": 30,
      "outputs": [
        {
          "output_type": "stream",
          "name": "stderr",
          "text": [
            "Setting `pad_token_id` to `eos_token_id`:50256 for open-end generation.\n"
          ]
        },
        {
          "output_type": "execute_result",
          "data": {
            "text/plain": [
              "[{'generated_text': '\\nDo Query Expansion\\nWhat are the major cities in france?\\nI wanted to get you started on the different methods of query expansion. There are several main ones, i.e. \"The Query Builder\", \"The Operator\", \"The Query\", and \"The Query Expansion\". QueryBuilder is the most basic method. All that you need to do is to define the query and then add to it the following methods:\\n\"The Search\". This method is very useful to add a prefix'},\n",
              " {'generated_text': '\\nDo Query Expansion\\nWhat are the major cities in france?\\n\\xa0Guilds\\nGuilds are like guilds in any other game. They are guilds where all the members in the guild belong to the same guild, and they have their own ranks, ranks which can be displayed as an icon and which are displayed as a name.\\nA group of guilds that have the same rank and which all belong to a same guild, can be displayed as one Guild.\\n'},\n",
              " {'generated_text': '\\nDo Query Expansion\\nWhat are the major cities in france?\\nFrance is very famous, in terms of fashion, music and culture as it\\'s called, so it has it\\'s own brand. The major cities in france are Paris, Lyon, Marseille, Bordeaux, Nice, Toulon, Cannes, Lyon.\\nHere are the most searched terms in french in 2015 (most popular in french, french only).\\n\"Paris (France)\"\\n\"Fashion,'},\n",
              " {'generated_text': '\\nDo Query Expansion\\nWhat are the major cities in france?\\nFresno Fresno Los Angeles Los Angeles Houston Seattle San Francisco San Francisco Tampa\\nHow many people attend the college football games?\\n(I tried to include the number of people attending and not the number of people in attendance) 0 1-5 10-25 25-75 75-199 200+\\nWhat school is this?\\nCal Poly UCLA Texas A&M University of Chicago\\nWhen do you get to go to'},\n",
              " {'generated_text': '\\nDo Query Expansion\\nWhat are the major cities in france?\\nIn case you are confused in any way, the easiest thing you can do to understand the whole map is to ask Google maps for that exact map. Google search \"Eureka! Eureka! Eureka! \" and then use the image of that search. There is also this website https://maps.google.fr/maps/ms?msid=&msa=0&msabm='}]"
            ]
          },
          "metadata": {},
          "execution_count": 30
        }
      ]
    },
    {
      "cell_type": "code",
      "source": [
        "#2,#5는 연관, 애매\n",
        "promptQE =  \"\"\"\n",
        "Expand following query with various terms\n",
        "where is the world s largest ice sheet located today?\n",
        "\"\"\"\n"
      ],
      "metadata": {
        "id": "41GVE_pABq2B"
      },
      "execution_count": 35,
      "outputs": []
    },
    {
      "cell_type": "code",
      "source": [
        "from transformers import pipeline, set_seed\n",
        "generator = pipeline('text-generation', model='gpt2-xl')\n",
        "set_seed(42)\n",
        "generator(promptQE, max_length=100, num_return_sequences=5)"
      ],
      "metadata": {
        "colab": {
          "base_uri": "https://localhost:8080/"
        },
        "id": "1KVzEGLpBrKg",
        "outputId": "44716c2e-b0fd-4133-a35b-a5ff7e87c002"
      },
      "execution_count": 36,
      "outputs": [
        {
          "output_type": "stream",
          "name": "stderr",
          "text": [
            "Setting `pad_token_id` to `eos_token_id`:50256 for open-end generation.\n"
          ]
        },
        {
          "output_type": "execute_result",
          "data": {
            "text/plain": [
              "[{'generated_text': '\\nExpand following query with various terms\\nwhere is the world s largest ice sheet located today?\\nTo get the answer you need to run this query...\\nselect * from ( select city, name from country, city, continent, continent2 from country2, continent2, country, city2, continent22, country2, city2 from country3, continent3, continent, continent2 FROM country1,country2,country3,city,city2, continent2,'},\n",
              " {'generated_text': \"\\nExpand following query with various terms\\nwhere is the world s largest ice sheet located today?\\n\\xa0This question is easy to answer with the following query:\\nWhere is the World's Largest Ice Sheet located currently?\"},\n",
              " {'generated_text': \"\\nExpand following query with various terms\\nwhere is the world s largest ice sheet located today?\\nAnd then there's\\nwhere is the current location (in inches) of the world's largest sea ice extremer?\\nIf you'd like to learn more about how to use Excel to do any of the types of analyses above, then you'll need to check out the Excel Tutorials - we have a range that covers pretty much every function, calculation, and analysis in Excel (we\"},\n",
              " {'generated_text': \"\\nExpand following query with various terms\\nwhere is the world s largest ice sheet located today?\\nSo that's a simple query you can use to get a location for a mountain right now.\\xa0 Another easy one that takes almost zero computational effort is to find a location where\\nthe distance from the center of the Earth to the center of the sun are the same. \\xa0 The question is: how far is the sun from the Earth.\\xa0 If it were a smaller planet, you'd be\"},\n",
              " {'generated_text': \"\\nExpand following query with various terms\\nwhere is the world s largest ice sheet located today?\\nWhere is the globe most in danger of becoming the next ice sheet?\\nWhere were the largest ice sheets located in the recent past to now?\\nDo the models for both the present (and past) and future climate hold any water?\\nAs this is my very first attempt at writing down my thoughts on the question I'll be sure to improve upon that.\"}]"
            ]
          },
          "metadata": {},
          "execution_count": 36
        }
      ]
    },
    {
      "cell_type": "code",
      "source": [
        "#이 example에 한해서 괜찮음, #1,2,3,5 연관\n",
        "promptQE =  \"\"\"\n",
        "Expand following query with relevant, diverse words  \n",
        "where is the world s largest ice sheet located today?\n",
        "\"\"\""
      ],
      "metadata": {
        "id": "Jcvx_01OJ1zm"
      },
      "execution_count": 5,
      "outputs": []
    },
    {
      "cell_type": "code",
      "source": [
        "from transformers import pipeline, set_seed\n",
        "generator = pipeline('text-generation', model='gpt2-xl')\n",
        "set_seed(42)\n",
        "generator(promptQE, max_length=100, num_return_sequences=5)"
      ],
      "metadata": {
        "colab": {
          "base_uri": "https://localhost:8080/"
        },
        "id": "IRYSyrQdJ2LX",
        "outputId": "48282b94-79d6-40dc-c08a-92b8a867224e"
      },
      "execution_count": 6,
      "outputs": [
        {
          "output_type": "stream",
          "name": "stderr",
          "text": [
            "Setting `pad_token_id` to `eos_token_id`:50256 for open-end generation.\n"
          ]
        },
        {
          "output_type": "execute_result",
          "data": {
            "text/plain": [
              "[{'generated_text': '\\nExpand following query with relevant, diverse words\\nwhere is the world s largest ice sheet located today?\\nIs it in Greenland, or Antarctica? Does it span a length of 2-3 kilometers, or an area greater than half of the continental US?\\nWhat is the density of ice on this large, world-class sheet?\\nHow cold is it, and is it still in the Arctic?\\nWhat is the average temperature today?\\nThis question is one such with both a'},\n",
              " {'generated_text': \"\\nExpand following query with relevant, diverse words\\nwhere is the world s largest ice sheet located today?\\n\\xa0This question is easy to answer with the following data:\\nWhere is the World's Largest Area of Ice? \\xa0You may have noticed that this page has two different questions with some terms associated. These terms include the world s largest total mass (the one that includes the ice sheets) and the world s largest ice sheet area. To understand the relationship between these,\"},\n",
              " {'generated_text': \"\\nExpand following query with relevant, diverse words\\nwhere is the world s largest ice sheet located today?\\n\\nIce sheets are masses of material that flow from Earth's interior into the ocean. When the sea ice melts from above, this meltswater flows down into the ocean. Most of it stays there, but a few percent of the mass evaporates back into the atmosphere.\\n\\nSome ice sheets are enormous, like Greenland's. Others, not as big, are smaller. Ice sheets\"},\n",
              " {'generated_text': \"\\nExpand following query with relevant, diverse words\\nwhere is the world s largest ice sheet located today?\\nSo that's a simple query you can use to get a simple answer:\\nand\\nExpand following query with the next query, and\\nNow, I don't think I have to give you any examples in order to demonstrate how simple the query actually is. There is much more to it, but let's look at one query. For example, I wanted to figure out which\"},\n",
              " {'generated_text': \"\\nExpand following query with relevant, diverse words\\nwhere is the world s largest ice sheet located today?\\nIn the first few decades of the 20th century, a massive mass of ice built up over several miles in the Canadian Arctic. In fact, the entire West Antarctic ice sheet would fit on three Boeing 747 aircraft carriers side by side. It's estimated this amount of ice would last several million years and be a major contributor to sea level rise.\\nOne of the biggest mysteries about ice\"}]"
            ]
          },
          "metadata": {},
          "execution_count": 6
        }
      ]
    },
    {
      "cell_type": "code",
      "source": [
        "#example question과 answer를 주고 답을 달라고 요청해봄. 결과는 질문과 관련이 있긴한데 1~5 답이 다 똑같음\n",
        "promptQE =  \"\"\"\n",
        "Example Question : Expand following query with relevant, diverse terms. What are the major cities in France?\n",
        "Example Answer : From this table you can see there are three major cities in France; Lyon, Toulouse and Lyon.\\nLyon has the largest city with over 13,000,000 inhabitants\\nThe population of Toulouse is the second largest and Toulouse has the third largest city in France with over 9,00,000 people\\nFrom this table you can see that Lyon has.\n",
        "'\\nExpand Following Query with various terms and good coherence\\nWhat are the major cities in France?\\nFrance is very geographically diverse, there are 11 cities (in the city of Paris alone) with more than 200 000 inhabitants each. The major cities in France include:\\nParis, it´s famous historical center\\nMéribel, the most popular tourist city with some nice modern architecture and pretty much every city in that part of France\\nNantes, the capital of Céven.\n",
        "Question: Expand following query with relevant, diverse terms. Where is the world s largest ice sheet located today?\n",
        "\"\"\""
      ],
      "metadata": {
        "id": "u1GmXIWELbZ2"
      },
      "execution_count": 13,
      "outputs": []
    },
    {
      "cell_type": "code",
      "source": [
        "from transformers import pipeline, set_seed\n",
        "generator = pipeline('text-generation', model='gpt2-xl')\n",
        "set_seed(42)\n",
        "generator(promptQE, max_length=100, num_return_sequences=5)"
      ],
      "metadata": {
        "colab": {
          "base_uri": "https://localhost:8080/"
        },
        "id": "gS4wmAuhLchG",
        "outputId": "5e04ea7c-bed4-4705-e148-2960a47b7fe4"
      },
      "execution_count": 14,
      "outputs": [
        {
          "output_type": "stream",
          "name": "stderr",
          "text": [
            "/usr/local/lib/python3.10/dist-packages/transformers/generation/utils.py:1219: UserWarning: You have modified the pretrained model configuration to control generation. This is a deprecated strategy to control generation and will be removed soon, in a future version. Please use a generation configuration file (see https://huggingface.co/docs/transformers/main_classes/text_generation)\n",
            "  warnings.warn(\n",
            "Setting `pad_token_id` to `eos_token_id`:50256 for open-end generation.\n",
            "Input length of input_ids is 230, but `max_length` is set to 100. This can lead to unexpected behavior. You should consider increasing `max_new_tokens`.\n"
          ]
        },
        {
          "output_type": "execute_result",
          "data": {
            "text/plain": [
              "[{'generated_text': \"\\nExample Question : Expand following query with relevant, diverse terms. What are the major cities in France?\\nExample Answer : From this table you can see there are three major cities in France; Lyon, Toulouse and Lyon.\\nLyon has the largest city with over 13,000,000 inhabitants\\nThe population of Toulouse is the second largest and Toulouse has the third largest city in France with over 9,00,000 people\\nFrom this table you can see that Lyon has.\\n'\\nExpand Following Query with various terms and good coherence\\nWhat are the major cities in France?\\nFrance is very geographically diverse, there are 11 cities (in the city of Paris alone) with more than 200 000 inhabitants each. The major cities in France include:\\nParis, it´s famous historical center\\nMéribel, the most popular tourist city with some nice modern architecture and pretty much every city in that part of France\\nNantes, the capital of Céven.\\nQuestion: Expand following query with relevant, diverse terms. Where is the world s largest ice sheet located today?\\nQuestion\"},\n",
              " {'generated_text': \"\\nExample Question : Expand following query with relevant, diverse terms. What are the major cities in France?\\nExample Answer : From this table you can see there are three major cities in France; Lyon, Toulouse and Lyon.\\nLyon has the largest city with over 13,000,000 inhabitants\\nThe population of Toulouse is the second largest and Toulouse has the third largest city in France with over 9,00,000 people\\nFrom this table you can see that Lyon has.\\n'\\nExpand Following Query with various terms and good coherence\\nWhat are the major cities in France?\\nFrance is very geographically diverse, there are 11 cities (in the city of Paris alone) with more than 200 000 inhabitants each. The major cities in France include:\\nParis, it´s famous historical center\\nMéribel, the most popular tourist city with some nice modern architecture and pretty much every city in that part of France\\nNantes, the capital of Céven.\\nQuestion: Expand following query with relevant, diverse terms. Where is the world s largest ice sheet located today?\\nAnswer\"},\n",
              " {'generated_text': \"\\nExample Question : Expand following query with relevant, diverse terms. What are the major cities in France?\\nExample Answer : From this table you can see there are three major cities in France; Lyon, Toulouse and Lyon.\\nLyon has the largest city with over 13,000,000 inhabitants\\nThe population of Toulouse is the second largest and Toulouse has the third largest city in France with over 9,00,000 people\\nFrom this table you can see that Lyon has.\\n'\\nExpand Following Query with various terms and good coherence\\nWhat are the major cities in France?\\nFrance is very geographically diverse, there are 11 cities (in the city of Paris alone) with more than 200 000 inhabitants each. The major cities in France include:\\nParis, it´s famous historical center\\nMéribel, the most popular tourist city with some nice modern architecture and pretty much every city in that part of France\\nNantes, the capital of Céven.\\nQuestion: Expand following query with relevant, diverse terms. Where is the world s largest ice sheet located today?\\nAnswer\"},\n",
              " {'generated_text': \"\\nExample Question : Expand following query with relevant, diverse terms. What are the major cities in France?\\nExample Answer : From this table you can see there are three major cities in France; Lyon, Toulouse and Lyon.\\nLyon has the largest city with over 13,000,000 inhabitants\\nThe population of Toulouse is the second largest and Toulouse has the third largest city in France with over 9,00,000 people\\nFrom this table you can see that Lyon has.\\n'\\nExpand Following Query with various terms and good coherence\\nWhat are the major cities in France?\\nFrance is very geographically diverse, there are 11 cities (in the city of Paris alone) with more than 200 000 inhabitants each. The major cities in France include:\\nParis, it´s famous historical center\\nMéribel, the most popular tourist city with some nice modern architecture and pretty much every city in that part of France\\nNantes, the capital of Céven.\\nQuestion: Expand following query with relevant, diverse terms. Where is the world s largest ice sheet located today?\\nAnswer\"},\n",
              " {'generated_text': \"\\nExample Question : Expand following query with relevant, diverse terms. What are the major cities in France?\\nExample Answer : From this table you can see there are three major cities in France; Lyon, Toulouse and Lyon.\\nLyon has the largest city with over 13,000,000 inhabitants\\nThe population of Toulouse is the second largest and Toulouse has the third largest city in France with over 9,00,000 people\\nFrom this table you can see that Lyon has.\\n'\\nExpand Following Query with various terms and good coherence\\nWhat are the major cities in France?\\nFrance is very geographically diverse, there are 11 cities (in the city of Paris alone) with more than 200 000 inhabitants each. The major cities in France include:\\nParis, it´s famous historical center\\nMéribel, the most popular tourist city with some nice modern architecture and pretty much every city in that part of France\\nNantes, the capital of Céven.\\nQuestion: Expand following query with relevant, diverse terms. Where is the world s largest ice sheet located today?\\nAnswer\"}]"
            ]
          },
          "metadata": {},
          "execution_count": 14
        }
      ]
    },
    {
      "cell_type": "code",
      "source": [
        "#별로임, 그나마 #2가 연관\n",
        "promptQE =  \"\"\"\n",
        "Query expansion\n",
        "What are the major cities in France?\n",
        "\"\"\""
      ],
      "metadata": {
        "id": "kQvY3eMWOgp2"
      },
      "execution_count": 15,
      "outputs": []
    },
    {
      "cell_type": "code",
      "source": [
        "from transformers import pipeline, set_seed\n",
        "generator = pipeline('text-generation', model='gpt2-xl')\n",
        "set_seed(42)\n",
        "generator(promptQE, max_length=100, num_return_sequences=5)"
      ],
      "metadata": {
        "colab": {
          "base_uri": "https://localhost:8080/"
        },
        "id": "M_9Bm1EsOg29",
        "outputId": "0422f674-f17b-4d72-f878-2b36cd074ab9"
      },
      "execution_count": 16,
      "outputs": [
        {
          "output_type": "stream",
          "name": "stderr",
          "text": [
            "Setting `pad_token_id` to `eos_token_id`:50256 for open-end generation.\n"
          ]
        },
        {
          "output_type": "execute_result",
          "data": {
            "text/plain": [
              "[{'generated_text': '\\nQuery expansion\\nWhat are the major cities in France?\\nI wanted to generate the locations for the different cities using a simple SQL query with SQL IN, JOIN, AND. This was easier but still took a considerable amount of time. The cities of France are fairly large, so it took a lot of time searching and converting to SQL.\\nIt only took a few iterations to get them all in the output. I used the SQL IN operator to retrieve data from a table named cities.'},\n",
              " {'generated_text': '\\nQuery expansion\\nWhat are the major cities in France?\\n\\xa0From this table you can see there are three major cities in France; Lyon, Toulouse and Lyon.\\nLyon has the largest city with over 13,000,000 inhabitants\\nThe population of the French capital is 11% French and 65% Arab population. Most of the population is Arabic, mostly immigrants from the Gulf.\\nLyon is an oil and gas hub and the industrial region of the French Riviera.'},\n",
              " {'generated_text': \"\\nQuery expansion\\nWhat are the major cities in France?\\nFrance has very impressive English speaking populations including Paris, Nice, Toulouse, Marseilles, Lyon, Lille, Nice, Marseille, Nimes, Strasbourg, Bordeaux, Toulouse, Toulouse-sur-Mer, Grenoble, Rennes, Nîmes, Strasbourg and Clermont-Ferrand. However, most are located in big metropolitan areas such as Paris's 13\"},\n",
              " {'generated_text': \"\\nQuery expansion\\nWhat are the major cities in France?\\nSo one way to test the ability to use regex, is to expand a simple query on the basis of the first few characters. For example, to expand the pattern's/the French/The/The/' into a set of possible match strings 'France', 'France', 'France', 'Paris' and 'Pologne' then we know that 'the' is a letter and 'the' must be separated by a\"},\n",
              " {'generated_text': '\\nQuery expansion\\nWhat are the major cities in France?\\nIn case you need a map of all major French cities, you can find it here.'}]"
            ]
          },
          "metadata": {},
          "execution_count": 16
        }
      ]
    },
    {
      "cell_type": "code",
      "source": [
        "#괜찮은 결과인듯? #1,2,3,4 query랑 연관있음\n",
        "promptQE =  \"\"\"\n",
        "Sumarize : Where is the world s largest ice sheet located today?\n",
        "\"\"\""
      ],
      "metadata": {
        "id": "jUtWRqI2PGhO"
      },
      "execution_count": 27,
      "outputs": []
    },
    {
      "cell_type": "code",
      "source": [
        "from transformers import pipeline, set_seed\n",
        "generator = pipeline('text-generation', model='gpt2-xl')\n",
        "set_seed(42)\n",
        "generator(promptQE, max_length=100, num_return_sequences=5)"
      ],
      "metadata": {
        "colab": {
          "base_uri": "https://localhost:8080/"
        },
        "id": "O78fMxcePGuf",
        "outputId": "ac3b2553-736f-471b-a360-61cbc38d315f"
      },
      "execution_count": 28,
      "outputs": [
        {
          "output_type": "stream",
          "name": "stderr",
          "text": [
            "Setting `pad_token_id` to `eos_token_id`:50256 for open-end generation.\n"
          ]
        },
        {
          "output_type": "execute_result",
          "data": {
            "text/plain": [
              "[{'generated_text': '\\nSumarize : Where is the world s largest ice sheet located today?\\n\\nWhat is the longest length of ice ever recorded?\\n\\nWhen was this ice measured, and what was the ice thickness?\\n\\nWho measured this? Where? How old was it?\\n\\nWhat is the location of the most active point on the ice sheet? How far from the coast?\\n\\nHow much is the ice in the mountains at this point?\\n\\nWhat is the highest point in'},\n",
              " {'generated_text': '\\nSumarize : Where is the world s largest ice sheet located today?\\n\\nAnswer : The world is currently experiencing the end of the most recent ice age, and so when it comes to the question \"where do you find the world s largest ice sheet\", the answer is almost certainly nowhere. There is a lot more ice now than there was in the Ice Age. But not all of that ice, by any means. To understand this a bit better, imagine the world had started out'},\n",
              " {'generated_text': \"\\nSumarize : Where is the world s largest ice sheet located today?\\n\\nIce sheets are, in some respects, hard to study. Most of them melt relatively quickly because of melting from above and below, which makes it very difficult to see how the thin ice sheets are changing throughout the year. We have a better idea where Antarctica's land-based glaciers are located - and they are all increasing.\\n\\nWhat's it like to travel on an ice breaker bound for Antarctica?\\n\"},\n",
              " {'generated_text': '\\nSumarize : Where is the world s largest ice sheet located today?\\n\\nAnswer: Antarctica, the world s largest ice sheet is located at McMurdo Station on the Antarctic Peninsula. The ice sheet is responsible for more than 90 percent of the annual increase in the world sea ice.\\n\\nSumarize : Given two points on a planet, tell us how big is the difference in sea level between the two points?\\n\\nAnswer: Both Earth, and the Moon, are'},\n",
              " {'generated_text': '\\nSumarize : Where is the world s largest ice sheet located today?\\n\\nHow much water is in the world s surface waters?\\n\\nWhat proportion of the land surface is taken up by water?\\n\\nFor the purposes of this exercise, assume that all three questions are answered truthfully.\\n\\n(a)\\n\\nIf the world is composed of solid ice, then it is a sphere.\\n\\nHow large is it?\\n\\nHow much water is in its solid'}]"
            ]
          },
          "metadata": {},
          "execution_count": 28
        }
      ]
    },
    {
      "cell_type": "code",
      "source": [
        "#괜찮음, #3이 query랑 연관있음\n",
        "promptQE =  \"\"\"  \n",
        "Sumarize : What are the major cities in France?\n",
        "\"\"\""
      ],
      "metadata": {
        "id": "_9RC1-TvXnMM"
      },
      "execution_count": 29,
      "outputs": []
    },
    {
      "cell_type": "code",
      "source": [
        "from transformers import pipeline, set_seed\n",
        "generator = pipeline('text-generation', model='gpt2-xl')\n",
        "set_seed(42)\n",
        "generator(promptQE, max_length=100, num_return_sequences=5)"
      ],
      "metadata": {
        "colab": {
          "base_uri": "https://localhost:8080/"
        },
        "id": "pJNDLFiOXnoo",
        "outputId": "8c8d4ac0-fb61-447a-c4e4-60f8a10bbeeb"
      },
      "execution_count": 30,
      "outputs": [
        {
          "output_type": "stream",
          "name": "stderr",
          "text": [
            "Setting `pad_token_id` to `eos_token_id`:50256 for open-end generation.\n"
          ]
        },
        {
          "output_type": "execute_result",
          "data": {
            "text/plain": [
              "[{'generated_text': \"\\nSumarize : What are the major cities in France?\\n\\nA : There are two main cities in France : Marseille and Lyon-Les-Etsyres.\\n\\nFrom the top: Marseille, Lyon-Les-Etsyres\\n\\nIt looks like the same town and the same city. Let's see what the numbers tell us.\\n\\nLyon-LES-Etsyres: 2,039\\n\\nMarseille: 3,500\\n\\n\"},\n",
              " {'generated_text': '\\nSumarize : What are the major cities in France?\\n\\nGrosmont : Lyon-Sud.\\n\\nSumarize : What is the distance from Lyon-Sud to the Atlantic Ocean?\\n\\nGrosmont : 1692\\n\\nSumarize : What is the distance from Lyon-Sud to Calais Island?\\n\\nGrosmont : 1794, by sea\\n\\nSumarize : What is the number of cities located on the Atlantic Ocean?'},\n",
              " {'generated_text': '\\nSumarize : What are the major cities in France?\\n\\n: What are the major cities in France? Place Names : Which is the most prominent city in France and where?\\n\\n: Which is the most prominent city in France and where? Places : Which are the principal cities in France?\\n\\n: Which are the principal cities in France? Geographical Info: Which is the largest city in France, the largest province in France and a place where one of the national parks is'},\n",
              " {'generated_text': '\\nSumarize : What are the major cities in France?\\n\\n: What are the major cities in France? Answer: Paris and Marseille.\\n\\n: Paris and Marseille. Sumarize : Where do the French meet?\\n\\n: Where do the French meet? Answer: On the Continent as well as in France itself.\\n\\n: On the Continent as well as in France itself. Sumarize : What is the biggest city in Europe, North, South, East'},\n",
              " {'generated_text': \"\\nSumarize : What are the major cities in France?\\n\\nHow many languages do the French speak?\\n\\nWhat is a French passport?\\n\\nWhat is the French currency, the Franc?\\n\\nDo the French get to vote in presidential elections?\\n\\nWhat is the French capital, Paris?\\n\\nIf you had 100,000 francs, how long would it take to travel around the length of France?\\n\\nHow would you describe France's economy?\\n\\n\"}]"
            ]
          },
          "metadata": {},
          "execution_count": 30
        }
      ]
    },
    {
      "cell_type": "code",
      "source": [
        "#애매함, #4,5가 연관있음\n",
        "promptQE =  \"\"\"\n",
        "Query : What are the major cities in France?\n",
        "Answer : Which is the most prominent city in France and where?, Which are the principal cities in France?, Which is the largest city in France?\n",
        "Expand following query with similar method shown above : Where is the world's largest ice sheet located today?\n",
        "\"\"\""
      ],
      "metadata": {
        "id": "VImU-neeX-uw"
      },
      "execution_count": 37,
      "outputs": []
    },
    {
      "cell_type": "code",
      "source": [
        "from transformers import pipeline, set_seed\n",
        "generator = pipeline('text-generation', model='gpt2-xl')\n",
        "set_seed(42)\n",
        "generator(promptQE, max_length=100, num_return_sequences=5)"
      ],
      "metadata": {
        "colab": {
          "base_uri": "https://localhost:8080/"
        },
        "id": "ru-CT8y6X-8g",
        "outputId": "c616beec-00a2-4630-be99-01652080a499"
      },
      "execution_count": 38,
      "outputs": [
        {
          "output_type": "stream",
          "name": "stderr",
          "text": [
            "Setting `pad_token_id` to `eos_token_id`:50256 for open-end generation.\n"
          ]
        },
        {
          "output_type": "execute_result",
          "data": {
            "text/plain": [
              "[{'generated_text': \"\\nQuery : What are the major cities in France?\\nAnswer : Which is the most prominent city in France and where?, Which are the principal cities in France?, Which is the largest city in France?\\nExpand following query with similar method shown above : Where is the world's largest ice sheet located today?\\nQuery : What is the world's largest city today?\\nAnswer : Where is the city, which is the largest city in the world?\\nExpand following query with similar method\"},\n",
              " {'generated_text': \"\\nQuery : What are the major cities in France?\\nAnswer : Which is the most prominent city in France and where?, Which are the principal cities in France?, Which is the largest city in France?\\nExpand following query with similar method shown above : Where is the world's largest ice sheet located today?\\nAnswer : Why is this world's biggest ice sheet located in the middle of Greenland?\\nQuery : What is the area of Europe between Ireland and Norway?\\nAnswer : What is\"},\n",
              " {'generated_text': \"\\nQuery : What are the major cities in France?\\nAnswer : Which is the most prominent city in France and where?, Which are the principal cities in France?, Which is the largest city in France?\\nExpand following query with similar method shown above : Where is the world's largest ice sheet located today?\\nAnswer : Which country is in the world with the highest total snow-covered area?\\nThis was a simple query to obtain this data with Excel in the Excel Data Manipulation Tool\"},\n",
              " {'generated_text': \"\\nQuery : What are the major cities in France?\\nAnswer : Which is the most prominent city in France and where?, Which are the principal cities in France?, Which is the largest city in France?\\nExpand following query with similar method shown above : Where is the world's largest ice sheet located today?\\nAnswer : Which is the world's largest glacier which covers a total area of 1,6 billion tons?\\nAnswer : Which is the largest glacier which covers a total area of 1\"},\n",
              " {'generated_text': \"\\nQuery : What are the major cities in France?\\nAnswer : Which is the most prominent city in France and where?, Which are the principal cities in France?, Which is the largest city in France?\\nExpand following query with similar method shown above : Where is the world's largest ice sheet located today?\\nAnswer : How is the world's largest glacier located and where?, How is the world's largest glacier located in the current decade?\\nExpand following query with similar method shown above\"}]"
            ]
          },
          "metadata": {},
          "execution_count": 38
        }
      ]
    },
    {
      "cell_type": "code",
      "source": [
        "#결과가 좋진않고 #4에서 질문에 대한 답을 함\n",
        "promptQE =  \"\"\"\n",
        "Sumarize : Where is the world's largest ice sheet located today?\n",
        "\"\"\""
      ],
      "metadata": {
        "id": "gSYrIfLlaTdZ"
      },
      "execution_count": 39,
      "outputs": []
    },
    {
      "cell_type": "code",
      "source": [
        "from transformers import pipeline, set_seed\n",
        "generator = pipeline('text-generation', model='gpt2-xl')\n",
        "set_seed(42)\n",
        "generator(promptQE, max_length=100, num_return_sequences=5)"
      ],
      "metadata": {
        "colab": {
          "base_uri": "https://localhost:8080/"
        },
        "id": "dNqvfJ5NaTva",
        "outputId": "e2a1861c-bd26-49c7-81ff-ef80c3ffa01e"
      },
      "execution_count": 40,
      "outputs": [
        {
          "output_type": "stream",
          "name": "stderr",
          "text": [
            "Setting `pad_token_id` to `eos_token_id`:50256 for open-end generation.\n"
          ]
        },
        {
          "output_type": "execute_result",
          "data": {
            "text/plain": [
              "[{'generated_text': '\\nSumarize : Where is the world\\'s largest ice sheet located today?\\n\\nWhat is the longest river in the world—the Nile?\\n\\nWhat is the longest chain of the world\\'s highest mountains?\\n\\nWhich island in the Caribbean are you from?\\n\\nHow many countries are there in the United States?\\n\\nWho is President Obama\\'s favorite president?\\n\\nWhat is a \"chunkie\"?\\n\\nWhat makes a good rock climber?\\n\\nWhat'},\n",
              " {'generated_text': \"\\nSumarize : Where is the world's largest ice sheet located today?\\n\\nGrizzlies and Polar Bears\\n\\nHow much are humans responsible for the decline of many species of animals?\\n\\nHow do you assess the impact of mining and oil and gas development on the environment?\\n\\nHow much are humans responsible for the decline of many groups of endangered animals such as the California condor, grizzly bears, and polar bears?\\n\\nWhat has the world's largest ice\"},\n",
              " {'generated_text': \"\\nSumarize : Where is the world's largest ice sheet located today?\\n\\nIce sheets are, in some respects, hard to define. Most of them are relatively small, have fairly short life spans, and form in response to long-term environmental changes. However, some have been larger than others, and there are some glaciers that have grown and shrunk very rapidly over the last few thousand years that may still not be understood.\\n\\nIce sheets are not a single uniform block of rock\"},\n",
              " {'generated_text': \"\\nSumarize : Where is the world's largest ice sheet located today?\\n\\nAnswer: Antarctica, the world's largest ice sheet.\\n\\n: Where is the world's largest ice sheet located today? Answer: Antarctica, the world's largest ice sheet. Sumarize : Can you estimate the amount of mass involved in making the Earth's climate system work?\\n\\nAnswer: Over 97 percent of Earth's total mass is accounted for by floating, frozen, and terrestrial matter (the\"},\n",
              " {'generated_text': \"\\nSumarize : Where is the world's largest ice sheet located today?\\n\\nHow much water is in the world's oceans and is it suitable for life?\\n\\nWe will answer the questions, based on current knowledge.\\n\\nSumarize: What do you take away from your research this time around?\\n\\nThis was my third time in Antarctica and this was my first time looking at landforms. Although the research that I did last year in this area gave me a better\"}]"
            ]
          },
          "metadata": {},
          "execution_count": 40
        }
      ]
    },
    {
      "cell_type": "code",
      "source": [
        "#결과 다른거에 비하면 괜찮음, #1,2,3,4 연관돼있음\n",
        "promptQE =  \"\"\"\n",
        "Ask the same question with various terms\n",
        "Where is the world's largest ice sheet located today?\n",
        "\"\"\""
      ],
      "metadata": {
        "id": "GpSMig6ja6Ch"
      },
      "execution_count": 41,
      "outputs": []
    },
    {
      "cell_type": "code",
      "source": [
        "from transformers import pipeline, set_seed\n",
        "generator = pipeline('text-generation', model='gpt2-xl')\n",
        "set_seed(42)\n",
        "generator(promptQE, max_length=100, num_return_sequences=5)"
      ],
      "metadata": {
        "colab": {
          "base_uri": "https://localhost:8080/"
        },
        "id": "AhKHmojma6Qx",
        "outputId": "c848352a-6caf-468a-e190-bb2b9ad075cb"
      },
      "execution_count": 42,
      "outputs": [
        {
          "output_type": "stream",
          "name": "stderr",
          "text": [
            "Setting `pad_token_id` to `eos_token_id`:50256 for open-end generation.\n"
          ]
        },
        {
          "output_type": "execute_result",
          "data": {
            "text/plain": [
              "[{'generated_text': \"\\nAsk the same question with various terms\\nWhere is the world's largest ice sheet located today?\\nIs it in Greenland or Antarctica?\\nIs it in Antarctica or Greenland? Which is bigger, and what's the difference? Why should you care?\\nWhat happened to the glaciers in West Antarctica? Why are they shrinking?\\nWhat's happening to the glaciers that are growing in West Antarctica, and why?\\nHow much is the Greenland ice sheet melting this year?\\nWhat causes Antarctic iceberg\"},\n",
              " {'generated_text': '\\nAsk the same question with various terms\\nWhere is the world\\'s largest ice sheet located today?\\nIs the world\\'s largest ice-sheet situated in Greenland?\\nAccording to Greenland researcher and former National Geographic Traveler, Dan Fredinburg,\\n\"Surprisingly, no one knew.\\nThe ice sheet is not visible on the surface.\\nWhy?\\n\"Scientists had thought it was hiding below the surface, but the process of searching took months.\"\\nThere are other answers, of'},\n",
              " {'generated_text': \"\\nAsk the same question with various terms\\nWhere is the world's largest ice sheet located today?\\nIce sheets are the most significant geographic component of the Earth's surface as it relates to geology. In addition to holding a great deal of water in dense ice crystals, ice sheets are believed to store vast amounts of fresh water, and contain significant amounts of heat-trapping gases, which have contributed to global warming in that they absorb radiative forcing.\\nThe ice sheets are thought to be\"},\n",
              " {'generated_text': \"\\nAsk the same question with various terms\\nWhere is the world's largest ice sheet located today?\\nThe answer is Antarctica, but you have to take into account different terms: mountain ranges, mountain glaciers, inland glaciers and ice masses.\\nFirst, some definitions. Mountains are those ranges of peaks or mountains that sit above sea level, while mountain ranges are the lowest elevations of a particular ridge or mountain.\\nThese have been used throughout the history of our planet's geological history, especially in\"},\n",
              " {'generated_text': \"\\nAsk the same question with various terms\\nWhere is the world's largest ice sheet located today?\\nWhere is the globe most likely to see another such event?\\n(Note: These questions are not meant to ask you to predict or project a specific event, instead, to put you on the path of getting a better handle on the possibility of such events.)\"}]"
            ]
          },
          "metadata": {},
          "execution_count": 42
        }
      ]
    },
    {
      "cell_type": "code",
      "source": [
        "#맥락이 없는 결과지만 #2가 그나마 query와 비슷함\n",
        "promptQE =  \"\"\"\n",
        "Ask the same question with various terms\n",
        "What are the major cities in France?\n",
        "\"\"\""
      ],
      "metadata": {
        "id": "foscoX9Wbabo"
      },
      "execution_count": 45,
      "outputs": []
    },
    {
      "cell_type": "code",
      "source": [
        "from transformers import pipeline, set_seed\n",
        "generator = pipeline('text-generation', model='gpt2-xl')\n",
        "set_seed(42)\n",
        "generator(promptQE, max_length=100, num_return_sequences=5)"
      ],
      "metadata": {
        "colab": {
          "base_uri": "https://localhost:8080/"
        },
        "id": "L7fv-YBdba2f",
        "outputId": "5f04a9c9-6d1c-4da2-caf0-32f5d577ccc8"
      },
      "execution_count": 46,
      "outputs": [
        {
          "output_type": "stream",
          "name": "stderr",
          "text": [
            "Setting `pad_token_id` to `eos_token_id`:50256 for open-end generation.\n"
          ]
        },
        {
          "output_type": "execute_result",
          "data": {
            "text/plain": [
              "[{'generated_text': '\\nAsk the same question with various terms\\nWhat are the major cities in France?\\nTo get an answer you need to ask different questions.\\nIf you know the size of Paris, London, Lille, Lyon, Marseille etc... then get the size of Paris, London, Lille, Lyon, Marseille etc. The same with the size of England, Germany, Spain etc.\\nHow much is the distance in France to Paris, Lille, Lyon, Marseille etc?'},\n",
              " {'generated_text': '\\nAsk the same question with various terms\\nWhat are the major cities in France?\\nRouen is Paris and Bordeaux are Marseille, both with large ports and significant populations.\\nIs there a \"European\" country in France, or is France made up of several distinct regions?\\nFrance is made up of 11 regional authorities, but these regional groups share one president.\\nIf we divide France, by region, into 10 regions, a bit like provinces in the US, and'},\n",
              " {'generated_text': \"\\nAsk the same question with various terms\\nWhat are the major cities in France?\\nFrance has a country, France.\\nFrance is a country.\\nFrance's capital is Paris.\\nFrance has French people.\\nFrance has French cuisine.\\nFrance has French movies.\\nFrance has french music\\nFrance has French politics.\\nFrance is a country named France.\\nFrance - capital city (capital) of France, France's capital city. This is your new country.\\nFrance -\"},\n",
              " {'generated_text': \"\\nAsk the same question with various terms\\nWhat are the major cities in France?\\nCity of love? Yes.\\nFrance's most popular place? Yes.\\nHow many Michelin stars restaurants have in Paris? Well, there are more stars in Paris than in Paris!\\nThe best food in Paris? Yes, just so happened to be this amazing dish. Seriously, it's not even a fancy dish. But this is one of my favorite Paris dishes, which I'd eat again and\"},\n",
              " {'generated_text': \"\\nAsk the same question with various terms\\nWhat are the major cities in France?\\nIn Paris, you need to choose an appropriate place for a party (it's not even a party) in the area, for that is not far from the Eiffel station. In Bordeaux, if you're in the center of the city, that will be much easier. The area of Bordeaux is called the Plate de Bordeaux, which is about as far apart as you can\"}]"
            ]
          },
          "metadata": {},
          "execution_count": 46
        }
      ]
    },
    {
      "cell_type": "code",
      "source": [
        "#결과 안좋음\n",
        "promptQE =  \"\"\"\n",
        "Express following query with different terms but same meaning\n",
        "What are the major cities in France?\n",
        "\"\"\""
      ],
      "metadata": {
        "id": "LMKBK1A9kdum"
      },
      "execution_count": 47,
      "outputs": []
    },
    {
      "cell_type": "code",
      "source": [
        "from transformers import pipeline, set_seed\n",
        "generator = pipeline('text-generation', model='gpt2-xl')\n",
        "set_seed(42)\n",
        "generator(promptQE, max_length=100, num_return_sequences=5)"
      ],
      "metadata": {
        "colab": {
          "base_uri": "https://localhost:8080/"
        },
        "id": "IoTexFqykd78",
        "outputId": "6113fb0b-f00b-4378-9efc-279ef84d0d9b"
      },
      "execution_count": 48,
      "outputs": [
        {
          "output_type": "stream",
          "name": "stderr",
          "text": [
            "/usr/local/lib/python3.10/dist-packages/transformers/generation/utils.py:1219: UserWarning: You have modified the pretrained model configuration to control generation. This is a deprecated strategy to control generation and will be removed soon, in a future version. Please use a generation configuration file (see https://huggingface.co/docs/transformers/main_classes/text_generation)\n",
            "  warnings.warn(\n",
            "Setting `pad_token_id` to `eos_token_id`:50256 for open-end generation.\n"
          ]
        },
        {
          "output_type": "execute_result",
          "data": {
            "text/plain": [
              "[{'generated_text': '\\nExpress following query with different terms but same meaning\\nWhat are the major cities in France?\\nTo get query from Paris or Nantes to Paris, first get query from Paris in city, then convert the result to city to try:\\n1 SELECT city FROM ( SELECT latitude FROM cities) AS c\\nWe can convert it to latitude:\\n1 SELECT latitude FROM ( SELECT city FROM c WHERE latitude < 45 deg)\\nNow look at the output of this query with both latitudes. As'},\n",
              " {'generated_text': \"\\nExpress following query with different terms but same meaning\\nWhat are the major cities in France?\\n\\xa0This question is easy and can be answered in few lines with a few words. But there are some important points that need to be mentioned.\\nFrench cities are very big, and not always centrally located. So French city is a very big and important region (the second largest after Paris ).\\nThat's why there is the word Cote de Boeuf which refers both to a region and to\"},\n",
              " {'generated_text': '\\nExpress following query with different terms but same meaning\\nWhat are the major cities in France?\\nFrance is very famous for its varied landscape and cities. Many of them have different cultures, traditions and have been inhabited for a much longer period of time compared to other European countries. This makes it easier to determine the most common expressions and names.\\nWhy is it the best way to find the top terms in a subject that may take a while to find?\\nMany people will not be able to'},\n",
              " {'generated_text': '\\nExpress following query with different terms but same meaning\\nWhat are the major cities in France?\\nExpress following query with different terms but same meaning'},\n",
              " {'generated_text': \"\\nExpress following query with different terms but same meaning\\nWhat are the major cities in France?\\nIn case of Express queries in SQL database, the query is executed following the following rules : 1. All words are capitalized in order to not confuse a query generated by another application. 2. query with different terms is always separated by '(' separator (i.e. comma) which make it clear that the database query is coming from the application that executed it. It's easier to read\"}]"
            ]
          },
          "metadata": {},
          "execution_count": 48
        }
      ]
    },
    {
      "cell_type": "code",
      "source": [
        "#대명사만 그대로 놔두라고 prompt를 줬는데 #1,3,4가 query와 어느정도 연관이있음, 결과는 애매함\n",
        "promptQE =  \"\"\"\n",
        "Ask the same question with various terms. Do not change the proper noun.\n",
        "What are the major cities in France?\n",
        "\"\"\""
      ],
      "metadata": {
        "id": "4EBZr_68mBX9"
      },
      "execution_count": 49,
      "outputs": []
    },
    {
      "cell_type": "code",
      "source": [
        "from transformers import pipeline, set_seed\n",
        "generator = pipeline('text-generation', model='gpt2-xl')\n",
        "set_seed(42)\n",
        "generator(promptQE, max_length=100, num_return_sequences=5)"
      ],
      "metadata": {
        "colab": {
          "base_uri": "https://localhost:8080/"
        },
        "id": "bRC7A-rMmBlt",
        "outputId": "a52f564f-3c66-4a3a-c1ff-0ac256491209"
      },
      "execution_count": 50,
      "outputs": [
        {
          "output_type": "stream",
          "name": "stderr",
          "text": [
            "/usr/local/lib/python3.10/dist-packages/transformers/generation/utils.py:1219: UserWarning: You have modified the pretrained model configuration to control generation. This is a deprecated strategy to control generation and will be removed soon, in a future version. Please use a generation configuration file (see https://huggingface.co/docs/transformers/main_classes/text_generation)\n",
            "  warnings.warn(\n",
            "Setting `pad_token_id` to `eos_token_id`:50256 for open-end generation.\n"
          ]
        },
        {
          "output_type": "execute_result",
          "data": {
            "text/plain": [
              "[{'generated_text': '\\nAsk the same question with various terms. Do not change the proper noun.\\nWhat are the major cities in France?\\nTo get the answer you need to ask different questions.\\nIf you know the size of Paris, London, Lille, Lyon, Marseille, Dijon, Nantes or Arles this will help you. The first place to look is the country that you are in.\\nFrance is the 15th biggest country in the world in area, at about 8'},\n",
              " {'generated_text': '\\nAsk the same question with various terms. Do not change the proper noun.\\nWhat are the major cities in France?\\nRouen is Paris and Bordeaux. What is the capital city in the U.S.? Or the country in the U.K.? Find the answer in France.\\nLocate the official state seal of France? Find it and know where it was made.\\nHow many states are in the USA? Find this and know which states in the U'},\n",
              " {'generated_text': '\\nAsk the same question with various terms. Do not change the proper noun.\\nWhat are the major cities in France?\\nFrance has several major cities, including Paris (capital), Bordeaux (city), Rennes (city), Toulouse (city), Marseille (city), Clermont-Ferrand (city) and Nice (city). The most common French names for these cities are \"Parc-Extension de Ville\" (the suburbs of Paris), \"'},\n",
              " {'generated_text': \"\\nAsk the same question with various terms. Do not change the proper noun.\\nWhat are the major cities in France?\\nIn one way to answer the question, the people, place and history are simple.\\nThe city's name is the capital city, meaning the city center.\\nParis is the official French capital.\\nThe capital is often called Saint-Germain de la Chapelle.\\nParis is the capital, so in this respect it could also mean the city of Paris\"},\n",
              " {'generated_text': '\\nAsk the same question with various terms. Do not change the proper noun.\\nWhat are the major cities in France?\\nIn Paris, you need to choose an appropriate place for a hotel (champagne house), café (bar)\\nYou will find many French people in the cities, and they are not that hard to understand if you speak French.\\nHow do the French sleep?\\nFoam mattresses are cheap and available in most hotels.\\nHow do the French eat'}]"
            ]
          },
          "metadata": {},
          "execution_count": 50
        }
      ]
    },
    {
      "cell_type": "code",
      "source": [
        "#chatgpt에 돌려보고 결과를 얻은 다음에 이걸 example로 줘봄, 결과가 좋진 않고 #2가 query와 관련이있음\n",
        "promptQE =  \"\"\"\n",
        "Expand the following query with synonyms and a full sentence.\n",
        "For example,\n",
        "If the query is \"who is the author of the book arabian nights?\",\n",
        "The expanded query can be \"\\\"Who wrote the book One Thousand and One Nights?\\\" \n",
        "This book is also known as The Arabian Nights, and it is a collection of Middle Eastern and South Asian stories and \n",
        "folk tales compiled in Arabic during the Islamic Golden Age. The authorship of the book is somewhat uncertain, \n",
        "as it is believed to have been passed down through generations of storytellers before being compiled and translated into various languages. \n",
        "However, it is generally attributed to an anonymous Arabic storyteller, although some scholars believe that the original author may have been Persian, Indian, or even Jewish.\"\n",
        "Query : What are the major cities in France?\n",
        "\"\"\""
      ],
      "metadata": {
        "id": "0au9zQ0in68u"
      },
      "execution_count": 53,
      "outputs": []
    },
    {
      "cell_type": "code",
      "source": [
        "from transformers import pipeline, set_seed\n",
        "generator = pipeline('text-generation', model='gpt2-xl')\n",
        "set_seed(42)\n",
        "generator(promptQE, max_length=500, num_return_sequences=5)"
      ],
      "metadata": {
        "colab": {
          "base_uri": "https://localhost:8080/"
        },
        "id": "xub2Tgrnn7KU",
        "outputId": "d6ac8cd6-f6e9-4438-91fb-edd3ad78d1f8"
      },
      "execution_count": 54,
      "outputs": [
        {
          "output_type": "stream",
          "name": "stderr",
          "text": [
            "Setting `pad_token_id` to `eos_token_id`:50256 for open-end generation.\n"
          ]
        },
        {
          "output_type": "execute_result",
          "data": {
            "text/plain": [
              "[{'generated_text': '\\nExpand the following query with synonyms and a full sentence.\\nFor example,\\nIf the query is \"who is the author of the book arabian nights?\",\\nThe expanded query can be \"\"Who wrote the book One Thousand and One Nights?\" \\nThis book is also known as The Arabian Nights, and it is a collection of Middle Eastern and South Asian stories and \\nfolk tales compiled in Arabic during the Islamic Golden Age. The authorship of the book is somewhat uncertain, \\nas it is believed to have been passed down through generations of storytellers before being compiled and translated into various languages. \\nHowever, it is generally attributed to an anonymous Arabic storyteller, although some scholars believe that the original author may have been Persian, Indian, or even Jewish.\"\\nQuery : What are the major cities in France?\\nTo get the answer you need to ask different questions.\\nIf you know the country of France, i.e. \"France\" but not the city?\\nYou are almost out of luck. Most French cities are abbreviated and can usually be found with a common suffix. \\xa0If your query is too long, then look up each city to see what it is abbreviated to. \\xa0(As a simple example we will use the city of Amiens.)\\nQuery : What city of France is named in the book \"one thousand and one nights\"?'},\n",
              " {'generated_text': '\\nExpand the following query with synonyms and a full sentence.\\nFor example,\\nIf the query is \"who is the author of the book arabian nights?\",\\nThe expanded query can be \"\"Who wrote the book One Thousand and One Nights?\" \\nThis book is also known as The Arabian Nights, and it is a collection of Middle Eastern and South Asian stories and \\nfolk tales compiled in Arabic during the Islamic Golden Age. The authorship of the book is somewhat uncertain, \\nas it is believed to have been passed down through generations of storytellers before being compiled and translated into various languages. \\nHowever, it is generally attributed to an anonymous Arabic storyteller, although some scholars believe that the original author may have been Persian, Indian, or even Jewish.\"\\nQuery : What are the major cities in France?\\nExpand the following query and replace with the following:\\nLet\\'s say you want to know which cities in France are the \"most important urban centers\".\\nOne very helpful query might looks like this:\\nExpand the following query and replace with synonyms (the synonyms include city names):\\nIf the query is,\\nWhere is Paris?\\n\"Paris\" is a major urban center located in the French capital city, France. \\n\"Paris\" is, however, a city where many other cities can be found as well, including:\\nLyon\\nRennes\\nParis\\nOrléans\\nNantes\\nAix-en-Provence\\nOmnidor\\nLyon \\nParis\\n\\nThese cities are known for their many attractions, including monuments, museums, theaters, music festivals and a multitude of other activities. \\nMany people also choose to see the Eiffel Tower or the Arc de Triomphe.\\nAs a rule, people from France choose and travel between large cities (Paris, Lyon, etc.) and smaller cities (Rennes, Orléans, etc.) that are far less known by French people. \\xa0This choice will tend to limit travel between major French cities, while allowing people to travel to more obscure places.\\nAnother example of using synonyms with a full query is \"Where are the airports of France?\".\\nExpand the following query and replace airport with a full description:\\nAirports in France\\nAccording to the official statistics, there are 3,836 airports in France:\\nOrly - Paris - Gare'},\n",
              " {'generated_text': '\\nExpand the following query with synonyms and a full sentence.\\nFor example,\\nIf the query is \"who is the author of the book arabian nights?\",\\nThe expanded query can be \"\"Who wrote the book One Thousand and One Nights?\" \\nThis book is also known as The Arabian Nights, and it is a collection of Middle Eastern and South Asian stories and \\nfolk tales compiled in Arabic during the Islamic Golden Age. The authorship of the book is somewhat uncertain, \\nas it is believed to have been passed down through generations of storytellers before being compiled and translated into various languages. \\nHowever, it is generally attributed to an anonymous Arabic storyteller, although some scholars believe that the original author may have been Persian, Indian, or even Jewish.\"\\nQuery : What are the major cities in France?\\nAnswer : Paris, Marseilles, Troyes, Clermont-Ferrand, Nantes, Lille, Nice, Marseille, Villejuif\\nExpand it to \"Who wrote the following book Paris?\\nQuery : Which is the most common city in the world? - Chicago, Sydney, Beijing, New York, Rome, Istanbul\\nAnswer : Paris\\nExpand it to\\nQuery : Which is the smallest country in the world? - Vatican City, South Sudan, Northern Ireland, Malta, Liechtenstein,\\nAnswer : Liechtenstein\\nExpand the query and substitute the country name for the city name\\nWhat are the results?\\n(A) \"I know. There are still thousands more countries than cities, that\\'s why many queries are asking for the city names rather than cities.\"\\n(B) \"Yes, but these cities are not the same as the cities in your query list. So how should we write down the cities?\"\\n(C) \"Don\\'t forget to include the city name in the query, and we are just going to show them as an example\"\\n(D) \"Great, so you said the query is Paris. If I look at your list, I see that it\\'s Paris - yes, Paris and it is Paris.\"\\n(E) \"That\\'s great to know! Now let\\'s have a look at the city names in your query.\"\\nQuery. \"Which is the smallest city name in India?\"\\nAnswer: Chandigarh\\nExpand it to Chandigarh\\nQuery. \"Who wrote'},\n",
              " {'generated_text': '\\nExpand the following query with synonyms and a full sentence.\\nFor example,\\nIf the query is \"who is the author of the book arabian nights?\",\\nThe expanded query can be \"\"Who wrote the book One Thousand and One Nights?\" \\nThis book is also known as The Arabian Nights, and it is a collection of Middle Eastern and South Asian stories and \\nfolk tales compiled in Arabic during the Islamic Golden Age. The authorship of the book is somewhat uncertain, \\nas it is believed to have been passed down through generations of storytellers before being compiled and translated into various languages. \\nHowever, it is generally attributed to an anonymous Arabic storyteller, although some scholars believe that the original author may have been Persian, Indian, or even Jewish.\"\\nQuery : What are the major cities in France?\\nExpand the following query with the full name of the place.\\nExpand the following query with new fields. Use quotes to reference text rather than double quotes. This example queries for French cities.\\nThe search returns a query that matches the entire query text. \\nExpand the following query with new fields. \\xa0\\nThe search also returns query results. \\nUse the \\'where\\' search operator to limit the results to results that are not in the query text. You can use the \"where\" operator in conjunction with other \\'where\\' operators. _____________________________________________________ 1 query: arabian nights? When I searched for \"arabian nights\" in my \\'Where are the cities in France?\\' query, I received the following results. _____________________________________________________ 1 query: arabian nights? Where are the cities in France? This query returns the name of the first city in the query text and all cities that have the word \"arabian\" in their full name. _____________________________________________________ 2 queries: arabian nights? Where are the cities in France? This query returns the name of the first city in the query text and all cities _____________________________________________________ The \\'where\\' operators can also be used on a query that includes the following criteria: (city) in (city) OR city in (location). The query to the left of the \\'where\\' operators searches for all cities found to be in France. _____________________________________________________ This query finds all cities found to be located in France. Since the location is also in France, I can get only results on France.\\n'},\n",
              " {'generated_text': '\\nExpand the following query with synonyms and a full sentence.\\nFor example,\\nIf the query is \"who is the author of the book arabian nights?\",\\nThe expanded query can be \"\"Who wrote the book One Thousand and One Nights?\" \\nThis book is also known as The Arabian Nights, and it is a collection of Middle Eastern and South Asian stories and \\nfolk tales compiled in Arabic during the Islamic Golden Age. The authorship of the book is somewhat uncertain, \\nas it is believed to have been passed down through generations of storytellers before being compiled and translated into various languages. \\nHowever, it is generally attributed to an anonymous Arabic storyteller, although some scholars believe that the original author may have been Persian, Indian, or even Jewish.\"\\nQuery : What are the major cities in France?\\nIn the first query we will use an empty field for a subject and the remaining fields will be empty. This will allow us to work with a string in the result column. Next, we will query for the locations using the \"Where\" filter.\\nExpand the first query to include the string \"where\" to match with the field containing the city that we want.\\nIn this query we are using the \"Where\" clause to query for a string field, and we are using the \"Limit\" clause to limit the query to the city idle_field : \"Where\" \"limit\" : {\\'idle\\' : idle}\\nNow that we have our filter in place, we will use the \"Where\" clause to filter the cities we find that match the specified \"Idle\" field.\\nExpand the query for the cities and fill in the idle field.\\nNow we have the required fields from our query, and we can search our cities using the \"Where\" filter.\\nExpand your second query. This time you will enter the location name in the first column.\\nEnter the locations that will be searched using the \"Where\" filter, enter a limit of two to limit the location to locations within a day.\\nAs an example:\\nEnter all your city locations in the first column, and the locations within a day, and enter the limit of 50 in the last column of the query. \\xa0 \\xa0\\nNow that we have created the first query as shown above, we should be able to type our search and have the results returned.\\nSummary\\nSo now that we have'}]"
            ]
          },
          "metadata": {},
          "execution_count": 54
        }
      ]
    },
    {
      "cell_type": "markdown",
      "source": [
        "결과적으로 여러 prompt를 세가지 정도의 질문에 테스트해봤지만 결과는 거의 좋지 않았고 query 앞에 \n",
        "\"Expand following query with various terms.\",\n",
        "\"Expand Following Query with various terms and good coherence\",\n",
        "\"Expand following query with various terms but similar meanings\",\n",
        "\"Expand following query with relevant, diverse words\",\n",
        "혹은\n",
        "\"Sumarize : {query}\",\n",
        "\"Ask the same question with various terms {query}\"\n",
        "라고 하는 것이 결과가 그나마 나았음\n",
        "\n",
        "gpt2-xl에는 짧은 prompt를 주는 것이 대체로 결과가 좋았고 맥락없이 말하는 느낌이 강해서(chatgpt같은 모델의 결과랑 비교해보면 차이가남) 더 좋은 모델을 써야할 것 같음.\n",
        "\n"
      ],
      "metadata": {
        "id": "v1D8vehxEMBr"
      }
    }
  ]
}